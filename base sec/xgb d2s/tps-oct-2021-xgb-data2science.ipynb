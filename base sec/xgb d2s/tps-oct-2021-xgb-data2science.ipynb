{
 "cells": [
  {
   "cell_type": "code",
   "execution_count": 1,
   "id": "696264bc",
   "metadata": {
    "_cell_guid": "b1076dfc-b9ad-4769-8c92-a6c4dae69d19",
    "_uuid": "8f2839f25d086af736a60e9eeb907d3b93b6e0e5",
    "execution": {
     "iopub.execute_input": "2021-10-05T12:35:53.534053Z",
     "iopub.status.busy": "2021-10-05T12:35:53.533460Z",
     "iopub.status.idle": "2021-10-05T12:35:54.570589Z",
     "shell.execute_reply": "2021-10-05T12:35:54.569854Z",
     "shell.execute_reply.started": "2021-10-04T07:17:37.625191Z"
    },
    "papermill": {
     "duration": 1.063627,
     "end_time": "2021-10-05T12:35:54.570744",
     "exception": false,
     "start_time": "2021-10-05T12:35:53.507117",
     "status": "completed"
    },
    "tags": []
   },
   "outputs": [],
   "source": [
    "import numpy as np\n",
    "import pandas as pd\n",
    "import random\n",
    "import os\n",
    "import time\n",
    "import pickle\n",
    "from pathlib import Path\n",
    "import gc\n",
    "\n",
    "from sklearn.preprocessing import StandardScaler\n",
    "from sklearn.model_selection import StratifiedKFold, train_test_split\n",
    "from sklearn.metrics import roc_auc_score\n",
    "\n",
    "#import lightgbm as lgb\n",
    "import xgboost as xgb\n",
    "#import catboost as ctb\n",
    "\n",
    "import matplotlib.pyplot as plt\n",
    "import seaborn as sns\n",
    "\n",
    "import warnings\n",
    "warnings.simplefilter('ignore')"
   ]
  },
  {
   "cell_type": "markdown",
   "id": "04f6fe3b",
   "metadata": {
    "papermill": {
     "duration": 0.013567,
     "end_time": "2021-10-05T12:35:54.601919",
     "exception": false,
     "start_time": "2021-10-05T12:35:54.588352",
     "status": "completed"
    },
    "tags": []
   },
   "source": [
    "https://www.kaggle.com/data2science/tps-10-21-single-xgboost-model/notebook?scriptVersionId=76183249\n",
    "\n",
    "ver4"
   ]
  },
  {
   "cell_type": "markdown",
   "id": "7b895fe9",
   "metadata": {
    "papermill": {
     "duration": 0.01461,
     "end_time": "2021-10-05T12:35:54.630318",
     "exception": false,
     "start_time": "2021-10-05T12:35:54.615708",
     "status": "completed"
    },
    "tags": []
   },
   "source": [
    "# Parameters"
   ]
  },
  {
   "cell_type": "code",
   "execution_count": 2,
   "id": "0e0efb73",
   "metadata": {
    "execution": {
     "iopub.execute_input": "2021-10-05T12:35:54.667055Z",
     "iopub.status.busy": "2021-10-05T12:35:54.666149Z",
     "iopub.status.idle": "2021-10-05T12:35:54.671697Z",
     "shell.execute_reply": "2021-10-05T12:35:54.671161Z",
     "shell.execute_reply.started": "2021-10-04T07:17:38.959998Z"
    },
    "papermill": {
     "duration": 0.02724,
     "end_time": "2021-10-05T12:35:54.671822",
     "exception": false,
     "start_time": "2021-10-05T12:35:54.644582",
     "status": "completed"
    },
    "tags": []
   },
   "outputs": [],
   "source": [
    "target = 'target'\n",
    "\n",
    "DEBUG = False\n",
    "\n",
    "if DEBUG:\n",
    "    N_ESTIMATORS = 1\n",
    "    N_SPLITS = 2\n",
    "    SEED = 2017\n",
    "    CVSEED = 2017\n",
    "    EARLY_STOPPING_ROUNDS = 1\n",
    "    VERBOSE = 100\n",
    "    #N_ITERS = 2\n",
    "else:\n",
    "    N_SPLITS = 5\n",
    "    N_ESTIMATORS = 40000\n",
    "    EARLY_STOPPING_ROUNDS = 1000\n",
    "    VERBOSE = 1000\n",
    "    SEED = 2017\n",
    "    CVSEED = 2017\n",
    "    #N_ITERS = 10"
   ]
  },
  {
   "cell_type": "code",
   "execution_count": 3,
   "id": "47aef56b",
   "metadata": {
    "execution": {
     "iopub.execute_input": "2021-10-05T12:35:54.712183Z",
     "iopub.status.busy": "2021-10-05T12:35:54.711627Z",
     "iopub.status.idle": "2021-10-05T12:35:54.714344Z",
     "shell.execute_reply": "2021-10-05T12:35:54.713801Z",
     "shell.execute_reply.started": "2021-10-04T07:17:38.969573Z"
    },
    "papermill": {
     "duration": 0.028548,
     "end_time": "2021-10-05T12:35:54.714465",
     "exception": false,
     "start_time": "2021-10-05T12:35:54.685917",
     "status": "completed"
    },
    "tags": []
   },
   "outputs": [],
   "source": [
    "def set_seed(seed=2017):\n",
    "    random.seed(seed)\n",
    "    os.environ['PYTHONHASHSEED'] = str(seed)\n",
    "    np.random.seed(seed)\n",
    "    \n",
    "set_seed(SEED)"
   ]
  },
  {
   "cell_type": "markdown",
   "id": "25131eb9",
   "metadata": {
    "papermill": {
     "duration": 0.014211,
     "end_time": "2021-10-05T12:35:54.742875",
     "exception": false,
     "start_time": "2021-10-05T12:35:54.728664",
     "status": "completed"
    },
    "tags": []
   },
   "source": [
    "# Datasets"
   ]
  },
  {
   "cell_type": "code",
   "execution_count": 4,
   "id": "acf887f6",
   "metadata": {
    "execution": {
     "iopub.execute_input": "2021-10-05T12:35:54.776278Z",
     "iopub.status.busy": "2021-10-05T12:35:54.775681Z",
     "iopub.status.idle": "2021-10-05T12:37:15.628128Z",
     "shell.execute_reply": "2021-10-05T12:37:15.627484Z",
     "shell.execute_reply.started": "2021-10-04T07:17:38.980344Z"
    },
    "papermill": {
     "duration": 80.871115,
     "end_time": "2021-10-05T12:37:15.628286",
     "exception": false,
     "start_time": "2021-10-05T12:35:54.757171",
     "status": "completed"
    },
    "tags": []
   },
   "outputs": [],
   "source": [
    "INPUT = Path(\"../input/tabular-playground-series-oct-2021\")\n",
    "\n",
    "train = pd.read_csv(INPUT / \"train.csv\")\n",
    "test = pd.read_csv(INPUT / \"test.csv\")\n",
    "submission = pd.read_csv(INPUT / \"sample_submission.csv\")"
   ]
  },
  {
   "cell_type": "code",
   "execution_count": 5,
   "id": "85acf93b",
   "metadata": {
    "execution": {
     "iopub.execute_input": "2021-10-05T12:37:15.666282Z",
     "iopub.status.busy": "2021-10-05T12:37:15.665717Z",
     "iopub.status.idle": "2021-10-05T12:37:17.378207Z",
     "shell.execute_reply": "2021-10-05T12:37:17.378659Z",
     "shell.execute_reply.started": "2021-10-04T07:19:21.369035Z"
    },
    "papermill": {
     "duration": 1.736398,
     "end_time": "2021-10-05T12:37:17.378828",
     "exception": false,
     "start_time": "2021-10-05T12:37:15.642430",
     "status": "completed"
    },
    "tags": []
   },
   "outputs": [],
   "source": [
    "train = train[train.columns[1:]]\n",
    "test = test[test.columns[1:]]"
   ]
  },
  {
   "cell_type": "markdown",
   "id": "2d6d6c05",
   "metadata": {
    "papermill": {
     "duration": 0.013911,
     "end_time": "2021-10-05T12:37:17.406583",
     "exception": false,
     "start_time": "2021-10-05T12:37:17.392672",
     "status": "completed"
    },
    "tags": []
   },
   "source": [
    "# Preprocessing"
   ]
  },
  {
   "cell_type": "code",
   "execution_count": 6,
   "id": "eaf1a321",
   "metadata": {
    "execution": {
     "iopub.execute_input": "2021-10-05T12:37:17.437932Z",
     "iopub.status.busy": "2021-10-05T12:37:17.437039Z",
     "iopub.status.idle": "2021-10-05T12:37:17.440926Z",
     "shell.execute_reply": "2021-10-05T12:37:17.441440Z",
     "shell.execute_reply.started": "2021-10-04T07:19:23.214541Z"
    },
    "papermill": {
     "duration": 0.021205,
     "end_time": "2021-10-05T12:37:17.441595",
     "exception": false,
     "start_time": "2021-10-05T12:37:17.420390",
     "status": "completed"
    },
    "tags": []
   },
   "outputs": [],
   "source": [
    "features = [col for col in train.columns if 'f' in col]"
   ]
  },
  {
   "cell_type": "code",
   "execution_count": 7,
   "id": "54775ee5",
   "metadata": {
    "execution": {
     "iopub.execute_input": "2021-10-05T12:37:17.472584Z",
     "iopub.status.busy": "2021-10-05T12:37:17.471717Z",
     "iopub.status.idle": "2021-10-05T12:37:17.484925Z",
     "shell.execute_reply": "2021-10-05T12:37:17.485353Z",
     "shell.execute_reply.started": "2021-10-04T07:19:23.222364Z"
    },
    "papermill": {
     "duration": 0.02995,
     "end_time": "2021-10-05T12:37:17.485530",
     "exception": false,
     "start_time": "2021-10-05T12:37:17.455580",
     "status": "completed"
    },
    "tags": []
   },
   "outputs": [],
   "source": [
    "cont_features =[]\n",
    "disc_features =[]\n",
    "\n",
    "for col in features:\n",
    "    if train[col].dtype=='float64':\n",
    "        cont_features.append(col)\n",
    "    else:\n",
    "        disc_features.append(col)"
   ]
  },
  {
   "cell_type": "code",
   "execution_count": 8,
   "id": "6fdd574b",
   "metadata": {
    "execution": {
     "iopub.execute_input": "2021-10-05T12:37:18.415896Z",
     "iopub.status.busy": "2021-10-05T12:37:18.415277Z",
     "iopub.status.idle": "2021-10-05T12:39:58.439878Z",
     "shell.execute_reply": "2021-10-05T12:39:58.439107Z",
     "shell.execute_reply.started": "2021-10-04T07:21:35.009513Z"
    },
    "papermill": {
     "duration": 160.940809,
     "end_time": "2021-10-05T12:39:58.440027",
     "exception": false,
     "start_time": "2021-10-05T12:37:17.499218",
     "status": "completed"
    },
    "tags": []
   },
   "outputs": [],
   "source": [
    "train[cont_features] = train[cont_features].astype('float32')\n",
    "train[disc_features] = train[disc_features].astype('uint8')\n",
    "\n",
    "test[cont_features] = test[cont_features].astype('float32')\n",
    "test[disc_features] = test[disc_features].astype('uint8')"
   ]
  },
  {
   "cell_type": "code",
   "execution_count": 9,
   "id": "361b9ae8",
   "metadata": {
    "execution": {
     "iopub.execute_input": "2021-10-05T12:39:58.473468Z",
     "iopub.status.busy": "2021-10-05T12:39:58.472881Z",
     "iopub.status.idle": "2021-10-05T12:39:58.725035Z",
     "shell.execute_reply": "2021-10-05T12:39:58.725481Z",
     "shell.execute_reply.started": "2021-10-04T07:24:31.446188Z"
    },
    "papermill": {
     "duration": 0.271242,
     "end_time": "2021-10-05T12:39:58.725644",
     "exception": false,
     "start_time": "2021-10-05T12:39:58.454402",
     "status": "completed"
    },
    "tags": []
   },
   "outputs": [
    {
     "data": {
      "text/html": [
       "<div>\n",
       "<style scoped>\n",
       "    .dataframe tbody tr th:only-of-type {\n",
       "        vertical-align: middle;\n",
       "    }\n",
       "\n",
       "    .dataframe tbody tr th {\n",
       "        vertical-align: top;\n",
       "    }\n",
       "\n",
       "    .dataframe thead th {\n",
       "        text-align: right;\n",
       "    }\n",
       "</style>\n",
       "<table border=\"1\" class=\"dataframe\">\n",
       "  <thead>\n",
       "    <tr style=\"text-align: right;\">\n",
       "      <th></th>\n",
       "      <th>f0</th>\n",
       "      <th>f1</th>\n",
       "      <th>f2</th>\n",
       "      <th>f3</th>\n",
       "      <th>f4</th>\n",
       "      <th>f5</th>\n",
       "      <th>f6</th>\n",
       "      <th>f7</th>\n",
       "      <th>f8</th>\n",
       "      <th>f9</th>\n",
       "      <th>...</th>\n",
       "      <th>f275</th>\n",
       "      <th>f276</th>\n",
       "      <th>f277</th>\n",
       "      <th>f278</th>\n",
       "      <th>f279</th>\n",
       "      <th>f280</th>\n",
       "      <th>f281</th>\n",
       "      <th>f282</th>\n",
       "      <th>f283</th>\n",
       "      <th>f284</th>\n",
       "    </tr>\n",
       "  </thead>\n",
       "  <tbody>\n",
       "    <tr>\n",
       "      <th>0</th>\n",
       "      <td>0.178216</td>\n",
       "      <td>0.435617</td>\n",
       "      <td>0.010230</td>\n",
       "      <td>0.202074</td>\n",
       "      <td>0.390170</td>\n",
       "      <td>0.324221</td>\n",
       "      <td>0.221722</td>\n",
       "      <td>0.738894</td>\n",
       "      <td>0.582588</td>\n",
       "      <td>0.343770</td>\n",
       "      <td>...</td>\n",
       "      <td>1</td>\n",
       "      <td>0</td>\n",
       "      <td>0</td>\n",
       "      <td>0</td>\n",
       "      <td>0</td>\n",
       "      <td>0</td>\n",
       "      <td>1</td>\n",
       "      <td>1</td>\n",
       "      <td>1</td>\n",
       "      <td>0</td>\n",
       "    </tr>\n",
       "    <tr>\n",
       "      <th>1</th>\n",
       "      <td>0.181250</td>\n",
       "      <td>0.476455</td>\n",
       "      <td>0.022413</td>\n",
       "      <td>0.283146</td>\n",
       "      <td>0.598020</td>\n",
       "      <td>0.349508</td>\n",
       "      <td>0.283467</td>\n",
       "      <td>0.721575</td>\n",
       "      <td>0.268990</td>\n",
       "      <td>0.208373</td>\n",
       "      <td>...</td>\n",
       "      <td>0</td>\n",
       "      <td>0</td>\n",
       "      <td>0</td>\n",
       "      <td>0</td>\n",
       "      <td>0</td>\n",
       "      <td>0</td>\n",
       "      <td>0</td>\n",
       "      <td>0</td>\n",
       "      <td>0</td>\n",
       "      <td>0</td>\n",
       "    </tr>\n",
       "    <tr>\n",
       "      <th>2</th>\n",
       "      <td>0.159721</td>\n",
       "      <td>0.451202</td>\n",
       "      <td>0.259649</td>\n",
       "      <td>0.365274</td>\n",
       "      <td>0.594634</td>\n",
       "      <td>0.413502</td>\n",
       "      <td>0.249318</td>\n",
       "      <td>0.642339</td>\n",
       "      <td>0.411104</td>\n",
       "      <td>0.246891</td>\n",
       "      <td>...</td>\n",
       "      <td>0</td>\n",
       "      <td>0</td>\n",
       "      <td>0</td>\n",
       "      <td>0</td>\n",
       "      <td>0</td>\n",
       "      <td>0</td>\n",
       "      <td>1</td>\n",
       "      <td>0</td>\n",
       "      <td>0</td>\n",
       "      <td>0</td>\n",
       "    </tr>\n",
       "    <tr>\n",
       "      <th>3</th>\n",
       "      <td>0.182424</td>\n",
       "      <td>0.520976</td>\n",
       "      <td>0.095344</td>\n",
       "      <td>0.327742</td>\n",
       "      <td>0.741830</td>\n",
       "      <td>0.358711</td>\n",
       "      <td>0.270077</td>\n",
       "      <td>0.601662</td>\n",
       "      <td>0.297742</td>\n",
       "      <td>0.252829</td>\n",
       "      <td>...</td>\n",
       "      <td>0</td>\n",
       "      <td>0</td>\n",
       "      <td>0</td>\n",
       "      <td>0</td>\n",
       "      <td>0</td>\n",
       "      <td>1</td>\n",
       "      <td>1</td>\n",
       "      <td>0</td>\n",
       "      <td>0</td>\n",
       "      <td>0</td>\n",
       "    </tr>\n",
       "    <tr>\n",
       "      <th>4</th>\n",
       "      <td>0.229329</td>\n",
       "      <td>0.336513</td>\n",
       "      <td>0.023511</td>\n",
       "      <td>0.300913</td>\n",
       "      <td>0.668738</td>\n",
       "      <td>0.481586</td>\n",
       "      <td>0.545660</td>\n",
       "      <td>0.667849</td>\n",
       "      <td>0.546045</td>\n",
       "      <td>0.202731</td>\n",
       "      <td>...</td>\n",
       "      <td>0</td>\n",
       "      <td>0</td>\n",
       "      <td>0</td>\n",
       "      <td>0</td>\n",
       "      <td>1</td>\n",
       "      <td>0</td>\n",
       "      <td>0</td>\n",
       "      <td>1</td>\n",
       "      <td>0</td>\n",
       "      <td>0</td>\n",
       "    </tr>\n",
       "    <tr>\n",
       "      <th>...</th>\n",
       "      <td>...</td>\n",
       "      <td>...</td>\n",
       "      <td>...</td>\n",
       "      <td>...</td>\n",
       "      <td>...</td>\n",
       "      <td>...</td>\n",
       "      <td>...</td>\n",
       "      <td>...</td>\n",
       "      <td>...</td>\n",
       "      <td>...</td>\n",
       "      <td>...</td>\n",
       "      <td>...</td>\n",
       "      <td>...</td>\n",
       "      <td>...</td>\n",
       "      <td>...</td>\n",
       "      <td>...</td>\n",
       "      <td>...</td>\n",
       "      <td>...</td>\n",
       "      <td>...</td>\n",
       "      <td>...</td>\n",
       "      <td>...</td>\n",
       "    </tr>\n",
       "    <tr>\n",
       "      <th>499995</th>\n",
       "      <td>0.185473</td>\n",
       "      <td>0.525338</td>\n",
       "      <td>0.014945</td>\n",
       "      <td>0.204029</td>\n",
       "      <td>0.498957</td>\n",
       "      <td>0.431933</td>\n",
       "      <td>0.470553</td>\n",
       "      <td>0.731268</td>\n",
       "      <td>0.452134</td>\n",
       "      <td>0.211206</td>\n",
       "      <td>...</td>\n",
       "      <td>1</td>\n",
       "      <td>0</td>\n",
       "      <td>0</td>\n",
       "      <td>0</td>\n",
       "      <td>0</td>\n",
       "      <td>0</td>\n",
       "      <td>1</td>\n",
       "      <td>0</td>\n",
       "      <td>0</td>\n",
       "      <td>0</td>\n",
       "    </tr>\n",
       "    <tr>\n",
       "      <th>499996</th>\n",
       "      <td>0.183194</td>\n",
       "      <td>0.553266</td>\n",
       "      <td>0.008055</td>\n",
       "      <td>0.280651</td>\n",
       "      <td>0.636591</td>\n",
       "      <td>0.478092</td>\n",
       "      <td>0.450386</td>\n",
       "      <td>0.582647</td>\n",
       "      <td>0.517270</td>\n",
       "      <td>0.225116</td>\n",
       "      <td>...</td>\n",
       "      <td>1</td>\n",
       "      <td>0</td>\n",
       "      <td>0</td>\n",
       "      <td>0</td>\n",
       "      <td>0</td>\n",
       "      <td>0</td>\n",
       "      <td>0</td>\n",
       "      <td>1</td>\n",
       "      <td>0</td>\n",
       "      <td>0</td>\n",
       "    </tr>\n",
       "    <tr>\n",
       "      <th>499997</th>\n",
       "      <td>0.184650</td>\n",
       "      <td>0.533643</td>\n",
       "      <td>0.011218</td>\n",
       "      <td>0.201262</td>\n",
       "      <td>0.720698</td>\n",
       "      <td>0.472888</td>\n",
       "      <td>0.427469</td>\n",
       "      <td>0.589259</td>\n",
       "      <td>0.243879</td>\n",
       "      <td>0.413022</td>\n",
       "      <td>...</td>\n",
       "      <td>1</td>\n",
       "      <td>1</td>\n",
       "      <td>0</td>\n",
       "      <td>0</td>\n",
       "      <td>0</td>\n",
       "      <td>0</td>\n",
       "      <td>0</td>\n",
       "      <td>0</td>\n",
       "      <td>0</td>\n",
       "      <td>0</td>\n",
       "    </tr>\n",
       "    <tr>\n",
       "      <th>499998</th>\n",
       "      <td>0.227731</td>\n",
       "      <td>0.513247</td>\n",
       "      <td>0.178603</td>\n",
       "      <td>0.313778</td>\n",
       "      <td>0.665656</td>\n",
       "      <td>0.401365</td>\n",
       "      <td>0.183369</td>\n",
       "      <td>0.708233</td>\n",
       "      <td>0.575135</td>\n",
       "      <td>0.152771</td>\n",
       "      <td>...</td>\n",
       "      <td>0</td>\n",
       "      <td>0</td>\n",
       "      <td>0</td>\n",
       "      <td>0</td>\n",
       "      <td>0</td>\n",
       "      <td>0</td>\n",
       "      <td>1</td>\n",
       "      <td>0</td>\n",
       "      <td>0</td>\n",
       "      <td>0</td>\n",
       "    </tr>\n",
       "    <tr>\n",
       "      <th>499999</th>\n",
       "      <td>0.185561</td>\n",
       "      <td>0.406225</td>\n",
       "      <td>0.097598</td>\n",
       "      <td>0.327129</td>\n",
       "      <td>0.655168</td>\n",
       "      <td>0.384097</td>\n",
       "      <td>0.330797</td>\n",
       "      <td>0.747355</td>\n",
       "      <td>0.409955</td>\n",
       "      <td>0.294460</td>\n",
       "      <td>...</td>\n",
       "      <td>1</td>\n",
       "      <td>0</td>\n",
       "      <td>0</td>\n",
       "      <td>0</td>\n",
       "      <td>0</td>\n",
       "      <td>1</td>\n",
       "      <td>0</td>\n",
       "      <td>0</td>\n",
       "      <td>0</td>\n",
       "      <td>0</td>\n",
       "    </tr>\n",
       "  </tbody>\n",
       "</table>\n",
       "<p>500000 rows × 285 columns</p>\n",
       "</div>"
      ],
      "text/plain": [
       "              f0        f1        f2        f3        f4        f5        f6  \\\n",
       "0       0.178216  0.435617  0.010230  0.202074  0.390170  0.324221  0.221722   \n",
       "1       0.181250  0.476455  0.022413  0.283146  0.598020  0.349508  0.283467   \n",
       "2       0.159721  0.451202  0.259649  0.365274  0.594634  0.413502  0.249318   \n",
       "3       0.182424  0.520976  0.095344  0.327742  0.741830  0.358711  0.270077   \n",
       "4       0.229329  0.336513  0.023511  0.300913  0.668738  0.481586  0.545660   \n",
       "...          ...       ...       ...       ...       ...       ...       ...   \n",
       "499995  0.185473  0.525338  0.014945  0.204029  0.498957  0.431933  0.470553   \n",
       "499996  0.183194  0.553266  0.008055  0.280651  0.636591  0.478092  0.450386   \n",
       "499997  0.184650  0.533643  0.011218  0.201262  0.720698  0.472888  0.427469   \n",
       "499998  0.227731  0.513247  0.178603  0.313778  0.665656  0.401365  0.183369   \n",
       "499999  0.185561  0.406225  0.097598  0.327129  0.655168  0.384097  0.330797   \n",
       "\n",
       "              f7        f8        f9  ...  f275  f276  f277  f278  f279  f280  \\\n",
       "0       0.738894  0.582588  0.343770  ...     1     0     0     0     0     0   \n",
       "1       0.721575  0.268990  0.208373  ...     0     0     0     0     0     0   \n",
       "2       0.642339  0.411104  0.246891  ...     0     0     0     0     0     0   \n",
       "3       0.601662  0.297742  0.252829  ...     0     0     0     0     0     1   \n",
       "4       0.667849  0.546045  0.202731  ...     0     0     0     0     1     0   \n",
       "...          ...       ...       ...  ...   ...   ...   ...   ...   ...   ...   \n",
       "499995  0.731268  0.452134  0.211206  ...     1     0     0     0     0     0   \n",
       "499996  0.582647  0.517270  0.225116  ...     1     0     0     0     0     0   \n",
       "499997  0.589259  0.243879  0.413022  ...     1     1     0     0     0     0   \n",
       "499998  0.708233  0.575135  0.152771  ...     0     0     0     0     0     0   \n",
       "499999  0.747355  0.409955  0.294460  ...     1     0     0     0     0     1   \n",
       "\n",
       "        f281  f282  f283  f284  \n",
       "0          1     1     1     0  \n",
       "1          0     0     0     0  \n",
       "2          1     0     0     0  \n",
       "3          1     0     0     0  \n",
       "4          0     1     0     0  \n",
       "...      ...   ...   ...   ...  \n",
       "499995     1     0     0     0  \n",
       "499996     0     1     0     0  \n",
       "499997     0     0     0     0  \n",
       "499998     1     0     0     0  \n",
       "499999     0     0     0     0  \n",
       "\n",
       "[500000 rows x 285 columns]"
      ]
     },
     "execution_count": 9,
     "metadata": {},
     "output_type": "execute_result"
    }
   ],
   "source": [
    "test[features]"
   ]
  },
  {
   "cell_type": "code",
   "execution_count": 10,
   "id": "8c3898f5",
   "metadata": {
    "execution": {
     "iopub.execute_input": "2021-10-05T12:39:58.767803Z",
     "iopub.status.busy": "2021-10-05T12:39:58.766928Z",
     "iopub.status.idle": "2021-10-05T12:39:58.771002Z",
     "shell.execute_reply": "2021-10-05T12:39:58.770539Z",
     "shell.execute_reply.started": "2021-10-04T07:24:31.998191Z"
    },
    "papermill": {
     "duration": 0.025278,
     "end_time": "2021-10-05T12:39:58.771127",
     "exception": false,
     "start_time": "2021-10-05T12:39:58.745849",
     "status": "completed"
    },
    "tags": []
   },
   "outputs": [
    {
     "data": {
      "text/plain": [
       "0         1\n",
       "1         1\n",
       "2         1\n",
       "3         1\n",
       "4         1\n",
       "         ..\n",
       "999995    1\n",
       "999996    0\n",
       "999997    0\n",
       "999998    1\n",
       "999999    0\n",
       "Name: target, Length: 1000000, dtype: int64"
      ]
     },
     "execution_count": 10,
     "metadata": {},
     "output_type": "execute_result"
    }
   ],
   "source": [
    "train[target]"
   ]
  },
  {
   "cell_type": "code",
   "execution_count": 11,
   "id": "6447dec4",
   "metadata": {
    "execution": {
     "iopub.execute_input": "2021-10-05T12:39:58.922190Z",
     "iopub.status.busy": "2021-10-05T12:39:58.921330Z",
     "iopub.status.idle": "2021-10-05T12:39:58.924459Z",
     "shell.execute_reply": "2021-10-05T12:39:58.924892Z",
     "shell.execute_reply.started": "2021-10-04T07:24:32.011225Z"
    },
    "papermill": {
     "duration": 0.13861,
     "end_time": "2021-10-05T12:39:58.925063",
     "exception": false,
     "start_time": "2021-10-05T12:39:58.786453",
     "status": "completed"
    },
    "tags": []
   },
   "outputs": [
    {
     "data": {
      "text/plain": [
       "40"
      ]
     },
     "execution_count": 11,
     "metadata": {},
     "output_type": "execute_result"
    }
   ],
   "source": [
    "del cont_features\n",
    "del disc_features\n",
    "\n",
    "gc.collect()"
   ]
  },
  {
   "cell_type": "markdown",
   "id": "0f22f31e",
   "metadata": {
    "papermill": {
     "duration": 0.015495,
     "end_time": "2021-10-05T12:39:58.956037",
     "exception": false,
     "start_time": "2021-10-05T12:39:58.940542",
     "status": "completed"
    },
    "tags": []
   },
   "source": [
    "# XGB"
   ]
  },
  {
   "cell_type": "code",
   "execution_count": 12,
   "id": "1cf8d4d0",
   "metadata": {
    "execution": {
     "iopub.execute_input": "2021-10-05T12:39:58.991589Z",
     "iopub.status.busy": "2021-10-05T12:39:58.990795Z",
     "iopub.status.idle": "2021-10-05T12:39:58.993787Z",
     "shell.execute_reply": "2021-10-05T12:39:58.993362Z",
     "shell.execute_reply.started": "2021-09-07T00:44:32.516352Z"
    },
    "papermill": {
     "duration": 0.022731,
     "end_time": "2021-10-05T12:39:58.993921",
     "exception": false,
     "start_time": "2021-10-05T12:39:58.971190",
     "status": "completed"
    },
    "tags": []
   },
   "outputs": [],
   "source": [
    "xgb_params = {\n",
    "     'objective': 'binary:logistic',\n",
    "     'n_estimators':N_ESTIMATORS,\n",
    "     #'importance_type': 'total_gain',\n",
    "     #'booster': 'gbtree',\n",
    "     'n_jobs' : -1,\n",
    "     'tree_method': 'hist',\n",
    "        \n",
    "    'learning_rate': 0.05,\n",
    "    'subsample': 0.9,\n",
    "    'colsample_bytree': 0.2,\n",
    "    'reg_lambda': 55,\n",
    "    'reg_alpha': 70,\n",
    "    'min_child_weight': 6.15,\n",
    "    'max_depth': 5, \n",
    "    'gamma': 3.2,\n",
    "    \n",
    "    'colsample_bylevel': 0.9,\n",
    "    'use_label_encoder': False,\n",
    "}"
   ]
  },
  {
   "cell_type": "code",
   "execution_count": 13,
   "id": "cff04ae2",
   "metadata": {
    "execution": {
     "iopub.execute_input": "2021-10-05T12:39:59.037788Z",
     "iopub.status.busy": "2021-10-05T12:39:59.036533Z",
     "iopub.status.idle": "2021-10-05T17:17:38.441080Z",
     "shell.execute_reply": "2021-10-05T17:17:38.442112Z",
     "shell.execute_reply.started": "2021-09-07T00:48:20.356186Z"
    },
    "papermill": {
     "duration": 16659.434211,
     "end_time": "2021-10-05T17:17:38.443298",
     "exception": false,
     "start_time": "2021-10-05T12:39:59.009087",
     "status": "completed"
    },
    "tags": []
   },
   "outputs": [
    {
     "name": "stdout",
     "output_type": "stream",
     "text": [
      "===== fold 0 =====\n",
      "[0]\tvalidation_0-auc:0.80037\n",
      "[1000]\tvalidation_0-auc:0.85519\n",
      "[2000]\tvalidation_0-auc:0.85590\n",
      "[3000]\tvalidation_0-auc:0.85581\n",
      "[3264]\tvalidation_0-auc:0.85578\n",
      "[0]\tvalidation_0-auc:0.85578\n",
      "[1000]\tvalidation_0-auc:0.85577\n",
      "[1004]\tvalidation_0-auc:0.85577\n",
      "fold 0 - xgb auc: 0.855925, elapsed time: 3380.63sec\n",
      "\n",
      "===== fold 1 =====\n",
      "[0]\tvalidation_0-auc:0.80141\n",
      "[1000]\tvalidation_0-auc:0.85662\n",
      "[2000]\tvalidation_0-auc:0.85735\n",
      "[3000]\tvalidation_0-auc:0.85728\n",
      "[3189]\tvalidation_0-auc:0.85723\n",
      "[0]\tvalidation_0-auc:0.85723\n",
      "[1000]\tvalidation_0-auc:0.85721\n",
      "[1001]\tvalidation_0-auc:0.85721\n",
      "fold 1 - xgb auc: 0.857283, elapsed time: 3307.33sec\n",
      "\n",
      "===== fold 2 =====\n",
      "[0]\tvalidation_0-auc:0.80307\n",
      "[1000]\tvalidation_0-auc:0.85706\n",
      "[2000]\tvalidation_0-auc:0.85793\n",
      "[3000]\tvalidation_0-auc:0.85785\n",
      "[3117]\tvalidation_0-auc:0.85782\n",
      "[0]\tvalidation_0-auc:0.85782\n",
      "[1000]\tvalidation_0-auc:0.85782\n",
      "[1111]\tvalidation_0-auc:0.85781\n",
      "fold 2 - xgb auc: 0.857817, elapsed time: 3312.07sec\n",
      "\n",
      "===== fold 3 =====\n",
      "[0]\tvalidation_0-auc:0.80017\n",
      "[1000]\tvalidation_0-auc:0.85551\n",
      "[2000]\tvalidation_0-auc:0.85627\n",
      "[3000]\tvalidation_0-auc:0.85622\n",
      "[3340]\tvalidation_0-auc:0.85618\n",
      "[0]\tvalidation_0-auc:0.85618\n",
      "[1000]\tvalidation_0-auc:0.85616\n",
      "[1003]\tvalidation_0-auc:0.85616\n",
      "fold 3 - xgb auc: 0.856259, elapsed time: 3402.93sec\n",
      "\n",
      "===== fold 4 =====\n",
      "[0]\tvalidation_0-auc:0.80132\n",
      "[1000]\tvalidation_0-auc:0.85562\n",
      "[2000]\tvalidation_0-auc:0.85629\n",
      "[3000]\tvalidation_0-auc:0.85617\n",
      "[3107]\tvalidation_0-auc:0.85613\n",
      "[0]\tvalidation_0-auc:0.85613\n",
      "[1000]\tvalidation_0-auc:0.85612\n",
      "[1012]\tvalidation_0-auc:0.85612\n",
      "fold 4 - xgb auc: 0.856173, elapsed time: 3242.98sec\n",
      "\n",
      "oof xgb_auc = 0.8566913461028876\n"
     ]
    }
   ],
   "source": [
    "xgb_oof = np.zeros(train.shape[0])\n",
    "xgb_pred = np.zeros(test.shape[0])\n",
    "xgb_importances = pd.DataFrame()\n",
    "\n",
    "X_test = test[features]\n",
    "del test\n",
    "gc.collect()\n",
    "\n",
    "\n",
    "kf = StratifiedKFold(n_splits=N_SPLITS, shuffle=True, random_state=CVSEED)\n",
    "seed_list=[SEED+4]\n",
    "\n",
    "for fold, (trn_idx, val_idx) in enumerate(kf.split(X=train[features], y=train[target])):\n",
    "    print(f\"===== fold {fold} =====\")\n",
    "    if fold <12:\n",
    "        \n",
    "        X_train = train[features].iloc[trn_idx]\n",
    "        y_train = train[target].iloc[trn_idx]\n",
    "        X_valid = train[features].iloc[val_idx]\n",
    "        y_valid = train[target].iloc[val_idx]\n",
    "        \n",
    "\n",
    "\n",
    "        start = time.time()\n",
    "        for inseed in seed_list:\n",
    "            xgb_params['random_state'] = inseed\n",
    "\n",
    "            pre_model = xgb.XGBClassifier(**xgb_params)\n",
    "            pre_model.fit(\n",
    "                X_train, \n",
    "                y_train,\n",
    "                eval_set=[(X_valid, y_valid)],\n",
    "                eval_metric='auc',\n",
    "                early_stopping_rounds=EARLY_STOPPING_ROUNDS,\n",
    "                verbose=VERBOSE,\n",
    "            )\n",
    "\n",
    "            xgb_params2 = xgb_params.copy()\n",
    "            xgb_params2['reg_lambda'] *= 0.9\n",
    "            xgb_params2['reg_alpha'] *= 0.9\n",
    "            xgb_params2['learning_rate'] *= 0.1\n",
    "            model = xgb.XGBClassifier(**xgb_params2)\n",
    "            model.fit(\n",
    "                    X_train, y_train,\n",
    "                    eval_set=[(X_valid, y_valid)],\n",
    "                    eval_metric='auc',\n",
    "                    early_stopping_rounds=EARLY_STOPPING_ROUNDS,\n",
    "                    verbose=VERBOSE,\n",
    "                    xgb_model=pre_model\n",
    "            )    \n",
    "\n",
    "            with open(f\"xgb_model{fold}_seed{inseed}.pkl\", 'wb') as f:\n",
    "                pickle.dump(model, f)\n",
    "\n",
    "            fi_tmp = pd.DataFrame()\n",
    "            fi_tmp['feature'] = X_train.columns\n",
    "            fi_tmp['importance'] = model.feature_importances_\n",
    "            fi_tmp['fold'] = fold\n",
    "            fi_tmp['seed'] = inseed\n",
    "            xgb_importances = xgb_importances.append(fi_tmp)\n",
    "\n",
    "            xgb_oof[val_idx] += model.predict_proba(X_valid)[:,-1] / len(seed_list)\n",
    "            xgb_pred += model.predict_proba(X_test)[:,-1] / len(seed_list)\n",
    "            \n",
    "            del pre_model\n",
    "            del model\n",
    "            gc.collect()\n",
    "\n",
    "\n",
    "        elapsed = time.time() - start\n",
    "        auc = roc_auc_score(y_valid, xgb_oof[val_idx])\n",
    "        print(f\"fold {fold} - xgb auc: {auc:.6f}, elapsed time: {elapsed:.2f}sec\\n\")\n",
    "        \n",
    "        del X_train\n",
    "        del y_train\n",
    "        del X_valid\n",
    "        del y_valid\n",
    "        gc.collect()\n",
    "\n",
    "\n",
    "del X_test\n",
    "gc.collect()\n",
    "\n",
    "xgb_pred /= N_SPLITS\n",
    "print(f\"oof xgb_auc = {roc_auc_score(train[target], xgb_oof)}\")\n",
    "\n",
    "np.save(\"xgb_oof.npy\", xgb_oof)\n",
    "np.save(\"xgb_pred.npy\", xgb_pred)"
   ]
  },
  {
   "cell_type": "markdown",
   "id": "37382e45",
   "metadata": {
    "papermill": {
     "duration": 0.027193,
     "end_time": "2021-10-05T17:17:38.498343",
     "exception": false,
     "start_time": "2021-10-05T17:17:38.471150",
     "status": "completed"
    },
    "tags": []
   },
   "source": [
    "# OOF predictions"
   ]
  },
  {
   "cell_type": "code",
   "execution_count": 14,
   "id": "f615c240",
   "metadata": {
    "execution": {
     "iopub.execute_input": "2021-10-05T17:17:38.554870Z",
     "iopub.status.busy": "2021-10-05T17:17:38.554290Z",
     "iopub.status.idle": "2021-10-05T17:17:42.363407Z",
     "shell.execute_reply": "2021-10-05T17:17:42.363856Z",
     "shell.execute_reply.started": "2021-09-07T00:50:57.432219Z"
    },
    "papermill": {
     "duration": 3.839415,
     "end_time": "2021-10-05T17:17:42.364019",
     "exception": false,
     "start_time": "2021-10-05T17:17:38.524604",
     "status": "completed"
    },
    "tags": []
   },
   "outputs": [
    {
     "data": {
      "text/plain": [
       "<matplotlib.collections.PathCollection at 0x7f0effe7e3d0>"
      ]
     },
     "execution_count": 14,
     "metadata": {},
     "output_type": "execute_result"
    },
    {
     "data": {
      "image/png": "[encoded data removed]",
      "text/plain": [
       "<Figure size 432x288 with 1 Axes>"
      ]
     },
     "metadata": {
      "needs_background": "light"
     },
     "output_type": "display_data"
    }
   ],
   "source": [
    "plt.plot(train[target], train[target])\n",
    "plt.scatter(train[target], xgb_oof)"
   ]
  },
  {
   "cell_type": "code",
   "execution_count": 15,
   "id": "3f2fbf0b",
   "metadata": {
    "execution": {
     "iopub.execute_input": "2021-10-05T17:17:42.536749Z",
     "iopub.status.busy": "2021-10-05T17:17:42.536118Z",
     "iopub.status.idle": "2021-10-05T17:17:42.539363Z",
     "shell.execute_reply": "2021-10-05T17:17:42.539832Z"
    },
    "papermill": {
     "duration": 0.148176,
     "end_time": "2021-10-05T17:17:42.540004",
     "exception": false,
     "start_time": "2021-10-05T17:17:42.391828",
     "status": "completed"
    },
    "tags": []
   },
   "outputs": [
    {
     "data": {
      "text/plain": [
       "20"
      ]
     },
     "execution_count": 15,
     "metadata": {},
     "output_type": "execute_result"
    }
   ],
   "source": [
    "del train\n",
    "del xgb_oof\n",
    "gc.collect()"
   ]
  },
  {
   "cell_type": "markdown",
   "id": "5816fa71",
   "metadata": {
    "papermill": {
     "duration": 0.027196,
     "end_time": "2021-10-05T17:17:42.594101",
     "exception": false,
     "start_time": "2021-10-05T17:17:42.566905",
     "status": "completed"
    },
    "tags": []
   },
   "source": [
    "# Features importances"
   ]
  },
  {
   "cell_type": "code",
   "execution_count": 16,
   "id": "9d7549b6",
   "metadata": {
    "execution": {
     "iopub.execute_input": "2021-10-05T17:17:42.661888Z",
     "iopub.status.busy": "2021-10-05T17:17:42.661166Z",
     "iopub.status.idle": "2021-10-05T17:17:47.624931Z",
     "shell.execute_reply": "2021-10-05T17:17:47.624340Z",
     "shell.execute_reply.started": "2021-09-07T00:51:01.011128Z"
    },
    "papermill": {
     "duration": 5.003348,
     "end_time": "2021-10-05T17:17:47.625060",
     "exception": false,
     "start_time": "2021-10-05T17:17:42.621712",
     "status": "completed"
    },
    "tags": []
   },
   "outputs": [
    {
     "data": {
      "text/plain": [
       "Text(0.5, 1.0, 'XGB feature importances')"
      ]
     },
     "execution_count": 16,
     "metadata": {},
     "output_type": "execute_result"
    },
    {
     "data": {
      "image/png": "[encoded data removed]",
      "text/plain": [
       "<Figure size 1152x1152 with 1 Axes>"
      ]
     },
     "metadata": {
      "needs_background": "light"
     },
     "output_type": "display_data"
    }
   ],
   "source": [
    "order = list(xgb_importances.groupby('feature').mean().sort_values('importance', ascending=False).index)\n",
    "\n",
    "fig = plt.figure(figsize=(16, 16), tight_layout=True)\n",
    "sns.barplot(x=\"importance\", y=\"feature\", data=xgb_importances.groupby('feature').mean().reset_index(), order=order)\n",
    "plt.title(\"XGB feature importances\")"
   ]
  },
  {
   "cell_type": "markdown",
   "id": "2c016161",
   "metadata": {
    "papermill": {
     "duration": 0.029428,
     "end_time": "2021-10-05T17:17:47.684481",
     "exception": false,
     "start_time": "2021-10-05T17:17:47.655053",
     "status": "completed"
    },
    "tags": []
   },
   "source": [
    "# Submission"
   ]
  },
  {
   "cell_type": "code",
   "execution_count": 17,
   "id": "d98552ea",
   "metadata": {
    "execution": {
     "iopub.execute_input": "2021-10-05T17:17:47.748608Z",
     "iopub.status.busy": "2021-10-05T17:17:47.747638Z",
     "iopub.status.idle": "2021-10-05T17:17:48.963234Z",
     "shell.execute_reply": "2021-10-05T17:17:48.963692Z",
     "shell.execute_reply.started": "2021-09-07T00:51:03.177221Z"
    },
    "papermill": {
     "duration": 1.24988,
     "end_time": "2021-10-05T17:17:48.963858",
     "exception": false,
     "start_time": "2021-10-05T17:17:47.713978",
     "status": "completed"
    },
    "tags": []
   },
   "outputs": [
    {
     "data": {
      "text/html": [
       "<div>\n",
       "<style scoped>\n",
       "    .dataframe tbody tr th:only-of-type {\n",
       "        vertical-align: middle;\n",
       "    }\n",
       "\n",
       "    .dataframe tbody tr th {\n",
       "        vertical-align: top;\n",
       "    }\n",
       "\n",
       "    .dataframe thead th {\n",
       "        text-align: right;\n",
       "    }\n",
       "</style>\n",
       "<table border=\"1\" class=\"dataframe\">\n",
       "  <thead>\n",
       "    <tr style=\"text-align: right;\">\n",
       "      <th></th>\n",
       "      <th>id</th>\n",
       "      <th>target</th>\n",
       "    </tr>\n",
       "  </thead>\n",
       "  <tbody>\n",
       "    <tr>\n",
       "      <th>0</th>\n",
       "      <td>1000000</td>\n",
       "      <td>0.742609</td>\n",
       "    </tr>\n",
       "    <tr>\n",
       "      <th>1</th>\n",
       "      <td>1000001</td>\n",
       "      <td>0.229096</td>\n",
       "    </tr>\n",
       "    <tr>\n",
       "      <th>2</th>\n",
       "      <td>1000002</td>\n",
       "      <td>0.918477</td>\n",
       "    </tr>\n",
       "    <tr>\n",
       "      <th>3</th>\n",
       "      <td>1000003</td>\n",
       "      <td>0.838031</td>\n",
       "    </tr>\n",
       "    <tr>\n",
       "      <th>4</th>\n",
       "      <td>1000004</td>\n",
       "      <td>0.264655</td>\n",
       "    </tr>\n",
       "    <tr>\n",
       "      <th>...</th>\n",
       "      <td>...</td>\n",
       "      <td>...</td>\n",
       "    </tr>\n",
       "    <tr>\n",
       "      <th>499995</th>\n",
       "      <td>1499995</td>\n",
       "      <td>0.970330</td>\n",
       "    </tr>\n",
       "    <tr>\n",
       "      <th>499996</th>\n",
       "      <td>1499996</td>\n",
       "      <td>0.833125</td>\n",
       "    </tr>\n",
       "    <tr>\n",
       "      <th>499997</th>\n",
       "      <td>1499997</td>\n",
       "      <td>0.279444</td>\n",
       "    </tr>\n",
       "    <tr>\n",
       "      <th>499998</th>\n",
       "      <td>1499998</td>\n",
       "      <td>0.476967</td>\n",
       "    </tr>\n",
       "    <tr>\n",
       "      <th>499999</th>\n",
       "      <td>1499999</td>\n",
       "      <td>0.425381</td>\n",
       "    </tr>\n",
       "  </tbody>\n",
       "</table>\n",
       "<p>500000 rows × 2 columns</p>\n",
       "</div>"
      ],
      "text/plain": [
       "             id    target\n",
       "0       1000000  0.742609\n",
       "1       1000001  0.229096\n",
       "2       1000002  0.918477\n",
       "3       1000003  0.838031\n",
       "4       1000004  0.264655\n",
       "...         ...       ...\n",
       "499995  1499995  0.970330\n",
       "499996  1499996  0.833125\n",
       "499997  1499997  0.279444\n",
       "499998  1499998  0.476967\n",
       "499999  1499999  0.425381\n",
       "\n",
       "[500000 rows x 2 columns]"
      ]
     },
     "execution_count": 17,
     "metadata": {},
     "output_type": "execute_result"
    }
   ],
   "source": [
    "submission[target] = xgb_pred\n",
    "submission.to_csv(\"submission.csv\", index=False)\n",
    "\n",
    "submission"
   ]
  },
  {
   "cell_type": "markdown",
   "id": "d47b05cb",
   "metadata": {
    "papermill": {
     "duration": 0.029766,
     "end_time": "2021-10-05T17:17:49.023850",
     "exception": false,
     "start_time": "2021-10-05T17:17:48.994084",
     "status": "completed"
    },
    "tags": []
   },
   "source": [
    "# Log\n",
    "\n",
    "seeds\n",
    "\n",
    "2017 ver1\n",
    "2018 ver2\n",
    "2019 ver3\n",
    "2020 ver4\n",
    "2021 ver5"
   ]
  }
 ],
 "metadata": {
  "kernelspec": {
   "display_name": "Python 3",
   "language": "python",
   "name": "python3"
  },
  "language_info": {
   "codemirror_mode": {
    "name": "ipython",
    "version": 3
   },
   "file_extension": ".py",
   "mimetype": "text/x-python",
   "name": "python",
   "nbconvert_exporter": "python",
   "pygments_lexer": "ipython3",
   "version": "3.7.10"
  },
  "papermill": {
   "default_parameters": {},
   "duration": 16923.291306,
   "end_time": "2021-10-05T17:17:50.474201",
   "environment_variables": {},
   "exception": null,
   "input_path": "__notebook__.ipynb",
   "output_path": "__notebook__.ipynb",
   "parameters": {},
   "start_time": "2021-10-05T12:35:47.182895",
   "version": "2.3.3"
  }
 },
 "nbformat": 4,
 "nbformat_minor": 5
}
