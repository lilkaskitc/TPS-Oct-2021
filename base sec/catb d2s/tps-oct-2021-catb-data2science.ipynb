{
 "cells": [
  {
   "cell_type": "code",
   "execution_count": 1,
   "id": "6009de1a",
   "metadata": {
    "_cell_guid": "b1076dfc-b9ad-4769-8c92-a6c4dae69d19",
    "_uuid": "8f2839f25d086af736a60e9eeb907d3b93b6e0e5",
    "execution": {
     "iopub.execute_input": "2021-10-11T00:06:09.465914Z",
     "iopub.status.busy": "2021-10-11T00:06:09.464807Z",
     "iopub.status.idle": "2021-10-11T00:06:10.870402Z",
     "shell.execute_reply": "2021-10-11T00:06:10.869163Z",
     "shell.execute_reply.started": "2021-10-04T07:17:37.625191Z"
    },
    "papermill": {
     "duration": 1.42393,
     "end_time": "2021-10-11T00:06:10.870589",
     "exception": false,
     "start_time": "2021-10-11T00:06:09.446659",
     "status": "completed"
    },
    "tags": []
   },
   "outputs": [],
   "source": [
    "import numpy as np\n",
    "import pandas as pd\n",
    "import random\n",
    "import os\n",
    "import time\n",
    "import pickle\n",
    "from pathlib import Path\n",
    "import gc\n",
    "\n",
    "from sklearn.preprocessing import StandardScaler\n",
    "from sklearn.model_selection import StratifiedKFold, train_test_split\n",
    "from sklearn.metrics import roc_auc_score\n",
    "\n",
    "#import lightgbm as lgb\n",
    "#import xgboost as xgb\n",
    "import catboost as ctb\n",
    "\n",
    "import matplotlib.pyplot as plt\n",
    "import seaborn as sns\n",
    "\n",
    "import warnings\n",
    "warnings.simplefilter('ignore')"
   ]
  },
  {
   "cell_type": "markdown",
   "id": "f8473cf6",
   "metadata": {
    "papermill": {
     "duration": 0.012849,
     "end_time": "2021-10-11T00:06:10.896506",
     "exception": false,
     "start_time": "2021-10-11T00:06:10.883657",
     "status": "completed"
    },
    "tags": []
   },
   "source": [
    "https://www.kaggle.com/data2science/tps-10-21-catboost\n",
    "\n",
    "ver4"
   ]
  },
  {
   "cell_type": "markdown",
   "id": "25d1d73d",
   "metadata": {
    "papermill": {
     "duration": 0.013597,
     "end_time": "2021-10-11T00:06:10.922769",
     "exception": false,
     "start_time": "2021-10-11T00:06:10.909172",
     "status": "completed"
    },
    "tags": []
   },
   "source": [
    "# Parameters"
   ]
  },
  {
   "cell_type": "code",
   "execution_count": 2,
   "id": "13321eae",
   "metadata": {
    "execution": {
     "iopub.execute_input": "2021-10-11T00:06:10.954780Z",
     "iopub.status.busy": "2021-10-11T00:06:10.954140Z",
     "iopub.status.idle": "2021-10-11T00:06:10.958347Z",
     "shell.execute_reply": "2021-10-11T00:06:10.958847Z",
     "shell.execute_reply.started": "2021-10-04T07:17:38.959998Z"
    },
    "papermill": {
     "duration": 0.022707,
     "end_time": "2021-10-11T00:06:10.959018",
     "exception": false,
     "start_time": "2021-10-11T00:06:10.936311",
     "status": "completed"
    },
    "tags": []
   },
   "outputs": [],
   "source": [
    "target = 'target'\n",
    "\n",
    "DEBUG = False\n",
    "\n",
    "if DEBUG:\n",
    "    N_ESTIMATORS = 1\n",
    "    N_SPLITS = 2\n",
    "    SEED = 2017\n",
    "    CVSEED = 2017\n",
    "    EARLY_STOPPING_ROUNDS = 1\n",
    "    VERBOSE = 100\n",
    "    #N_ITERS = 2\n",
    "else:\n",
    "    N_SPLITS = 5\n",
    "    N_ESTIMATORS = 40000\n",
    "    EARLY_STOPPING_ROUNDS = 1000\n",
    "    VERBOSE = 1000\n",
    "    SEED = 2017\n",
    "    CVSEED = 2017\n",
    "    #N_ITERS = 10"
   ]
  },
  {
   "cell_type": "code",
   "execution_count": 3,
   "id": "351536f5",
   "metadata": {
    "execution": {
     "iopub.execute_input": "2021-10-11T00:06:10.990274Z",
     "iopub.status.busy": "2021-10-11T00:06:10.989625Z",
     "iopub.status.idle": "2021-10-11T00:06:10.994031Z",
     "shell.execute_reply": "2021-10-11T00:06:10.993453Z",
     "shell.execute_reply.started": "2021-10-04T07:17:38.969573Z"
    },
    "papermill": {
     "duration": 0.021914,
     "end_time": "2021-10-11T00:06:10.994159",
     "exception": false,
     "start_time": "2021-10-11T00:06:10.972245",
     "status": "completed"
    },
    "tags": []
   },
   "outputs": [],
   "source": [
    "def set_seed(seed=2017):\n",
    "    random.seed(seed)\n",
    "    os.environ['PYTHONHASHSEED'] = str(seed)\n",
    "    np.random.seed(seed)\n",
    "    \n",
    "set_seed(SEED)"
   ]
  },
  {
   "cell_type": "markdown",
   "id": "bad4a90e",
   "metadata": {
    "papermill": {
     "duration": 0.01326,
     "end_time": "2021-10-11T00:06:11.020957",
     "exception": false,
     "start_time": "2021-10-11T00:06:11.007697",
     "status": "completed"
    },
    "tags": []
   },
   "source": [
    "# Datasets"
   ]
  },
  {
   "cell_type": "code",
   "execution_count": 4,
   "id": "d4c3de5a",
   "metadata": {
    "execution": {
     "iopub.execute_input": "2021-10-11T00:06:11.051280Z",
     "iopub.status.busy": "2021-10-11T00:06:11.050555Z",
     "iopub.status.idle": "2021-10-11T00:07:35.749789Z",
     "shell.execute_reply": "2021-10-11T00:07:35.749104Z",
     "shell.execute_reply.started": "2021-10-04T07:17:38.980344Z"
    },
    "papermill": {
     "duration": 84.71536,
     "end_time": "2021-10-11T00:07:35.749987",
     "exception": false,
     "start_time": "2021-10-11T00:06:11.034627",
     "status": "completed"
    },
    "tags": []
   },
   "outputs": [],
   "source": [
    "INPUT = Path(\"../input/tabular-playground-series-oct-2021\")\n",
    "\n",
    "train = pd.read_csv(INPUT / \"train.csv\")\n",
    "test = pd.read_csv(INPUT / \"test.csv\")\n",
    "submission = pd.read_csv(INPUT / \"sample_submission.csv\")"
   ]
  },
  {
   "cell_type": "code",
   "execution_count": 5,
   "id": "11e0e50f",
   "metadata": {
    "execution": {
     "iopub.execute_input": "2021-10-11T00:07:36.518148Z",
     "iopub.status.busy": "2021-10-11T00:07:36.516256Z",
     "iopub.status.idle": "2021-10-11T00:07:36.920009Z",
     "shell.execute_reply": "2021-10-11T00:07:36.920514Z",
     "shell.execute_reply.started": "2021-10-04T07:19:21.369035Z"
    },
    "papermill": {
     "duration": 1.157503,
     "end_time": "2021-10-11T00:07:36.920684",
     "exception": false,
     "start_time": "2021-10-11T00:07:35.763181",
     "status": "completed"
    },
    "tags": []
   },
   "outputs": [],
   "source": [
    "train = train[train.columns[1:]]\n",
    "test = test[test.columns[1:]]"
   ]
  },
  {
   "cell_type": "markdown",
   "id": "39983c39",
   "metadata": {
    "papermill": {
     "duration": 0.012313,
     "end_time": "2021-10-11T00:07:36.945679",
     "exception": false,
     "start_time": "2021-10-11T00:07:36.933366",
     "status": "completed"
    },
    "tags": []
   },
   "source": [
    "# Preprocessing"
   ]
  },
  {
   "cell_type": "code",
   "execution_count": 6,
   "id": "612ab3e0",
   "metadata": {
    "execution": {
     "iopub.execute_input": "2021-10-11T00:07:36.975894Z",
     "iopub.status.busy": "2021-10-11T00:07:36.975290Z",
     "iopub.status.idle": "2021-10-11T00:07:36.978285Z",
     "shell.execute_reply": "2021-10-11T00:07:36.977697Z",
     "shell.execute_reply.started": "2021-10-04T07:19:23.214541Z"
    },
    "papermill": {
     "duration": 0.020153,
     "end_time": "2021-10-11T00:07:36.978424",
     "exception": false,
     "start_time": "2021-10-11T00:07:36.958271",
     "status": "completed"
    },
    "tags": []
   },
   "outputs": [],
   "source": [
    "features = [col for col in train.columns if 'f' in col]"
   ]
  },
  {
   "cell_type": "code",
   "execution_count": 7,
   "id": "bd7540e0",
   "metadata": {
    "execution": {
     "iopub.execute_input": "2021-10-11T00:07:37.331091Z",
     "iopub.status.busy": "2021-10-11T00:07:37.292919Z",
     "iopub.status.idle": "2021-10-11T00:07:37.428918Z",
     "shell.execute_reply": "2021-10-11T00:07:37.429373Z",
     "shell.execute_reply.started": "2021-10-04T07:24:31.446188Z"
    },
    "papermill": {
     "duration": 0.438356,
     "end_time": "2021-10-11T00:07:37.429534",
     "exception": false,
     "start_time": "2021-10-11T00:07:36.991178",
     "status": "completed"
    },
    "tags": []
   },
   "outputs": [
    {
     "data": {
      "text/html": [
       "<div>\n",
       "<style scoped>\n",
       "    .dataframe tbody tr th:only-of-type {\n",
       "        vertical-align: middle;\n",
       "    }\n",
       "\n",
       "    .dataframe tbody tr th {\n",
       "        vertical-align: top;\n",
       "    }\n",
       "\n",
       "    .dataframe thead th {\n",
       "        text-align: right;\n",
       "    }\n",
       "</style>\n",
       "<table border=\"1\" class=\"dataframe\">\n",
       "  <thead>\n",
       "    <tr style=\"text-align: right;\">\n",
       "      <th></th>\n",
       "      <th>f0</th>\n",
       "      <th>f1</th>\n",
       "      <th>f2</th>\n",
       "      <th>f3</th>\n",
       "      <th>f4</th>\n",
       "      <th>f5</th>\n",
       "      <th>f6</th>\n",
       "      <th>f7</th>\n",
       "      <th>f8</th>\n",
       "      <th>f9</th>\n",
       "      <th>...</th>\n",
       "      <th>f275</th>\n",
       "      <th>f276</th>\n",
       "      <th>f277</th>\n",
       "      <th>f278</th>\n",
       "      <th>f279</th>\n",
       "      <th>f280</th>\n",
       "      <th>f281</th>\n",
       "      <th>f282</th>\n",
       "      <th>f283</th>\n",
       "      <th>f284</th>\n",
       "    </tr>\n",
       "  </thead>\n",
       "  <tbody>\n",
       "    <tr>\n",
       "      <th>0</th>\n",
       "      <td>0.178216</td>\n",
       "      <td>0.435617</td>\n",
       "      <td>0.010230</td>\n",
       "      <td>0.202074</td>\n",
       "      <td>0.390170</td>\n",
       "      <td>0.324221</td>\n",
       "      <td>0.221722</td>\n",
       "      <td>0.738894</td>\n",
       "      <td>0.582588</td>\n",
       "      <td>0.343770</td>\n",
       "      <td>...</td>\n",
       "      <td>1</td>\n",
       "      <td>0</td>\n",
       "      <td>0</td>\n",
       "      <td>0</td>\n",
       "      <td>0</td>\n",
       "      <td>0</td>\n",
       "      <td>1</td>\n",
       "      <td>1</td>\n",
       "      <td>1</td>\n",
       "      <td>0</td>\n",
       "    </tr>\n",
       "    <tr>\n",
       "      <th>1</th>\n",
       "      <td>0.181250</td>\n",
       "      <td>0.476455</td>\n",
       "      <td>0.022413</td>\n",
       "      <td>0.283146</td>\n",
       "      <td>0.598020</td>\n",
       "      <td>0.349508</td>\n",
       "      <td>0.283467</td>\n",
       "      <td>0.721575</td>\n",
       "      <td>0.268990</td>\n",
       "      <td>0.208373</td>\n",
       "      <td>...</td>\n",
       "      <td>0</td>\n",
       "      <td>0</td>\n",
       "      <td>0</td>\n",
       "      <td>0</td>\n",
       "      <td>0</td>\n",
       "      <td>0</td>\n",
       "      <td>0</td>\n",
       "      <td>0</td>\n",
       "      <td>0</td>\n",
       "      <td>0</td>\n",
       "    </tr>\n",
       "    <tr>\n",
       "      <th>2</th>\n",
       "      <td>0.159721</td>\n",
       "      <td>0.451202</td>\n",
       "      <td>0.259649</td>\n",
       "      <td>0.365274</td>\n",
       "      <td>0.594634</td>\n",
       "      <td>0.413502</td>\n",
       "      <td>0.249318</td>\n",
       "      <td>0.642339</td>\n",
       "      <td>0.411104</td>\n",
       "      <td>0.246891</td>\n",
       "      <td>...</td>\n",
       "      <td>0</td>\n",
       "      <td>0</td>\n",
       "      <td>0</td>\n",
       "      <td>0</td>\n",
       "      <td>0</td>\n",
       "      <td>0</td>\n",
       "      <td>1</td>\n",
       "      <td>0</td>\n",
       "      <td>0</td>\n",
       "      <td>0</td>\n",
       "    </tr>\n",
       "    <tr>\n",
       "      <th>3</th>\n",
       "      <td>0.182424</td>\n",
       "      <td>0.520976</td>\n",
       "      <td>0.095344</td>\n",
       "      <td>0.327742</td>\n",
       "      <td>0.741830</td>\n",
       "      <td>0.358711</td>\n",
       "      <td>0.270077</td>\n",
       "      <td>0.601662</td>\n",
       "      <td>0.297742</td>\n",
       "      <td>0.252829</td>\n",
       "      <td>...</td>\n",
       "      <td>0</td>\n",
       "      <td>0</td>\n",
       "      <td>0</td>\n",
       "      <td>0</td>\n",
       "      <td>0</td>\n",
       "      <td>1</td>\n",
       "      <td>1</td>\n",
       "      <td>0</td>\n",
       "      <td>0</td>\n",
       "      <td>0</td>\n",
       "    </tr>\n",
       "    <tr>\n",
       "      <th>4</th>\n",
       "      <td>0.229329</td>\n",
       "      <td>0.336513</td>\n",
       "      <td>0.023511</td>\n",
       "      <td>0.300913</td>\n",
       "      <td>0.668738</td>\n",
       "      <td>0.481586</td>\n",
       "      <td>0.545660</td>\n",
       "      <td>0.667849</td>\n",
       "      <td>0.546045</td>\n",
       "      <td>0.202731</td>\n",
       "      <td>...</td>\n",
       "      <td>0</td>\n",
       "      <td>0</td>\n",
       "      <td>0</td>\n",
       "      <td>0</td>\n",
       "      <td>1</td>\n",
       "      <td>0</td>\n",
       "      <td>0</td>\n",
       "      <td>1</td>\n",
       "      <td>0</td>\n",
       "      <td>0</td>\n",
       "    </tr>\n",
       "    <tr>\n",
       "      <th>...</th>\n",
       "      <td>...</td>\n",
       "      <td>...</td>\n",
       "      <td>...</td>\n",
       "      <td>...</td>\n",
       "      <td>...</td>\n",
       "      <td>...</td>\n",
       "      <td>...</td>\n",
       "      <td>...</td>\n",
       "      <td>...</td>\n",
       "      <td>...</td>\n",
       "      <td>...</td>\n",
       "      <td>...</td>\n",
       "      <td>...</td>\n",
       "      <td>...</td>\n",
       "      <td>...</td>\n",
       "      <td>...</td>\n",
       "      <td>...</td>\n",
       "      <td>...</td>\n",
       "      <td>...</td>\n",
       "      <td>...</td>\n",
       "      <td>...</td>\n",
       "    </tr>\n",
       "    <tr>\n",
       "      <th>499995</th>\n",
       "      <td>0.185473</td>\n",
       "      <td>0.525338</td>\n",
       "      <td>0.014945</td>\n",
       "      <td>0.204029</td>\n",
       "      <td>0.498957</td>\n",
       "      <td>0.431933</td>\n",
       "      <td>0.470553</td>\n",
       "      <td>0.731268</td>\n",
       "      <td>0.452134</td>\n",
       "      <td>0.211206</td>\n",
       "      <td>...</td>\n",
       "      <td>1</td>\n",
       "      <td>0</td>\n",
       "      <td>0</td>\n",
       "      <td>0</td>\n",
       "      <td>0</td>\n",
       "      <td>0</td>\n",
       "      <td>1</td>\n",
       "      <td>0</td>\n",
       "      <td>0</td>\n",
       "      <td>0</td>\n",
       "    </tr>\n",
       "    <tr>\n",
       "      <th>499996</th>\n",
       "      <td>0.183194</td>\n",
       "      <td>0.553266</td>\n",
       "      <td>0.008055</td>\n",
       "      <td>0.280651</td>\n",
       "      <td>0.636591</td>\n",
       "      <td>0.478092</td>\n",
       "      <td>0.450386</td>\n",
       "      <td>0.582647</td>\n",
       "      <td>0.517270</td>\n",
       "      <td>0.225116</td>\n",
       "      <td>...</td>\n",
       "      <td>1</td>\n",
       "      <td>0</td>\n",
       "      <td>0</td>\n",
       "      <td>0</td>\n",
       "      <td>0</td>\n",
       "      <td>0</td>\n",
       "      <td>0</td>\n",
       "      <td>1</td>\n",
       "      <td>0</td>\n",
       "      <td>0</td>\n",
       "    </tr>\n",
       "    <tr>\n",
       "      <th>499997</th>\n",
       "      <td>0.184650</td>\n",
       "      <td>0.533643</td>\n",
       "      <td>0.011218</td>\n",
       "      <td>0.201262</td>\n",
       "      <td>0.720698</td>\n",
       "      <td>0.472888</td>\n",
       "      <td>0.427469</td>\n",
       "      <td>0.589259</td>\n",
       "      <td>0.243879</td>\n",
       "      <td>0.413022</td>\n",
       "      <td>...</td>\n",
       "      <td>1</td>\n",
       "      <td>1</td>\n",
       "      <td>0</td>\n",
       "      <td>0</td>\n",
       "      <td>0</td>\n",
       "      <td>0</td>\n",
       "      <td>0</td>\n",
       "      <td>0</td>\n",
       "      <td>0</td>\n",
       "      <td>0</td>\n",
       "    </tr>\n",
       "    <tr>\n",
       "      <th>499998</th>\n",
       "      <td>0.227731</td>\n",
       "      <td>0.513247</td>\n",
       "      <td>0.178603</td>\n",
       "      <td>0.313778</td>\n",
       "      <td>0.665656</td>\n",
       "      <td>0.401365</td>\n",
       "      <td>0.183369</td>\n",
       "      <td>0.708233</td>\n",
       "      <td>0.575135</td>\n",
       "      <td>0.152771</td>\n",
       "      <td>...</td>\n",
       "      <td>0</td>\n",
       "      <td>0</td>\n",
       "      <td>0</td>\n",
       "      <td>0</td>\n",
       "      <td>0</td>\n",
       "      <td>0</td>\n",
       "      <td>1</td>\n",
       "      <td>0</td>\n",
       "      <td>0</td>\n",
       "      <td>0</td>\n",
       "    </tr>\n",
       "    <tr>\n",
       "      <th>499999</th>\n",
       "      <td>0.185561</td>\n",
       "      <td>0.406225</td>\n",
       "      <td>0.097598</td>\n",
       "      <td>0.327129</td>\n",
       "      <td>0.655168</td>\n",
       "      <td>0.384097</td>\n",
       "      <td>0.330797</td>\n",
       "      <td>0.747355</td>\n",
       "      <td>0.409955</td>\n",
       "      <td>0.294460</td>\n",
       "      <td>...</td>\n",
       "      <td>1</td>\n",
       "      <td>0</td>\n",
       "      <td>0</td>\n",
       "      <td>0</td>\n",
       "      <td>0</td>\n",
       "      <td>1</td>\n",
       "      <td>0</td>\n",
       "      <td>0</td>\n",
       "      <td>0</td>\n",
       "      <td>0</td>\n",
       "    </tr>\n",
       "  </tbody>\n",
       "</table>\n",
       "<p>500000 rows × 285 columns</p>\n",
       "</div>"
      ],
      "text/plain": [
       "              f0        f1        f2        f3        f4        f5        f6  \\\n",
       "0       0.178216  0.435617  0.010230  0.202074  0.390170  0.324221  0.221722   \n",
       "1       0.181250  0.476455  0.022413  0.283146  0.598020  0.349508  0.283467   \n",
       "2       0.159721  0.451202  0.259649  0.365274  0.594634  0.413502  0.249318   \n",
       "3       0.182424  0.520976  0.095344  0.327742  0.741830  0.358711  0.270077   \n",
       "4       0.229329  0.336513  0.023511  0.300913  0.668738  0.481586  0.545660   \n",
       "...          ...       ...       ...       ...       ...       ...       ...   \n",
       "499995  0.185473  0.525338  0.014945  0.204029  0.498957  0.431933  0.470553   \n",
       "499996  0.183194  0.553266  0.008055  0.280651  0.636591  0.478092  0.450386   \n",
       "499997  0.184650  0.533643  0.011218  0.201262  0.720698  0.472888  0.427469   \n",
       "499998  0.227731  0.513247  0.178603  0.313778  0.665656  0.401365  0.183369   \n",
       "499999  0.185561  0.406225  0.097598  0.327129  0.655168  0.384097  0.330797   \n",
       "\n",
       "              f7        f8        f9  ...  f275  f276  f277  f278  f279  f280  \\\n",
       "0       0.738894  0.582588  0.343770  ...     1     0     0     0     0     0   \n",
       "1       0.721575  0.268990  0.208373  ...     0     0     0     0     0     0   \n",
       "2       0.642339  0.411104  0.246891  ...     0     0     0     0     0     0   \n",
       "3       0.601662  0.297742  0.252829  ...     0     0     0     0     0     1   \n",
       "4       0.667849  0.546045  0.202731  ...     0     0     0     0     1     0   \n",
       "...          ...       ...       ...  ...   ...   ...   ...   ...   ...   ...   \n",
       "499995  0.731268  0.452134  0.211206  ...     1     0     0     0     0     0   \n",
       "499996  0.582647  0.517270  0.225116  ...     1     0     0     0     0     0   \n",
       "499997  0.589259  0.243879  0.413022  ...     1     1     0     0     0     0   \n",
       "499998  0.708233  0.575135  0.152771  ...     0     0     0     0     0     0   \n",
       "499999  0.747355  0.409955  0.294460  ...     1     0     0     0     0     1   \n",
       "\n",
       "        f281  f282  f283  f284  \n",
       "0          1     1     1     0  \n",
       "1          0     0     0     0  \n",
       "2          1     0     0     0  \n",
       "3          1     0     0     0  \n",
       "4          0     1     0     0  \n",
       "...      ...   ...   ...   ...  \n",
       "499995     1     0     0     0  \n",
       "499996     0     1     0     0  \n",
       "499997     0     0     0     0  \n",
       "499998     1     0     0     0  \n",
       "499999     0     0     0     0  \n",
       "\n",
       "[500000 rows x 285 columns]"
      ]
     },
     "execution_count": 7,
     "metadata": {},
     "output_type": "execute_result"
    }
   ],
   "source": [
    "test[features]"
   ]
  },
  {
   "cell_type": "code",
   "execution_count": 8,
   "id": "d42d6e54",
   "metadata": {
    "execution": {
     "iopub.execute_input": "2021-10-11T00:07:37.463208Z",
     "iopub.status.busy": "2021-10-11T00:07:37.462577Z",
     "iopub.status.idle": "2021-10-11T00:07:37.465050Z",
     "shell.execute_reply": "2021-10-11T00:07:37.465473Z",
     "shell.execute_reply.started": "2021-10-04T07:24:31.998191Z"
    },
    "papermill": {
     "duration": 0.022336,
     "end_time": "2021-10-11T00:07:37.465642",
     "exception": false,
     "start_time": "2021-10-11T00:07:37.443306",
     "status": "completed"
    },
    "tags": []
   },
   "outputs": [
    {
     "data": {
      "text/plain": [
       "0         1\n",
       "1         1\n",
       "2         1\n",
       "3         1\n",
       "4         1\n",
       "         ..\n",
       "999995    1\n",
       "999996    0\n",
       "999997    0\n",
       "999998    1\n",
       "999999    0\n",
       "Name: target, Length: 1000000, dtype: int64"
      ]
     },
     "execution_count": 8,
     "metadata": {},
     "output_type": "execute_result"
    }
   ],
   "source": [
    "train[target]"
   ]
  },
  {
   "cell_type": "code",
   "execution_count": 9,
   "id": "a64755e1",
   "metadata": {
    "execution": {
     "iopub.execute_input": "2021-10-11T00:07:37.495792Z",
     "iopub.status.busy": "2021-10-11T00:07:37.495150Z",
     "iopub.status.idle": "2021-10-11T00:07:37.601220Z",
     "shell.execute_reply": "2021-10-11T00:07:37.601752Z",
     "shell.execute_reply.started": "2021-10-04T07:24:32.011225Z"
    },
    "papermill": {
     "duration": 0.122526,
     "end_time": "2021-10-11T00:07:37.601927",
     "exception": false,
     "start_time": "2021-10-11T00:07:37.479401",
     "status": "completed"
    },
    "tags": []
   },
   "outputs": [
    {
     "data": {
      "text/plain": [
       "40"
      ]
     },
     "execution_count": 9,
     "metadata": {},
     "output_type": "execute_result"
    }
   ],
   "source": [
    "gc.collect()"
   ]
  },
  {
   "cell_type": "markdown",
   "id": "dbf5cbc7",
   "metadata": {
    "papermill": {
     "duration": 0.013614,
     "end_time": "2021-10-11T00:07:37.630328",
     "exception": false,
     "start_time": "2021-10-11T00:07:37.616714",
     "status": "completed"
    },
    "tags": []
   },
   "source": [
    "# CatB"
   ]
  },
  {
   "cell_type": "code",
   "execution_count": 10,
   "id": "60566e9c",
   "metadata": {
    "execution": {
     "iopub.execute_input": "2021-10-11T00:07:37.661017Z",
     "iopub.status.busy": "2021-10-11T00:07:37.660436Z",
     "iopub.status.idle": "2021-10-11T00:07:37.665088Z",
     "shell.execute_reply": "2021-10-11T00:07:37.665584Z",
     "shell.execute_reply.started": "2021-09-07T00:44:32.516352Z"
    },
    "papermill": {
     "duration": 0.021624,
     "end_time": "2021-10-11T00:07:37.665756",
     "exception": false,
     "start_time": "2021-10-11T00:07:37.644132",
     "status": "completed"
    },
    "tags": []
   },
   "outputs": [],
   "source": [
    "ctb_params = {\n",
    "     'objective': 'CrossEntropy',\n",
    "     'n_estimators':N_ESTIMATORS,\n",
    "     'thread_count' : -1,\n",
    "     'bootstrap_type': 'Bernoulli',\n",
    "     'eval_metric': 'AUC',\n",
    "     'grow_policy': 'Depthwise',\n",
    "     'task_type': 'CPU', \n",
    "        \n",
    "     'depth': 3,\n",
    "     'reg_lambda': 58.74937218498706,\n",
    "     'leaf_estimation_iterations': 2,\n",
    "     'learning_rate': 0.050008320651555346,\n",
    "     'min_data_in_leaf': 30,\n",
    "     'random_strength': 10.217105702928265,\n",
    "     'subsample': 0.3662243059636376,\n",
    "    \n",
    "     'leaf_estimation_method': 'Newton', \n",
    "}"
   ]
  },
  {
   "cell_type": "code",
   "execution_count": 11,
   "id": "fe93393d",
   "metadata": {
    "execution": {
     "iopub.execute_input": "2021-10-11T00:07:37.706628Z",
     "iopub.status.busy": "2021-10-11T00:07:37.705969Z",
     "iopub.status.idle": "2021-10-11T02:37:13.418486Z",
     "shell.execute_reply": "2021-10-11T02:37:13.419046Z",
     "shell.execute_reply.started": "2021-09-07T00:48:20.356186Z"
    },
    "papermill": {
     "duration": 8975.738676,
     "end_time": "2021-10-11T02:37:13.419340",
     "exception": false,
     "start_time": "2021-10-11T00:07:37.680664",
     "status": "completed"
    },
    "tags": []
   },
   "outputs": [
    {
     "name": "stdout",
     "output_type": "stream",
     "text": [
      "===== fold 0 =====\n",
      "0:\ttest: 0.7640021\tbest: 0.7640021 (0)\ttotal: 403ms\tremaining: 4h 28m 49s\n",
      "1000:\ttest: 0.8528871\tbest: 0.8528871 (1000)\ttotal: 4m 55s\tremaining: 3h 11m 34s\n",
      "2000:\ttest: 0.8551181\tbest: 0.8551181 (2000)\ttotal: 9m 38s\tremaining: 3h 3m 15s\n",
      "3000:\ttest: 0.8556727\tbest: 0.8556727 (3000)\ttotal: 14m 17s\tremaining: 2h 56m 14s\n",
      "4000:\ttest: 0.8558354\tbest: 0.8558374 (3995)\ttotal: 18m 51s\tremaining: 2h 49m 44s\n",
      "5000:\ttest: 0.8558696\tbest: 0.8558748 (4903)\ttotal: 23m 22s\tremaining: 2h 43m 38s\n",
      "Stopped by overfitting detector  (1000 iterations wait)\n",
      "\n",
      "bestTest = 0.8558748292\n",
      "bestIteration = 4903\n",
      "\n",
      "Shrink model to first 4904 iterations.\n",
      "fold 0 - ctb auc: 0.855875, elapsed time: 1677.99sec\n",
      "\n",
      "===== fold 1 =====\n",
      "0:\ttest: 0.7660839\tbest: 0.7660839 (0)\ttotal: 329ms\tremaining: 3h 39m 24s\n",
      "1000:\ttest: 0.8541682\tbest: 0.8541682 (1000)\ttotal: 4m 54s\tremaining: 3h 11m 15s\n",
      "2000:\ttest: 0.8563412\tbest: 0.8563412 (2000)\ttotal: 9m 38s\tremaining: 3h 2m 59s\n",
      "3000:\ttest: 0.8568483\tbest: 0.8568483 (2997)\ttotal: 14m 20s\tremaining: 2h 56m 45s\n",
      "4000:\ttest: 0.8569808\tbest: 0.8569813 (3998)\ttotal: 18m 55s\tremaining: 2h 50m 13s\n",
      "5000:\ttest: 0.8570043\tbest: 0.8570095 (4940)\ttotal: 23m 27s\tremaining: 2h 44m 13s\n",
      "6000:\ttest: 0.8570011\tbest: 0.8570345 (5493)\ttotal: 28m\tremaining: 2h 38m 42s\n",
      "Stopped by overfitting detector  (1000 iterations wait)\n",
      "\n",
      "bestTest = 0.8570344951\n",
      "bestIteration = 5493\n",
      "\n",
      "Shrink model to first 5494 iterations.\n",
      "fold 1 - ctb auc: 0.857034, elapsed time: 1848.25sec\n",
      "\n",
      "===== fold 2 =====\n",
      "0:\ttest: 0.7660919\tbest: 0.7660919 (0)\ttotal: 339ms\tremaining: 3h 46m 11s\n",
      "1000:\ttest: 0.8545962\tbest: 0.8545962 (1000)\ttotal: 4m 54s\tremaining: 3h 11m 19s\n",
      "2000:\ttest: 0.8568615\tbest: 0.8568615 (2000)\ttotal: 9m 39s\tremaining: 3h 3m 19s\n",
      "3000:\ttest: 0.8574034\tbest: 0.8574034 (3000)\ttotal: 14m 19s\tremaining: 2h 56m 34s\n",
      "4000:\ttest: 0.8575059\tbest: 0.8575096 (3941)\ttotal: 18m 54s\tremaining: 2h 50m 9s\n",
      "5000:\ttest: 0.8575336\tbest: 0.8575408 (4660)\ttotal: 23m 28s\tremaining: 2h 44m 15s\n",
      "6000:\ttest: 0.8575106\tbest: 0.8575441 (5063)\ttotal: 27m 58s\tremaining: 2h 38m 30s\n",
      "Stopped by overfitting detector  (1000 iterations wait)\n",
      "\n",
      "bestTest = 0.8575441375\n",
      "bestIteration = 5063\n",
      "\n",
      "Shrink model to first 5064 iterations.\n",
      "fold 2 - ctb auc: 0.857544, elapsed time: 1728.24sec\n",
      "\n",
      "===== fold 3 =====\n",
      "0:\ttest: 0.7651542\tbest: 0.7651542 (0)\ttotal: 423ms\tremaining: 4h 41m 41s\n",
      "1000:\ttest: 0.8529948\tbest: 0.8529948 (1000)\ttotal: 4m 55s\tremaining: 3h 11m 48s\n",
      "2000:\ttest: 0.8552980\tbest: 0.8552980 (2000)\ttotal: 9m 39s\tremaining: 3h 3m 19s\n",
      "3000:\ttest: 0.8558700\tbest: 0.8558700 (3000)\ttotal: 14m 20s\tremaining: 2h 56m 49s\n",
      "4000:\ttest: 0.8560449\tbest: 0.8560464 (3956)\ttotal: 18m 54s\tremaining: 2h 50m 11s\n",
      "5000:\ttest: 0.8560878\tbest: 0.8560908 (4978)\ttotal: 23m 27s\tremaining: 2h 44m 13s\n",
      "6000:\ttest: 0.8561064\tbest: 0.8561232 (5707)\ttotal: 28m 2s\tremaining: 2h 38m 50s\n",
      "Stopped by overfitting detector  (1000 iterations wait)\n",
      "\n",
      "bestTest = 0.8561232197\n",
      "bestIteration = 5707\n",
      "\n",
      "Shrink model to first 5708 iterations.\n",
      "fold 3 - ctb auc: 0.856123, elapsed time: 1909.20sec\n",
      "\n",
      "===== fold 4 =====\n",
      "0:\ttest: 0.7654125\tbest: 0.7654125 (0)\ttotal: 323ms\tremaining: 3h 35m 12s\n",
      "1000:\ttest: 0.8532545\tbest: 0.8532545 (1000)\ttotal: 4m 54s\tremaining: 3h 11m 15s\n",
      "2000:\ttest: 0.8554193\tbest: 0.8554211 (1997)\ttotal: 9m 39s\tremaining: 3h 3m 17s\n",
      "3000:\ttest: 0.8559119\tbest: 0.8559119 (3000)\ttotal: 14m 21s\tremaining: 2h 57m 4s\n",
      "4000:\ttest: 0.8560454\tbest: 0.8560474 (3979)\ttotal: 18m 58s\tremaining: 2h 50m 41s\n",
      "5000:\ttest: 0.8560584\tbest: 0.8560612 (4986)\ttotal: 23m 32s\tremaining: 2h 44m 45s\n",
      "6000:\ttest: 0.8560286\tbest: 0.8560648 (5246)\ttotal: 28m 4s\tremaining: 2h 39m 3s\n",
      "Stopped by overfitting detector  (1000 iterations wait)\n",
      "\n",
      "bestTest = 0.8560648033\n",
      "bestIteration = 5246\n",
      "\n",
      "Shrink model to first 5247 iterations.\n",
      "fold 4 - ctb auc: 0.856065, elapsed time: 1784.13sec\n",
      "\n",
      "oof ctb_auc = 0.8565275929908123\n"
     ]
    }
   ],
   "source": [
    "ctb_oof = np.zeros(train.shape[0])\n",
    "ctb_pred = np.zeros(test.shape[0])\n",
    "ctb_importances = pd.DataFrame()\n",
    "\n",
    "X_test = test[features]\n",
    "del test\n",
    "gc.collect()\n",
    "\n",
    "\n",
    "kf = StratifiedKFold(n_splits=N_SPLITS, shuffle=True, random_state=CVSEED)\n",
    "seed_list=[SEED+4]\n",
    "\n",
    "for fold, (trn_idx, val_idx) in enumerate(kf.split(X=train[features], y=train[target])):\n",
    "    print(f\"===== fold {fold} =====\")\n",
    "    if fold <12:\n",
    "        \n",
    "        X_train = train[features].iloc[trn_idx]\n",
    "        y_train = train[target].iloc[trn_idx]\n",
    "        X_valid = train[features].iloc[val_idx]\n",
    "        y_valid = train[target].iloc[val_idx]\n",
    "        \n",
    "\n",
    "\n",
    "        start = time.time()\n",
    "        for inseed in seed_list:\n",
    "            ctb_params['random_state'] = inseed\n",
    "\n",
    "            model = ctb.CatBoostClassifier(**ctb_params)\n",
    "            model.fit(\n",
    "                X_train, \n",
    "                y_train,\n",
    "                eval_set=[(X_valid, y_valid)],\n",
    "                #use_best_model=True,\n",
    "                #cat_features = disc_features,\n",
    "                early_stopping_rounds=EARLY_STOPPING_ROUNDS,\n",
    "                verbose=VERBOSE,\n",
    "            )\n",
    "            '''\n",
    "\n",
    "            ctb_params2 = ctb_params.copy()\n",
    "            ctb_params2['reg_lambda'] *= 0.9\n",
    "            #ctb_params2['reg_alpha'] *= 0.9\n",
    "            ctb_params2['learning_rate'] *= 0.1\n",
    "            model = ctb.CatBoostClassifier(**ctb_params2)\n",
    "            model.fit(\n",
    "                    X_train, y_train,\n",
    "                    eval_set=[(X_valid, y_valid)],\n",
    "                    #use_best_model=True,\n",
    "                    #cat_features = disc_features,\n",
    "                    early_stopping_rounds=EARLY_STOPPING_ROUNDS,\n",
    "                    verbose=VERBOSE,\n",
    "                    init_model=pre_model\n",
    "            )    \n",
    "            '''\n",
    "\n",
    "            with open(f\"ctb_model{fold}_seed{inseed}.pkl\", 'wb') as f:\n",
    "                pickle.dump(model, f)\n",
    "\n",
    "            fi_tmp = pd.DataFrame()\n",
    "            fi_tmp['feature'] = X_train.columns\n",
    "            fi_tmp['importance'] = model.feature_importances_\n",
    "            fi_tmp['fold'] = fold\n",
    "            fi_tmp['seed'] = inseed\n",
    "            ctb_importances = ctb_importances.append(fi_tmp)\n",
    "\n",
    "            ctb_oof[val_idx] += model.predict_proba(X_valid)[:,-1] / len(seed_list)\n",
    "            ctb_pred += model.predict_proba(X_test)[:,-1] / len(seed_list)\n",
    "            \n",
    "            #del pre_model\n",
    "            del model\n",
    "            gc.collect()\n",
    "\n",
    "\n",
    "        elapsed = time.time() - start\n",
    "        auc = roc_auc_score(y_valid, ctb_oof[val_idx])\n",
    "        print(f\"fold {fold} - ctb auc: {auc:.6f}, elapsed time: {elapsed:.2f}sec\\n\")\n",
    "        \n",
    "        del X_train\n",
    "        del y_train\n",
    "        del X_valid\n",
    "        del y_valid\n",
    "        gc.collect()\n",
    "\n",
    "\n",
    "del X_test\n",
    "gc.collect()\n",
    "\n",
    "ctb_pred /= N_SPLITS\n",
    "print(f\"oof ctb_auc = {roc_auc_score(train[target], ctb_oof)}\")\n",
    "\n",
    "np.save(\"ctb_oof.npy\", ctb_oof)\n",
    "np.save(\"ctb_pred.npy\", ctb_pred)"
   ]
  },
  {
   "cell_type": "markdown",
   "id": "2dff359b",
   "metadata": {
    "papermill": {
     "duration": 0.024045,
     "end_time": "2021-10-11T02:37:13.468703",
     "exception": false,
     "start_time": "2021-10-11T02:37:13.444658",
     "status": "completed"
    },
    "tags": []
   },
   "source": [
    "# OOF predictions"
   ]
  },
  {
   "cell_type": "code",
   "execution_count": 12,
   "id": "f4d2be73",
   "metadata": {
    "execution": {
     "iopub.execute_input": "2021-10-11T02:37:13.534003Z",
     "iopub.status.busy": "2021-10-11T02:37:13.530924Z",
     "iopub.status.idle": "2021-10-11T02:37:17.328799Z",
     "shell.execute_reply": "2021-10-11T02:37:17.328179Z",
     "shell.execute_reply.started": "2021-09-07T00:50:57.432219Z"
    },
    "papermill": {
     "duration": 3.835946,
     "end_time": "2021-10-11T02:37:17.328932",
     "exception": false,
     "start_time": "2021-10-11T02:37:13.492986",
     "status": "completed"
    },
    "tags": []
   },
   "outputs": [
    {
     "data": {
      "text/plain": [
       "<matplotlib.collections.PathCollection at 0x7f42e2f3ac10>"
      ]
     },
     "execution_count": 12,
     "metadata": {},
     "output_type": "execute_result"
    },
    {
     "data": {
      "image/png": "[encoded data removed]",
      "text/plain": [
       "<Figure size 432x288 with 1 Axes>"
      ]
     },
     "metadata": {
      "needs_background": "light"
     },
     "output_type": "display_data"
    }
   ],
   "source": [
    "plt.plot(train[target], train[target])\n",
    "plt.scatter(train[target], ctb_oof)"
   ]
  },
  {
   "cell_type": "code",
   "execution_count": 13,
   "id": "6b0fea45",
   "metadata": {
    "execution": {
     "iopub.execute_input": "2021-10-11T02:37:17.551867Z",
     "iopub.status.busy": "2021-10-11T02:37:17.551005Z",
     "iopub.status.idle": "2021-10-11T02:37:17.554786Z",
     "shell.execute_reply": "2021-10-11T02:37:17.554221Z"
    },
    "papermill": {
     "duration": 0.200619,
     "end_time": "2021-10-11T02:37:17.554916",
     "exception": false,
     "start_time": "2021-10-11T02:37:17.354297",
     "status": "completed"
    },
    "tags": []
   },
   "outputs": [
    {
     "data": {
      "text/plain": [
       "20"
      ]
     },
     "execution_count": 13,
     "metadata": {},
     "output_type": "execute_result"
    }
   ],
   "source": [
    "del train\n",
    "del ctb_oof\n",
    "gc.collect()"
   ]
  },
  {
   "cell_type": "markdown",
   "id": "346b74a7",
   "metadata": {
    "papermill": {
     "duration": 0.026175,
     "end_time": "2021-10-11T02:37:17.607843",
     "exception": false,
     "start_time": "2021-10-11T02:37:17.581668",
     "status": "completed"
    },
    "tags": []
   },
   "source": [
    "# Features importances"
   ]
  },
  {
   "cell_type": "code",
   "execution_count": 14,
   "id": "eefa967b",
   "metadata": {
    "execution": {
     "iopub.execute_input": "2021-10-11T02:37:17.675560Z",
     "iopub.status.busy": "2021-10-11T02:37:17.671520Z",
     "iopub.status.idle": "2021-10-11T02:37:22.581761Z",
     "shell.execute_reply": "2021-10-11T02:37:22.582208Z",
     "shell.execute_reply.started": "2021-09-07T00:51:01.011128Z"
    },
    "papermill": {
     "duration": 4.948807,
     "end_time": "2021-10-11T02:37:22.582374",
     "exception": false,
     "start_time": "2021-10-11T02:37:17.633567",
     "status": "completed"
    },
    "tags": []
   },
   "outputs": [
    {
     "data": {
      "text/plain": [
       "Text(0.5, 1.0, 'CatB feature importances')"
      ]
     },
     "execution_count": 14,
     "metadata": {},
     "output_type": "execute_result"
    },
    {
     "data": {
      "image/png": "[encoded data removed]",
      "text/plain": [
       "<Figure size 1152x1152 with 1 Axes>"
      ]
     },
     "metadata": {
      "needs_background": "light"
     },
     "output_type": "display_data"
    }
   ],
   "source": [
    "order = list(ctb_importances.groupby('feature').mean().sort_values('importance', ascending=False).index)\n",
    "\n",
    "fig = plt.figure(figsize=(16, 16), tight_layout=True)\n",
    "sns.barplot(x=\"importance\", y=\"feature\", data=ctb_importances.groupby('feature').mean().reset_index(), order=order)\n",
    "plt.title(\"CatB feature importances\")"
   ]
  },
  {
   "cell_type": "markdown",
   "id": "e1d9c42b",
   "metadata": {
    "papermill": {
     "duration": 0.027653,
     "end_time": "2021-10-11T02:37:22.638808",
     "exception": false,
     "start_time": "2021-10-11T02:37:22.611155",
     "status": "completed"
    },
    "tags": []
   },
   "source": [
    "# Submission"
   ]
  },
  {
   "cell_type": "code",
   "execution_count": 15,
   "id": "52929678",
   "metadata": {
    "execution": {
     "iopub.execute_input": "2021-10-11T02:37:22.697986Z",
     "iopub.status.busy": "2021-10-11T02:37:22.697430Z",
     "iopub.status.idle": "2021-10-11T02:37:23.949498Z",
     "shell.execute_reply": "2021-10-11T02:37:23.948891Z",
     "shell.execute_reply.started": "2021-09-07T00:51:03.177221Z"
    },
    "papermill": {
     "duration": 1.282337,
     "end_time": "2021-10-11T02:37:23.949633",
     "exception": false,
     "start_time": "2021-10-11T02:37:22.667296",
     "status": "completed"
    },
    "tags": []
   },
   "outputs": [
    {
     "data": {
      "text/html": [
       "<div>\n",
       "<style scoped>\n",
       "    .dataframe tbody tr th:only-of-type {\n",
       "        vertical-align: middle;\n",
       "    }\n",
       "\n",
       "    .dataframe tbody tr th {\n",
       "        vertical-align: top;\n",
       "    }\n",
       "\n",
       "    .dataframe thead th {\n",
       "        text-align: right;\n",
       "    }\n",
       "</style>\n",
       "<table border=\"1\" class=\"dataframe\">\n",
       "  <thead>\n",
       "    <tr style=\"text-align: right;\">\n",
       "      <th></th>\n",
       "      <th>id</th>\n",
       "      <th>target</th>\n",
       "    </tr>\n",
       "  </thead>\n",
       "  <tbody>\n",
       "    <tr>\n",
       "      <th>0</th>\n",
       "      <td>1000000</td>\n",
       "      <td>0.770365</td>\n",
       "    </tr>\n",
       "    <tr>\n",
       "      <th>1</th>\n",
       "      <td>1000001</td>\n",
       "      <td>0.237315</td>\n",
       "    </tr>\n",
       "    <tr>\n",
       "      <th>2</th>\n",
       "      <td>1000002</td>\n",
       "      <td>0.898111</td>\n",
       "    </tr>\n",
       "    <tr>\n",
       "      <th>3</th>\n",
       "      <td>1000003</td>\n",
       "      <td>0.862368</td>\n",
       "    </tr>\n",
       "    <tr>\n",
       "      <th>4</th>\n",
       "      <td>1000004</td>\n",
       "      <td>0.282438</td>\n",
       "    </tr>\n",
       "    <tr>\n",
       "      <th>...</th>\n",
       "      <td>...</td>\n",
       "      <td>...</td>\n",
       "    </tr>\n",
       "    <tr>\n",
       "      <th>499995</th>\n",
       "      <td>1499995</td>\n",
       "      <td>0.959793</td>\n",
       "    </tr>\n",
       "    <tr>\n",
       "      <th>499996</th>\n",
       "      <td>1499996</td>\n",
       "      <td>0.824083</td>\n",
       "    </tr>\n",
       "    <tr>\n",
       "      <th>499997</th>\n",
       "      <td>1499997</td>\n",
       "      <td>0.256304</td>\n",
       "    </tr>\n",
       "    <tr>\n",
       "      <th>499998</th>\n",
       "      <td>1499998</td>\n",
       "      <td>0.525936</td>\n",
       "    </tr>\n",
       "    <tr>\n",
       "      <th>499999</th>\n",
       "      <td>1499999</td>\n",
       "      <td>0.440144</td>\n",
       "    </tr>\n",
       "  </tbody>\n",
       "</table>\n",
       "<p>500000 rows × 2 columns</p>\n",
       "</div>"
      ],
      "text/plain": [
       "             id    target\n",
       "0       1000000  0.770365\n",
       "1       1000001  0.237315\n",
       "2       1000002  0.898111\n",
       "3       1000003  0.862368\n",
       "4       1000004  0.282438\n",
       "...         ...       ...\n",
       "499995  1499995  0.959793\n",
       "499996  1499996  0.824083\n",
       "499997  1499997  0.256304\n",
       "499998  1499998  0.525936\n",
       "499999  1499999  0.440144\n",
       "\n",
       "[500000 rows x 2 columns]"
      ]
     },
     "execution_count": 15,
     "metadata": {},
     "output_type": "execute_result"
    }
   ],
   "source": [
    "submission[target] = ctb_pred\n",
    "submission.to_csv(\"submission.csv\", index=False)\n",
    "\n",
    "submission"
   ]
  },
  {
   "cell_type": "markdown",
   "id": "14cbeca1",
   "metadata": {
    "papermill": {
     "duration": 0.028191,
     "end_time": "2021-10-11T02:37:24.006487",
     "exception": false,
     "start_time": "2021-10-11T02:37:23.978296",
     "status": "completed"
    },
    "tags": []
   },
   "source": [
    "# Log\n",
    "\n",
    "seeds\n",
    "\n",
    "2017 ver3\n",
    "2018 ver4\n",
    "2019 ver5\n",
    "2020 ver6\n",
    "2021 ver7"
   ]
  }
 ],
 "metadata": {
  "kernelspec": {
   "display_name": "Python 3",
   "language": "python",
   "name": "python3"
  },
  "language_info": {
   "codemirror_mode": {
    "name": "ipython",
    "version": 3
   },
   "file_extension": ".py",
   "mimetype": "text/x-python",
   "name": "python",
   "nbconvert_exporter": "python",
   "pygments_lexer": "ipython3",
   "version": "3.7.10"
  },
  "papermill": {
   "default_parameters": {},
   "duration": 9083.359648,
   "end_time": "2021-10-11T02:37:25.611798",
   "environment_variables": {},
   "exception": null,
   "input_path": "__notebook__.ipynb",
   "output_path": "__notebook__.ipynb",
   "parameters": {},
   "start_time": "2021-10-11T00:06:02.252150",
   "version": "2.3.3"
  }
 },
 "nbformat": 4,
 "nbformat_minor": 5
}
