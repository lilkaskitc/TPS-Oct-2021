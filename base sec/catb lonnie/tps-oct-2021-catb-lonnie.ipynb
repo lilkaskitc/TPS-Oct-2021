{
 "cells": [
  {
   "cell_type": "code",
   "execution_count": 1,
   "id": "7bcef94e",
   "metadata": {
    "_cell_guid": "b1076dfc-b9ad-4769-8c92-a6c4dae69d19",
    "_uuid": "8f2839f25d086af736a60e9eeb907d3b93b6e0e5",
    "execution": {
     "iopub.execute_input": "2021-10-11T02:48:11.728075Z",
     "iopub.status.busy": "2021-10-11T02:48:11.726943Z",
     "iopub.status.idle": "2021-10-11T02:48:13.230562Z",
     "shell.execute_reply": "2021-10-11T02:48:13.231275Z",
     "shell.execute_reply.started": "2021-10-04T07:17:37.625191Z"
    },
    "papermill": {
     "duration": 1.523279,
     "end_time": "2021-10-11T02:48:13.231580",
     "exception": false,
     "start_time": "2021-10-11T02:48:11.708301",
     "status": "completed"
    },
    "tags": []
   },
   "outputs": [],
   "source": [
    "import numpy as np\n",
    "import pandas as pd\n",
    "import random\n",
    "import os\n",
    "import time\n",
    "import pickle\n",
    "from pathlib import Path\n",
    "import gc\n",
    "\n",
    "from sklearn.preprocessing import StandardScaler\n",
    "from sklearn.model_selection import StratifiedKFold, train_test_split\n",
    "from sklearn.metrics import roc_auc_score\n",
    "\n",
    "#import lightgbm as lgb\n",
    "#import xgboost as xgb\n",
    "import catboost as ctb\n",
    "\n",
    "import matplotlib.pyplot as plt\n",
    "import seaborn as sns\n",
    "\n",
    "import warnings\n",
    "warnings.simplefilter('ignore')"
   ]
  },
  {
   "cell_type": "markdown",
   "id": "03b758e1",
   "metadata": {
    "papermill": {
     "duration": 0.012576,
     "end_time": "2021-10-11T02:48:13.257967",
     "exception": false,
     "start_time": "2021-10-11T02:48:13.245391",
     "status": "completed"
    },
    "tags": []
   },
   "source": [
    "https://www.kaggle.com/lonnieqin/catboost-tabular-prediction-oct-2021\n",
    "\n",
    "ver1"
   ]
  },
  {
   "cell_type": "markdown",
   "id": "189ba378",
   "metadata": {
    "papermill": {
     "duration": 0.013773,
     "end_time": "2021-10-11T02:48:13.284834",
     "exception": false,
     "start_time": "2021-10-11T02:48:13.271061",
     "status": "completed"
    },
    "tags": []
   },
   "source": [
    "# Parameters"
   ]
  },
  {
   "cell_type": "code",
   "execution_count": 2,
   "id": "86d69648",
   "metadata": {
    "execution": {
     "iopub.execute_input": "2021-10-11T02:48:13.314554Z",
     "iopub.status.busy": "2021-10-11T02:48:13.313929Z",
     "iopub.status.idle": "2021-10-11T02:48:13.318798Z",
     "shell.execute_reply": "2021-10-11T02:48:13.319312Z",
     "shell.execute_reply.started": "2021-10-04T07:17:38.959998Z"
    },
    "papermill": {
     "duration": 0.021023,
     "end_time": "2021-10-11T02:48:13.319489",
     "exception": false,
     "start_time": "2021-10-11T02:48:13.298466",
     "status": "completed"
    },
    "tags": []
   },
   "outputs": [],
   "source": [
    "target = 'target'\n",
    "\n",
    "DEBUG = False\n",
    "\n",
    "if DEBUG:\n",
    "    N_ESTIMATORS = 1\n",
    "    N_SPLITS = 2\n",
    "    SEED = 2017\n",
    "    CVSEED = 2017\n",
    "    EARLY_STOPPING_ROUNDS = 1\n",
    "    VERBOSE = 100\n",
    "    #N_ITERS = 2\n",
    "else:\n",
    "    N_SPLITS = 5\n",
    "    N_ESTIMATORS = 15585\n",
    "    EARLY_STOPPING_ROUNDS = 300\n",
    "    VERBOSE = 1000\n",
    "    SEED = 2017\n",
    "    CVSEED = 2017\n",
    "    #N_ITERS = 10"
   ]
  },
  {
   "cell_type": "code",
   "execution_count": 3,
   "id": "9871f3b4",
   "metadata": {
    "execution": {
     "iopub.execute_input": "2021-10-11T02:48:13.348967Z",
     "iopub.status.busy": "2021-10-11T02:48:13.348338Z",
     "iopub.status.idle": "2021-10-11T02:48:13.352443Z",
     "shell.execute_reply": "2021-10-11T02:48:13.352984Z",
     "shell.execute_reply.started": "2021-10-04T07:17:38.969573Z"
    },
    "papermill": {
     "duration": 0.020424,
     "end_time": "2021-10-11T02:48:13.353166",
     "exception": false,
     "start_time": "2021-10-11T02:48:13.332742",
     "status": "completed"
    },
    "tags": []
   },
   "outputs": [],
   "source": [
    "def set_seed(seed=2017):\n",
    "    random.seed(seed)\n",
    "    os.environ['PYTHONHASHSEED'] = str(seed)\n",
    "    np.random.seed(seed)\n",
    "    \n",
    "set_seed(SEED)"
   ]
  },
  {
   "cell_type": "markdown",
   "id": "72ced043",
   "metadata": {
    "papermill": {
     "duration": 0.013031,
     "end_time": "2021-10-11T02:48:13.379458",
     "exception": false,
     "start_time": "2021-10-11T02:48:13.366427",
     "status": "completed"
    },
    "tags": []
   },
   "source": [
    "# Datasets"
   ]
  },
  {
   "cell_type": "code",
   "execution_count": 4,
   "id": "a0876895",
   "metadata": {
    "execution": {
     "iopub.execute_input": "2021-10-11T02:48:13.409190Z",
     "iopub.status.busy": "2021-10-11T02:48:13.408523Z",
     "iopub.status.idle": "2021-10-11T02:49:42.857556Z",
     "shell.execute_reply": "2021-10-11T02:49:42.856980Z",
     "shell.execute_reply.started": "2021-10-04T07:17:38.980344Z"
    },
    "papermill": {
     "duration": 89.465015,
     "end_time": "2021-10-11T02:49:42.857806",
     "exception": false,
     "start_time": "2021-10-11T02:48:13.392791",
     "status": "completed"
    },
    "tags": []
   },
   "outputs": [],
   "source": [
    "INPUT = Path(\"../input/tabular-playground-series-oct-2021\")\n",
    "\n",
    "train = pd.read_csv(INPUT / \"train.csv\")\n",
    "test = pd.read_csv(INPUT / \"test.csv\")\n",
    "submission = pd.read_csv(INPUT / \"sample_submission.csv\")"
   ]
  },
  {
   "cell_type": "code",
   "execution_count": 5,
   "id": "a3b64af9",
   "metadata": {
    "execution": {
     "iopub.execute_input": "2021-10-11T02:49:42.897138Z",
     "iopub.status.busy": "2021-10-11T02:49:42.896449Z",
     "iopub.status.idle": "2021-10-11T02:49:45.735585Z",
     "shell.execute_reply": "2021-10-11T02:49:45.736125Z",
     "shell.execute_reply.started": "2021-10-04T07:19:21.369035Z"
    },
    "papermill": {
     "duration": 2.862897,
     "end_time": "2021-10-11T02:49:45.736324",
     "exception": false,
     "start_time": "2021-10-11T02:49:42.873427",
     "status": "completed"
    },
    "tags": []
   },
   "outputs": [],
   "source": [
    "train = train[train.columns[1:]]\n",
    "test = test[test.columns[1:]]"
   ]
  },
  {
   "cell_type": "markdown",
   "id": "7f124699",
   "metadata": {
    "papermill": {
     "duration": 0.012736,
     "end_time": "2021-10-11T02:49:45.762094",
     "exception": false,
     "start_time": "2021-10-11T02:49:45.749358",
     "status": "completed"
    },
    "tags": []
   },
   "source": [
    "# Preprocessing"
   ]
  },
  {
   "cell_type": "code",
   "execution_count": 6,
   "id": "7ead75ce",
   "metadata": {
    "execution": {
     "iopub.execute_input": "2021-10-11T02:49:45.793733Z",
     "iopub.status.busy": "2021-10-11T02:49:45.792805Z",
     "iopub.status.idle": "2021-10-11T02:49:45.796037Z",
     "shell.execute_reply": "2021-10-11T02:49:45.795443Z",
     "shell.execute_reply.started": "2021-10-04T07:19:23.214541Z"
    },
    "papermill": {
     "duration": 0.020805,
     "end_time": "2021-10-11T02:49:45.796184",
     "exception": false,
     "start_time": "2021-10-11T02:49:45.775379",
     "status": "completed"
    },
    "tags": []
   },
   "outputs": [],
   "source": [
    "features = [col for col in train.columns if 'f' in col]"
   ]
  },
  {
   "cell_type": "code",
   "execution_count": 7,
   "id": "b02a4269",
   "metadata": {
    "execution": {
     "iopub.execute_input": "2021-10-11T02:49:45.825607Z",
     "iopub.status.busy": "2021-10-11T02:49:45.824972Z",
     "iopub.status.idle": "2021-10-11T02:49:46.291469Z",
     "shell.execute_reply": "2021-10-11T02:49:46.291976Z",
     "shell.execute_reply.started": "2021-10-04T07:24:31.446188Z"
    },
    "papermill": {
     "duration": 0.4829,
     "end_time": "2021-10-11T02:49:46.292168",
     "exception": false,
     "start_time": "2021-10-11T02:49:45.809268",
     "status": "completed"
    },
    "tags": []
   },
   "outputs": [
    {
     "data": {
      "text/html": [
       "<div>\n",
       "<style scoped>\n",
       "    .dataframe tbody tr th:only-of-type {\n",
       "        vertical-align: middle;\n",
       "    }\n",
       "\n",
       "    .dataframe tbody tr th {\n",
       "        vertical-align: top;\n",
       "    }\n",
       "\n",
       "    .dataframe thead th {\n",
       "        text-align: right;\n",
       "    }\n",
       "</style>\n",
       "<table border=\"1\" class=\"dataframe\">\n",
       "  <thead>\n",
       "    <tr style=\"text-align: right;\">\n",
       "      <th></th>\n",
       "      <th>f0</th>\n",
       "      <th>f1</th>\n",
       "      <th>f2</th>\n",
       "      <th>f3</th>\n",
       "      <th>f4</th>\n",
       "      <th>f5</th>\n",
       "      <th>f6</th>\n",
       "      <th>f7</th>\n",
       "      <th>f8</th>\n",
       "      <th>f9</th>\n",
       "      <th>...</th>\n",
       "      <th>f275</th>\n",
       "      <th>f276</th>\n",
       "      <th>f277</th>\n",
       "      <th>f278</th>\n",
       "      <th>f279</th>\n",
       "      <th>f280</th>\n",
       "      <th>f281</th>\n",
       "      <th>f282</th>\n",
       "      <th>f283</th>\n",
       "      <th>f284</th>\n",
       "    </tr>\n",
       "  </thead>\n",
       "  <tbody>\n",
       "    <tr>\n",
       "      <th>0</th>\n",
       "      <td>0.178216</td>\n",
       "      <td>0.435617</td>\n",
       "      <td>0.010230</td>\n",
       "      <td>0.202074</td>\n",
       "      <td>0.390170</td>\n",
       "      <td>0.324221</td>\n",
       "      <td>0.221722</td>\n",
       "      <td>0.738894</td>\n",
       "      <td>0.582588</td>\n",
       "      <td>0.343770</td>\n",
       "      <td>...</td>\n",
       "      <td>1</td>\n",
       "      <td>0</td>\n",
       "      <td>0</td>\n",
       "      <td>0</td>\n",
       "      <td>0</td>\n",
       "      <td>0</td>\n",
       "      <td>1</td>\n",
       "      <td>1</td>\n",
       "      <td>1</td>\n",
       "      <td>0</td>\n",
       "    </tr>\n",
       "    <tr>\n",
       "      <th>1</th>\n",
       "      <td>0.181250</td>\n",
       "      <td>0.476455</td>\n",
       "      <td>0.022413</td>\n",
       "      <td>0.283146</td>\n",
       "      <td>0.598020</td>\n",
       "      <td>0.349508</td>\n",
       "      <td>0.283467</td>\n",
       "      <td>0.721575</td>\n",
       "      <td>0.268990</td>\n",
       "      <td>0.208373</td>\n",
       "      <td>...</td>\n",
       "      <td>0</td>\n",
       "      <td>0</td>\n",
       "      <td>0</td>\n",
       "      <td>0</td>\n",
       "      <td>0</td>\n",
       "      <td>0</td>\n",
       "      <td>0</td>\n",
       "      <td>0</td>\n",
       "      <td>0</td>\n",
       "      <td>0</td>\n",
       "    </tr>\n",
       "    <tr>\n",
       "      <th>2</th>\n",
       "      <td>0.159721</td>\n",
       "      <td>0.451202</td>\n",
       "      <td>0.259649</td>\n",
       "      <td>0.365274</td>\n",
       "      <td>0.594634</td>\n",
       "      <td>0.413502</td>\n",
       "      <td>0.249318</td>\n",
       "      <td>0.642339</td>\n",
       "      <td>0.411104</td>\n",
       "      <td>0.246891</td>\n",
       "      <td>...</td>\n",
       "      <td>0</td>\n",
       "      <td>0</td>\n",
       "      <td>0</td>\n",
       "      <td>0</td>\n",
       "      <td>0</td>\n",
       "      <td>0</td>\n",
       "      <td>1</td>\n",
       "      <td>0</td>\n",
       "      <td>0</td>\n",
       "      <td>0</td>\n",
       "    </tr>\n",
       "    <tr>\n",
       "      <th>3</th>\n",
       "      <td>0.182424</td>\n",
       "      <td>0.520976</td>\n",
       "      <td>0.095344</td>\n",
       "      <td>0.327742</td>\n",
       "      <td>0.741830</td>\n",
       "      <td>0.358711</td>\n",
       "      <td>0.270077</td>\n",
       "      <td>0.601662</td>\n",
       "      <td>0.297742</td>\n",
       "      <td>0.252829</td>\n",
       "      <td>...</td>\n",
       "      <td>0</td>\n",
       "      <td>0</td>\n",
       "      <td>0</td>\n",
       "      <td>0</td>\n",
       "      <td>0</td>\n",
       "      <td>1</td>\n",
       "      <td>1</td>\n",
       "      <td>0</td>\n",
       "      <td>0</td>\n",
       "      <td>0</td>\n",
       "    </tr>\n",
       "    <tr>\n",
       "      <th>4</th>\n",
       "      <td>0.229329</td>\n",
       "      <td>0.336513</td>\n",
       "      <td>0.023511</td>\n",
       "      <td>0.300913</td>\n",
       "      <td>0.668738</td>\n",
       "      <td>0.481586</td>\n",
       "      <td>0.545660</td>\n",
       "      <td>0.667849</td>\n",
       "      <td>0.546045</td>\n",
       "      <td>0.202731</td>\n",
       "      <td>...</td>\n",
       "      <td>0</td>\n",
       "      <td>0</td>\n",
       "      <td>0</td>\n",
       "      <td>0</td>\n",
       "      <td>1</td>\n",
       "      <td>0</td>\n",
       "      <td>0</td>\n",
       "      <td>1</td>\n",
       "      <td>0</td>\n",
       "      <td>0</td>\n",
       "    </tr>\n",
       "    <tr>\n",
       "      <th>...</th>\n",
       "      <td>...</td>\n",
       "      <td>...</td>\n",
       "      <td>...</td>\n",
       "      <td>...</td>\n",
       "      <td>...</td>\n",
       "      <td>...</td>\n",
       "      <td>...</td>\n",
       "      <td>...</td>\n",
       "      <td>...</td>\n",
       "      <td>...</td>\n",
       "      <td>...</td>\n",
       "      <td>...</td>\n",
       "      <td>...</td>\n",
       "      <td>...</td>\n",
       "      <td>...</td>\n",
       "      <td>...</td>\n",
       "      <td>...</td>\n",
       "      <td>...</td>\n",
       "      <td>...</td>\n",
       "      <td>...</td>\n",
       "      <td>...</td>\n",
       "    </tr>\n",
       "    <tr>\n",
       "      <th>499995</th>\n",
       "      <td>0.185473</td>\n",
       "      <td>0.525338</td>\n",
       "      <td>0.014945</td>\n",
       "      <td>0.204029</td>\n",
       "      <td>0.498957</td>\n",
       "      <td>0.431933</td>\n",
       "      <td>0.470553</td>\n",
       "      <td>0.731268</td>\n",
       "      <td>0.452134</td>\n",
       "      <td>0.211206</td>\n",
       "      <td>...</td>\n",
       "      <td>1</td>\n",
       "      <td>0</td>\n",
       "      <td>0</td>\n",
       "      <td>0</td>\n",
       "      <td>0</td>\n",
       "      <td>0</td>\n",
       "      <td>1</td>\n",
       "      <td>0</td>\n",
       "      <td>0</td>\n",
       "      <td>0</td>\n",
       "    </tr>\n",
       "    <tr>\n",
       "      <th>499996</th>\n",
       "      <td>0.183194</td>\n",
       "      <td>0.553266</td>\n",
       "      <td>0.008055</td>\n",
       "      <td>0.280651</td>\n",
       "      <td>0.636591</td>\n",
       "      <td>0.478092</td>\n",
       "      <td>0.450386</td>\n",
       "      <td>0.582647</td>\n",
       "      <td>0.517270</td>\n",
       "      <td>0.225116</td>\n",
       "      <td>...</td>\n",
       "      <td>1</td>\n",
       "      <td>0</td>\n",
       "      <td>0</td>\n",
       "      <td>0</td>\n",
       "      <td>0</td>\n",
       "      <td>0</td>\n",
       "      <td>0</td>\n",
       "      <td>1</td>\n",
       "      <td>0</td>\n",
       "      <td>0</td>\n",
       "    </tr>\n",
       "    <tr>\n",
       "      <th>499997</th>\n",
       "      <td>0.184650</td>\n",
       "      <td>0.533643</td>\n",
       "      <td>0.011218</td>\n",
       "      <td>0.201262</td>\n",
       "      <td>0.720698</td>\n",
       "      <td>0.472888</td>\n",
       "      <td>0.427469</td>\n",
       "      <td>0.589259</td>\n",
       "      <td>0.243879</td>\n",
       "      <td>0.413022</td>\n",
       "      <td>...</td>\n",
       "      <td>1</td>\n",
       "      <td>1</td>\n",
       "      <td>0</td>\n",
       "      <td>0</td>\n",
       "      <td>0</td>\n",
       "      <td>0</td>\n",
       "      <td>0</td>\n",
       "      <td>0</td>\n",
       "      <td>0</td>\n",
       "      <td>0</td>\n",
       "    </tr>\n",
       "    <tr>\n",
       "      <th>499998</th>\n",
       "      <td>0.227731</td>\n",
       "      <td>0.513247</td>\n",
       "      <td>0.178603</td>\n",
       "      <td>0.313778</td>\n",
       "      <td>0.665656</td>\n",
       "      <td>0.401365</td>\n",
       "      <td>0.183369</td>\n",
       "      <td>0.708233</td>\n",
       "      <td>0.575135</td>\n",
       "      <td>0.152771</td>\n",
       "      <td>...</td>\n",
       "      <td>0</td>\n",
       "      <td>0</td>\n",
       "      <td>0</td>\n",
       "      <td>0</td>\n",
       "      <td>0</td>\n",
       "      <td>0</td>\n",
       "      <td>1</td>\n",
       "      <td>0</td>\n",
       "      <td>0</td>\n",
       "      <td>0</td>\n",
       "    </tr>\n",
       "    <tr>\n",
       "      <th>499999</th>\n",
       "      <td>0.185561</td>\n",
       "      <td>0.406225</td>\n",
       "      <td>0.097598</td>\n",
       "      <td>0.327129</td>\n",
       "      <td>0.655168</td>\n",
       "      <td>0.384097</td>\n",
       "      <td>0.330797</td>\n",
       "      <td>0.747355</td>\n",
       "      <td>0.409955</td>\n",
       "      <td>0.294460</td>\n",
       "      <td>...</td>\n",
       "      <td>1</td>\n",
       "      <td>0</td>\n",
       "      <td>0</td>\n",
       "      <td>0</td>\n",
       "      <td>0</td>\n",
       "      <td>1</td>\n",
       "      <td>0</td>\n",
       "      <td>0</td>\n",
       "      <td>0</td>\n",
       "      <td>0</td>\n",
       "    </tr>\n",
       "  </tbody>\n",
       "</table>\n",
       "<p>500000 rows × 285 columns</p>\n",
       "</div>"
      ],
      "text/plain": [
       "              f0        f1        f2        f3        f4        f5        f6  \\\n",
       "0       0.178216  0.435617  0.010230  0.202074  0.390170  0.324221  0.221722   \n",
       "1       0.181250  0.476455  0.022413  0.283146  0.598020  0.349508  0.283467   \n",
       "2       0.159721  0.451202  0.259649  0.365274  0.594634  0.413502  0.249318   \n",
       "3       0.182424  0.520976  0.095344  0.327742  0.741830  0.358711  0.270077   \n",
       "4       0.229329  0.336513  0.023511  0.300913  0.668738  0.481586  0.545660   \n",
       "...          ...       ...       ...       ...       ...       ...       ...   \n",
       "499995  0.185473  0.525338  0.014945  0.204029  0.498957  0.431933  0.470553   \n",
       "499996  0.183194  0.553266  0.008055  0.280651  0.636591  0.478092  0.450386   \n",
       "499997  0.184650  0.533643  0.011218  0.201262  0.720698  0.472888  0.427469   \n",
       "499998  0.227731  0.513247  0.178603  0.313778  0.665656  0.401365  0.183369   \n",
       "499999  0.185561  0.406225  0.097598  0.327129  0.655168  0.384097  0.330797   \n",
       "\n",
       "              f7        f8        f9  ...  f275  f276  f277  f278  f279  f280  \\\n",
       "0       0.738894  0.582588  0.343770  ...     1     0     0     0     0     0   \n",
       "1       0.721575  0.268990  0.208373  ...     0     0     0     0     0     0   \n",
       "2       0.642339  0.411104  0.246891  ...     0     0     0     0     0     0   \n",
       "3       0.601662  0.297742  0.252829  ...     0     0     0     0     0     1   \n",
       "4       0.667849  0.546045  0.202731  ...     0     0     0     0     1     0   \n",
       "...          ...       ...       ...  ...   ...   ...   ...   ...   ...   ...   \n",
       "499995  0.731268  0.452134  0.211206  ...     1     0     0     0     0     0   \n",
       "499996  0.582647  0.517270  0.225116  ...     1     0     0     0     0     0   \n",
       "499997  0.589259  0.243879  0.413022  ...     1     1     0     0     0     0   \n",
       "499998  0.708233  0.575135  0.152771  ...     0     0     0     0     0     0   \n",
       "499999  0.747355  0.409955  0.294460  ...     1     0     0     0     0     1   \n",
       "\n",
       "        f281  f282  f283  f284  \n",
       "0          1     1     1     0  \n",
       "1          0     0     0     0  \n",
       "2          1     0     0     0  \n",
       "3          1     0     0     0  \n",
       "4          0     1     0     0  \n",
       "...      ...   ...   ...   ...  \n",
       "499995     1     0     0     0  \n",
       "499996     0     1     0     0  \n",
       "499997     0     0     0     0  \n",
       "499998     1     0     0     0  \n",
       "499999     0     0     0     0  \n",
       "\n",
       "[500000 rows x 285 columns]"
      ]
     },
     "execution_count": 7,
     "metadata": {},
     "output_type": "execute_result"
    }
   ],
   "source": [
    "test[features]"
   ]
  },
  {
   "cell_type": "code",
   "execution_count": 8,
   "id": "4fc06e99",
   "metadata": {
    "execution": {
     "iopub.execute_input": "2021-10-11T02:49:46.323392Z",
     "iopub.status.busy": "2021-10-11T02:49:46.322737Z",
     "iopub.status.idle": "2021-10-11T02:49:46.329950Z",
     "shell.execute_reply": "2021-10-11T02:49:46.330423Z",
     "shell.execute_reply.started": "2021-10-04T07:24:31.998191Z"
    },
    "papermill": {
     "duration": 0.024255,
     "end_time": "2021-10-11T02:49:46.330592",
     "exception": false,
     "start_time": "2021-10-11T02:49:46.306337",
     "status": "completed"
    },
    "tags": []
   },
   "outputs": [
    {
     "data": {
      "text/plain": [
       "0         1\n",
       "1         1\n",
       "2         1\n",
       "3         1\n",
       "4         1\n",
       "         ..\n",
       "999995    1\n",
       "999996    0\n",
       "999997    0\n",
       "999998    1\n",
       "999999    0\n",
       "Name: target, Length: 1000000, dtype: int64"
      ]
     },
     "execution_count": 8,
     "metadata": {},
     "output_type": "execute_result"
    }
   ],
   "source": [
    "train[target]"
   ]
  },
  {
   "cell_type": "code",
   "execution_count": 9,
   "id": "f8225014",
   "metadata": {
    "execution": {
     "iopub.execute_input": "2021-10-11T02:49:46.362504Z",
     "iopub.status.busy": "2021-10-11T02:49:46.361878Z",
     "iopub.status.idle": "2021-10-11T02:49:46.493194Z",
     "shell.execute_reply": "2021-10-11T02:49:46.492586Z",
     "shell.execute_reply.started": "2021-10-04T07:24:32.011225Z"
    },
    "papermill": {
     "duration": 0.148505,
     "end_time": "2021-10-11T02:49:46.493331",
     "exception": false,
     "start_time": "2021-10-11T02:49:46.344826",
     "status": "completed"
    },
    "tags": []
   },
   "outputs": [
    {
     "data": {
      "text/plain": [
       "40"
      ]
     },
     "execution_count": 9,
     "metadata": {},
     "output_type": "execute_result"
    }
   ],
   "source": [
    "gc.collect()"
   ]
  },
  {
   "cell_type": "markdown",
   "id": "51fb8b81",
   "metadata": {
    "papermill": {
     "duration": 0.014033,
     "end_time": "2021-10-11T02:49:46.523344",
     "exception": false,
     "start_time": "2021-10-11T02:49:46.509311",
     "status": "completed"
    },
    "tags": []
   },
   "source": [
    "# CatB"
   ]
  },
  {
   "cell_type": "code",
   "execution_count": 10,
   "id": "b6033e29",
   "metadata": {
    "execution": {
     "iopub.execute_input": "2021-10-11T02:49:46.558257Z",
     "iopub.status.busy": "2021-10-11T02:49:46.557622Z",
     "iopub.status.idle": "2021-10-11T02:49:46.560292Z",
     "shell.execute_reply": "2021-10-11T02:49:46.560703Z",
     "shell.execute_reply.started": "2021-09-07T00:44:32.516352Z"
    },
    "papermill": {
     "duration": 0.022765,
     "end_time": "2021-10-11T02:49:46.560913",
     "exception": false,
     "start_time": "2021-10-11T02:49:46.538148",
     "status": "completed"
    },
    "tags": []
   },
   "outputs": [],
   "source": [
    "ctb_params = {\n",
    "     'objective': 'CrossEntropy',\n",
    "     'n_estimators':N_ESTIMATORS,\n",
    "     'thread_count' : -1,\n",
    "     'bootstrap_type': 'Bernoulli',\n",
    "     'eval_metric': 'AUC',\n",
    "     #'grow_policy': 'Depthwise',\n",
    "     'task_type': 'CPU', \n",
    "        \n",
    "    'od_wait': 1144, \n",
    "    'learning_rate': 0.023575206684596582, \n",
    "    'reg_lambda': 36.30433203563295, \n",
    "    'random_strength': 43.75597655616195, \n",
    "    'depth': 7, \n",
    "    'min_data_in_leaf': 11, \n",
    "    'leaf_estimation_iterations': 1, \n",
    "    'subsample': 0.8227911142845009,\n",
    "    \n",
    "}"
   ]
  },
  {
   "cell_type": "code",
   "execution_count": 11,
   "id": "6fbfd055",
   "metadata": {
    "execution": {
     "iopub.execute_input": "2021-10-11T02:49:46.603298Z",
     "iopub.status.busy": "2021-10-11T02:49:46.602566Z",
     "iopub.status.idle": "2021-10-11T05:55:56.270542Z",
     "shell.execute_reply": "2021-10-11T05:55:56.269798Z",
     "shell.execute_reply.started": "2021-09-07T00:48:20.356186Z"
    },
    "papermill": {
     "duration": 11169.695628,
     "end_time": "2021-10-11T05:55:56.270736",
     "exception": false,
     "start_time": "2021-10-11T02:49:46.575108",
     "status": "completed"
    },
    "tags": []
   },
   "outputs": [
    {
     "name": "stdout",
     "output_type": "stream",
     "text": [
      "===== fold 0 =====\n",
      "===== fold 1 =====\n",
      "===== fold 2 =====\n",
      "===== fold 3 =====\n",
      "0:\ttest: 0.7580608\tbest: 0.7580608 (0)\ttotal: 693ms\tremaining: 2h 59m 58s\n",
      "1000:\ttest: 0.8504622\tbest: 0.8504622 (1000)\ttotal: 9m 8s\tremaining: 2h 13m 7s\n",
      "2000:\ttest: 0.8549247\tbest: 0.8549247 (2000)\ttotal: 17m 25s\tremaining: 1h 58m 18s\n",
      "3000:\ttest: 0.8557719\tbest: 0.8557719 (3000)\ttotal: 25m 44s\tremaining: 1h 47m 57s\n",
      "4000:\ttest: 0.8560877\tbest: 0.8560877 (4000)\ttotal: 33m 43s\tremaining: 1h 37m 37s\n",
      "5000:\ttest: 0.8562330\tbest: 0.8562354 (4983)\ttotal: 41m 38s\tremaining: 1h 28m 7s\n",
      "6000:\ttest: 0.8563097\tbest: 0.8563097 (5995)\ttotal: 49m 31s\tremaining: 1h 19m 6s\n",
      "7000:\ttest: 0.8563427\tbest: 0.8563465 (6895)\ttotal: 57m 27s\tremaining: 1h 10m 27s\n",
      "8000:\ttest: 0.8563219\tbest: 0.8563465 (6895)\ttotal: 1h 5m 20s\tremaining: 1h 1m 56s\n",
      "Stopped by overfitting detector  (1144 iterations wait)\n",
      "\n",
      "bestTest = 0.8563464622\n",
      "bestIteration = 6895\n",
      "\n",
      "Shrink model to first 6896 iterations.\n",
      "0:\ttest: 0.8563465\tbest: 0.8563465 (0)\ttotal: 517ms\tremaining: 2h 14m 17s\n",
      "1000:\ttest: 0.8563466\tbest: 0.8563471 (971)\ttotal: 8m 52s\tremaining: 2h 9m 12s\n",
      "2000:\ttest: 0.8563485\tbest: 0.8563486 (1973)\ttotal: 17m 43s\tremaining: 2h 20s\n",
      "3000:\ttest: 0.8563492\tbest: 0.8563498 (2284)\ttotal: 26m 37s\tremaining: 1h 51m 39s\n",
      "Stopped by overfitting detector  (1144 iterations wait)\n",
      "\n",
      "bestTest = 0.8563498467\n",
      "bestIteration = 2284\n",
      "\n",
      "Shrink model to first 2285 iterations.\n",
      "fold 3 - ctb auc: 0.856350, elapsed time: 5798.88sec\n",
      "\n",
      "===== fold 4 =====\n",
      "0:\ttest: 0.7594101\tbest: 0.7594101 (0)\ttotal: 561ms\tremaining: 2h 25m 35s\n",
      "1000:\ttest: 0.8507334\tbest: 0.8507334 (1000)\ttotal: 9m 7s\tremaining: 2h 13m 3s\n",
      "2000:\ttest: 0.8551004\tbest: 0.8551004 (2000)\ttotal: 17m 28s\tremaining: 1h 58m 35s\n",
      "3000:\ttest: 0.8558738\tbest: 0.8558738 (3000)\ttotal: 25m 34s\tremaining: 1h 47m 13s\n",
      "4000:\ttest: 0.8561296\tbest: 0.8561324 (3991)\ttotal: 33m 36s\tremaining: 1h 37m 17s\n",
      "5000:\ttest: 0.8562209\tbest: 0.8562211 (4998)\ttotal: 41m 33s\tremaining: 1h 27m 56s\n",
      "6000:\ttest: 0.8562448\tbest: 0.8562626 (5685)\ttotal: 49m 27s\tremaining: 1h 18m 59s\n",
      "7000:\ttest: 0.8562635\tbest: 0.8562678 (6866)\ttotal: 57m 23s\tremaining: 1h 10m 21s\n",
      "8000:\ttest: 0.8562686\tbest: 0.8562801 (7562)\ttotal: 1h 5m 16s\tremaining: 1h 1m 52s\n",
      "Stopped by overfitting detector  (1144 iterations wait)\n",
      "\n",
      "bestTest = 0.8562800929\n",
      "bestIteration = 7562\n",
      "\n",
      "Shrink model to first 7563 iterations.\n",
      "0:\ttest: 0.8562801\tbest: 0.8562801 (0)\ttotal: 505ms\tremaining: 2h 11m 16s\n",
      "1000:\ttest: 0.8562807\tbest: 0.8562809 (853)\ttotal: 8m 54s\tremaining: 2h 9m 48s\n",
      "Stopped by overfitting detector  (1144 iterations wait)\n",
      "\n",
      "bestTest = 0.8562809372\n",
      "bestIteration = 853\n",
      "\n",
      "Shrink model to first 854 iterations.\n",
      "fold 4 - ctb auc: 0.856281, elapsed time: 5350.07sec\n",
      "\n",
      "oof ctb_auc = 0.5570101796848781\n"
     ]
    }
   ],
   "source": [
    "ctb_oof = np.zeros(train.shape[0])\n",
    "ctb_pred = np.zeros(test.shape[0])\n",
    "ctb_importances = pd.DataFrame()\n",
    "\n",
    "X_test = test[features]\n",
    "del test\n",
    "gc.collect()\n",
    "\n",
    "\n",
    "kf = StratifiedKFold(n_splits=N_SPLITS, shuffle=True, random_state=CVSEED)\n",
    "seed_list=[SEED+4]\n",
    "\n",
    "for fold, (trn_idx, val_idx) in enumerate(kf.split(X=train[features], y=train[target])):\n",
    "    print(f\"===== fold {fold} =====\")\n",
    "    if fold >2:\n",
    "        \n",
    "        X_train = train[features].iloc[trn_idx]\n",
    "        y_train = train[target].iloc[trn_idx]\n",
    "        X_valid = train[features].iloc[val_idx]\n",
    "        y_valid = train[target].iloc[val_idx]\n",
    "        \n",
    "\n",
    "\n",
    "        start = time.time()\n",
    "        for inseed in seed_list:\n",
    "            ctb_params['random_state'] = inseed\n",
    "\n",
    "            pre_model = ctb.CatBoostClassifier(**ctb_params)\n",
    "            pre_model.fit(\n",
    "                X_train, \n",
    "                y_train,\n",
    "                eval_set=[(X_valid, y_valid)],\n",
    "                #use_best_model=True,\n",
    "                #cat_features = disc_features,\n",
    "                #early_stopping_rounds=EARLY_STOPPING_ROUNDS,\n",
    "                verbose=VERBOSE,\n",
    "            )\n",
    "\n",
    "            ctb_params2 = ctb_params.copy()\n",
    "            ctb_params2['reg_lambda'] *= 0.9\n",
    "            #ctb_params2['reg_alpha'] *= 0.9\n",
    "            ctb_params2['learning_rate'] *= 0.1\n",
    "            model = ctb.CatBoostClassifier(**ctb_params2)\n",
    "            model.fit(\n",
    "                    X_train, y_train,\n",
    "                    eval_set=[(X_valid, y_valid)],\n",
    "                    #use_best_model=True,\n",
    "                    #cat_features = disc_features,\n",
    "                    #early_stopping_rounds=EARLY_STOPPING_ROUNDS,\n",
    "                    verbose=VERBOSE,\n",
    "                    init_model=pre_model\n",
    "            )    \n",
    "\n",
    "            with open(f\"ctb_model{fold}_seed{inseed}.pkl\", 'wb') as f:\n",
    "                pickle.dump(model, f)\n",
    "\n",
    "            fi_tmp = pd.DataFrame()\n",
    "            fi_tmp['feature'] = X_train.columns\n",
    "            fi_tmp['importance'] = model.feature_importances_\n",
    "            fi_tmp['fold'] = fold\n",
    "            fi_tmp['seed'] = inseed\n",
    "            ctb_importances = ctb_importances.append(fi_tmp)\n",
    "\n",
    "            ctb_oof[val_idx] += model.predict_proba(X_valid)[:,-1] / len(seed_list)\n",
    "            ctb_pred += model.predict_proba(X_test)[:,-1] / len(seed_list)\n",
    "            \n",
    "            del pre_model\n",
    "            del model\n",
    "            gc.collect()\n",
    "\n",
    "\n",
    "        elapsed = time.time() - start\n",
    "        auc = roc_auc_score(y_valid, ctb_oof[val_idx])\n",
    "        print(f\"fold {fold} - ctb auc: {auc:.6f}, elapsed time: {elapsed:.2f}sec\\n\")\n",
    "        \n",
    "        del X_train\n",
    "        del y_train\n",
    "        del X_valid\n",
    "        del y_valid\n",
    "        gc.collect()\n",
    "\n",
    "\n",
    "del X_test\n",
    "gc.collect()\n",
    "\n",
    "ctb_pred /= N_SPLITS\n",
    "print(f\"oof ctb_auc = {roc_auc_score(train[target], ctb_oof)}\")\n",
    "\n",
    "np.save(\"ctb_oof.npy\", ctb_oof)\n",
    "np.save(\"ctb_pred.npy\", ctb_pred)"
   ]
  },
  {
   "cell_type": "markdown",
   "id": "f9978875",
   "metadata": {
    "papermill": {
     "duration": 0.02102,
     "end_time": "2021-10-11T05:55:56.313298",
     "exception": false,
     "start_time": "2021-10-11T05:55:56.292278",
     "status": "completed"
    },
    "tags": []
   },
   "source": [
    "# OOF predictions"
   ]
  },
  {
   "cell_type": "code",
   "execution_count": 12,
   "id": "6ffb539e",
   "metadata": {
    "execution": {
     "iopub.execute_input": "2021-10-11T05:55:56.378050Z",
     "iopub.status.busy": "2021-10-11T05:55:56.377386Z",
     "iopub.status.idle": "2021-10-11T05:56:00.227755Z",
     "shell.execute_reply": "2021-10-11T05:56:00.228316Z",
     "shell.execute_reply.started": "2021-09-07T00:50:57.432219Z"
    },
    "papermill": {
     "duration": 3.893994,
     "end_time": "2021-10-11T05:56:00.228484",
     "exception": false,
     "start_time": "2021-10-11T05:55:56.334490",
     "status": "completed"
    },
    "tags": []
   },
   "outputs": [
    {
     "data": {
      "text/plain": [
       "<matplotlib.collections.PathCollection at 0x7f64b18af390>"
      ]
     },
     "execution_count": 12,
     "metadata": {},
     "output_type": "execute_result"
    },
    {
     "data": {
      "image/png": "[encoded data removed]",
      "text/plain": [
       "<Figure size 432x288 with 1 Axes>"
      ]
     },
     "metadata": {
      "needs_background": "light"
     },
     "output_type": "display_data"
    }
   ],
   "source": [
    "plt.plot(train[target], train[target])\n",
    "plt.scatter(train[target], ctb_oof)"
   ]
  },
  {
   "cell_type": "code",
   "execution_count": 13,
   "id": "6a42d8d6",
   "metadata": {
    "execution": {
     "iopub.execute_input": "2021-10-11T05:56:00.276308Z",
     "iopub.status.busy": "2021-10-11T05:56:00.275643Z",
     "iopub.status.idle": "2021-10-11T05:56:00.387960Z",
     "shell.execute_reply": "2021-10-11T05:56:00.388431Z"
    },
    "papermill": {
     "duration": 0.137574,
     "end_time": "2021-10-11T05:56:00.388598",
     "exception": false,
     "start_time": "2021-10-11T05:56:00.251024",
     "status": "completed"
    },
    "tags": []
   },
   "outputs": [
    {
     "data": {
      "text/plain": [
       "20"
      ]
     },
     "execution_count": 13,
     "metadata": {},
     "output_type": "execute_result"
    }
   ],
   "source": [
    "del train\n",
    "del ctb_oof\n",
    "gc.collect()"
   ]
  },
  {
   "cell_type": "markdown",
   "id": "21bfc798",
   "metadata": {
    "papermill": {
     "duration": 0.022512,
     "end_time": "2021-10-11T05:56:00.433937",
     "exception": false,
     "start_time": "2021-10-11T05:56:00.411425",
     "status": "completed"
    },
    "tags": []
   },
   "source": [
    "# Features importances"
   ]
  },
  {
   "cell_type": "code",
   "execution_count": 14,
   "id": "8669c7cb",
   "metadata": {
    "execution": {
     "iopub.execute_input": "2021-10-11T05:56:00.482450Z",
     "iopub.status.busy": "2021-10-11T05:56:00.481804Z",
     "iopub.status.idle": "2021-10-11T05:56:05.710571Z",
     "shell.execute_reply": "2021-10-11T05:56:05.711175Z",
     "shell.execute_reply.started": "2021-09-07T00:51:01.011128Z"
    },
    "papermill": {
     "duration": 5.25473,
     "end_time": "2021-10-11T05:56:05.711389",
     "exception": false,
     "start_time": "2021-10-11T05:56:00.456659",
     "status": "completed"
    },
    "tags": []
   },
   "outputs": [
    {
     "data": {
      "text/plain": [
       "Text(0.5, 1.0, 'CatB feature importances')"
      ]
     },
     "execution_count": 14,
     "metadata": {},
     "output_type": "execute_result"
    },
    {
     "data": {
      "image/png": "[encoded data removed]",
      "text/plain": [
       "<Figure size 1152x1152 with 1 Axes>"
      ]
     },
     "metadata": {
      "needs_background": "light"
     },
     "output_type": "display_data"
    }
   ],
   "source": [
    "order = list(ctb_importances.groupby('feature').mean().sort_values('importance', ascending=False).index)\n",
    "\n",
    "fig = plt.figure(figsize=(16, 16), tight_layout=True)\n",
    "sns.barplot(x=\"importance\", y=\"feature\", data=ctb_importances.groupby('feature').mean().reset_index(), order=order)\n",
    "plt.title(\"CatB feature importances\")"
   ]
  },
  {
   "cell_type": "markdown",
   "id": "060ecfae",
   "metadata": {
    "papermill": {
     "duration": 0.026891,
     "end_time": "2021-10-11T05:56:05.766474",
     "exception": false,
     "start_time": "2021-10-11T05:56:05.739583",
     "status": "completed"
    },
    "tags": []
   },
   "source": [
    "# Submission"
   ]
  },
  {
   "cell_type": "code",
   "execution_count": 15,
   "id": "b071884f",
   "metadata": {
    "execution": {
     "iopub.execute_input": "2021-10-11T05:56:05.822288Z",
     "iopub.status.busy": "2021-10-11T05:56:05.821622Z",
     "iopub.status.idle": "2021-10-11T05:56:07.085229Z",
     "shell.execute_reply": "2021-10-11T05:56:07.084533Z",
     "shell.execute_reply.started": "2021-09-07T00:51:03.177221Z"
    },
    "papermill": {
     "duration": 1.292334,
     "end_time": "2021-10-11T05:56:07.085395",
     "exception": false,
     "start_time": "2021-10-11T05:56:05.793061",
     "status": "completed"
    },
    "tags": []
   },
   "outputs": [
    {
     "data": {
      "text/html": [
       "<div>\n",
       "<style scoped>\n",
       "    .dataframe tbody tr th:only-of-type {\n",
       "        vertical-align: middle;\n",
       "    }\n",
       "\n",
       "    .dataframe tbody tr th {\n",
       "        vertical-align: top;\n",
       "    }\n",
       "\n",
       "    .dataframe thead th {\n",
       "        text-align: right;\n",
       "    }\n",
       "</style>\n",
       "<table border=\"1\" class=\"dataframe\">\n",
       "  <thead>\n",
       "    <tr style=\"text-align: right;\">\n",
       "      <th></th>\n",
       "      <th>id</th>\n",
       "      <th>target</th>\n",
       "    </tr>\n",
       "  </thead>\n",
       "  <tbody>\n",
       "    <tr>\n",
       "      <th>0</th>\n",
       "      <td>1000000</td>\n",
       "      <td>0.299771</td>\n",
       "    </tr>\n",
       "    <tr>\n",
       "      <th>1</th>\n",
       "      <td>1000001</td>\n",
       "      <td>0.104183</td>\n",
       "    </tr>\n",
       "    <tr>\n",
       "      <th>2</th>\n",
       "      <td>1000002</td>\n",
       "      <td>0.361689</td>\n",
       "    </tr>\n",
       "    <tr>\n",
       "      <th>3</th>\n",
       "      <td>1000003</td>\n",
       "      <td>0.342839</td>\n",
       "    </tr>\n",
       "    <tr>\n",
       "      <th>4</th>\n",
       "      <td>1000004</td>\n",
       "      <td>0.117195</td>\n",
       "    </tr>\n",
       "    <tr>\n",
       "      <th>...</th>\n",
       "      <td>...</td>\n",
       "      <td>...</td>\n",
       "    </tr>\n",
       "    <tr>\n",
       "      <th>499995</th>\n",
       "      <td>1499995</td>\n",
       "      <td>0.385529</td>\n",
       "    </tr>\n",
       "    <tr>\n",
       "      <th>499996</th>\n",
       "      <td>1499996</td>\n",
       "      <td>0.331719</td>\n",
       "    </tr>\n",
       "    <tr>\n",
       "      <th>499997</th>\n",
       "      <td>1499997</td>\n",
       "      <td>0.122252</td>\n",
       "    </tr>\n",
       "    <tr>\n",
       "      <th>499998</th>\n",
       "      <td>1499998</td>\n",
       "      <td>0.220037</td>\n",
       "    </tr>\n",
       "    <tr>\n",
       "      <th>499999</th>\n",
       "      <td>1499999</td>\n",
       "      <td>0.171987</td>\n",
       "    </tr>\n",
       "  </tbody>\n",
       "</table>\n",
       "<p>500000 rows × 2 columns</p>\n",
       "</div>"
      ],
      "text/plain": [
       "             id    target\n",
       "0       1000000  0.299771\n",
       "1       1000001  0.104183\n",
       "2       1000002  0.361689\n",
       "3       1000003  0.342839\n",
       "4       1000004  0.117195\n",
       "...         ...       ...\n",
       "499995  1499995  0.385529\n",
       "499996  1499996  0.331719\n",
       "499997  1499997  0.122252\n",
       "499998  1499998  0.220037\n",
       "499999  1499999  0.171987\n",
       "\n",
       "[500000 rows x 2 columns]"
      ]
     },
     "execution_count": 15,
     "metadata": {},
     "output_type": "execute_result"
    }
   ],
   "source": [
    "submission[target] = ctb_pred\n",
    "submission.to_csv(\"submission.csv\", index=False)\n",
    "\n",
    "submission"
   ]
  },
  {
   "cell_type": "markdown",
   "id": "0ef0d254",
   "metadata": {
    "papermill": {
     "duration": 0.027448,
     "end_time": "2021-10-11T05:56:07.141686",
     "exception": false,
     "start_time": "2021-10-11T05:56:07.114238",
     "status": "completed"
    },
    "tags": []
   },
   "source": [
    "# Log\n",
    "\n",
    "seeds\n",
    "\n",
    "2017 ver2 fold 0-2 ver3 fold 3-4\n",
    "2018 ver4 fold 0-2 ver5 fold 3-4\n",
    "2019 ver6 fold 0-2 ver7 fold 3-4\n",
    "2020 ver8 fold 0-2 ver9 fold 3-4\n",
    "2021 ver10 fold 0-2 ver11 fold 3-4\n"
   ]
  }
 ],
 "metadata": {
  "kernelspec": {
   "display_name": "Python 3",
   "language": "python",
   "name": "python3"
  },
  "language_info": {
   "codemirror_mode": {
    "name": "ipython",
    "version": 3
   },
   "file_extension": ".py",
   "mimetype": "text/x-python",
   "name": "python",
   "nbconvert_exporter": "python",
   "pygments_lexer": "ipython3",
   "version": "3.7.10"
  },
  "papermill": {
   "default_parameters": {},
   "duration": 11285.131038,
   "end_time": "2021-10-11T05:56:09.021454",
   "environment_variables": {},
   "exception": null,
   "input_path": "__notebook__.ipynb",
   "output_path": "__notebook__.ipynb",
   "parameters": {},
   "start_time": "2021-10-11T02:48:03.890416",
   "version": "2.3.3"
  }
 },
 "nbformat": 4,
 "nbformat_minor": 5
}
