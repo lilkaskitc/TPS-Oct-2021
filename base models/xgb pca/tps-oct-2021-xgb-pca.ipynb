{
 "cells": [
  {
   "cell_type": "code",
   "execution_count": 1,
   "id": "bcd10283",
   "metadata": {
    "_cell_guid": "b1076dfc-b9ad-4769-8c92-a6c4dae69d19",
    "_uuid": "8f2839f25d086af736a60e9eeb907d3b93b6e0e5",
    "execution": {
     "iopub.execute_input": "2021-10-10T14:01:32.535314Z",
     "iopub.status.busy": "2021-10-10T14:01:32.534692Z",
     "iopub.status.idle": "2021-10-10T14:01:34.068742Z",
     "shell.execute_reply": "2021-10-10T14:01:34.067912Z",
     "shell.execute_reply.started": "2021-10-09T16:07:38.860595Z"
    },
    "papermill": {
     "duration": 1.570795,
     "end_time": "2021-10-10T14:01:34.068908",
     "exception": false,
     "start_time": "2021-10-10T14:01:32.498113",
     "status": "completed"
    },
    "tags": []
   },
   "outputs": [],
   "source": [
    "import numpy as np\n",
    "import pandas as pd\n",
    "import random\n",
    "import os\n",
    "import time\n",
    "import pickle\n",
    "from pathlib import Path\n",
    "import gc\n",
    "\n",
    "from sklearn.preprocessing import StandardScaler\n",
    "from sklearn.model_selection import StratifiedKFold, train_test_split\n",
    "from sklearn.metrics import roc_auc_score\n",
    "from sklearn.preprocessing import OneHotEncoder\n",
    "from sklearn.decomposition import PCA\n",
    "from sklearn.cluster import KMeans\n",
    "\n",
    "#import lightgbm as lgb\n",
    "import xgboost as xgb\n",
    "#import catboost as ctb\n",
    "\n",
    "import matplotlib.pyplot as plt\n",
    "import seaborn as sns\n",
    "\n",
    "import warnings\n",
    "warnings.simplefilter('ignore')"
   ]
  },
  {
   "cell_type": "markdown",
   "id": "027bd4f8",
   "metadata": {
    "papermill": {
     "duration": 0.026407,
     "end_time": "2021-10-10T14:01:34.123164",
     "exception": false,
     "start_time": "2021-10-10T14:01:34.096757",
     "status": "completed"
    },
    "tags": []
   },
   "source": [
    "https://www.kaggle.com/kavehshahhosseini/tps-oct-2021-pca-and-kmeans-feature-eng/notebook?scriptVersionId=76474001\n",
    "\n",
    "ver3"
   ]
  },
  {
   "cell_type": "markdown",
   "id": "10eff679",
   "metadata": {
    "papermill": {
     "duration": 0.026297,
     "end_time": "2021-10-10T14:01:34.175490",
     "exception": false,
     "start_time": "2021-10-10T14:01:34.149193",
     "status": "completed"
    },
    "tags": []
   },
   "source": [
    "# Parameters"
   ]
  },
  {
   "cell_type": "code",
   "execution_count": 2,
   "id": "4c5312ca",
   "metadata": {
    "execution": {
     "iopub.execute_input": "2021-10-10T14:01:34.234662Z",
     "iopub.status.busy": "2021-10-10T14:01:34.233916Z",
     "iopub.status.idle": "2021-10-10T14:01:34.235999Z",
     "shell.execute_reply": "2021-10-10T14:01:34.236497Z",
     "shell.execute_reply.started": "2021-10-09T16:00:02.649245Z"
    },
    "papermill": {
     "duration": 0.03452,
     "end_time": "2021-10-10T14:01:34.236692",
     "exception": false,
     "start_time": "2021-10-10T14:01:34.202172",
     "status": "completed"
    },
    "tags": []
   },
   "outputs": [],
   "source": [
    "target = 'target'\n",
    "\n",
    "DEBUG = False\n",
    "\n",
    "if DEBUG:\n",
    "    N_ESTIMATORS = 1\n",
    "    N_SPLITS = 2\n",
    "    SEED = 2017\n",
    "    CVSEED = 2017\n",
    "    EARLY_STOPPING_ROUNDS = 1\n",
    "    VERBOSE = 100\n",
    "    #N_ITERS = 2\n",
    "else:\n",
    "    N_SPLITS = 5\n",
    "    N_ESTIMATORS = 10000\n",
    "    EARLY_STOPPING_ROUNDS = 300\n",
    "    VERBOSE = 1000\n",
    "    SEED = 2017\n",
    "    CVSEED = 2017\n",
    "    #N_ITERS = 10"
   ]
  },
  {
   "cell_type": "code",
   "execution_count": 3,
   "id": "ded519fc",
   "metadata": {
    "execution": {
     "iopub.execute_input": "2021-10-10T14:01:34.303154Z",
     "iopub.status.busy": "2021-10-10T14:01:34.302121Z",
     "iopub.status.idle": "2021-10-10T14:01:34.304816Z",
     "shell.execute_reply": "2021-10-10T14:01:34.305393Z",
     "shell.execute_reply.started": "2021-10-09T16:00:02.658174Z"
    },
    "papermill": {
     "duration": 0.042235,
     "end_time": "2021-10-10T14:01:34.305641",
     "exception": false,
     "start_time": "2021-10-10T14:01:34.263406",
     "status": "completed"
    },
    "tags": []
   },
   "outputs": [],
   "source": [
    "def set_seed(seed=2017):\n",
    "    random.seed(seed)\n",
    "    os.environ['PYTHONHASHSEED'] = str(seed)\n",
    "    np.random.seed(seed)\n",
    "    \n",
    "set_seed(SEED)"
   ]
  },
  {
   "cell_type": "markdown",
   "id": "0663635c",
   "metadata": {
    "papermill": {
     "duration": 0.032833,
     "end_time": "2021-10-10T14:01:34.374124",
     "exception": false,
     "start_time": "2021-10-10T14:01:34.341291",
     "status": "completed"
    },
    "tags": []
   },
   "source": [
    "# Datasets"
   ]
  },
  {
   "cell_type": "code",
   "execution_count": 4,
   "id": "b311b955",
   "metadata": {
    "execution": {
     "iopub.execute_input": "2021-10-10T14:01:34.429172Z",
     "iopub.status.busy": "2021-10-10T14:01:34.428501Z",
     "iopub.status.idle": "2021-10-10T14:03:12.075048Z",
     "shell.execute_reply": "2021-10-10T14:03:12.075604Z",
     "shell.execute_reply.started": "2021-10-09T16:00:02.672578Z"
    },
    "papermill": {
     "duration": 97.675769,
     "end_time": "2021-10-10T14:03:12.075821",
     "exception": false,
     "start_time": "2021-10-10T14:01:34.400052",
     "status": "completed"
    },
    "tags": []
   },
   "outputs": [],
   "source": [
    "INPUT = Path(\"../input/tabular-playground-series-oct-2021\")\n",
    "\n",
    "train = pd.read_csv(INPUT / \"train.csv\")\n",
    "test = pd.read_csv(INPUT / \"test.csv\")\n",
    "submission = pd.read_csv(INPUT / \"sample_submission.csv\")"
   ]
  },
  {
   "cell_type": "code",
   "execution_count": 5,
   "id": "b73d2144",
   "metadata": {
    "execution": {
     "iopub.execute_input": "2021-10-10T14:03:13.016810Z",
     "iopub.status.busy": "2021-10-10T14:03:13.014790Z",
     "iopub.status.idle": "2021-10-10T14:03:13.434901Z",
     "shell.execute_reply": "2021-10-10T14:03:13.434313Z",
     "shell.execute_reply.started": "2021-10-09T16:01:38.840916Z"
    },
    "papermill": {
     "duration": 1.333222,
     "end_time": "2021-10-10T14:03:13.435041",
     "exception": false,
     "start_time": "2021-10-10T14:03:12.101819",
     "status": "completed"
    },
    "tags": []
   },
   "outputs": [],
   "source": [
    "train = train[train.columns[1:]]\n",
    "test = test[test.columns[1:]]"
   ]
  },
  {
   "cell_type": "markdown",
   "id": "29b6af71",
   "metadata": {
    "papermill": {
     "duration": 0.025517,
     "end_time": "2021-10-10T14:03:13.486332",
     "exception": false,
     "start_time": "2021-10-10T14:03:13.460815",
     "status": "completed"
    },
    "tags": []
   },
   "source": [
    "# Preprocessing"
   ]
  },
  {
   "cell_type": "code",
   "execution_count": 6,
   "id": "88600b02",
   "metadata": {
    "execution": {
     "iopub.execute_input": "2021-10-10T14:03:13.543078Z",
     "iopub.status.busy": "2021-10-10T14:03:13.542434Z",
     "iopub.status.idle": "2021-10-10T14:03:13.545153Z",
     "shell.execute_reply": "2021-10-10T14:03:13.545614Z",
     "shell.execute_reply.started": "2021-10-09T16:01:39.98041Z"
    },
    "papermill": {
     "duration": 0.033573,
     "end_time": "2021-10-10T14:03:13.545791",
     "exception": false,
     "start_time": "2021-10-10T14:03:13.512218",
     "status": "completed"
    },
    "tags": []
   },
   "outputs": [],
   "source": [
    "features = [col for col in train.columns if 'f' in col]"
   ]
  },
  {
   "cell_type": "code",
   "execution_count": 7,
   "id": "9e7eb623",
   "metadata": {
    "execution": {
     "iopub.execute_input": "2021-10-10T14:03:13.600600Z",
     "iopub.status.busy": "2021-10-10T14:03:13.599861Z",
     "iopub.status.idle": "2021-10-10T14:03:13.616799Z",
     "shell.execute_reply": "2021-10-10T14:03:13.617336Z",
     "shell.execute_reply.started": "2021-10-09T16:01:39.989419Z"
    },
    "papermill": {
     "duration": 0.045956,
     "end_time": "2021-10-10T14:03:13.617542",
     "exception": false,
     "start_time": "2021-10-10T14:03:13.571586",
     "status": "completed"
    },
    "tags": []
   },
   "outputs": [],
   "source": [
    "cont_features =[]\n",
    "disc_features =[]\n",
    "\n",
    "for col in features:\n",
    "    if train[col].dtype=='float64':\n",
    "        cont_features.append(col)\n",
    "    else:\n",
    "        disc_features.append(col)\n",
    "        \n",
    "features = disc_features + cont_features"
   ]
  },
  {
   "cell_type": "code",
   "execution_count": 8,
   "id": "26fd093f",
   "metadata": {
    "execution": {
     "iopub.execute_input": "2021-10-10T14:03:13.673431Z",
     "iopub.status.busy": "2021-10-10T14:03:13.672781Z",
     "iopub.status.idle": "2021-10-10T14:04:56.652364Z",
     "shell.execute_reply": "2021-10-10T14:04:56.651653Z",
     "shell.execute_reply.started": "2021-10-09T16:01:40.014887Z"
    },
    "papermill": {
     "duration": 103.008102,
     "end_time": "2021-10-10T14:04:56.652543",
     "exception": false,
     "start_time": "2021-10-10T14:03:13.644441",
     "status": "completed"
    },
    "tags": []
   },
   "outputs": [],
   "source": [
    "train[cont_features] = train[cont_features].astype('float32')\n",
    "train[disc_features] = train[disc_features].astype('uint8')\n",
    "train[target] = train[target].astype('uint8')\n",
    "\n",
    "test[cont_features] = test[cont_features].astype('float32')\n",
    "test[disc_features] = test[disc_features].astype('uint8')"
   ]
  },
  {
   "cell_type": "code",
   "execution_count": 9,
   "id": "5c2a51b2",
   "metadata": {
    "execution": {
     "iopub.execute_input": "2021-10-10T14:04:56.821649Z",
     "iopub.status.busy": "2021-10-10T14:04:56.820804Z",
     "iopub.status.idle": "2021-10-10T14:04:56.824882Z",
     "shell.execute_reply": "2021-10-10T14:04:56.825370Z",
     "shell.execute_reply.started": "2021-10-09T16:03:29.122935Z"
    },
    "papermill": {
     "duration": 0.146968,
     "end_time": "2021-10-10T14:04:56.825557",
     "exception": false,
     "start_time": "2021-10-10T14:04:56.678589",
     "status": "completed"
    },
    "tags": []
   },
   "outputs": [
    {
     "data": {
      "text/plain": [
       "20"
      ]
     },
     "execution_count": 9,
     "metadata": {},
     "output_type": "execute_result"
    }
   ],
   "source": [
    "del cont_features\n",
    "del disc_features\n",
    "\n",
    "gc.collect()"
   ]
  },
  {
   "cell_type": "markdown",
   "id": "163a07b8",
   "metadata": {
    "papermill": {
     "duration": 0.025905,
     "end_time": "2021-10-10T14:04:56.877849",
     "exception": false,
     "start_time": "2021-10-10T14:04:56.851944",
     "status": "completed"
    },
    "tags": []
   },
   "source": [
    "# KMeans"
   ]
  },
  {
   "cell_type": "code",
   "execution_count": 10,
   "id": "bc155ef1",
   "metadata": {
    "execution": {
     "iopub.execute_input": "2021-10-10T14:04:56.939023Z",
     "iopub.status.busy": "2021-10-10T14:04:56.937018Z",
     "iopub.status.idle": "2021-10-10T14:12:21.665847Z",
     "shell.execute_reply": "2021-10-10T14:12:21.666456Z",
     "shell.execute_reply.started": "2021-10-09T16:07:47.501161Z"
    },
    "papermill": {
     "duration": 444.762918,
     "end_time": "2021-10-10T14:12:21.666666",
     "exception": false,
     "start_time": "2021-10-10T14:04:56.903748",
     "status": "completed"
    },
    "tags": []
   },
   "outputs": [
    {
     "data": {
      "text/html": [
       "<div>\n",
       "<style scoped>\n",
       "    .dataframe tbody tr th:only-of-type {\n",
       "        vertical-align: middle;\n",
       "    }\n",
       "\n",
       "    .dataframe tbody tr th {\n",
       "        vertical-align: top;\n",
       "    }\n",
       "\n",
       "    .dataframe thead th {\n",
       "        text-align: right;\n",
       "    }\n",
       "</style>\n",
       "<table border=\"1\" class=\"dataframe\">\n",
       "  <thead>\n",
       "    <tr style=\"text-align: right;\">\n",
       "      <th></th>\n",
       "      <th>f0</th>\n",
       "      <th>f1</th>\n",
       "      <th>f2</th>\n",
       "      <th>f3</th>\n",
       "      <th>f4</th>\n",
       "      <th>f5</th>\n",
       "      <th>f6</th>\n",
       "      <th>f7</th>\n",
       "      <th>f8</th>\n",
       "      <th>f9</th>\n",
       "      <th>...</th>\n",
       "      <th>f277</th>\n",
       "      <th>f278</th>\n",
       "      <th>f279</th>\n",
       "      <th>f280</th>\n",
       "      <th>f281</th>\n",
       "      <th>f282</th>\n",
       "      <th>f283</th>\n",
       "      <th>f284</th>\n",
       "      <th>target</th>\n",
       "      <th>cluster</th>\n",
       "    </tr>\n",
       "  </thead>\n",
       "  <tbody>\n",
       "    <tr>\n",
       "      <th>0</th>\n",
       "      <td>0.205979</td>\n",
       "      <td>0.410993</td>\n",
       "      <td>0.176775</td>\n",
       "      <td>0.223581</td>\n",
       "      <td>0.423543</td>\n",
       "      <td>0.476140</td>\n",
       "      <td>0.413590</td>\n",
       "      <td>0.612021</td>\n",
       "      <td>0.534873</td>\n",
       "      <td>0.147295</td>\n",
       "      <td>...</td>\n",
       "      <td>1</td>\n",
       "      <td>0</td>\n",
       "      <td>0</td>\n",
       "      <td>0</td>\n",
       "      <td>0</td>\n",
       "      <td>0</td>\n",
       "      <td>0</td>\n",
       "      <td>0</td>\n",
       "      <td>1</td>\n",
       "      <td>3</td>\n",
       "    </tr>\n",
       "    <tr>\n",
       "      <th>1</th>\n",
       "      <td>0.181004</td>\n",
       "      <td>0.473119</td>\n",
       "      <td>0.011734</td>\n",
       "      <td>0.213657</td>\n",
       "      <td>0.619678</td>\n",
       "      <td>0.441593</td>\n",
       "      <td>0.230407</td>\n",
       "      <td>0.686013</td>\n",
       "      <td>0.281971</td>\n",
       "      <td>0.238509</td>\n",
       "      <td>...</td>\n",
       "      <td>1</td>\n",
       "      <td>0</td>\n",
       "      <td>0</td>\n",
       "      <td>0</td>\n",
       "      <td>0</td>\n",
       "      <td>0</td>\n",
       "      <td>0</td>\n",
       "      <td>0</td>\n",
       "      <td>1</td>\n",
       "      <td>5</td>\n",
       "    </tr>\n",
       "    <tr>\n",
       "      <th>2</th>\n",
       "      <td>0.182583</td>\n",
       "      <td>0.307431</td>\n",
       "      <td>0.325950</td>\n",
       "      <td>0.207116</td>\n",
       "      <td>0.605699</td>\n",
       "      <td>0.309695</td>\n",
       "      <td>0.493337</td>\n",
       "      <td>0.751107</td>\n",
       "      <td>0.536272</td>\n",
       "      <td>0.286813</td>\n",
       "      <td>...</td>\n",
       "      <td>0</td>\n",
       "      <td>0</td>\n",
       "      <td>1</td>\n",
       "      <td>1</td>\n",
       "      <td>0</td>\n",
       "      <td>0</td>\n",
       "      <td>0</td>\n",
       "      <td>0</td>\n",
       "      <td>1</td>\n",
       "      <td>1</td>\n",
       "    </tr>\n",
       "    <tr>\n",
       "      <th>3</th>\n",
       "      <td>0.180240</td>\n",
       "      <td>0.494592</td>\n",
       "      <td>0.008367</td>\n",
       "      <td>0.223580</td>\n",
       "      <td>0.760618</td>\n",
       "      <td>0.439211</td>\n",
       "      <td>0.432055</td>\n",
       "      <td>0.776147</td>\n",
       "      <td>0.483958</td>\n",
       "      <td>0.260886</td>\n",
       "      <td>...</td>\n",
       "      <td>0</td>\n",
       "      <td>0</td>\n",
       "      <td>0</td>\n",
       "      <td>1</td>\n",
       "      <td>0</td>\n",
       "      <td>0</td>\n",
       "      <td>0</td>\n",
       "      <td>0</td>\n",
       "      <td>1</td>\n",
       "      <td>0</td>\n",
       "    </tr>\n",
       "    <tr>\n",
       "      <th>4</th>\n",
       "      <td>0.177172</td>\n",
       "      <td>0.495513</td>\n",
       "      <td>0.014263</td>\n",
       "      <td>0.548819</td>\n",
       "      <td>0.625396</td>\n",
       "      <td>0.562493</td>\n",
       "      <td>0.117158</td>\n",
       "      <td>0.561255</td>\n",
       "      <td>0.077115</td>\n",
       "      <td>0.158321</td>\n",
       "      <td>...</td>\n",
       "      <td>1</td>\n",
       "      <td>1</td>\n",
       "      <td>0</td>\n",
       "      <td>1</td>\n",
       "      <td>0</td>\n",
       "      <td>0</td>\n",
       "      <td>1</td>\n",
       "      <td>0</td>\n",
       "      <td>1</td>\n",
       "      <td>2</td>\n",
       "    </tr>\n",
       "  </tbody>\n",
       "</table>\n",
       "<p>5 rows × 287 columns</p>\n",
       "</div>"
      ],
      "text/plain": [
       "         f0        f1        f2        f3        f4        f5        f6  \\\n",
       "0  0.205979  0.410993  0.176775  0.223581  0.423543  0.476140  0.413590   \n",
       "1  0.181004  0.473119  0.011734  0.213657  0.619678  0.441593  0.230407   \n",
       "2  0.182583  0.307431  0.325950  0.207116  0.605699  0.309695  0.493337   \n",
       "3  0.180240  0.494592  0.008367  0.223580  0.760618  0.439211  0.432055   \n",
       "4  0.177172  0.495513  0.014263  0.548819  0.625396  0.562493  0.117158   \n",
       "\n",
       "         f7        f8        f9  ...  f277  f278  f279  f280  f281  f282  \\\n",
       "0  0.612021  0.534873  0.147295  ...     1     0     0     0     0     0   \n",
       "1  0.686013  0.281971  0.238509  ...     1     0     0     0     0     0   \n",
       "2  0.751107  0.536272  0.286813  ...     0     0     1     1     0     0   \n",
       "3  0.776147  0.483958  0.260886  ...     0     0     0     1     0     0   \n",
       "4  0.561255  0.077115  0.158321  ...     1     1     0     1     0     0   \n",
       "\n",
       "   f283  f284  target  cluster  \n",
       "0     0     0       1        3  \n",
       "1     0     0       1        5  \n",
       "2     0     0       1        1  \n",
       "3     0     0       1        0  \n",
       "4     1     0       1        2  \n",
       "\n",
       "[5 rows x 287 columns]"
      ]
     },
     "execution_count": 10,
     "metadata": {},
     "output_type": "execute_result"
    }
   ],
   "source": [
    "n_clusters=6\n",
    "kmeans = KMeans(n_clusters=n_clusters, n_init= 20, random_state=SEED)\n",
    "train[\"cluster\"] = kmeans.fit_predict(train[features])\n",
    "\n",
    "train.head()"
   ]
  },
  {
   "cell_type": "code",
   "execution_count": 11,
   "id": "bdd21bc3",
   "metadata": {
    "execution": {
     "iopub.execute_input": "2021-10-10T14:12:21.737565Z",
     "iopub.status.busy": "2021-10-10T14:12:21.736795Z",
     "iopub.status.idle": "2021-10-10T14:12:22.929536Z",
     "shell.execute_reply": "2021-10-10T14:12:22.930121Z"
    },
    "papermill": {
     "duration": 1.231759,
     "end_time": "2021-10-10T14:12:22.930341",
     "exception": false,
     "start_time": "2021-10-10T14:12:21.698582",
     "status": "completed"
    },
    "tags": []
   },
   "outputs": [],
   "source": [
    "test[\"cluster\"] = kmeans.predict(test[features])\n",
    "\n",
    "features += [\"cluster\"]"
   ]
  },
  {
   "cell_type": "code",
   "execution_count": 12,
   "id": "b4be32f7",
   "metadata": {
    "execution": {
     "iopub.execute_input": "2021-10-10T14:12:23.006737Z",
     "iopub.status.busy": "2021-10-10T14:12:23.005950Z",
     "iopub.status.idle": "2021-10-10T14:12:23.612935Z",
     "shell.execute_reply": "2021-10-10T14:12:23.613543Z"
    },
    "papermill": {
     "duration": 0.651391,
     "end_time": "2021-10-10T14:12:23.613754",
     "exception": false,
     "start_time": "2021-10-10T14:12:22.962363",
     "status": "completed"
    },
    "tags": []
   },
   "outputs": [
    {
     "data": {
      "image/png": "[encoded data removed]",
      "text/plain": [
       "<Figure size 720x360 with 1 Axes>"
      ]
     },
     "metadata": {
      "needs_background": "light"
     },
     "output_type": "display_data"
    }
   ],
   "source": [
    "fig = plt.figure(figsize = (10,5))\n",
    "ax = sns.countplot(data=train, x='cluster', hue=\"target\")\n",
    "for p in ax.patches:\n",
    "    ax.annotate(f'\\n{p.get_height()}', (p.get_x()+0.2, p.get_height()), ha='center', va='top', color='white', size=5)\n",
    "plt.show()"
   ]
  },
  {
   "cell_type": "code",
   "execution_count": 13,
   "id": "b953456f",
   "metadata": {
    "execution": {
     "iopub.execute_input": "2021-10-10T14:12:23.700366Z",
     "iopub.status.busy": "2021-10-10T14:12:23.699660Z",
     "iopub.status.idle": "2021-10-10T14:12:24.352667Z",
     "shell.execute_reply": "2021-10-10T14:12:24.352115Z"
    },
    "papermill": {
     "duration": 0.705054,
     "end_time": "2021-10-10T14:12:24.352827",
     "exception": false,
     "start_time": "2021-10-10T14:12:23.647773",
     "status": "completed"
    },
    "tags": []
   },
   "outputs": [
    {
     "data": {
      "text/html": [
       "<div>\n",
       "<style scoped>\n",
       "    .dataframe tbody tr th:only-of-type {\n",
       "        vertical-align: middle;\n",
       "    }\n",
       "\n",
       "    .dataframe tbody tr th {\n",
       "        vertical-align: top;\n",
       "    }\n",
       "\n",
       "    .dataframe thead th {\n",
       "        text-align: right;\n",
       "    }\n",
       "</style>\n",
       "<table border=\"1\" class=\"dataframe\">\n",
       "  <thead>\n",
       "    <tr style=\"text-align: right;\">\n",
       "      <th></th>\n",
       "      <th>f0</th>\n",
       "      <th>f1</th>\n",
       "      <th>f2</th>\n",
       "      <th>f3</th>\n",
       "      <th>f4</th>\n",
       "      <th>f5</th>\n",
       "      <th>f6</th>\n",
       "      <th>f7</th>\n",
       "      <th>f8</th>\n",
       "      <th>f9</th>\n",
       "      <th>...</th>\n",
       "      <th>f283</th>\n",
       "      <th>f284</th>\n",
       "      <th>target</th>\n",
       "      <th>cluster</th>\n",
       "      <th>cluster1</th>\n",
       "      <th>cluster2</th>\n",
       "      <th>cluster3</th>\n",
       "      <th>cluster4</th>\n",
       "      <th>cluster5</th>\n",
       "      <th>cluster6</th>\n",
       "    </tr>\n",
       "  </thead>\n",
       "  <tbody>\n",
       "    <tr>\n",
       "      <th>0</th>\n",
       "      <td>0.205979</td>\n",
       "      <td>0.410993</td>\n",
       "      <td>0.176775</td>\n",
       "      <td>0.223581</td>\n",
       "      <td>0.423543</td>\n",
       "      <td>0.476140</td>\n",
       "      <td>0.413590</td>\n",
       "      <td>0.612021</td>\n",
       "      <td>0.534873</td>\n",
       "      <td>0.147295</td>\n",
       "      <td>...</td>\n",
       "      <td>0</td>\n",
       "      <td>0</td>\n",
       "      <td>1</td>\n",
       "      <td>3</td>\n",
       "      <td>0.0</td>\n",
       "      <td>0.0</td>\n",
       "      <td>0.0</td>\n",
       "      <td>1.0</td>\n",
       "      <td>0.0</td>\n",
       "      <td>0.0</td>\n",
       "    </tr>\n",
       "    <tr>\n",
       "      <th>1</th>\n",
       "      <td>0.181004</td>\n",
       "      <td>0.473119</td>\n",
       "      <td>0.011734</td>\n",
       "      <td>0.213657</td>\n",
       "      <td>0.619678</td>\n",
       "      <td>0.441593</td>\n",
       "      <td>0.230407</td>\n",
       "      <td>0.686013</td>\n",
       "      <td>0.281971</td>\n",
       "      <td>0.238509</td>\n",
       "      <td>...</td>\n",
       "      <td>0</td>\n",
       "      <td>0</td>\n",
       "      <td>1</td>\n",
       "      <td>5</td>\n",
       "      <td>0.0</td>\n",
       "      <td>0.0</td>\n",
       "      <td>0.0</td>\n",
       "      <td>0.0</td>\n",
       "      <td>0.0</td>\n",
       "      <td>1.0</td>\n",
       "    </tr>\n",
       "    <tr>\n",
       "      <th>2</th>\n",
       "      <td>0.182583</td>\n",
       "      <td>0.307431</td>\n",
       "      <td>0.325950</td>\n",
       "      <td>0.207116</td>\n",
       "      <td>0.605699</td>\n",
       "      <td>0.309695</td>\n",
       "      <td>0.493337</td>\n",
       "      <td>0.751107</td>\n",
       "      <td>0.536272</td>\n",
       "      <td>0.286813</td>\n",
       "      <td>...</td>\n",
       "      <td>0</td>\n",
       "      <td>0</td>\n",
       "      <td>1</td>\n",
       "      <td>1</td>\n",
       "      <td>0.0</td>\n",
       "      <td>1.0</td>\n",
       "      <td>0.0</td>\n",
       "      <td>0.0</td>\n",
       "      <td>0.0</td>\n",
       "      <td>0.0</td>\n",
       "    </tr>\n",
       "    <tr>\n",
       "      <th>3</th>\n",
       "      <td>0.180240</td>\n",
       "      <td>0.494592</td>\n",
       "      <td>0.008367</td>\n",
       "      <td>0.223580</td>\n",
       "      <td>0.760618</td>\n",
       "      <td>0.439211</td>\n",
       "      <td>0.432055</td>\n",
       "      <td>0.776147</td>\n",
       "      <td>0.483958</td>\n",
       "      <td>0.260886</td>\n",
       "      <td>...</td>\n",
       "      <td>0</td>\n",
       "      <td>0</td>\n",
       "      <td>1</td>\n",
       "      <td>0</td>\n",
       "      <td>1.0</td>\n",
       "      <td>0.0</td>\n",
       "      <td>0.0</td>\n",
       "      <td>0.0</td>\n",
       "      <td>0.0</td>\n",
       "      <td>0.0</td>\n",
       "    </tr>\n",
       "    <tr>\n",
       "      <th>4</th>\n",
       "      <td>0.177172</td>\n",
       "      <td>0.495513</td>\n",
       "      <td>0.014263</td>\n",
       "      <td>0.548819</td>\n",
       "      <td>0.625396</td>\n",
       "      <td>0.562493</td>\n",
       "      <td>0.117158</td>\n",
       "      <td>0.561255</td>\n",
       "      <td>0.077115</td>\n",
       "      <td>0.158321</td>\n",
       "      <td>...</td>\n",
       "      <td>1</td>\n",
       "      <td>0</td>\n",
       "      <td>1</td>\n",
       "      <td>2</td>\n",
       "      <td>0.0</td>\n",
       "      <td>0.0</td>\n",
       "      <td>1.0</td>\n",
       "      <td>0.0</td>\n",
       "      <td>0.0</td>\n",
       "      <td>0.0</td>\n",
       "    </tr>\n",
       "  </tbody>\n",
       "</table>\n",
       "<p>5 rows × 293 columns</p>\n",
       "</div>"
      ],
      "text/plain": [
       "         f0        f1        f2        f3        f4        f5        f6  \\\n",
       "0  0.205979  0.410993  0.176775  0.223581  0.423543  0.476140  0.413590   \n",
       "1  0.181004  0.473119  0.011734  0.213657  0.619678  0.441593  0.230407   \n",
       "2  0.182583  0.307431  0.325950  0.207116  0.605699  0.309695  0.493337   \n",
       "3  0.180240  0.494592  0.008367  0.223580  0.760618  0.439211  0.432055   \n",
       "4  0.177172  0.495513  0.014263  0.548819  0.625396  0.562493  0.117158   \n",
       "\n",
       "         f7        f8        f9  ...  f283  f284  target  cluster  cluster1  \\\n",
       "0  0.612021  0.534873  0.147295  ...     0     0       1        3       0.0   \n",
       "1  0.686013  0.281971  0.238509  ...     0     0       1        5       0.0   \n",
       "2  0.751107  0.536272  0.286813  ...     0     0       1        1       0.0   \n",
       "3  0.776147  0.483958  0.260886  ...     0     0       1        0       1.0   \n",
       "4  0.561255  0.077115  0.158321  ...     1     0       1        2       0.0   \n",
       "\n",
       "   cluster2  cluster3  cluster4  cluster5  cluster6  \n",
       "0       0.0       0.0       1.0       0.0       0.0  \n",
       "1       0.0       0.0       0.0       0.0       1.0  \n",
       "2       1.0       0.0       0.0       0.0       0.0  \n",
       "3       0.0       0.0       0.0       0.0       0.0  \n",
       "4       0.0       1.0       0.0       0.0       0.0  \n",
       "\n",
       "[5 rows x 293 columns]"
      ]
     },
     "execution_count": 13,
     "metadata": {},
     "output_type": "execute_result"
    }
   ],
   "source": [
    "ohe = OneHotEncoder()\n",
    "X_ohe = ohe.fit_transform(np.array(train[\"cluster\"]).reshape(-1,1)).toarray()\n",
    "T_ohe = ohe.transform(np.array(test[\"cluster\"]).reshape(-1,1)).toarray()\n",
    "\n",
    "ohe_cols = [f\"cluster{i+1}\" for i in range(n_clusters)]\n",
    "\n",
    "X_ohe = pd.DataFrame(X_ohe, columns=ohe_cols, index=train.index)\n",
    "T_ohe = pd.DataFrame(T_ohe, columns=ohe_cols, index=test.index)\n",
    "\n",
    "train = pd.concat([train, X_ohe],axis=1)\n",
    "test = pd.concat([test, T_ohe],axis=1)\n",
    "\n",
    "train.head()"
   ]
  },
  {
   "cell_type": "code",
   "execution_count": 14,
   "id": "dca60e80",
   "metadata": {
    "execution": {
     "iopub.execute_input": "2021-10-10T14:12:24.417080Z",
     "iopub.status.busy": "2021-10-10T14:12:24.415736Z",
     "iopub.status.idle": "2021-10-10T14:12:25.787203Z",
     "shell.execute_reply": "2021-10-10T14:12:25.786623Z"
    },
    "papermill": {
     "duration": 1.406355,
     "end_time": "2021-10-10T14:12:25.787358",
     "exception": false,
     "start_time": "2021-10-10T14:12:24.381003",
     "status": "completed"
    },
    "tags": []
   },
   "outputs": [],
   "source": [
    "features.pop(-1)\n",
    "features += ohe_cols \n",
    "\n",
    "train.drop(\"cluster\", axis=1, inplace=True)\n",
    "test.drop(\"cluster\", axis=1, inplace=True)"
   ]
  },
  {
   "cell_type": "markdown",
   "id": "2339e19c",
   "metadata": {
    "papermill": {
     "duration": 0.027864,
     "end_time": "2021-10-10T14:12:25.844103",
     "exception": false,
     "start_time": "2021-10-10T14:12:25.816239",
     "status": "completed"
    },
    "tags": []
   },
   "source": [
    "# PCA"
   ]
  },
  {
   "cell_type": "code",
   "execution_count": 15,
   "id": "2575077f",
   "metadata": {
    "execution": {
     "iopub.execute_input": "2021-10-10T14:12:25.910886Z",
     "iopub.status.busy": "2021-10-10T14:12:25.909225Z",
     "iopub.status.idle": "2021-10-10T14:12:50.546220Z",
     "shell.execute_reply": "2021-10-10T14:12:50.546948Z"
    },
    "papermill": {
     "duration": 24.674772,
     "end_time": "2021-10-10T14:12:50.547137",
     "exception": false,
     "start_time": "2021-10-10T14:12:25.872365",
     "status": "completed"
    },
    "tags": []
   },
   "outputs": [
    {
     "data": {
      "text/html": [
       "<div>\n",
       "<style scoped>\n",
       "    .dataframe tbody tr th:only-of-type {\n",
       "        vertical-align: middle;\n",
       "    }\n",
       "\n",
       "    .dataframe tbody tr th {\n",
       "        vertical-align: top;\n",
       "    }\n",
       "\n",
       "    .dataframe thead th {\n",
       "        text-align: right;\n",
       "    }\n",
       "</style>\n",
       "<table border=\"1\" class=\"dataframe\">\n",
       "  <thead>\n",
       "    <tr style=\"text-align: right;\">\n",
       "      <th></th>\n",
       "      <th>f0</th>\n",
       "      <th>f1</th>\n",
       "      <th>f2</th>\n",
       "      <th>f3</th>\n",
       "      <th>f4</th>\n",
       "      <th>f5</th>\n",
       "      <th>f6</th>\n",
       "      <th>f7</th>\n",
       "      <th>f8</th>\n",
       "      <th>f9</th>\n",
       "      <th>...</th>\n",
       "      <th>f284</th>\n",
       "      <th>target</th>\n",
       "      <th>cluster1</th>\n",
       "      <th>cluster2</th>\n",
       "      <th>cluster3</th>\n",
       "      <th>cluster4</th>\n",
       "      <th>cluster5</th>\n",
       "      <th>cluster6</th>\n",
       "      <th>PC1</th>\n",
       "      <th>PC2</th>\n",
       "    </tr>\n",
       "  </thead>\n",
       "  <tbody>\n",
       "    <tr>\n",
       "      <th>0</th>\n",
       "      <td>0.205979</td>\n",
       "      <td>0.410993</td>\n",
       "      <td>0.176775</td>\n",
       "      <td>0.223581</td>\n",
       "      <td>0.423543</td>\n",
       "      <td>0.476140</td>\n",
       "      <td>0.413590</td>\n",
       "      <td>0.612021</td>\n",
       "      <td>0.534873</td>\n",
       "      <td>0.147295</td>\n",
       "      <td>...</td>\n",
       "      <td>0</td>\n",
       "      <td>1</td>\n",
       "      <td>0.0</td>\n",
       "      <td>0.0</td>\n",
       "      <td>0.0</td>\n",
       "      <td>1.0</td>\n",
       "      <td>0.0</td>\n",
       "      <td>0.0</td>\n",
       "      <td>-0.142818</td>\n",
       "      <td>-0.590359</td>\n",
       "    </tr>\n",
       "    <tr>\n",
       "      <th>1</th>\n",
       "      <td>0.181004</td>\n",
       "      <td>0.473119</td>\n",
       "      <td>0.011734</td>\n",
       "      <td>0.213657</td>\n",
       "      <td>0.619678</td>\n",
       "      <td>0.441593</td>\n",
       "      <td>0.230407</td>\n",
       "      <td>0.686013</td>\n",
       "      <td>0.281971</td>\n",
       "      <td>0.238509</td>\n",
       "      <td>...</td>\n",
       "      <td>0</td>\n",
       "      <td>1</td>\n",
       "      <td>0.0</td>\n",
       "      <td>0.0</td>\n",
       "      <td>0.0</td>\n",
       "      <td>0.0</td>\n",
       "      <td>0.0</td>\n",
       "      <td>1.0</td>\n",
       "      <td>1.092288</td>\n",
       "      <td>-0.171696</td>\n",
       "    </tr>\n",
       "    <tr>\n",
       "      <th>2</th>\n",
       "      <td>0.182583</td>\n",
       "      <td>0.307431</td>\n",
       "      <td>0.325950</td>\n",
       "      <td>0.207116</td>\n",
       "      <td>0.605699</td>\n",
       "      <td>0.309695</td>\n",
       "      <td>0.493337</td>\n",
       "      <td>0.751107</td>\n",
       "      <td>0.536272</td>\n",
       "      <td>0.286813</td>\n",
       "      <td>...</td>\n",
       "      <td>0</td>\n",
       "      <td>1</td>\n",
       "      <td>0.0</td>\n",
       "      <td>1.0</td>\n",
       "      <td>0.0</td>\n",
       "      <td>0.0</td>\n",
       "      <td>0.0</td>\n",
       "      <td>0.0</td>\n",
       "      <td>0.331140</td>\n",
       "      <td>1.049479</td>\n",
       "    </tr>\n",
       "    <tr>\n",
       "      <th>3</th>\n",
       "      <td>0.180240</td>\n",
       "      <td>0.494592</td>\n",
       "      <td>0.008367</td>\n",
       "      <td>0.223580</td>\n",
       "      <td>0.760618</td>\n",
       "      <td>0.439211</td>\n",
       "      <td>0.432055</td>\n",
       "      <td>0.776147</td>\n",
       "      <td>0.483958</td>\n",
       "      <td>0.260886</td>\n",
       "      <td>...</td>\n",
       "      <td>0</td>\n",
       "      <td>1</td>\n",
       "      <td>1.0</td>\n",
       "      <td>0.0</td>\n",
       "      <td>0.0</td>\n",
       "      <td>0.0</td>\n",
       "      <td>0.0</td>\n",
       "      <td>0.0</td>\n",
       "      <td>-0.848571</td>\n",
       "      <td>0.277905</td>\n",
       "    </tr>\n",
       "    <tr>\n",
       "      <th>4</th>\n",
       "      <td>0.177172</td>\n",
       "      <td>0.495513</td>\n",
       "      <td>0.014263</td>\n",
       "      <td>0.548819</td>\n",
       "      <td>0.625396</td>\n",
       "      <td>0.562493</td>\n",
       "      <td>0.117158</td>\n",
       "      <td>0.561255</td>\n",
       "      <td>0.077115</td>\n",
       "      <td>0.158321</td>\n",
       "      <td>...</td>\n",
       "      <td>0</td>\n",
       "      <td>1</td>\n",
       "      <td>0.0</td>\n",
       "      <td>0.0</td>\n",
       "      <td>1.0</td>\n",
       "      <td>0.0</td>\n",
       "      <td>0.0</td>\n",
       "      <td>0.0</td>\n",
       "      <td>-0.619083</td>\n",
       "      <td>0.351868</td>\n",
       "    </tr>\n",
       "  </tbody>\n",
       "</table>\n",
       "<p>5 rows × 294 columns</p>\n",
       "</div>"
      ],
      "text/plain": [
       "         f0        f1        f2        f3        f4        f5        f6  \\\n",
       "0  0.205979  0.410993  0.176775  0.223581  0.423543  0.476140  0.413590   \n",
       "1  0.181004  0.473119  0.011734  0.213657  0.619678  0.441593  0.230407   \n",
       "2  0.182583  0.307431  0.325950  0.207116  0.605699  0.309695  0.493337   \n",
       "3  0.180240  0.494592  0.008367  0.223580  0.760618  0.439211  0.432055   \n",
       "4  0.177172  0.495513  0.014263  0.548819  0.625396  0.562493  0.117158   \n",
       "\n",
       "         f7        f8        f9  ...  f284  target  cluster1  cluster2  \\\n",
       "0  0.612021  0.534873  0.147295  ...     0       1       0.0       0.0   \n",
       "1  0.686013  0.281971  0.238509  ...     0       1       0.0       0.0   \n",
       "2  0.751107  0.536272  0.286813  ...     0       1       0.0       1.0   \n",
       "3  0.776147  0.483958  0.260886  ...     0       1       1.0       0.0   \n",
       "4  0.561255  0.077115  0.158321  ...     0       1       0.0       0.0   \n",
       "\n",
       "   cluster3  cluster4  cluster5  cluster6       PC1       PC2  \n",
       "0       0.0       1.0       0.0       0.0 -0.142818 -0.590359  \n",
       "1       0.0       0.0       0.0       1.0  1.092288 -0.171696  \n",
       "2       0.0       0.0       0.0       0.0  0.331140  1.049479  \n",
       "3       0.0       0.0       0.0       0.0 -0.848571  0.277905  \n",
       "4       1.0       0.0       0.0       0.0 -0.619083  0.351868  \n",
       "\n",
       "[5 rows x 294 columns]"
      ]
     },
     "execution_count": 15,
     "metadata": {},
     "output_type": "execute_result"
    }
   ],
   "source": [
    "pca = PCA(n_components=2)\n",
    "X_pca = pca.fit_transform(train[features])\n",
    "T_pca = pca.transform(test[features])\n",
    "\n",
    "pca_cols = [\"PC1\",\"PC2\"]\n",
    "\n",
    "X_pca = pd.DataFrame(X_pca, columns=pca_cols, index=train.index)\n",
    "T_pca = pd.DataFrame(T_pca, columns=pca_cols, index=test.index)\n",
    "\n",
    "train = pd.concat([train, X_pca], axis=1)\n",
    "test = pd.concat([test, T_pca], axis=1)\n",
    "train.head()"
   ]
  },
  {
   "cell_type": "code",
   "execution_count": 16,
   "id": "9de80565",
   "metadata": {
    "execution": {
     "iopub.execute_input": "2021-10-10T14:12:50.608874Z",
     "iopub.status.busy": "2021-10-10T14:12:50.608190Z",
     "iopub.status.idle": "2021-10-10T14:13:22.245445Z",
     "shell.execute_reply": "2021-10-10T14:13:22.245975Z"
    },
    "papermill": {
     "duration": 31.669699,
     "end_time": "2021-10-10T14:13:22.246144",
     "exception": false,
     "start_time": "2021-10-10T14:12:50.576445",
     "status": "completed"
    },
    "tags": []
   },
   "outputs": [
    {
     "data": {
      "image/png": "[encoded data removed]",
      "text/plain": [
       "<Figure size 720x576 with 1 Axes>"
      ]
     },
     "metadata": {
      "needs_background": "light"
     },
     "output_type": "display_data"
    }
   ],
   "source": [
    "fig = plt.figure(figsize = (10,8))\n",
    "sns.scatterplot(data=train, x=\"PC1\", y=\"PC2\", hue=\"target\")\n",
    "plt.show()"
   ]
  },
  {
   "cell_type": "code",
   "execution_count": 17,
   "id": "fd9ea71a",
   "metadata": {
    "execution": {
     "iopub.execute_input": "2021-10-10T14:13:22.316717Z",
     "iopub.status.busy": "2021-10-10T14:13:22.315953Z",
     "iopub.status.idle": "2021-10-10T14:13:22.320309Z",
     "shell.execute_reply": "2021-10-10T14:13:22.319696Z"
    },
    "papermill": {
     "duration": 0.040258,
     "end_time": "2021-10-10T14:13:22.320464",
     "exception": false,
     "start_time": "2021-10-10T14:13:22.280206",
     "status": "completed"
    },
    "tags": []
   },
   "outputs": [
    {
     "name": "stdout",
     "output_type": "stream",
     "text": [
      "287\n"
     ]
    }
   ],
   "source": [
    "# I do remove k-means cluster columns to feature columns, since the results was not so good and it couldn't to separate them well. \n",
    "# You can tune it in order to get better results\n",
    "# Note that I included cluster columns in PCA processing. So I got a different PCA results. You can test PCA without cluster columns. \n",
    "for _ in range(n_clusters):\n",
    "    features.pop(-1)\n",
    "\n",
    "features += pca_cols\n",
    "\n",
    "print(len(features))"
   ]
  },
  {
   "cell_type": "code",
   "execution_count": 18,
   "id": "05384ec8",
   "metadata": {
    "execution": {
     "iopub.execute_input": "2021-10-10T14:13:22.500193Z",
     "iopub.status.busy": "2021-10-10T14:13:22.499447Z",
     "iopub.status.idle": "2021-10-10T14:13:22.502557Z",
     "shell.execute_reply": "2021-10-10T14:13:22.503006Z"
    },
    "papermill": {
     "duration": 0.151683,
     "end_time": "2021-10-10T14:13:22.503178",
     "exception": false,
     "start_time": "2021-10-10T14:13:22.351495",
     "status": "completed"
    },
    "tags": []
   },
   "outputs": [
    {
     "data": {
      "text/plain": [
       "3529"
      ]
     },
     "execution_count": 18,
     "metadata": {},
     "output_type": "execute_result"
    }
   ],
   "source": [
    "del n_clusters\n",
    "del kmeans\n",
    "del fig\n",
    "del ax\n",
    "del ohe\n",
    "del X_ohe\n",
    "del T_ohe\n",
    "del ohe_cols\n",
    "del pca\n",
    "del X_pca\n",
    "del T_pca\n",
    "del pca_cols\n",
    "\n",
    "gc.collect()"
   ]
  },
  {
   "cell_type": "code",
   "execution_count": 19,
   "id": "bac1c143",
   "metadata": {
    "execution": {
     "iopub.execute_input": "2021-10-10T14:13:22.571799Z",
     "iopub.status.busy": "2021-10-10T14:13:22.571095Z",
     "iopub.status.idle": "2021-10-10T14:13:23.025521Z",
     "shell.execute_reply": "2021-10-10T14:13:23.026020Z"
    },
    "papermill": {
     "duration": 0.491397,
     "end_time": "2021-10-10T14:13:23.026195",
     "exception": false,
     "start_time": "2021-10-10T14:13:22.534798",
     "status": "completed"
    },
    "tags": []
   },
   "outputs": [
    {
     "data": {
      "text/html": [
       "<div>\n",
       "<style scoped>\n",
       "    .dataframe tbody tr th:only-of-type {\n",
       "        vertical-align: middle;\n",
       "    }\n",
       "\n",
       "    .dataframe tbody tr th {\n",
       "        vertical-align: top;\n",
       "    }\n",
       "\n",
       "    .dataframe thead th {\n",
       "        text-align: right;\n",
       "    }\n",
       "</style>\n",
       "<table border=\"1\" class=\"dataframe\">\n",
       "  <thead>\n",
       "    <tr style=\"text-align: right;\">\n",
       "      <th></th>\n",
       "      <th>f22</th>\n",
       "      <th>f43</th>\n",
       "      <th>f242</th>\n",
       "      <th>f243</th>\n",
       "      <th>f244</th>\n",
       "      <th>f245</th>\n",
       "      <th>f246</th>\n",
       "      <th>f247</th>\n",
       "      <th>f248</th>\n",
       "      <th>f249</th>\n",
       "      <th>...</th>\n",
       "      <th>f234</th>\n",
       "      <th>f235</th>\n",
       "      <th>f236</th>\n",
       "      <th>f237</th>\n",
       "      <th>f238</th>\n",
       "      <th>f239</th>\n",
       "      <th>f240</th>\n",
       "      <th>f241</th>\n",
       "      <th>PC1</th>\n",
       "      <th>PC2</th>\n",
       "    </tr>\n",
       "  </thead>\n",
       "  <tbody>\n",
       "    <tr>\n",
       "      <th>0</th>\n",
       "      <td>0</td>\n",
       "      <td>1</td>\n",
       "      <td>0</td>\n",
       "      <td>0</td>\n",
       "      <td>1</td>\n",
       "      <td>0</td>\n",
       "      <td>1</td>\n",
       "      <td>1</td>\n",
       "      <td>0</td>\n",
       "      <td>0</td>\n",
       "      <td>...</td>\n",
       "      <td>0.092359</td>\n",
       "      <td>0.152883</td>\n",
       "      <td>0.266000</td>\n",
       "      <td>0.006716</td>\n",
       "      <td>0.196959</td>\n",
       "      <td>0.022934</td>\n",
       "      <td>0.199017</td>\n",
       "      <td>0.150822</td>\n",
       "      <td>0.323270</td>\n",
       "      <td>1.075940</td>\n",
       "    </tr>\n",
       "    <tr>\n",
       "      <th>1</th>\n",
       "      <td>1</td>\n",
       "      <td>0</td>\n",
       "      <td>0</td>\n",
       "      <td>0</td>\n",
       "      <td>0</td>\n",
       "      <td>1</td>\n",
       "      <td>1</td>\n",
       "      <td>1</td>\n",
       "      <td>0</td>\n",
       "      <td>0</td>\n",
       "      <td>...</td>\n",
       "      <td>0.126690</td>\n",
       "      <td>0.128326</td>\n",
       "      <td>0.182899</td>\n",
       "      <td>0.003132</td>\n",
       "      <td>0.190789</td>\n",
       "      <td>0.195818</td>\n",
       "      <td>0.136427</td>\n",
       "      <td>0.200248</td>\n",
       "      <td>0.338574</td>\n",
       "      <td>1.062337</td>\n",
       "    </tr>\n",
       "    <tr>\n",
       "      <th>2</th>\n",
       "      <td>0</td>\n",
       "      <td>0</td>\n",
       "      <td>0</td>\n",
       "      <td>1</td>\n",
       "      <td>1</td>\n",
       "      <td>1</td>\n",
       "      <td>1</td>\n",
       "      <td>1</td>\n",
       "      <td>0</td>\n",
       "      <td>1</td>\n",
       "      <td>...</td>\n",
       "      <td>0.276899</td>\n",
       "      <td>0.194539</td>\n",
       "      <td>0.283591</td>\n",
       "      <td>0.005843</td>\n",
       "      <td>0.123439</td>\n",
       "      <td>0.199566</td>\n",
       "      <td>0.217159</td>\n",
       "      <td>0.229726</td>\n",
       "      <td>-0.144531</td>\n",
       "      <td>-0.586814</td>\n",
       "    </tr>\n",
       "    <tr>\n",
       "      <th>3</th>\n",
       "      <td>0</td>\n",
       "      <td>0</td>\n",
       "      <td>0</td>\n",
       "      <td>0</td>\n",
       "      <td>0</td>\n",
       "      <td>0</td>\n",
       "      <td>1</td>\n",
       "      <td>1</td>\n",
       "      <td>0</td>\n",
       "      <td>1</td>\n",
       "      <td>...</td>\n",
       "      <td>0.268194</td>\n",
       "      <td>0.263770</td>\n",
       "      <td>0.487931</td>\n",
       "      <td>0.008247</td>\n",
       "      <td>0.140777</td>\n",
       "      <td>0.042808</td>\n",
       "      <td>0.196403</td>\n",
       "      <td>0.166039</td>\n",
       "      <td>0.269988</td>\n",
       "      <td>1.011533</td>\n",
       "    </tr>\n",
       "    <tr>\n",
       "      <th>4</th>\n",
       "      <td>1</td>\n",
       "      <td>0</td>\n",
       "      <td>0</td>\n",
       "      <td>1</td>\n",
       "      <td>0</td>\n",
       "      <td>1</td>\n",
       "      <td>1</td>\n",
       "      <td>0</td>\n",
       "      <td>0</td>\n",
       "      <td>0</td>\n",
       "      <td>...</td>\n",
       "      <td>0.191478</td>\n",
       "      <td>0.126863</td>\n",
       "      <td>0.168593</td>\n",
       "      <td>0.319238</td>\n",
       "      <td>0.155194</td>\n",
       "      <td>0.205401</td>\n",
       "      <td>0.196158</td>\n",
       "      <td>0.327414</td>\n",
       "      <td>-0.135397</td>\n",
       "      <td>-0.591547</td>\n",
       "    </tr>\n",
       "    <tr>\n",
       "      <th>...</th>\n",
       "      <td>...</td>\n",
       "      <td>...</td>\n",
       "      <td>...</td>\n",
       "      <td>...</td>\n",
       "      <td>...</td>\n",
       "      <td>...</td>\n",
       "      <td>...</td>\n",
       "      <td>...</td>\n",
       "      <td>...</td>\n",
       "      <td>...</td>\n",
       "      <td>...</td>\n",
       "      <td>...</td>\n",
       "      <td>...</td>\n",
       "      <td>...</td>\n",
       "      <td>...</td>\n",
       "      <td>...</td>\n",
       "      <td>...</td>\n",
       "      <td>...</td>\n",
       "      <td>...</td>\n",
       "      <td>...</td>\n",
       "      <td>...</td>\n",
       "    </tr>\n",
       "    <tr>\n",
       "      <th>499995</th>\n",
       "      <td>0</td>\n",
       "      <td>0</td>\n",
       "      <td>1</td>\n",
       "      <td>0</td>\n",
       "      <td>0</td>\n",
       "      <td>0</td>\n",
       "      <td>0</td>\n",
       "      <td>0</td>\n",
       "      <td>1</td>\n",
       "      <td>0</td>\n",
       "      <td>...</td>\n",
       "      <td>0.091413</td>\n",
       "      <td>0.162236</td>\n",
       "      <td>0.309894</td>\n",
       "      <td>0.011023</td>\n",
       "      <td>0.142858</td>\n",
       "      <td>0.521894</td>\n",
       "      <td>0.222184</td>\n",
       "      <td>0.251195</td>\n",
       "      <td>-0.128187</td>\n",
       "      <td>-0.583004</td>\n",
       "    </tr>\n",
       "    <tr>\n",
       "      <th>499996</th>\n",
       "      <td>0</td>\n",
       "      <td>0</td>\n",
       "      <td>0</td>\n",
       "      <td>0</td>\n",
       "      <td>1</td>\n",
       "      <td>1</td>\n",
       "      <td>0</td>\n",
       "      <td>1</td>\n",
       "      <td>0</td>\n",
       "      <td>0</td>\n",
       "      <td>...</td>\n",
       "      <td>0.748071</td>\n",
       "      <td>0.194264</td>\n",
       "      <td>0.207866</td>\n",
       "      <td>0.006372</td>\n",
       "      <td>0.175386</td>\n",
       "      <td>0.198387</td>\n",
       "      <td>0.142845</td>\n",
       "      <td>0.214146</td>\n",
       "      <td>0.315018</td>\n",
       "      <td>1.078848</td>\n",
       "    </tr>\n",
       "    <tr>\n",
       "      <th>499997</th>\n",
       "      <td>1</td>\n",
       "      <td>0</td>\n",
       "      <td>0</td>\n",
       "      <td>0</td>\n",
       "      <td>0</td>\n",
       "      <td>1</td>\n",
       "      <td>1</td>\n",
       "      <td>1</td>\n",
       "      <td>0</td>\n",
       "      <td>1</td>\n",
       "      <td>...</td>\n",
       "      <td>0.184333</td>\n",
       "      <td>0.136267</td>\n",
       "      <td>0.164835</td>\n",
       "      <td>0.006861</td>\n",
       "      <td>0.141225</td>\n",
       "      <td>0.044007</td>\n",
       "      <td>0.141896</td>\n",
       "      <td>0.228734</td>\n",
       "      <td>-0.846079</td>\n",
       "      <td>0.279887</td>\n",
       "    </tr>\n",
       "    <tr>\n",
       "      <th>499998</th>\n",
       "      <td>0</td>\n",
       "      <td>0</td>\n",
       "      <td>0</td>\n",
       "      <td>0</td>\n",
       "      <td>0</td>\n",
       "      <td>0</td>\n",
       "      <td>1</td>\n",
       "      <td>1</td>\n",
       "      <td>0</td>\n",
       "      <td>0</td>\n",
       "      <td>...</td>\n",
       "      <td>0.039359</td>\n",
       "      <td>0.189006</td>\n",
       "      <td>0.239799</td>\n",
       "      <td>0.005881</td>\n",
       "      <td>0.192076</td>\n",
       "      <td>0.199732</td>\n",
       "      <td>0.169161</td>\n",
       "      <td>0.271750</td>\n",
       "      <td>1.006409</td>\n",
       "      <td>-0.265123</td>\n",
       "    </tr>\n",
       "    <tr>\n",
       "      <th>499999</th>\n",
       "      <td>1</td>\n",
       "      <td>1</td>\n",
       "      <td>0</td>\n",
       "      <td>0</td>\n",
       "      <td>1</td>\n",
       "      <td>1</td>\n",
       "      <td>0</td>\n",
       "      <td>0</td>\n",
       "      <td>1</td>\n",
       "      <td>0</td>\n",
       "      <td>...</td>\n",
       "      <td>0.042052</td>\n",
       "      <td>0.129841</td>\n",
       "      <td>0.163681</td>\n",
       "      <td>0.007775</td>\n",
       "      <td>0.229352</td>\n",
       "      <td>0.389587</td>\n",
       "      <td>0.219126</td>\n",
       "      <td>0.324886</td>\n",
       "      <td>-0.315989</td>\n",
       "      <td>-0.853048</td>\n",
       "    </tr>\n",
       "  </tbody>\n",
       "</table>\n",
       "<p>500000 rows × 287 columns</p>\n",
       "</div>"
      ],
      "text/plain": [
       "        f22  f43  f242  f243  f244  f245  f246  f247  f248  f249  ...  \\\n",
       "0         0    1     0     0     1     0     1     1     0     0  ...   \n",
       "1         1    0     0     0     0     1     1     1     0     0  ...   \n",
       "2         0    0     0     1     1     1     1     1     0     1  ...   \n",
       "3         0    0     0     0     0     0     1     1     0     1  ...   \n",
       "4         1    0     0     1     0     1     1     0     0     0  ...   \n",
       "...     ...  ...   ...   ...   ...   ...   ...   ...   ...   ...  ...   \n",
       "499995    0    0     1     0     0     0     0     0     1     0  ...   \n",
       "499996    0    0     0     0     1     1     0     1     0     0  ...   \n",
       "499997    1    0     0     0     0     1     1     1     0     1  ...   \n",
       "499998    0    0     0     0     0     0     1     1     0     0  ...   \n",
       "499999    1    1     0     0     1     1     0     0     1     0  ...   \n",
       "\n",
       "            f234      f235      f236      f237      f238      f239      f240  \\\n",
       "0       0.092359  0.152883  0.266000  0.006716  0.196959  0.022934  0.199017   \n",
       "1       0.126690  0.128326  0.182899  0.003132  0.190789  0.195818  0.136427   \n",
       "2       0.276899  0.194539  0.283591  0.005843  0.123439  0.199566  0.217159   \n",
       "3       0.268194  0.263770  0.487931  0.008247  0.140777  0.042808  0.196403   \n",
       "4       0.191478  0.126863  0.168593  0.319238  0.155194  0.205401  0.196158   \n",
       "...          ...       ...       ...       ...       ...       ...       ...   \n",
       "499995  0.091413  0.162236  0.309894  0.011023  0.142858  0.521894  0.222184   \n",
       "499996  0.748071  0.194264  0.207866  0.006372  0.175386  0.198387  0.142845   \n",
       "499997  0.184333  0.136267  0.164835  0.006861  0.141225  0.044007  0.141896   \n",
       "499998  0.039359  0.189006  0.239799  0.005881  0.192076  0.199732  0.169161   \n",
       "499999  0.042052  0.129841  0.163681  0.007775  0.229352  0.389587  0.219126   \n",
       "\n",
       "            f241       PC1       PC2  \n",
       "0       0.150822  0.323270  1.075940  \n",
       "1       0.200248  0.338574  1.062337  \n",
       "2       0.229726 -0.144531 -0.586814  \n",
       "3       0.166039  0.269988  1.011533  \n",
       "4       0.327414 -0.135397 -0.591547  \n",
       "...          ...       ...       ...  \n",
       "499995  0.251195 -0.128187 -0.583004  \n",
       "499996  0.214146  0.315018  1.078848  \n",
       "499997  0.228734 -0.846079  0.279887  \n",
       "499998  0.271750  1.006409 -0.265123  \n",
       "499999  0.324886 -0.315989 -0.853048  \n",
       "\n",
       "[500000 rows x 287 columns]"
      ]
     },
     "execution_count": 19,
     "metadata": {},
     "output_type": "execute_result"
    }
   ],
   "source": [
    "test[features]"
   ]
  },
  {
   "cell_type": "code",
   "execution_count": 20,
   "id": "60107271",
   "metadata": {
    "execution": {
     "iopub.execute_input": "2021-10-10T14:13:23.096460Z",
     "iopub.status.busy": "2021-10-10T14:13:23.095792Z",
     "iopub.status.idle": "2021-10-10T14:13:23.100613Z",
     "shell.execute_reply": "2021-10-10T14:13:23.101118Z"
    },
    "papermill": {
     "duration": 0.042874,
     "end_time": "2021-10-10T14:13:23.101285",
     "exception": false,
     "start_time": "2021-10-10T14:13:23.058411",
     "status": "completed"
    },
    "tags": []
   },
   "outputs": [
    {
     "data": {
      "text/plain": [
       "0         1\n",
       "1         1\n",
       "2         1\n",
       "3         1\n",
       "4         1\n",
       "         ..\n",
       "999995    1\n",
       "999996    0\n",
       "999997    0\n",
       "999998    1\n",
       "999999    0\n",
       "Name: target, Length: 1000000, dtype: uint8"
      ]
     },
     "execution_count": 20,
     "metadata": {},
     "output_type": "execute_result"
    }
   ],
   "source": [
    "train[target]"
   ]
  },
  {
   "cell_type": "markdown",
   "id": "c9c5753a",
   "metadata": {
    "papermill": {
     "duration": 0.032278,
     "end_time": "2021-10-10T14:13:23.166192",
     "exception": false,
     "start_time": "2021-10-10T14:13:23.133914",
     "status": "completed"
    },
    "tags": []
   },
   "source": [
    "# XGB"
   ]
  },
  {
   "cell_type": "code",
   "execution_count": 21,
   "id": "61db7a67",
   "metadata": {
    "execution": {
     "iopub.execute_input": "2021-10-10T14:13:23.234034Z",
     "iopub.status.busy": "2021-10-10T14:13:23.233347Z",
     "iopub.status.idle": "2021-10-10T14:13:23.238400Z",
     "shell.execute_reply": "2021-10-10T14:13:23.238913Z"
    },
    "papermill": {
     "duration": 0.040389,
     "end_time": "2021-10-10T14:13:23.239077",
     "exception": false,
     "start_time": "2021-10-10T14:13:23.198688",
     "status": "completed"
    },
    "tags": []
   },
   "outputs": [],
   "source": [
    "xgb_params = {\n",
    "     'objective': 'binary:logistic',\n",
    "     'n_estimators':N_ESTIMATORS,\n",
    "     'importance_type': 'total_gain',\n",
    "     #'booster': 'gbtree',\n",
    "     'n_jobs' : -1,\n",
    "     'tree_method': 'hist',\n",
    "        \n",
    "    'learning_rate': 0.01063045229441343, \n",
    "    'gamma': 0.24652519525750877, \n",
    "    'max_depth': 4, \n",
    "    'min_child_weight': 366, \n",
    "    'subsample': 0.6423040816299684, \n",
    "    'colsample_bytree': 0.7751264493218339, \n",
    "    'colsample_bylevel': 0.8675692743597421, \n",
    "    'use_label_encoder': False,\n",
    "    'reg_lambda': 0, \n",
    "    'reg_alpha': 10\n",
    "}"
   ]
  },
  {
   "cell_type": "code",
   "execution_count": 22,
   "id": "fe7c763f",
   "metadata": {
    "execution": {
     "iopub.execute_input": "2021-10-10T14:13:23.322580Z",
     "iopub.status.busy": "2021-10-10T14:13:23.321489Z",
     "iopub.status.idle": "2021-10-10T17:30:21.906069Z",
     "shell.execute_reply": "2021-10-10T17:30:21.906775Z"
    },
    "papermill": {
     "duration": 11818.63547,
     "end_time": "2021-10-10T17:30:21.906976",
     "exception": false,
     "start_time": "2021-10-10T14:13:23.271506",
     "status": "completed"
    },
    "tags": []
   },
   "outputs": [
    {
     "name": "stdout",
     "output_type": "stream",
     "text": [
      "===== fold 0 =====\n",
      "===== fold 1 =====\n",
      "===== fold 2 =====\n",
      "===== fold 3 =====\n",
      "===== fold 4 =====\n",
      "[0]\tvalidation_0-auc:0.81559\n",
      "[1000]\tvalidation_0-auc:0.84662\n",
      "[2000]\tvalidation_0-auc:0.85195\n",
      "[3000]\tvalidation_0-auc:0.85411\n",
      "[4000]\tvalidation_0-auc:0.85518\n",
      "[5000]\tvalidation_0-auc:0.85573\n",
      "[6000]\tvalidation_0-auc:0.85604\n",
      "[7000]\tvalidation_0-auc:0.85620\n",
      "[8000]\tvalidation_0-auc:0.85628\n",
      "[9000]\tvalidation_0-auc:0.85630\n",
      "[9999]\tvalidation_0-auc:0.85628\n",
      "[0]\tvalidation_0-auc:0.85628\n",
      "[1000]\tvalidation_0-auc:0.85627\n",
      "[2000]\tvalidation_0-auc:0.85627\n",
      "[3000]\tvalidation_0-auc:0.85627\n",
      "[4000]\tvalidation_0-auc:0.85628\n",
      "[5000]\tvalidation_0-auc:0.85627\n",
      "[6000]\tvalidation_0-auc:0.85627\n",
      "[7000]\tvalidation_0-auc:0.85627\n",
      "[8000]\tvalidation_0-auc:0.85627\n",
      "[9000]\tvalidation_0-auc:0.85627\n",
      "[9999]\tvalidation_0-auc:0.85626\n",
      "fold 4 - xgb auc: 0.856317, elapsed time: 11814.99sec\n",
      "\n",
      "oof xgb_auc = 0.5142526839763503\n"
     ]
    }
   ],
   "source": [
    "xgb_oof = np.zeros(train.shape[0])\n",
    "xgb_pred = np.zeros(test.shape[0])\n",
    "xgb_importances = pd.DataFrame()\n",
    "\n",
    "X_test = test[features]\n",
    "del test\n",
    "gc.collect()\n",
    "\n",
    "\n",
    "kf = StratifiedKFold(n_splits=N_SPLITS, shuffle=True, random_state=CVSEED)\n",
    "seed_list=[SEED+4]\n",
    "\n",
    "for fold, (trn_idx, val_idx) in enumerate(kf.split(X=train[features], y=train[target])):\n",
    "    print(f\"===== fold {fold} =====\")\n",
    "    if fold in [4]:\n",
    "        \n",
    "        X_train = train[features].iloc[trn_idx]\n",
    "        y_train = train[target].iloc[trn_idx]\n",
    "        X_valid = train[features].iloc[val_idx]\n",
    "        y_valid = train[target].iloc[val_idx]\n",
    "        \n",
    "\n",
    "\n",
    "        start = time.time()\n",
    "        for inseed in seed_list:\n",
    "            xgb_params['random_state'] = inseed\n",
    "\n",
    "            pre_model = xgb.XGBClassifier(**xgb_params)\n",
    "            pre_model.fit(\n",
    "                X_train, \n",
    "                y_train,\n",
    "                eval_set=[(X_valid, y_valid)],\n",
    "                eval_metric='auc',\n",
    "                #early_stopping_rounds=EARLY_STOPPING_ROUNDS,\n",
    "                verbose=VERBOSE,\n",
    "            )\n",
    "\n",
    "            xgb_params2 = xgb_params.copy()\n",
    "            xgb_params2['reg_lambda'] *= 0.9\n",
    "            xgb_params2['reg_alpha'] *= 0.9\n",
    "            xgb_params2['learning_rate'] *= 0.1\n",
    "            model = xgb.XGBClassifier(**xgb_params2)\n",
    "            model.fit(\n",
    "                    X_train, y_train,\n",
    "                    eval_set=[(X_valid, y_valid)],\n",
    "                    eval_metric='auc',\n",
    "                    #early_stopping_rounds=EARLY_STOPPING_ROUNDS,\n",
    "                    verbose=VERBOSE,\n",
    "                    xgb_model=pre_model\n",
    "            )    \n",
    "\n",
    "            with open(f\"xgb_model{fold}_seed{inseed}.pkl\", 'wb') as f:\n",
    "                pickle.dump(model, f)\n",
    "\n",
    "            fi_tmp = pd.DataFrame()\n",
    "            fi_tmp['feature'] = X_train.columns\n",
    "            fi_tmp['importance'] = model.feature_importances_\n",
    "            fi_tmp['fold'] = fold\n",
    "            fi_tmp['seed'] = inseed\n",
    "            xgb_importances = xgb_importances.append(fi_tmp)\n",
    "\n",
    "            xgb_oof[val_idx] += model.predict_proba(X_valid)[:,-1] / len(seed_list)\n",
    "            xgb_pred += model.predict_proba(X_test)[:,-1] / len(seed_list)\n",
    "            \n",
    "            del pre_model\n",
    "            del model\n",
    "            gc.collect()\n",
    "\n",
    "\n",
    "        elapsed = time.time() - start\n",
    "        auc = roc_auc_score(y_valid, xgb_oof[val_idx])\n",
    "        print(f\"fold {fold} - xgb auc: {auc:.6f}, elapsed time: {elapsed:.2f}sec\\n\")\n",
    "        \n",
    "        del X_train\n",
    "        del y_train\n",
    "        del X_valid\n",
    "        del y_valid\n",
    "        gc.collect()\n",
    "\n",
    "\n",
    "del X_test\n",
    "gc.collect()\n",
    "\n",
    "xgb_pred /= N_SPLITS\n",
    "print(f\"oof xgb_auc = {roc_auc_score(train[target], xgb_oof)}\")\n",
    "\n",
    "np.save(\"xgb_oof.npy\", xgb_oof)\n",
    "np.save(\"xgb_pred.npy\", xgb_pred)"
   ]
  },
  {
   "cell_type": "markdown",
   "id": "8086960b",
   "metadata": {
    "papermill": {
     "duration": 0.040036,
     "end_time": "2021-10-10T17:30:21.990620",
     "exception": false,
     "start_time": "2021-10-10T17:30:21.950584",
     "status": "completed"
    },
    "tags": []
   },
   "source": [
    "# OOF predictions"
   ]
  },
  {
   "cell_type": "code",
   "execution_count": 23,
   "id": "fc73adf2",
   "metadata": {
    "execution": {
     "iopub.execute_input": "2021-10-10T17:30:22.083137Z",
     "iopub.status.busy": "2021-10-10T17:30:22.082419Z",
     "iopub.status.idle": "2021-10-10T17:30:25.883980Z",
     "shell.execute_reply": "2021-10-10T17:30:25.884453Z"
    },
    "papermill": {
     "duration": 3.844929,
     "end_time": "2021-10-10T17:30:25.884632",
     "exception": false,
     "start_time": "2021-10-10T17:30:22.039703",
     "status": "completed"
    },
    "tags": []
   },
   "outputs": [
    {
     "data": {
      "text/plain": [
       "<matplotlib.collections.PathCollection at 0x7fdc03782a10>"
      ]
     },
     "execution_count": 23,
     "metadata": {},
     "output_type": "execute_result"
    },
    {
     "data": {
      "image/png": "[encoded data removed]",
      "text/plain": [
       "<Figure size 432x288 with 1 Axes>"
      ]
     },
     "metadata": {
      "needs_background": "light"
     },
     "output_type": "display_data"
    }
   ],
   "source": [
    "plt.plot(train[target], train[target])\n",
    "plt.scatter(train[target], xgb_oof)"
   ]
  },
  {
   "cell_type": "code",
   "execution_count": 24,
   "id": "7caf4550",
   "metadata": {
    "execution": {
     "iopub.execute_input": "2021-10-10T17:30:25.974139Z",
     "iopub.status.busy": "2021-10-10T17:30:25.973485Z",
     "iopub.status.idle": "2021-10-10T17:30:26.096958Z",
     "shell.execute_reply": "2021-10-10T17:30:26.097457Z"
    },
    "papermill": {
     "duration": 0.16846,
     "end_time": "2021-10-10T17:30:26.097660",
     "exception": false,
     "start_time": "2021-10-10T17:30:25.929200",
     "status": "completed"
    },
    "tags": []
   },
   "outputs": [
    {
     "data": {
      "text/plain": [
       "20"
      ]
     },
     "execution_count": 24,
     "metadata": {},
     "output_type": "execute_result"
    }
   ],
   "source": [
    "del train\n",
    "del xgb_oof\n",
    "gc.collect()"
   ]
  },
  {
   "cell_type": "markdown",
   "id": "dea8dbea",
   "metadata": {
    "papermill": {
     "duration": 0.041227,
     "end_time": "2021-10-10T17:30:26.183876",
     "exception": false,
     "start_time": "2021-10-10T17:30:26.142649",
     "status": "completed"
    },
    "tags": []
   },
   "source": [
    "# Features importances"
   ]
  },
  {
   "cell_type": "code",
   "execution_count": 25,
   "id": "b2b99f45",
   "metadata": {
    "execution": {
     "iopub.execute_input": "2021-10-10T17:30:26.280017Z",
     "iopub.status.busy": "2021-10-10T17:30:26.279292Z",
     "iopub.status.idle": "2021-10-10T17:30:32.168915Z",
     "shell.execute_reply": "2021-10-10T17:30:32.168337Z"
    },
    "papermill": {
     "duration": 5.936413,
     "end_time": "2021-10-10T17:30:32.169065",
     "exception": false,
     "start_time": "2021-10-10T17:30:26.232652",
     "status": "completed"
    },
    "tags": []
   },
   "outputs": [
    {
     "data": {
      "text/plain": [
       "Text(0.5, 1.0, 'XGB feature importances')"
      ]
     },
     "execution_count": 25,
     "metadata": {},
     "output_type": "execute_result"
    },
    {
     "data": {
      "image/png": "[encoded data removed]",
      "text/plain": [
       "<Figure size 1152x1152 with 1 Axes>"
      ]
     },
     "metadata": {
      "needs_background": "light"
     },
     "output_type": "display_data"
    }
   ],
   "source": [
    "order = list(xgb_importances.groupby('feature').mean().sort_values('importance', ascending=False).index)\n",
    "\n",
    "fig = plt.figure(figsize=(16, 16), tight_layout=True)\n",
    "sns.barplot(x=\"importance\", y=\"feature\", data=xgb_importances.groupby('feature').mean().reset_index(), order=order)\n",
    "plt.title(\"XGB feature importances\")"
   ]
  },
  {
   "cell_type": "markdown",
   "id": "4879478c",
   "metadata": {
    "papermill": {
     "duration": 0.044745,
     "end_time": "2021-10-10T17:30:32.260708",
     "exception": false,
     "start_time": "2021-10-10T17:30:32.215963",
     "status": "completed"
    },
    "tags": []
   },
   "source": [
    "# Submission"
   ]
  },
  {
   "cell_type": "code",
   "execution_count": 26,
   "id": "b6875f14",
   "metadata": {
    "execution": {
     "iopub.execute_input": "2021-10-10T17:30:32.361834Z",
     "iopub.status.busy": "2021-10-10T17:30:32.361075Z",
     "iopub.status.idle": "2021-10-10T17:30:34.318944Z",
     "shell.execute_reply": "2021-10-10T17:30:34.318273Z"
    },
    "papermill": {
     "duration": 2.011773,
     "end_time": "2021-10-10T17:30:34.319091",
     "exception": false,
     "start_time": "2021-10-10T17:30:32.307318",
     "status": "completed"
    },
    "tags": []
   },
   "outputs": [
    {
     "data": {
      "text/html": [
       "<div>\n",
       "<style scoped>\n",
       "    .dataframe tbody tr th:only-of-type {\n",
       "        vertical-align: middle;\n",
       "    }\n",
       "\n",
       "    .dataframe tbody tr th {\n",
       "        vertical-align: top;\n",
       "    }\n",
       "\n",
       "    .dataframe thead th {\n",
       "        text-align: right;\n",
       "    }\n",
       "</style>\n",
       "<table border=\"1\" class=\"dataframe\">\n",
       "  <thead>\n",
       "    <tr style=\"text-align: right;\">\n",
       "      <th></th>\n",
       "      <th>id</th>\n",
       "      <th>target</th>\n",
       "    </tr>\n",
       "  </thead>\n",
       "  <tbody>\n",
       "    <tr>\n",
       "      <th>0</th>\n",
       "      <td>1000000</td>\n",
       "      <td>0.143230</td>\n",
       "    </tr>\n",
       "    <tr>\n",
       "      <th>1</th>\n",
       "      <td>1000001</td>\n",
       "      <td>0.049918</td>\n",
       "    </tr>\n",
       "    <tr>\n",
       "      <th>2</th>\n",
       "      <td>1000002</td>\n",
       "      <td>0.180909</td>\n",
       "    </tr>\n",
       "    <tr>\n",
       "      <th>3</th>\n",
       "      <td>1000003</td>\n",
       "      <td>0.171724</td>\n",
       "    </tr>\n",
       "    <tr>\n",
       "      <th>4</th>\n",
       "      <td>1000004</td>\n",
       "      <td>0.055946</td>\n",
       "    </tr>\n",
       "    <tr>\n",
       "      <th>...</th>\n",
       "      <td>...</td>\n",
       "      <td>...</td>\n",
       "    </tr>\n",
       "    <tr>\n",
       "      <th>499995</th>\n",
       "      <td>1499995</td>\n",
       "      <td>0.194154</td>\n",
       "    </tr>\n",
       "    <tr>\n",
       "      <th>499996</th>\n",
       "      <td>1499996</td>\n",
       "      <td>0.165872</td>\n",
       "    </tr>\n",
       "    <tr>\n",
       "      <th>499997</th>\n",
       "      <td>1499997</td>\n",
       "      <td>0.057768</td>\n",
       "    </tr>\n",
       "    <tr>\n",
       "      <th>499998</th>\n",
       "      <td>1499998</td>\n",
       "      <td>0.097038</td>\n",
       "    </tr>\n",
       "    <tr>\n",
       "      <th>499999</th>\n",
       "      <td>1499999</td>\n",
       "      <td>0.081583</td>\n",
       "    </tr>\n",
       "  </tbody>\n",
       "</table>\n",
       "<p>500000 rows × 2 columns</p>\n",
       "</div>"
      ],
      "text/plain": [
       "             id    target\n",
       "0       1000000  0.143230\n",
       "1       1000001  0.049918\n",
       "2       1000002  0.180909\n",
       "3       1000003  0.171724\n",
       "4       1000004  0.055946\n",
       "...         ...       ...\n",
       "499995  1499995  0.194154\n",
       "499996  1499996  0.165872\n",
       "499997  1499997  0.057768\n",
       "499998  1499998  0.097038\n",
       "499999  1499999  0.081583\n",
       "\n",
       "[500000 rows x 2 columns]"
      ]
     },
     "execution_count": 26,
     "metadata": {},
     "output_type": "execute_result"
    }
   ],
   "source": [
    "submission[target] = xgb_pred\n",
    "submission.to_csv(\"submission.csv\", index=False)\n",
    "\n",
    "submission"
   ]
  },
  {
   "cell_type": "markdown",
   "id": "2f8fdc39",
   "metadata": {
    "papermill": {
     "duration": 0.049156,
     "end_time": "2021-10-10T17:30:34.414375",
     "exception": false,
     "start_time": "2021-10-10T17:30:34.365219",
     "status": "completed"
    },
    "tags": []
   },
   "source": [
    "# Log\n",
    "\n",
    "seeds\n",
    "\n",
    "2017 ver2 fold 0-1 ver3 fold 2-3 ver4 fold 4\n",
    "2018 ver5 fold 0-1 ver6 fold 2-3 ver7 fold 4\n",
    "2019 ver8 fold 0-1 ver9 fold 2-3 ver10 fold 4\n",
    "2020 ver14 fold 0-1 ver15 fold 2-3 ver16 fold 4\n",
    "2021 ver17 fold 0-1 ver18 fold 2-3 ver19 fold 4\n"
   ]
  }
 ],
 "metadata": {
  "kernelspec": {
   "display_name": "Python 3",
   "language": "python",
   "name": "python3"
  },
  "language_info": {
   "codemirror_mode": {
    "name": "ipython",
    "version": 3
   },
   "file_extension": ".py",
   "mimetype": "text/x-python",
   "name": "python",
   "nbconvert_exporter": "python",
   "pygments_lexer": "ipython3",
   "version": "3.7.10"
  },
  "papermill": {
   "default_parameters": {},
   "duration": 12551.081157,
   "end_time": "2021-10-10T17:30:35.472057",
   "environment_variables": {},
   "exception": null,
   "input_path": "__notebook__.ipynb",
   "output_path": "__notebook__.ipynb",
   "parameters": {},
   "start_time": "2021-10-10T14:01:24.390900",
   "version": "2.3.3"
  }
 },
 "nbformat": 4,
 "nbformat_minor": 5
}
