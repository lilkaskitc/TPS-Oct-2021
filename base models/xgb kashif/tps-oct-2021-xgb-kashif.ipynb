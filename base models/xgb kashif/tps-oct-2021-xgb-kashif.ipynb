{
 "cells": [
  {
   "cell_type": "code",
   "execution_count": 1,
   "id": "6c798f18",
   "metadata": {
    "_cell_guid": "b1076dfc-b9ad-4769-8c92-a6c4dae69d19",
    "_uuid": "8f2839f25d086af736a60e9eeb907d3b93b6e0e5",
    "execution": {
     "iopub.execute_input": "2021-10-06T15:01:32.603498Z",
     "iopub.status.busy": "2021-10-06T15:01:32.602486Z",
     "iopub.status.idle": "2021-10-06T15:01:33.739597Z",
     "shell.execute_reply": "2021-10-06T15:01:33.740259Z",
     "shell.execute_reply.started": "2021-10-04T14:09:25.173489Z"
    },
    "papermill": {
     "duration": 1.155901,
     "end_time": "2021-10-06T15:01:33.740672",
     "exception": false,
     "start_time": "2021-10-06T15:01:32.584771",
     "status": "completed"
    },
    "tags": []
   },
   "outputs": [],
   "source": [
    "import numpy as np\n",
    "import pandas as pd\n",
    "import random\n",
    "import os\n",
    "import time\n",
    "import pickle\n",
    "from pathlib import Path\n",
    "import gc\n",
    "\n",
    "from sklearn.preprocessing import StandardScaler\n",
    "from sklearn.model_selection import StratifiedKFold, train_test_split\n",
    "from sklearn.metrics import roc_auc_score\n",
    "\n",
    "#import lightgbm as lgb\n",
    "import xgboost as xgb\n",
    "#import catboost as ctb\n",
    "\n",
    "import matplotlib.pyplot as plt\n",
    "import seaborn as sns\n",
    "\n",
    "import warnings\n",
    "warnings.simplefilter('ignore')"
   ]
  },
  {
   "cell_type": "markdown",
   "id": "bd9b5ae0",
   "metadata": {
    "papermill": {
     "duration": 0.013555,
     "end_time": "2021-10-06T15:01:33.768885",
     "exception": false,
     "start_time": "2021-10-06T15:01:33.755330",
     "status": "completed"
    },
    "tags": []
   },
   "source": [
    "https://www.kaggle.com/mohammadkashifunique/tsp-single-xgboost-model\n",
    "\n",
    "ver1"
   ]
  },
  {
   "cell_type": "markdown",
   "id": "9b2df699",
   "metadata": {
    "papermill": {
     "duration": 0.013716,
     "end_time": "2021-10-06T15:01:33.797121",
     "exception": false,
     "start_time": "2021-10-06T15:01:33.783405",
     "status": "completed"
    },
    "tags": []
   },
   "source": [
    "# Parameters"
   ]
  },
  {
   "cell_type": "code",
   "execution_count": 2,
   "id": "483795a4",
   "metadata": {
    "execution": {
     "iopub.execute_input": "2021-10-06T15:01:33.827297Z",
     "iopub.status.busy": "2021-10-06T15:01:33.826800Z",
     "iopub.status.idle": "2021-10-06T15:01:33.831462Z",
     "shell.execute_reply": "2021-10-06T15:01:33.831877Z",
     "shell.execute_reply.started": "2021-10-04T14:09:26.370378Z"
    },
    "papermill": {
     "duration": 0.021057,
     "end_time": "2021-10-06T15:01:33.832033",
     "exception": false,
     "start_time": "2021-10-06T15:01:33.810976",
     "status": "completed"
    },
    "tags": []
   },
   "outputs": [],
   "source": [
    "target = 'target'\n",
    "\n",
    "DEBUG = False\n",
    "\n",
    "if DEBUG:\n",
    "    N_ESTIMATORS = 1\n",
    "    N_SPLITS = 2\n",
    "    SEED = 2017\n",
    "    CVSEED = 2017\n",
    "    EARLY_STOPPING_ROUNDS = 1\n",
    "    VERBOSE = 100\n",
    "    #N_ITERS = 2\n",
    "else:\n",
    "    N_SPLITS = 5\n",
    "    N_ESTIMATORS = 20000\n",
    "    EARLY_STOPPING_ROUNDS = 300\n",
    "    VERBOSE = 1000\n",
    "    SEED = 2017\n",
    "    CVSEED = 2017\n",
    "    #N_ITERS = 10"
   ]
  },
  {
   "cell_type": "code",
   "execution_count": 3,
   "id": "e6af72a9",
   "metadata": {
    "execution": {
     "iopub.execute_input": "2021-10-06T15:01:33.863550Z",
     "iopub.status.busy": "2021-10-06T15:01:33.862953Z",
     "iopub.status.idle": "2021-10-06T15:01:33.866829Z",
     "shell.execute_reply": "2021-10-06T15:01:33.867283Z",
     "shell.execute_reply.started": "2021-10-04T14:09:26.380942Z"
    },
    "papermill": {
     "duration": 0.021619,
     "end_time": "2021-10-06T15:01:33.867470",
     "exception": false,
     "start_time": "2021-10-06T15:01:33.845851",
     "status": "completed"
    },
    "tags": []
   },
   "outputs": [],
   "source": [
    "def set_seed(seed=2017):\n",
    "    random.seed(seed)\n",
    "    os.environ['PYTHONHASHSEED'] = str(seed)\n",
    "    np.random.seed(seed)\n",
    "    \n",
    "set_seed(SEED)"
   ]
  },
  {
   "cell_type": "markdown",
   "id": "27429c08",
   "metadata": {
    "papermill": {
     "duration": 0.013617,
     "end_time": "2021-10-06T15:01:33.895716",
     "exception": false,
     "start_time": "2021-10-06T15:01:33.882099",
     "status": "completed"
    },
    "tags": []
   },
   "source": [
    "# Datasets"
   ]
  },
  {
   "cell_type": "code",
   "execution_count": 4,
   "id": "829494cc",
   "metadata": {
    "execution": {
     "iopub.execute_input": "2021-10-06T15:01:33.926615Z",
     "iopub.status.busy": "2021-10-06T15:01:33.926036Z",
     "iopub.status.idle": "2021-10-06T15:02:53.224895Z",
     "shell.execute_reply": "2021-10-06T15:02:53.224019Z",
     "shell.execute_reply.started": "2021-10-04T14:09:26.389535Z"
    },
    "papermill": {
     "duration": 79.315498,
     "end_time": "2021-10-06T15:02:53.225049",
     "exception": false,
     "start_time": "2021-10-06T15:01:33.909551",
     "status": "completed"
    },
    "tags": []
   },
   "outputs": [],
   "source": [
    "INPUT = Path(\"../input/tabular-playground-series-oct-2021\")\n",
    "\n",
    "train = pd.read_csv(INPUT / \"train.csv\")\n",
    "test = pd.read_csv(INPUT / \"test.csv\")\n",
    "submission = pd.read_csv(INPUT / \"sample_submission.csv\")"
   ]
  },
  {
   "cell_type": "code",
   "execution_count": 5,
   "id": "b335ef0c",
   "metadata": {
    "execution": {
     "iopub.execute_input": "2021-10-06T15:02:53.265568Z",
     "iopub.status.busy": "2021-10-06T15:02:53.264953Z",
     "iopub.status.idle": "2021-10-06T15:02:54.544660Z",
     "shell.execute_reply": "2021-10-06T15:02:54.544154Z",
     "shell.execute_reply.started": "2021-10-04T14:11:05.734236Z"
    },
    "papermill": {
     "duration": 1.304982,
     "end_time": "2021-10-06T15:02:54.544801",
     "exception": false,
     "start_time": "2021-10-06T15:02:53.239819",
     "status": "completed"
    },
    "tags": []
   },
   "outputs": [],
   "source": [
    "train = train[train.columns[1:]]\n",
    "test = test[test.columns[1:]]"
   ]
  },
  {
   "cell_type": "markdown",
   "id": "3020fab5",
   "metadata": {
    "papermill": {
     "duration": 0.013507,
     "end_time": "2021-10-06T15:02:54.572760",
     "exception": false,
     "start_time": "2021-10-06T15:02:54.559253",
     "status": "completed"
    },
    "tags": []
   },
   "source": [
    "# Preprocessing"
   ]
  },
  {
   "cell_type": "code",
   "execution_count": 6,
   "id": "792c9e94",
   "metadata": {
    "execution": {
     "iopub.execute_input": "2021-10-06T15:02:54.604991Z",
     "iopub.status.busy": "2021-10-06T15:02:54.604389Z",
     "iopub.status.idle": "2021-10-06T15:02:54.607032Z",
     "shell.execute_reply": "2021-10-06T15:02:54.606582Z",
     "shell.execute_reply.started": "2021-10-04T14:11:06.890392Z"
    },
    "papermill": {
     "duration": 0.02061,
     "end_time": "2021-10-06T15:02:54.607156",
     "exception": false,
     "start_time": "2021-10-06T15:02:54.586546",
     "status": "completed"
    },
    "tags": []
   },
   "outputs": [],
   "source": [
    "features = [col for col in train.columns if 'f' in col]"
   ]
  },
  {
   "cell_type": "code",
   "execution_count": 7,
   "id": "75d571a6",
   "metadata": {
    "execution": {
     "iopub.execute_input": "2021-10-06T15:02:55.279698Z",
     "iopub.status.busy": "2021-10-06T15:02:55.278974Z",
     "iopub.status.idle": "2021-10-06T15:03:09.344926Z",
     "shell.execute_reply": "2021-10-06T15:03:09.343982Z",
     "shell.execute_reply.started": "2021-10-04T14:11:06.898296Z"
    },
    "papermill": {
     "duration": 14.723978,
     "end_time": "2021-10-06T15:03:09.345076",
     "exception": false,
     "start_time": "2021-10-06T15:02:54.621098",
     "status": "completed"
    },
    "tags": []
   },
   "outputs": [],
   "source": [
    "\n",
    "train[\"std\"] = train[features].std(axis=1)\n",
    "train[\"min\"] = train[features].min(axis=1)\n",
    "train[\"max\"] = train[features].max(axis=1)\n",
    "\n",
    "test[\"std\"] = test[features].std(axis=1)\n",
    "test[\"min\"] = test[features].min(axis=1)\n",
    "test[\"max\"] = test[features].max(axis=1)\n",
    "\n",
    "features = features + ['std', 'min', 'max']"
   ]
  },
  {
   "cell_type": "code",
   "execution_count": 8,
   "id": "4f8490a9",
   "metadata": {
    "execution": {
     "iopub.execute_input": "2021-10-06T15:03:09.384145Z",
     "iopub.status.busy": "2021-10-06T15:03:09.383575Z",
     "iopub.status.idle": "2021-10-06T15:03:09.385628Z",
     "shell.execute_reply": "2021-10-06T15:03:09.386025Z",
     "shell.execute_reply.started": "2021-10-04T14:11:21.330433Z"
    },
    "papermill": {
     "duration": 0.026725,
     "end_time": "2021-10-06T15:03:09.386184",
     "exception": false,
     "start_time": "2021-10-06T15:03:09.359459",
     "status": "completed"
    },
    "tags": []
   },
   "outputs": [],
   "source": [
    "def reduce_memory_usage(df, verbose=True):\n",
    "    numerics = [\"int8\", \"int16\", \"int32\", \"int64\", \"float16\", \"float32\", \"float64\"]\n",
    "    start_mem = df.memory_usage().sum() / 1024 ** 2\n",
    "    for col in df.columns:\n",
    "        col_type = df[col].dtypes\n",
    "        if col_type in numerics:\n",
    "            c_min = df[col].min()\n",
    "            c_max = df[col].max()\n",
    "            if str(col_type)[:3] == \"int\":\n",
    "                if c_min > np.iinfo(np.int8).min and c_max < np.iinfo(np.int8).max:\n",
    "                    df[col] = df[col].astype(np.int8)\n",
    "                elif c_min > np.iinfo(np.int16).min and c_max < np.iinfo(np.int16).max:\n",
    "                    df[col] = df[col].astype(np.int16)\n",
    "                elif c_min > np.iinfo(np.int32).min and c_max < np.iinfo(np.int32).max:\n",
    "                    df[col] = df[col].astype(np.int32)\n",
    "                elif c_min > np.iinfo(np.int64).min and c_max < np.iinfo(np.int64).max:\n",
    "                    df[col] = df[col].astype(np.int64)\n",
    "            else:\n",
    "                if (\n",
    "                    c_min > np.finfo(np.float16).min\n",
    "                    and c_max < np.finfo(np.float16).max\n",
    "                ):\n",
    "                    df[col] = df[col].astype(np.float32) # for xgboost to run\n",
    "                elif (\n",
    "                    c_min > np.finfo(np.float32).min\n",
    "                    and c_max < np.finfo(np.float32).max\n",
    "                ):\n",
    "                    df[col] = df[col].astype(np.float32)\n",
    "                else:\n",
    "                    df[col] = df[col].astype(np.float64)\n",
    "    end_mem = df.memory_usage().sum() / 1024 ** 2\n",
    "    if verbose:\n",
    "        print(\n",
    "            \"Mem. usage decreased to {:.2f} Mb ({:.1f}% reduction)\".format(\n",
    "                end_mem, 100 * (start_mem - end_mem) / start_mem\n",
    "            )\n",
    "        )\n",
    "    return df"
   ]
  },
  {
   "cell_type": "code",
   "execution_count": 9,
   "id": "e912ec49",
   "metadata": {
    "execution": {
     "iopub.execute_input": "2021-10-06T15:03:09.417854Z",
     "iopub.status.busy": "2021-10-06T15:03:09.417033Z",
     "iopub.status.idle": "2021-10-06T15:04:55.071801Z",
     "shell.execute_reply": "2021-10-06T15:04:55.072235Z",
     "shell.execute_reply.started": "2021-10-04T14:11:21.341502Z"
    },
    "papermill": {
     "duration": 105.672278,
     "end_time": "2021-10-06T15:04:55.072433",
     "exception": false,
     "start_time": "2021-10-06T15:03:09.400155",
     "status": "completed"
    },
    "tags": []
   },
   "outputs": [
    {
     "name": "stdout",
     "output_type": "stream",
     "text": [
      "Mem. usage decreased to 970.84 Mb (56.0% reduction)\n",
      "Mem. usage decreased to 484.94 Mb (55.9% reduction)\n"
     ]
    }
   ],
   "source": [
    "train = reduce_memory_usage(train)\n",
    "test  = reduce_memory_usage(test)"
   ]
  },
  {
   "cell_type": "code",
   "execution_count": 10,
   "id": "789bb555",
   "metadata": {
    "execution": {
     "iopub.execute_input": "2021-10-06T15:04:55.108211Z",
     "iopub.status.busy": "2021-10-06T15:04:55.107658Z",
     "iopub.status.idle": "2021-10-06T15:04:55.626374Z",
     "shell.execute_reply": "2021-10-06T15:04:55.626987Z",
     "shell.execute_reply.started": "2021-10-04T14:13:08.317951Z"
    },
    "papermill": {
     "duration": 0.540441,
     "end_time": "2021-10-06T15:04:55.627152",
     "exception": false,
     "start_time": "2021-10-06T15:04:55.086711",
     "status": "completed"
    },
    "tags": []
   },
   "outputs": [
    {
     "data": {
      "text/html": [
       "<div>\n",
       "<style scoped>\n",
       "    .dataframe tbody tr th:only-of-type {\n",
       "        vertical-align: middle;\n",
       "    }\n",
       "\n",
       "    .dataframe tbody tr th {\n",
       "        vertical-align: top;\n",
       "    }\n",
       "\n",
       "    .dataframe thead th {\n",
       "        text-align: right;\n",
       "    }\n",
       "</style>\n",
       "<table border=\"1\" class=\"dataframe\">\n",
       "  <thead>\n",
       "    <tr style=\"text-align: right;\">\n",
       "      <th></th>\n",
       "      <th>f0</th>\n",
       "      <th>f1</th>\n",
       "      <th>f2</th>\n",
       "      <th>f3</th>\n",
       "      <th>f4</th>\n",
       "      <th>f5</th>\n",
       "      <th>f6</th>\n",
       "      <th>f7</th>\n",
       "      <th>f8</th>\n",
       "      <th>f9</th>\n",
       "      <th>...</th>\n",
       "      <th>f278</th>\n",
       "      <th>f279</th>\n",
       "      <th>f280</th>\n",
       "      <th>f281</th>\n",
       "      <th>f282</th>\n",
       "      <th>f283</th>\n",
       "      <th>f284</th>\n",
       "      <th>std</th>\n",
       "      <th>min</th>\n",
       "      <th>max</th>\n",
       "    </tr>\n",
       "  </thead>\n",
       "  <tbody>\n",
       "    <tr>\n",
       "      <th>0</th>\n",
       "      <td>0.178216</td>\n",
       "      <td>0.435617</td>\n",
       "      <td>0.010230</td>\n",
       "      <td>0.202074</td>\n",
       "      <td>0.390170</td>\n",
       "      <td>0.324221</td>\n",
       "      <td>0.221722</td>\n",
       "      <td>0.738894</td>\n",
       "      <td>0.582588</td>\n",
       "      <td>0.343770</td>\n",
       "      <td>...</td>\n",
       "      <td>0</td>\n",
       "      <td>0</td>\n",
       "      <td>0</td>\n",
       "      <td>1</td>\n",
       "      <td>1</td>\n",
       "      <td>1</td>\n",
       "      <td>0</td>\n",
       "      <td>0.282364</td>\n",
       "      <td>0.0</td>\n",
       "      <td>1.0</td>\n",
       "    </tr>\n",
       "    <tr>\n",
       "      <th>1</th>\n",
       "      <td>0.181250</td>\n",
       "      <td>0.476455</td>\n",
       "      <td>0.022413</td>\n",
       "      <td>0.283146</td>\n",
       "      <td>0.598020</td>\n",
       "      <td>0.349508</td>\n",
       "      <td>0.283467</td>\n",
       "      <td>0.721575</td>\n",
       "      <td>0.268990</td>\n",
       "      <td>0.208373</td>\n",
       "      <td>...</td>\n",
       "      <td>0</td>\n",
       "      <td>0</td>\n",
       "      <td>0</td>\n",
       "      <td>0</td>\n",
       "      <td>0</td>\n",
       "      <td>0</td>\n",
       "      <td>0</td>\n",
       "      <td>0.266328</td>\n",
       "      <td>0.0</td>\n",
       "      <td>1.0</td>\n",
       "    </tr>\n",
       "    <tr>\n",
       "      <th>2</th>\n",
       "      <td>0.159721</td>\n",
       "      <td>0.451202</td>\n",
       "      <td>0.259649</td>\n",
       "      <td>0.365274</td>\n",
       "      <td>0.594634</td>\n",
       "      <td>0.413502</td>\n",
       "      <td>0.249318</td>\n",
       "      <td>0.642339</td>\n",
       "      <td>0.411104</td>\n",
       "      <td>0.246891</td>\n",
       "      <td>...</td>\n",
       "      <td>0</td>\n",
       "      <td>0</td>\n",
       "      <td>0</td>\n",
       "      <td>1</td>\n",
       "      <td>0</td>\n",
       "      <td>0</td>\n",
       "      <td>0</td>\n",
       "      <td>0.285174</td>\n",
       "      <td>0.0</td>\n",
       "      <td>1.0</td>\n",
       "    </tr>\n",
       "    <tr>\n",
       "      <th>3</th>\n",
       "      <td>0.182424</td>\n",
       "      <td>0.520976</td>\n",
       "      <td>0.095344</td>\n",
       "      <td>0.327742</td>\n",
       "      <td>0.741830</td>\n",
       "      <td>0.358711</td>\n",
       "      <td>0.270077</td>\n",
       "      <td>0.601662</td>\n",
       "      <td>0.297742</td>\n",
       "      <td>0.252829</td>\n",
       "      <td>...</td>\n",
       "      <td>0</td>\n",
       "      <td>0</td>\n",
       "      <td>1</td>\n",
       "      <td>1</td>\n",
       "      <td>0</td>\n",
       "      <td>0</td>\n",
       "      <td>0</td>\n",
       "      <td>0.279020</td>\n",
       "      <td>0.0</td>\n",
       "      <td>1.0</td>\n",
       "    </tr>\n",
       "    <tr>\n",
       "      <th>4</th>\n",
       "      <td>0.229329</td>\n",
       "      <td>0.336513</td>\n",
       "      <td>0.023511</td>\n",
       "      <td>0.300913</td>\n",
       "      <td>0.668738</td>\n",
       "      <td>0.481586</td>\n",
       "      <td>0.545660</td>\n",
       "      <td>0.667849</td>\n",
       "      <td>0.546045</td>\n",
       "      <td>0.202731</td>\n",
       "      <td>...</td>\n",
       "      <td>0</td>\n",
       "      <td>1</td>\n",
       "      <td>0</td>\n",
       "      <td>0</td>\n",
       "      <td>1</td>\n",
       "      <td>0</td>\n",
       "      <td>0</td>\n",
       "      <td>0.277023</td>\n",
       "      <td>0.0</td>\n",
       "      <td>1.0</td>\n",
       "    </tr>\n",
       "    <tr>\n",
       "      <th>...</th>\n",
       "      <td>...</td>\n",
       "      <td>...</td>\n",
       "      <td>...</td>\n",
       "      <td>...</td>\n",
       "      <td>...</td>\n",
       "      <td>...</td>\n",
       "      <td>...</td>\n",
       "      <td>...</td>\n",
       "      <td>...</td>\n",
       "      <td>...</td>\n",
       "      <td>...</td>\n",
       "      <td>...</td>\n",
       "      <td>...</td>\n",
       "      <td>...</td>\n",
       "      <td>...</td>\n",
       "      <td>...</td>\n",
       "      <td>...</td>\n",
       "      <td>...</td>\n",
       "      <td>...</td>\n",
       "      <td>...</td>\n",
       "      <td>...</td>\n",
       "    </tr>\n",
       "    <tr>\n",
       "      <th>499995</th>\n",
       "      <td>0.185473</td>\n",
       "      <td>0.525338</td>\n",
       "      <td>0.014945</td>\n",
       "      <td>0.204029</td>\n",
       "      <td>0.498957</td>\n",
       "      <td>0.431933</td>\n",
       "      <td>0.470553</td>\n",
       "      <td>0.731268</td>\n",
       "      <td>0.452134</td>\n",
       "      <td>0.211206</td>\n",
       "      <td>...</td>\n",
       "      <td>0</td>\n",
       "      <td>0</td>\n",
       "      <td>0</td>\n",
       "      <td>1</td>\n",
       "      <td>0</td>\n",
       "      <td>0</td>\n",
       "      <td>0</td>\n",
       "      <td>0.262592</td>\n",
       "      <td>0.0</td>\n",
       "      <td>1.0</td>\n",
       "    </tr>\n",
       "    <tr>\n",
       "      <th>499996</th>\n",
       "      <td>0.183194</td>\n",
       "      <td>0.553266</td>\n",
       "      <td>0.008055</td>\n",
       "      <td>0.280651</td>\n",
       "      <td>0.636591</td>\n",
       "      <td>0.478092</td>\n",
       "      <td>0.450386</td>\n",
       "      <td>0.582647</td>\n",
       "      <td>0.517270</td>\n",
       "      <td>0.225116</td>\n",
       "      <td>...</td>\n",
       "      <td>0</td>\n",
       "      <td>0</td>\n",
       "      <td>0</td>\n",
       "      <td>0</td>\n",
       "      <td>1</td>\n",
       "      <td>0</td>\n",
       "      <td>0</td>\n",
       "      <td>0.271275</td>\n",
       "      <td>0.0</td>\n",
       "      <td>1.0</td>\n",
       "    </tr>\n",
       "    <tr>\n",
       "      <th>499997</th>\n",
       "      <td>0.184650</td>\n",
       "      <td>0.533643</td>\n",
       "      <td>0.011218</td>\n",
       "      <td>0.201262</td>\n",
       "      <td>0.720698</td>\n",
       "      <td>0.472888</td>\n",
       "      <td>0.427469</td>\n",
       "      <td>0.589259</td>\n",
       "      <td>0.243879</td>\n",
       "      <td>0.413022</td>\n",
       "      <td>...</td>\n",
       "      <td>0</td>\n",
       "      <td>0</td>\n",
       "      <td>0</td>\n",
       "      <td>0</td>\n",
       "      <td>0</td>\n",
       "      <td>0</td>\n",
       "      <td>0</td>\n",
       "      <td>0.275204</td>\n",
       "      <td>0.0</td>\n",
       "      <td>1.0</td>\n",
       "    </tr>\n",
       "    <tr>\n",
       "      <th>499998</th>\n",
       "      <td>0.227731</td>\n",
       "      <td>0.513247</td>\n",
       "      <td>0.178603</td>\n",
       "      <td>0.313778</td>\n",
       "      <td>0.665656</td>\n",
       "      <td>0.401365</td>\n",
       "      <td>0.183369</td>\n",
       "      <td>0.708233</td>\n",
       "      <td>0.575135</td>\n",
       "      <td>0.152771</td>\n",
       "      <td>...</td>\n",
       "      <td>0</td>\n",
       "      <td>0</td>\n",
       "      <td>0</td>\n",
       "      <td>1</td>\n",
       "      <td>0</td>\n",
       "      <td>0</td>\n",
       "      <td>0</td>\n",
       "      <td>0.238888</td>\n",
       "      <td>0.0</td>\n",
       "      <td>1.0</td>\n",
       "    </tr>\n",
       "    <tr>\n",
       "      <th>499999</th>\n",
       "      <td>0.185561</td>\n",
       "      <td>0.406225</td>\n",
       "      <td>0.097598</td>\n",
       "      <td>0.327129</td>\n",
       "      <td>0.655168</td>\n",
       "      <td>0.384097</td>\n",
       "      <td>0.330797</td>\n",
       "      <td>0.747355</td>\n",
       "      <td>0.409955</td>\n",
       "      <td>0.294460</td>\n",
       "      <td>...</td>\n",
       "      <td>0</td>\n",
       "      <td>0</td>\n",
       "      <td>1</td>\n",
       "      <td>0</td>\n",
       "      <td>0</td>\n",
       "      <td>0</td>\n",
       "      <td>0</td>\n",
       "      <td>0.286262</td>\n",
       "      <td>0.0</td>\n",
       "      <td>1.0</td>\n",
       "    </tr>\n",
       "  </tbody>\n",
       "</table>\n",
       "<p>500000 rows × 288 columns</p>\n",
       "</div>"
      ],
      "text/plain": [
       "              f0        f1        f2        f3        f4        f5        f6  \\\n",
       "0       0.178216  0.435617  0.010230  0.202074  0.390170  0.324221  0.221722   \n",
       "1       0.181250  0.476455  0.022413  0.283146  0.598020  0.349508  0.283467   \n",
       "2       0.159721  0.451202  0.259649  0.365274  0.594634  0.413502  0.249318   \n",
       "3       0.182424  0.520976  0.095344  0.327742  0.741830  0.358711  0.270077   \n",
       "4       0.229329  0.336513  0.023511  0.300913  0.668738  0.481586  0.545660   \n",
       "...          ...       ...       ...       ...       ...       ...       ...   \n",
       "499995  0.185473  0.525338  0.014945  0.204029  0.498957  0.431933  0.470553   \n",
       "499996  0.183194  0.553266  0.008055  0.280651  0.636591  0.478092  0.450386   \n",
       "499997  0.184650  0.533643  0.011218  0.201262  0.720698  0.472888  0.427469   \n",
       "499998  0.227731  0.513247  0.178603  0.313778  0.665656  0.401365  0.183369   \n",
       "499999  0.185561  0.406225  0.097598  0.327129  0.655168  0.384097  0.330797   \n",
       "\n",
       "              f7        f8        f9  ...  f278  f279  f280  f281  f282  f283  \\\n",
       "0       0.738894  0.582588  0.343770  ...     0     0     0     1     1     1   \n",
       "1       0.721575  0.268990  0.208373  ...     0     0     0     0     0     0   \n",
       "2       0.642339  0.411104  0.246891  ...     0     0     0     1     0     0   \n",
       "3       0.601662  0.297742  0.252829  ...     0     0     1     1     0     0   \n",
       "4       0.667849  0.546045  0.202731  ...     0     1     0     0     1     0   \n",
       "...          ...       ...       ...  ...   ...   ...   ...   ...   ...   ...   \n",
       "499995  0.731268  0.452134  0.211206  ...     0     0     0     1     0     0   \n",
       "499996  0.582647  0.517270  0.225116  ...     0     0     0     0     1     0   \n",
       "499997  0.589259  0.243879  0.413022  ...     0     0     0     0     0     0   \n",
       "499998  0.708233  0.575135  0.152771  ...     0     0     0     1     0     0   \n",
       "499999  0.747355  0.409955  0.294460  ...     0     0     1     0     0     0   \n",
       "\n",
       "        f284       std  min  max  \n",
       "0          0  0.282364  0.0  1.0  \n",
       "1          0  0.266328  0.0  1.0  \n",
       "2          0  0.285174  0.0  1.0  \n",
       "3          0  0.279020  0.0  1.0  \n",
       "4          0  0.277023  0.0  1.0  \n",
       "...      ...       ...  ...  ...  \n",
       "499995     0  0.262592  0.0  1.0  \n",
       "499996     0  0.271275  0.0  1.0  \n",
       "499997     0  0.275204  0.0  1.0  \n",
       "499998     0  0.238888  0.0  1.0  \n",
       "499999     0  0.286262  0.0  1.0  \n",
       "\n",
       "[500000 rows x 288 columns]"
      ]
     },
     "execution_count": 10,
     "metadata": {},
     "output_type": "execute_result"
    }
   ],
   "source": [
    "test[features]"
   ]
  },
  {
   "cell_type": "code",
   "execution_count": 11,
   "id": "c0b23b2c",
   "metadata": {
    "execution": {
     "iopub.execute_input": "2021-10-06T15:04:55.660639Z",
     "iopub.status.busy": "2021-10-06T15:04:55.660044Z",
     "iopub.status.idle": "2021-10-06T15:04:55.669971Z",
     "shell.execute_reply": "2021-10-06T15:04:55.669473Z",
     "shell.execute_reply.started": "2021-10-04T14:13:08.658437Z"
    },
    "papermill": {
     "duration": 0.027359,
     "end_time": "2021-10-06T15:04:55.670097",
     "exception": false,
     "start_time": "2021-10-06T15:04:55.642738",
     "status": "completed"
    },
    "tags": []
   },
   "outputs": [
    {
     "data": {
      "text/plain": [
       "0         1\n",
       "1         1\n",
       "2         1\n",
       "3         1\n",
       "4         1\n",
       "         ..\n",
       "999995    1\n",
       "999996    0\n",
       "999997    0\n",
       "999998    1\n",
       "999999    0\n",
       "Name: target, Length: 1000000, dtype: int8"
      ]
     },
     "execution_count": 11,
     "metadata": {},
     "output_type": "execute_result"
    }
   ],
   "source": [
    "train[target]"
   ]
  },
  {
   "cell_type": "code",
   "execution_count": 12,
   "id": "60549996",
   "metadata": {
    "execution": {
     "iopub.execute_input": "2021-10-06T15:04:55.803979Z",
     "iopub.status.busy": "2021-10-06T15:04:55.803145Z",
     "iopub.status.idle": "2021-10-06T15:04:55.806438Z",
     "shell.execute_reply": "2021-10-06T15:04:55.806825Z",
     "shell.execute_reply.started": "2021-10-04T07:24:32.011225Z"
    },
    "papermill": {
     "duration": 0.121251,
     "end_time": "2021-10-06T15:04:55.807040",
     "exception": false,
     "start_time": "2021-10-06T15:04:55.685789",
     "status": "completed"
    },
    "tags": []
   },
   "outputs": [
    {
     "data": {
      "text/plain": [
       "40"
      ]
     },
     "execution_count": 12,
     "metadata": {},
     "output_type": "execute_result"
    }
   ],
   "source": [
    "gc.collect()"
   ]
  },
  {
   "cell_type": "markdown",
   "id": "6760a56e",
   "metadata": {
    "papermill": {
     "duration": 0.015514,
     "end_time": "2021-10-06T15:04:55.838127",
     "exception": false,
     "start_time": "2021-10-06T15:04:55.822613",
     "status": "completed"
    },
    "tags": []
   },
   "source": [
    "# XGB"
   ]
  },
  {
   "cell_type": "code",
   "execution_count": 13,
   "id": "dcb43f04",
   "metadata": {
    "execution": {
     "iopub.execute_input": "2021-10-06T15:04:55.875163Z",
     "iopub.status.busy": "2021-10-06T15:04:55.874394Z",
     "iopub.status.idle": "2021-10-06T15:04:55.877314Z",
     "shell.execute_reply": "2021-10-06T15:04:55.876778Z",
     "shell.execute_reply.started": "2021-09-07T00:44:32.516352Z"
    },
    "papermill": {
     "duration": 0.023597,
     "end_time": "2021-10-06T15:04:55.877454",
     "exception": false,
     "start_time": "2021-10-06T15:04:55.853857",
     "status": "completed"
    },
    "tags": []
   },
   "outputs": [],
   "source": [
    "xgb_params = {\n",
    "     #'objective': 'binary:logistic',\n",
    "     'n_estimators':N_ESTIMATORS,\n",
    "     #'importance_type': 'total_gain',\n",
    "     'booster': 'gbtree',\n",
    "     'n_jobs' : -1,\n",
    "     'tree_method': 'hist',\n",
    "        \n",
    "    'learning_rate': 0.007279718158350149,\n",
    "    'subsample': 0.7,\n",
    "    'colsample_bytree': 0.2,\n",
    "    'reg_lambda': 75.56651890088857,\n",
    "    'reg_alpha': 0.11766857055687065,\n",
    "    'min_child_weight': 56.41980735551558,\n",
    "    'max_depth': 6, \n",
    "    'gamma': 0.6407823221122686,\n",
    "    \n",
    "    'colsample_bylevel': 0.6000000000000001,\n",
    "    'use_label_encoder': False,\n",
    "}"
   ]
  },
  {
   "cell_type": "code",
   "execution_count": 14,
   "id": "f38a5a50",
   "metadata": {
    "execution": {
     "iopub.execute_input": "2021-10-06T15:04:55.921972Z",
     "iopub.status.busy": "2021-10-06T15:04:55.921341Z",
     "iopub.status.idle": "2021-10-06T19:06:26.258521Z",
     "shell.execute_reply": "2021-10-06T19:06:26.259228Z",
     "shell.execute_reply.started": "2021-09-07T00:48:20.356186Z"
    },
    "papermill": {
     "duration": 14490.366786,
     "end_time": "2021-10-06T19:06:26.260235",
     "exception": false,
     "start_time": "2021-10-06T15:04:55.893449",
     "status": "completed"
    },
    "tags": []
   },
   "outputs": [
    {
     "name": "stdout",
     "output_type": "stream",
     "text": [
      "===== fold 0 =====\n",
      "===== fold 1 =====\n",
      "===== fold 2 =====\n",
      "===== fold 3 =====\n",
      "[0]\tvalidation_0-auc:0.80160\n",
      "[1000]\tvalidation_0-auc:0.84886\n",
      "[2000]\tvalidation_0-auc:0.85197\n",
      "[3000]\tvalidation_0-auc:0.85389\n",
      "[4000]\tvalidation_0-auc:0.85510\n",
      "[5000]\tvalidation_0-auc:0.85587\n",
      "[6000]\tvalidation_0-auc:0.85628\n",
      "[7000]\tvalidation_0-auc:0.85652\n",
      "[8000]\tvalidation_0-auc:0.85663\n",
      "[9000]\tvalidation_0-auc:0.85672\n",
      "[10000]\tvalidation_0-auc:0.85675\n",
      "[10758]\tvalidation_0-auc:0.85675\n",
      "[0]\tvalidation_0-auc:0.85675\n",
      "[458]\tvalidation_0-auc:0.85675\n",
      "fold 3 - xgb auc: 0.856803, elapsed time: 7844.71sec\n",
      "\n",
      "===== fold 4 =====\n",
      "[0]\tvalidation_0-auc:0.80243\n",
      "[1000]\tvalidation_0-auc:0.84924\n",
      "[2000]\tvalidation_0-auc:0.85232\n",
      "[3000]\tvalidation_0-auc:0.85420\n",
      "[4000]\tvalidation_0-auc:0.85528\n",
      "[5000]\tvalidation_0-auc:0.85592\n",
      "[6000]\tvalidation_0-auc:0.85627\n",
      "[7000]\tvalidation_0-auc:0.85646\n",
      "[8000]\tvalidation_0-auc:0.85655\n",
      "[8886]\tvalidation_0-auc:0.85657\n",
      "[0]\tvalidation_0-auc:0.85657\n",
      "[373]\tvalidation_0-auc:0.85657\n",
      "fold 4 - xgb auc: 0.856643, elapsed time: 6639.97sec\n",
      "\n",
      "oof xgb_auc = 0.5570756570184857\n"
     ]
    }
   ],
   "source": [
    "xgb_oof = np.zeros(train.shape[0])\n",
    "xgb_pred = np.zeros(test.shape[0])\n",
    "xgb_importances = pd.DataFrame()\n",
    "\n",
    "X_test = test[features]\n",
    "del test\n",
    "gc.collect()\n",
    "\n",
    "\n",
    "kf = StratifiedKFold(n_splits=N_SPLITS, shuffle=True, random_state=CVSEED)\n",
    "seed_list=[SEED+4]\n",
    "\n",
    "for fold, (trn_idx, val_idx) in enumerate(kf.split(X=train[features], y=train[target])):\n",
    "    print(f\"===== fold {fold} =====\")\n",
    "    if fold >2:\n",
    "        \n",
    "        X_train = train[features].iloc[trn_idx]\n",
    "        y_train = train[target].iloc[trn_idx]\n",
    "        X_valid = train[features].iloc[val_idx]\n",
    "        y_valid = train[target].iloc[val_idx]\n",
    "        \n",
    "\n",
    "\n",
    "        start = time.time()\n",
    "        for inseed in seed_list:\n",
    "            xgb_params['random_state'] = inseed\n",
    "\n",
    "            pre_model = xgb.XGBClassifier(**xgb_params)\n",
    "            pre_model.fit(\n",
    "                X_train, \n",
    "                y_train,\n",
    "                eval_set=[(X_valid, y_valid)],\n",
    "                eval_metric='auc',\n",
    "                early_stopping_rounds=EARLY_STOPPING_ROUNDS,\n",
    "                verbose=VERBOSE,\n",
    "            )\n",
    "\n",
    "            xgb_params2 = xgb_params.copy()\n",
    "            xgb_params2['reg_lambda'] *= 0.9\n",
    "            xgb_params2['reg_alpha'] *= 0.9\n",
    "            xgb_params2['learning_rate'] *= 0.1\n",
    "            model = xgb.XGBClassifier(**xgb_params2)\n",
    "            model.fit(\n",
    "                    X_train, y_train,\n",
    "                    eval_set=[(X_valid, y_valid)],\n",
    "                    eval_metric='auc',\n",
    "                    early_stopping_rounds=EARLY_STOPPING_ROUNDS,\n",
    "                    verbose=VERBOSE,\n",
    "                    xgb_model=pre_model\n",
    "            )    \n",
    "\n",
    "            with open(f\"xgb_model{fold}_seed{inseed}.pkl\", 'wb') as f:\n",
    "                pickle.dump(model, f)\n",
    "\n",
    "            fi_tmp = pd.DataFrame()\n",
    "            fi_tmp['feature'] = X_train.columns\n",
    "            fi_tmp['importance'] = model.feature_importances_\n",
    "            fi_tmp['fold'] = fold\n",
    "            fi_tmp['seed'] = inseed\n",
    "            xgb_importances = xgb_importances.append(fi_tmp)\n",
    "\n",
    "            xgb_oof[val_idx] += model.predict_proba(X_valid)[:,-1] / len(seed_list)\n",
    "            xgb_pred += model.predict_proba(X_test)[:,-1] / len(seed_list)\n",
    "            \n",
    "            del pre_model\n",
    "            del model\n",
    "            gc.collect()\n",
    "\n",
    "\n",
    "        elapsed = time.time() - start\n",
    "        auc = roc_auc_score(y_valid, xgb_oof[val_idx])\n",
    "        print(f\"fold {fold} - xgb auc: {auc:.6f}, elapsed time: {elapsed:.2f}sec\\n\")\n",
    "        \n",
    "        del X_train\n",
    "        del y_train\n",
    "        del X_valid\n",
    "        del y_valid\n",
    "        gc.collect()\n",
    "\n",
    "\n",
    "del X_test\n",
    "gc.collect()\n",
    "\n",
    "xgb_pred /= N_SPLITS\n",
    "print(f\"oof xgb_auc = {roc_auc_score(train[target], xgb_oof)}\")\n",
    "\n",
    "np.save(\"xgb_oof.npy\", xgb_oof)\n",
    "np.save(\"xgb_pred.npy\", xgb_pred)"
   ]
  },
  {
   "cell_type": "markdown",
   "id": "f19ec335",
   "metadata": {
    "papermill": {
     "duration": 0.022599,
     "end_time": "2021-10-06T19:06:26.305402",
     "exception": false,
     "start_time": "2021-10-06T19:06:26.282803",
     "status": "completed"
    },
    "tags": []
   },
   "source": [
    "# OOF predictions"
   ]
  },
  {
   "cell_type": "code",
   "execution_count": 15,
   "id": "d847c8b3",
   "metadata": {
    "execution": {
     "iopub.execute_input": "2021-10-06T19:06:26.372094Z",
     "iopub.status.busy": "2021-10-06T19:06:26.371469Z",
     "iopub.status.idle": "2021-10-06T19:06:30.050601Z",
     "shell.execute_reply": "2021-10-06T19:06:30.050046Z",
     "shell.execute_reply.started": "2021-09-07T00:50:57.432219Z"
    },
    "papermill": {
     "duration": 3.723148,
     "end_time": "2021-10-06T19:06:30.050731",
     "exception": false,
     "start_time": "2021-10-06T19:06:26.327583",
     "status": "completed"
    },
    "tags": []
   },
   "outputs": [
    {
     "data": {
      "text/plain": [
       "<matplotlib.collections.PathCollection at 0x7fe3fb4c94d0>"
      ]
     },
     "execution_count": 15,
     "metadata": {},
     "output_type": "execute_result"
    },
    {
     "data": {
      "image/png": "[encoded data removed]",
      "text/plain": [
       "<Figure size 432x288 with 1 Axes>"
      ]
     },
     "metadata": {
      "needs_background": "light"
     },
     "output_type": "display_data"
    }
   ],
   "source": [
    "plt.plot(train[target], train[target])\n",
    "plt.scatter(train[target], xgb_oof)"
   ]
  },
  {
   "cell_type": "code",
   "execution_count": 16,
   "id": "93ddcf92",
   "metadata": {
    "execution": {
     "iopub.execute_input": "2021-10-06T19:06:30.234951Z",
     "iopub.status.busy": "2021-10-06T19:06:30.234318Z",
     "iopub.status.idle": "2021-10-06T19:06:30.238588Z",
     "shell.execute_reply": "2021-10-06T19:06:30.238044Z"
    },
    "papermill": {
     "duration": 0.164702,
     "end_time": "2021-10-06T19:06:30.238716",
     "exception": false,
     "start_time": "2021-10-06T19:06:30.074014",
     "status": "completed"
    },
    "tags": []
   },
   "outputs": [
    {
     "data": {
      "text/plain": [
       "20"
      ]
     },
     "execution_count": 16,
     "metadata": {},
     "output_type": "execute_result"
    }
   ],
   "source": [
    "del train\n",
    "del xgb_oof\n",
    "gc.collect()"
   ]
  },
  {
   "cell_type": "markdown",
   "id": "f3f3012b",
   "metadata": {
    "papermill": {
     "duration": 0.023706,
     "end_time": "2021-10-06T19:06:30.286303",
     "exception": false,
     "start_time": "2021-10-06T19:06:30.262597",
     "status": "completed"
    },
    "tags": []
   },
   "source": [
    "# Features importances"
   ]
  },
  {
   "cell_type": "code",
   "execution_count": 17,
   "id": "814e1a20",
   "metadata": {
    "execution": {
     "iopub.execute_input": "2021-10-06T19:06:30.339057Z",
     "iopub.status.busy": "2021-10-06T19:06:30.338398Z",
     "iopub.status.idle": "2021-10-06T19:06:35.175955Z",
     "shell.execute_reply": "2021-10-06T19:06:35.176411Z",
     "shell.execute_reply.started": "2021-09-07T00:51:01.011128Z"
    },
    "papermill": {
     "duration": 4.866018,
     "end_time": "2021-10-06T19:06:35.176578",
     "exception": false,
     "start_time": "2021-10-06T19:06:30.310560",
     "status": "completed"
    },
    "tags": []
   },
   "outputs": [
    {
     "data": {
      "text/plain": [
       "Text(0.5, 1.0, 'XGB feature importances')"
      ]
     },
     "execution_count": 17,
     "metadata": {},
     "output_type": "execute_result"
    },
    {
     "data": {
      "image/png": "[encoded data removed]",
      "text/plain": [
       "<Figure size 1152x1152 with 1 Axes>"
      ]
     },
     "metadata": {
      "needs_background": "light"
     },
     "output_type": "display_data"
    }
   ],
   "source": [
    "order = list(xgb_importances.groupby('feature').mean().sort_values('importance', ascending=False).index)\n",
    "\n",
    "fig = plt.figure(figsize=(16, 16), tight_layout=True)\n",
    "sns.barplot(x=\"importance\", y=\"feature\", data=xgb_importances.groupby('feature').mean().reset_index(), order=order)\n",
    "plt.title(\"XGB feature importances\")"
   ]
  },
  {
   "cell_type": "markdown",
   "id": "dd7c2891",
   "metadata": {
    "papermill": {
     "duration": 0.025924,
     "end_time": "2021-10-06T19:06:35.229524",
     "exception": false,
     "start_time": "2021-10-06T19:06:35.203600",
     "status": "completed"
    },
    "tags": []
   },
   "source": [
    "# Submission"
   ]
  },
  {
   "cell_type": "code",
   "execution_count": 18,
   "id": "46b1cdf6",
   "metadata": {
    "execution": {
     "iopub.execute_input": "2021-10-06T19:06:35.284829Z",
     "iopub.status.busy": "2021-10-06T19:06:35.283924Z",
     "iopub.status.idle": "2021-10-06T19:06:36.489333Z",
     "shell.execute_reply": "2021-10-06T19:06:36.489849Z",
     "shell.execute_reply.started": "2021-09-07T00:51:03.177221Z"
    },
    "papermill": {
     "duration": 1.234498,
     "end_time": "2021-10-06T19:06:36.490015",
     "exception": false,
     "start_time": "2021-10-06T19:06:35.255517",
     "status": "completed"
    },
    "tags": []
   },
   "outputs": [
    {
     "data": {
      "text/html": [
       "<div>\n",
       "<style scoped>\n",
       "    .dataframe tbody tr th:only-of-type {\n",
       "        vertical-align: middle;\n",
       "    }\n",
       "\n",
       "    .dataframe tbody tr th {\n",
       "        vertical-align: top;\n",
       "    }\n",
       "\n",
       "    .dataframe thead th {\n",
       "        text-align: right;\n",
       "    }\n",
       "</style>\n",
       "<table border=\"1\" class=\"dataframe\">\n",
       "  <thead>\n",
       "    <tr style=\"text-align: right;\">\n",
       "      <th></th>\n",
       "      <th>id</th>\n",
       "      <th>target</th>\n",
       "    </tr>\n",
       "  </thead>\n",
       "  <tbody>\n",
       "    <tr>\n",
       "      <th>0</th>\n",
       "      <td>1000000</td>\n",
       "      <td>0.290983</td>\n",
       "    </tr>\n",
       "    <tr>\n",
       "      <th>1</th>\n",
       "      <td>1000001</td>\n",
       "      <td>0.093569</td>\n",
       "    </tr>\n",
       "    <tr>\n",
       "      <th>2</th>\n",
       "      <td>1000002</td>\n",
       "      <td>0.362340</td>\n",
       "    </tr>\n",
       "    <tr>\n",
       "      <th>3</th>\n",
       "      <td>1000003</td>\n",
       "      <td>0.332100</td>\n",
       "    </tr>\n",
       "    <tr>\n",
       "      <th>4</th>\n",
       "      <td>1000004</td>\n",
       "      <td>0.100851</td>\n",
       "    </tr>\n",
       "    <tr>\n",
       "      <th>...</th>\n",
       "      <td>...</td>\n",
       "      <td>...</td>\n",
       "    </tr>\n",
       "    <tr>\n",
       "      <th>499995</th>\n",
       "      <td>1499995</td>\n",
       "      <td>0.387286</td>\n",
       "    </tr>\n",
       "    <tr>\n",
       "      <th>499996</th>\n",
       "      <td>1499996</td>\n",
       "      <td>0.334252</td>\n",
       "    </tr>\n",
       "    <tr>\n",
       "      <th>499997</th>\n",
       "      <td>1499997</td>\n",
       "      <td>0.116791</td>\n",
       "    </tr>\n",
       "    <tr>\n",
       "      <th>499998</th>\n",
       "      <td>1499998</td>\n",
       "      <td>0.211168</td>\n",
       "    </tr>\n",
       "    <tr>\n",
       "      <th>499999</th>\n",
       "      <td>1499999</td>\n",
       "      <td>0.167154</td>\n",
       "    </tr>\n",
       "  </tbody>\n",
       "</table>\n",
       "<p>500000 rows × 2 columns</p>\n",
       "</div>"
      ],
      "text/plain": [
       "             id    target\n",
       "0       1000000  0.290983\n",
       "1       1000001  0.093569\n",
       "2       1000002  0.362340\n",
       "3       1000003  0.332100\n",
       "4       1000004  0.100851\n",
       "...         ...       ...\n",
       "499995  1499995  0.387286\n",
       "499996  1499996  0.334252\n",
       "499997  1499997  0.116791\n",
       "499998  1499998  0.211168\n",
       "499999  1499999  0.167154\n",
       "\n",
       "[500000 rows x 2 columns]"
      ]
     },
     "execution_count": 18,
     "metadata": {},
     "output_type": "execute_result"
    }
   ],
   "source": [
    "submission[target] = xgb_pred\n",
    "submission.to_csv(\"submission.csv\", index=False)\n",
    "\n",
    "submission"
   ]
  },
  {
   "cell_type": "markdown",
   "id": "7c95e6fb",
   "metadata": {
    "papermill": {
     "duration": 0.026344,
     "end_time": "2021-10-06T19:06:36.544216",
     "exception": false,
     "start_time": "2021-10-06T19:06:36.517872",
     "status": "completed"
    },
    "tags": []
   },
   "source": [
    "# Log\n",
    "\n",
    "seeds\n",
    "\n",
    "2017 ver5 fold 0-2 ver6 fold 3-4\n",
    "\n",
    "2018 ver7 fold 0-2 ver8 fold 3-4\n",
    "\n",
    "2019 ver9 fold 0-2 ver10 fold 3-4\n",
    "\n",
    "2020 ver11 fold 0-2 ver12 fold 3-4\n",
    "\n",
    "2021 ver13 fold 0-2 ver14 fold 3-4"
   ]
  }
 ],
 "metadata": {
  "kernelspec": {
   "display_name": "Python 3",
   "language": "python",
   "name": "python3"
  },
  "language_info": {
   "codemirror_mode": {
    "name": "ipython",
    "version": 3
   },
   "file_extension": ".py",
   "mimetype": "text/x-python",
   "name": "python",
   "nbconvert_exporter": "python",
   "pygments_lexer": "ipython3",
   "version": "3.7.10"
  },
  "papermill": {
   "default_parameters": {},
   "duration": 14711.717481,
   "end_time": "2021-10-06T19:06:37.485393",
   "environment_variables": {},
   "exception": null,
   "input_path": "__notebook__.ipynb",
   "output_path": "__notebook__.ipynb",
   "parameters": {},
   "start_time": "2021-10-06T15:01:25.767912",
   "version": "2.3.3"
  }
 },
 "nbformat": 4,
 "nbformat_minor": 5
}
