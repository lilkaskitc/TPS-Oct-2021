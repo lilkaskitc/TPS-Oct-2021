{
 "cells": [
  {
   "cell_type": "code",
   "execution_count": 1,
   "id": "9f7b27e8",
   "metadata": {
    "_cell_guid": "b1076dfc-b9ad-4769-8c92-a6c4dae69d19",
    "_uuid": "8f2839f25d086af736a60e9eeb907d3b93b6e0e5",
    "execution": {
     "iopub.execute_input": "2021-10-14T08:08:35.384526Z",
     "iopub.status.busy": "2021-10-14T08:08:35.383388Z",
     "iopub.status.idle": "2021-10-14T08:08:36.659382Z",
     "shell.execute_reply": "2021-10-14T08:08:36.659932Z",
     "shell.execute_reply.started": "2021-10-04T07:17:37.625191Z"
    },
    "papermill": {
     "duration": 1.300194,
     "end_time": "2021-10-14T08:08:36.660263",
     "exception": false,
     "start_time": "2021-10-14T08:08:35.360069",
     "status": "completed"
    },
    "tags": []
   },
   "outputs": [],
   "source": [
    "import numpy as np\n",
    "import pandas as pd\n",
    "import random\n",
    "import os\n",
    "import time\n",
    "import pickle\n",
    "from pathlib import Path\n",
    "import gc\n",
    "\n",
    "from sklearn.preprocessing import StandardScaler\n",
    "from sklearn.model_selection import StratifiedKFold, train_test_split\n",
    "from sklearn.metrics import roc_auc_score\n",
    "\n",
    "#import lightgbm as lgb\n",
    "import xgboost as xgb\n",
    "#import catboost as ctb\n",
    "\n",
    "import matplotlib.pyplot as plt\n",
    "import seaborn as sns\n",
    "\n",
    "import warnings\n",
    "warnings.simplefilter('ignore')"
   ]
  },
  {
   "cell_type": "markdown",
   "id": "ca775785",
   "metadata": {
    "papermill": {
     "duration": 0.017999,
     "end_time": "2021-10-14T08:08:36.697014",
     "exception": false,
     "start_time": "2021-10-14T08:08:36.679015",
     "status": "completed"
    },
    "tags": []
   },
   "source": [
    "# Parameters"
   ]
  },
  {
   "cell_type": "code",
   "execution_count": 2,
   "id": "b01d313c",
   "metadata": {
    "execution": {
     "iopub.execute_input": "2021-10-14T08:08:36.741556Z",
     "iopub.status.busy": "2021-10-14T08:08:36.740872Z",
     "iopub.status.idle": "2021-10-14T08:08:36.744238Z",
     "shell.execute_reply": "2021-10-14T08:08:36.743731Z",
     "shell.execute_reply.started": "2021-10-04T07:17:38.959998Z"
    },
    "papermill": {
     "duration": 0.028326,
     "end_time": "2021-10-14T08:08:36.744392",
     "exception": false,
     "start_time": "2021-10-14T08:08:36.716066",
     "status": "completed"
    },
    "tags": []
   },
   "outputs": [],
   "source": [
    "target = 'target'\n",
    "\n",
    "DEBUG = False\n",
    "\n",
    "if DEBUG:\n",
    "    N_ESTIMATORS = 1\n",
    "    N_SPLITS = 2\n",
    "    SEED = 2017\n",
    "    CVSEED = 2017\n",
    "    EARLY_STOPPING_ROUNDS = 1\n",
    "    VERBOSE = 100\n",
    "    #N_ITERS = 2\n",
    "else:\n",
    "    N_SPLITS = 5\n",
    "    N_ESTIMATORS = 20000\n",
    "    EARLY_STOPPING_ROUNDS = 300\n",
    "    VERBOSE = 1000\n",
    "    SEED = 2017\n",
    "    CVSEED = 2017\n",
    "    #N_ITERS = 10"
   ]
  },
  {
   "cell_type": "code",
   "execution_count": 3,
   "id": "3bf470d1",
   "metadata": {
    "execution": {
     "iopub.execute_input": "2021-10-14T08:08:36.785693Z",
     "iopub.status.busy": "2021-10-14T08:08:36.784910Z",
     "iopub.status.idle": "2021-10-14T08:08:36.789649Z",
     "shell.execute_reply": "2021-10-14T08:08:36.790121Z",
     "shell.execute_reply.started": "2021-10-04T07:17:38.969573Z"
    },
    "papermill": {
     "duration": 0.026897,
     "end_time": "2021-10-14T08:08:36.790305",
     "exception": false,
     "start_time": "2021-10-14T08:08:36.763408",
     "status": "completed"
    },
    "tags": []
   },
   "outputs": [],
   "source": [
    "def set_seed(seed=2017):\n",
    "    random.seed(seed)\n",
    "    os.environ['PYTHONHASHSEED'] = str(seed)\n",
    "    np.random.seed(seed)\n",
    "    \n",
    "set_seed(SEED)"
   ]
  },
  {
   "cell_type": "markdown",
   "id": "3e5cf3f6",
   "metadata": {
    "papermill": {
     "duration": 0.018112,
     "end_time": "2021-10-14T08:08:36.827144",
     "exception": false,
     "start_time": "2021-10-14T08:08:36.809032",
     "status": "completed"
    },
    "tags": []
   },
   "source": [
    "# Datasets"
   ]
  },
  {
   "cell_type": "code",
   "execution_count": 4,
   "id": "f0f34b3a",
   "metadata": {
    "execution": {
     "iopub.execute_input": "2021-10-14T08:08:36.868064Z",
     "iopub.status.busy": "2021-10-14T08:08:36.867355Z",
     "iopub.status.idle": "2021-10-14T08:10:12.709432Z",
     "shell.execute_reply": "2021-10-14T08:10:12.708839Z",
     "shell.execute_reply.started": "2021-10-04T07:17:38.980344Z"
    },
    "papermill": {
     "duration": 95.863938,
     "end_time": "2021-10-14T08:10:12.709642",
     "exception": false,
     "start_time": "2021-10-14T08:08:36.845704",
     "status": "completed"
    },
    "tags": []
   },
   "outputs": [],
   "source": [
    "INPUT = Path(\"../input/tabular-playground-series-oct-2021\")\n",
    "\n",
    "train = pd.read_csv(INPUT / \"train.csv\")\n",
    "test = pd.read_csv(INPUT / \"test.csv\")\n",
    "submission = pd.read_csv(INPUT / \"sample_submission.csv\")"
   ]
  },
  {
   "cell_type": "code",
   "execution_count": 5,
   "id": "a4e1f16c",
   "metadata": {
    "execution": {
     "iopub.execute_input": "2021-10-14T08:10:12.761206Z",
     "iopub.status.busy": "2021-10-14T08:10:12.760509Z",
     "iopub.status.idle": "2021-10-14T08:10:13.957545Z",
     "shell.execute_reply": "2021-10-14T08:10:13.958100Z",
     "shell.execute_reply.started": "2021-10-04T07:19:21.369035Z"
    },
    "papermill": {
     "duration": 1.225884,
     "end_time": "2021-10-14T08:10:13.958295",
     "exception": false,
     "start_time": "2021-10-14T08:10:12.732411",
     "status": "completed"
    },
    "tags": []
   },
   "outputs": [],
   "source": [
    "train = train[train.columns[1:]]\n",
    "test = test[test.columns[1:]]"
   ]
  },
  {
   "cell_type": "markdown",
   "id": "3dbf7230",
   "metadata": {
    "papermill": {
     "duration": 0.017884,
     "end_time": "2021-10-14T08:10:13.994500",
     "exception": false,
     "start_time": "2021-10-14T08:10:13.976616",
     "status": "completed"
    },
    "tags": []
   },
   "source": [
    "# Preprocessing"
   ]
  },
  {
   "cell_type": "code",
   "execution_count": 6,
   "id": "82e8a8b8",
   "metadata": {
    "execution": {
     "iopub.execute_input": "2021-10-14T08:10:14.035423Z",
     "iopub.status.busy": "2021-10-14T08:10:14.034402Z",
     "iopub.status.idle": "2021-10-14T08:10:14.038784Z",
     "shell.execute_reply": "2021-10-14T08:10:14.039302Z",
     "shell.execute_reply.started": "2021-10-04T07:19:23.214541Z"
    },
    "papermill": {
     "duration": 0.026376,
     "end_time": "2021-10-14T08:10:14.039468",
     "exception": false,
     "start_time": "2021-10-14T08:10:14.013092",
     "status": "completed"
    },
    "tags": []
   },
   "outputs": [],
   "source": [
    "features = [col for col in train.columns if 'f' in col]"
   ]
  },
  {
   "cell_type": "code",
   "execution_count": 7,
   "id": "5cb11b6c",
   "metadata": {
    "execution": {
     "iopub.execute_input": "2021-10-14T08:10:14.080554Z",
     "iopub.status.busy": "2021-10-14T08:10:14.079413Z",
     "iopub.status.idle": "2021-10-14T08:10:14.096042Z",
     "shell.execute_reply": "2021-10-14T08:10:14.096597Z",
     "shell.execute_reply.started": "2021-10-04T07:19:23.222364Z"
    },
    "papermill": {
     "duration": 0.038474,
     "end_time": "2021-10-14T08:10:14.096772",
     "exception": false,
     "start_time": "2021-10-14T08:10:14.058298",
     "status": "completed"
    },
    "tags": []
   },
   "outputs": [],
   "source": [
    "cont_features =[]\n",
    "disc_features =[]\n",
    "\n",
    "for col in features:\n",
    "    if train[col].dtype=='float64':\n",
    "        cont_features.append(col)\n",
    "    else:\n",
    "        disc_features.append(col)\n",
    "        \n",
    "features = disc_features + cont_features"
   ]
  },
  {
   "cell_type": "code",
   "execution_count": 8,
   "id": "1aecab70",
   "metadata": {
    "execution": {
     "iopub.execute_input": "2021-10-14T08:10:14.136901Z",
     "iopub.status.busy": "2021-10-14T08:10:14.135918Z",
     "iopub.status.idle": "2021-10-14T08:12:05.330940Z",
     "shell.execute_reply": "2021-10-14T08:12:05.330284Z",
     "shell.execute_reply.started": "2021-10-04T07:21:35.009513Z"
    },
    "papermill": {
     "duration": 111.216056,
     "end_time": "2021-10-14T08:12:05.331097",
     "exception": false,
     "start_time": "2021-10-14T08:10:14.115041",
     "status": "completed"
    },
    "tags": []
   },
   "outputs": [],
   "source": [
    "train[cont_features] = train[cont_features].astype('float32')\n",
    "train[disc_features] = train[disc_features].astype('uint8')\n",
    "train[target] = train[target].astype('uint8')\n",
    "\n",
    "test[cont_features] = test[cont_features].astype('float32')\n",
    "test[disc_features] = test[disc_features].astype('uint8')"
   ]
  },
  {
   "cell_type": "code",
   "execution_count": 9,
   "id": "8ae9cd4f",
   "metadata": {
    "execution": {
     "iopub.execute_input": "2021-10-14T08:12:05.372109Z",
     "iopub.status.busy": "2021-10-14T08:12:05.371149Z",
     "iopub.status.idle": "2021-10-14T08:12:05.562053Z",
     "shell.execute_reply": "2021-10-14T08:12:05.561464Z",
     "shell.execute_reply.started": "2021-10-04T07:24:31.446188Z"
    },
    "papermill": {
     "duration": 0.212227,
     "end_time": "2021-10-14T08:12:05.562209",
     "exception": false,
     "start_time": "2021-10-14T08:12:05.349982",
     "status": "completed"
    },
    "tags": []
   },
   "outputs": [
    {
     "data": {
      "text/html": [
       "<div>\n",
       "<style scoped>\n",
       "    .dataframe tbody tr th:only-of-type {\n",
       "        vertical-align: middle;\n",
       "    }\n",
       "\n",
       "    .dataframe tbody tr th {\n",
       "        vertical-align: top;\n",
       "    }\n",
       "\n",
       "    .dataframe thead th {\n",
       "        text-align: right;\n",
       "    }\n",
       "</style>\n",
       "<table border=\"1\" class=\"dataframe\">\n",
       "  <thead>\n",
       "    <tr style=\"text-align: right;\">\n",
       "      <th></th>\n",
       "      <th>f22</th>\n",
       "      <th>f43</th>\n",
       "      <th>f242</th>\n",
       "      <th>f243</th>\n",
       "      <th>f244</th>\n",
       "      <th>f245</th>\n",
       "      <th>f246</th>\n",
       "      <th>f247</th>\n",
       "      <th>f248</th>\n",
       "      <th>f249</th>\n",
       "      <th>...</th>\n",
       "      <th>f232</th>\n",
       "      <th>f233</th>\n",
       "      <th>f234</th>\n",
       "      <th>f235</th>\n",
       "      <th>f236</th>\n",
       "      <th>f237</th>\n",
       "      <th>f238</th>\n",
       "      <th>f239</th>\n",
       "      <th>f240</th>\n",
       "      <th>f241</th>\n",
       "    </tr>\n",
       "  </thead>\n",
       "  <tbody>\n",
       "    <tr>\n",
       "      <th>0</th>\n",
       "      <td>0</td>\n",
       "      <td>1</td>\n",
       "      <td>0</td>\n",
       "      <td>0</td>\n",
       "      <td>1</td>\n",
       "      <td>0</td>\n",
       "      <td>1</td>\n",
       "      <td>1</td>\n",
       "      <td>0</td>\n",
       "      <td>0</td>\n",
       "      <td>...</td>\n",
       "      <td>0.195952</td>\n",
       "      <td>0.227176</td>\n",
       "      <td>0.092359</td>\n",
       "      <td>0.152883</td>\n",
       "      <td>0.266000</td>\n",
       "      <td>0.006716</td>\n",
       "      <td>0.196959</td>\n",
       "      <td>0.022934</td>\n",
       "      <td>0.199017</td>\n",
       "      <td>0.150822</td>\n",
       "    </tr>\n",
       "    <tr>\n",
       "      <th>1</th>\n",
       "      <td>1</td>\n",
       "      <td>0</td>\n",
       "      <td>0</td>\n",
       "      <td>0</td>\n",
       "      <td>0</td>\n",
       "      <td>1</td>\n",
       "      <td>1</td>\n",
       "      <td>1</td>\n",
       "      <td>0</td>\n",
       "      <td>0</td>\n",
       "      <td>...</td>\n",
       "      <td>0.194892</td>\n",
       "      <td>0.203178</td>\n",
       "      <td>0.126690</td>\n",
       "      <td>0.128326</td>\n",
       "      <td>0.182899</td>\n",
       "      <td>0.003132</td>\n",
       "      <td>0.190789</td>\n",
       "      <td>0.195818</td>\n",
       "      <td>0.136427</td>\n",
       "      <td>0.200248</td>\n",
       "    </tr>\n",
       "    <tr>\n",
       "      <th>2</th>\n",
       "      <td>0</td>\n",
       "      <td>0</td>\n",
       "      <td>0</td>\n",
       "      <td>1</td>\n",
       "      <td>1</td>\n",
       "      <td>1</td>\n",
       "      <td>1</td>\n",
       "      <td>1</td>\n",
       "      <td>0</td>\n",
       "      <td>1</td>\n",
       "      <td>...</td>\n",
       "      <td>0.196512</td>\n",
       "      <td>0.205674</td>\n",
       "      <td>0.276899</td>\n",
       "      <td>0.194539</td>\n",
       "      <td>0.283591</td>\n",
       "      <td>0.005843</td>\n",
       "      <td>0.123439</td>\n",
       "      <td>0.199566</td>\n",
       "      <td>0.217159</td>\n",
       "      <td>0.229726</td>\n",
       "    </tr>\n",
       "    <tr>\n",
       "      <th>3</th>\n",
       "      <td>0</td>\n",
       "      <td>0</td>\n",
       "      <td>0</td>\n",
       "      <td>0</td>\n",
       "      <td>0</td>\n",
       "      <td>0</td>\n",
       "      <td>1</td>\n",
       "      <td>1</td>\n",
       "      <td>0</td>\n",
       "      <td>1</td>\n",
       "      <td>...</td>\n",
       "      <td>0.196870</td>\n",
       "      <td>0.207462</td>\n",
       "      <td>0.268194</td>\n",
       "      <td>0.263770</td>\n",
       "      <td>0.487931</td>\n",
       "      <td>0.008247</td>\n",
       "      <td>0.140777</td>\n",
       "      <td>0.042808</td>\n",
       "      <td>0.196403</td>\n",
       "      <td>0.166039</td>\n",
       "    </tr>\n",
       "    <tr>\n",
       "      <th>4</th>\n",
       "      <td>1</td>\n",
       "      <td>0</td>\n",
       "      <td>0</td>\n",
       "      <td>1</td>\n",
       "      <td>0</td>\n",
       "      <td>1</td>\n",
       "      <td>1</td>\n",
       "      <td>0</td>\n",
       "      <td>0</td>\n",
       "      <td>0</td>\n",
       "      <td>...</td>\n",
       "      <td>0.195016</td>\n",
       "      <td>0.199202</td>\n",
       "      <td>0.191478</td>\n",
       "      <td>0.126863</td>\n",
       "      <td>0.168593</td>\n",
       "      <td>0.319238</td>\n",
       "      <td>0.155194</td>\n",
       "      <td>0.205401</td>\n",
       "      <td>0.196158</td>\n",
       "      <td>0.327414</td>\n",
       "    </tr>\n",
       "    <tr>\n",
       "      <th>...</th>\n",
       "      <td>...</td>\n",
       "      <td>...</td>\n",
       "      <td>...</td>\n",
       "      <td>...</td>\n",
       "      <td>...</td>\n",
       "      <td>...</td>\n",
       "      <td>...</td>\n",
       "      <td>...</td>\n",
       "      <td>...</td>\n",
       "      <td>...</td>\n",
       "      <td>...</td>\n",
       "      <td>...</td>\n",
       "      <td>...</td>\n",
       "      <td>...</td>\n",
       "      <td>...</td>\n",
       "      <td>...</td>\n",
       "      <td>...</td>\n",
       "      <td>...</td>\n",
       "      <td>...</td>\n",
       "      <td>...</td>\n",
       "      <td>...</td>\n",
       "    </tr>\n",
       "    <tr>\n",
       "      <th>499995</th>\n",
       "      <td>0</td>\n",
       "      <td>0</td>\n",
       "      <td>1</td>\n",
       "      <td>0</td>\n",
       "      <td>0</td>\n",
       "      <td>0</td>\n",
       "      <td>0</td>\n",
       "      <td>0</td>\n",
       "      <td>1</td>\n",
       "      <td>0</td>\n",
       "      <td>...</td>\n",
       "      <td>0.195130</td>\n",
       "      <td>0.199618</td>\n",
       "      <td>0.091413</td>\n",
       "      <td>0.162236</td>\n",
       "      <td>0.309894</td>\n",
       "      <td>0.011023</td>\n",
       "      <td>0.142858</td>\n",
       "      <td>0.521894</td>\n",
       "      <td>0.222184</td>\n",
       "      <td>0.251195</td>\n",
       "    </tr>\n",
       "    <tr>\n",
       "      <th>499996</th>\n",
       "      <td>0</td>\n",
       "      <td>0</td>\n",
       "      <td>0</td>\n",
       "      <td>0</td>\n",
       "      <td>1</td>\n",
       "      <td>1</td>\n",
       "      <td>0</td>\n",
       "      <td>1</td>\n",
       "      <td>0</td>\n",
       "      <td>0</td>\n",
       "      <td>...</td>\n",
       "      <td>0.197064</td>\n",
       "      <td>0.199442</td>\n",
       "      <td>0.748071</td>\n",
       "      <td>0.194264</td>\n",
       "      <td>0.207866</td>\n",
       "      <td>0.006372</td>\n",
       "      <td>0.175386</td>\n",
       "      <td>0.198387</td>\n",
       "      <td>0.142845</td>\n",
       "      <td>0.214146</td>\n",
       "    </tr>\n",
       "    <tr>\n",
       "      <th>499997</th>\n",
       "      <td>1</td>\n",
       "      <td>0</td>\n",
       "      <td>0</td>\n",
       "      <td>0</td>\n",
       "      <td>0</td>\n",
       "      <td>1</td>\n",
       "      <td>1</td>\n",
       "      <td>1</td>\n",
       "      <td>0</td>\n",
       "      <td>1</td>\n",
       "      <td>...</td>\n",
       "      <td>0.324317</td>\n",
       "      <td>0.197398</td>\n",
       "      <td>0.184333</td>\n",
       "      <td>0.136267</td>\n",
       "      <td>0.164835</td>\n",
       "      <td>0.006861</td>\n",
       "      <td>0.141225</td>\n",
       "      <td>0.044007</td>\n",
       "      <td>0.141896</td>\n",
       "      <td>0.228734</td>\n",
       "    </tr>\n",
       "    <tr>\n",
       "      <th>499998</th>\n",
       "      <td>0</td>\n",
       "      <td>0</td>\n",
       "      <td>0</td>\n",
       "      <td>0</td>\n",
       "      <td>0</td>\n",
       "      <td>0</td>\n",
       "      <td>1</td>\n",
       "      <td>1</td>\n",
       "      <td>0</td>\n",
       "      <td>0</td>\n",
       "      <td>...</td>\n",
       "      <td>0.195557</td>\n",
       "      <td>0.202305</td>\n",
       "      <td>0.039359</td>\n",
       "      <td>0.189006</td>\n",
       "      <td>0.239799</td>\n",
       "      <td>0.005881</td>\n",
       "      <td>0.192076</td>\n",
       "      <td>0.199732</td>\n",
       "      <td>0.169161</td>\n",
       "      <td>0.271750</td>\n",
       "    </tr>\n",
       "    <tr>\n",
       "      <th>499999</th>\n",
       "      <td>1</td>\n",
       "      <td>1</td>\n",
       "      <td>0</td>\n",
       "      <td>0</td>\n",
       "      <td>1</td>\n",
       "      <td>1</td>\n",
       "      <td>0</td>\n",
       "      <td>0</td>\n",
       "      <td>1</td>\n",
       "      <td>0</td>\n",
       "      <td>...</td>\n",
       "      <td>0.194191</td>\n",
       "      <td>0.204191</td>\n",
       "      <td>0.042052</td>\n",
       "      <td>0.129841</td>\n",
       "      <td>0.163681</td>\n",
       "      <td>0.007775</td>\n",
       "      <td>0.229352</td>\n",
       "      <td>0.389587</td>\n",
       "      <td>0.219126</td>\n",
       "      <td>0.324886</td>\n",
       "    </tr>\n",
       "  </tbody>\n",
       "</table>\n",
       "<p>500000 rows × 285 columns</p>\n",
       "</div>"
      ],
      "text/plain": [
       "        f22  f43  f242  f243  f244  f245  f246  f247  f248  f249  ...  \\\n",
       "0         0    1     0     0     1     0     1     1     0     0  ...   \n",
       "1         1    0     0     0     0     1     1     1     0     0  ...   \n",
       "2         0    0     0     1     1     1     1     1     0     1  ...   \n",
       "3         0    0     0     0     0     0     1     1     0     1  ...   \n",
       "4         1    0     0     1     0     1     1     0     0     0  ...   \n",
       "...     ...  ...   ...   ...   ...   ...   ...   ...   ...   ...  ...   \n",
       "499995    0    0     1     0     0     0     0     0     1     0  ...   \n",
       "499996    0    0     0     0     1     1     0     1     0     0  ...   \n",
       "499997    1    0     0     0     0     1     1     1     0     1  ...   \n",
       "499998    0    0     0     0     0     0     1     1     0     0  ...   \n",
       "499999    1    1     0     0     1     1     0     0     1     0  ...   \n",
       "\n",
       "            f232      f233      f234      f235      f236      f237      f238  \\\n",
       "0       0.195952  0.227176  0.092359  0.152883  0.266000  0.006716  0.196959   \n",
       "1       0.194892  0.203178  0.126690  0.128326  0.182899  0.003132  0.190789   \n",
       "2       0.196512  0.205674  0.276899  0.194539  0.283591  0.005843  0.123439   \n",
       "3       0.196870  0.207462  0.268194  0.263770  0.487931  0.008247  0.140777   \n",
       "4       0.195016  0.199202  0.191478  0.126863  0.168593  0.319238  0.155194   \n",
       "...          ...       ...       ...       ...       ...       ...       ...   \n",
       "499995  0.195130  0.199618  0.091413  0.162236  0.309894  0.011023  0.142858   \n",
       "499996  0.197064  0.199442  0.748071  0.194264  0.207866  0.006372  0.175386   \n",
       "499997  0.324317  0.197398  0.184333  0.136267  0.164835  0.006861  0.141225   \n",
       "499998  0.195557  0.202305  0.039359  0.189006  0.239799  0.005881  0.192076   \n",
       "499999  0.194191  0.204191  0.042052  0.129841  0.163681  0.007775  0.229352   \n",
       "\n",
       "            f239      f240      f241  \n",
       "0       0.022934  0.199017  0.150822  \n",
       "1       0.195818  0.136427  0.200248  \n",
       "2       0.199566  0.217159  0.229726  \n",
       "3       0.042808  0.196403  0.166039  \n",
       "4       0.205401  0.196158  0.327414  \n",
       "...          ...       ...       ...  \n",
       "499995  0.521894  0.222184  0.251195  \n",
       "499996  0.198387  0.142845  0.214146  \n",
       "499997  0.044007  0.141896  0.228734  \n",
       "499998  0.199732  0.169161  0.271750  \n",
       "499999  0.389587  0.219126  0.324886  \n",
       "\n",
       "[500000 rows x 285 columns]"
      ]
     },
     "execution_count": 9,
     "metadata": {},
     "output_type": "execute_result"
    }
   ],
   "source": [
    "test[features]"
   ]
  },
  {
   "cell_type": "code",
   "execution_count": 10,
   "id": "e26d0d16",
   "metadata": {
    "execution": {
     "iopub.execute_input": "2021-10-14T08:12:05.610453Z",
     "iopub.status.busy": "2021-10-14T08:12:05.609598Z",
     "iopub.status.idle": "2021-10-14T08:12:05.613737Z",
     "shell.execute_reply": "2021-10-14T08:12:05.613096Z",
     "shell.execute_reply.started": "2021-10-04T07:24:31.998191Z"
    },
    "papermill": {
     "duration": 0.032172,
     "end_time": "2021-10-14T08:12:05.613883",
     "exception": false,
     "start_time": "2021-10-14T08:12:05.581711",
     "status": "completed"
    },
    "tags": []
   },
   "outputs": [
    {
     "data": {
      "text/plain": [
       "0         1\n",
       "1         1\n",
       "2         1\n",
       "3         1\n",
       "4         1\n",
       "         ..\n",
       "999995    1\n",
       "999996    0\n",
       "999997    0\n",
       "999998    1\n",
       "999999    0\n",
       "Name: target, Length: 1000000, dtype: uint8"
      ]
     },
     "execution_count": 10,
     "metadata": {},
     "output_type": "execute_result"
    }
   ],
   "source": [
    "train[target]"
   ]
  },
  {
   "cell_type": "code",
   "execution_count": 11,
   "id": "221624d4",
   "metadata": {
    "execution": {
     "iopub.execute_input": "2021-10-14T08:12:05.764356Z",
     "iopub.status.busy": "2021-10-14T08:12:05.763412Z",
     "iopub.status.idle": "2021-10-14T08:12:05.768360Z",
     "shell.execute_reply": "2021-10-14T08:12:05.767428Z",
     "shell.execute_reply.started": "2021-10-04T07:24:32.011225Z"
    },
    "papermill": {
     "duration": 0.135042,
     "end_time": "2021-10-14T08:12:05.768525",
     "exception": false,
     "start_time": "2021-10-14T08:12:05.633483",
     "status": "completed"
    },
    "tags": []
   },
   "outputs": [
    {
     "data": {
      "text/plain": [
       "40"
      ]
     },
     "execution_count": 11,
     "metadata": {},
     "output_type": "execute_result"
    }
   ],
   "source": [
    "del cont_features\n",
    "del disc_features\n",
    "\n",
    "gc.collect()"
   ]
  },
  {
   "cell_type": "markdown",
   "id": "edd4f1aa",
   "metadata": {
    "papermill": {
     "duration": 0.019295,
     "end_time": "2021-10-14T08:12:05.807960",
     "exception": false,
     "start_time": "2021-10-14T08:12:05.788665",
     "status": "completed"
    },
    "tags": []
   },
   "source": [
    "# XGB"
   ]
  },
  {
   "cell_type": "code",
   "execution_count": 12,
   "id": "26a58c67",
   "metadata": {
    "execution": {
     "iopub.execute_input": "2021-10-14T08:12:05.853947Z",
     "iopub.status.busy": "2021-10-14T08:12:05.853275Z",
     "iopub.status.idle": "2021-10-14T08:12:05.856230Z",
     "shell.execute_reply": "2021-10-14T08:12:05.855759Z",
     "shell.execute_reply.started": "2021-09-07T00:44:32.516352Z"
    },
    "papermill": {
     "duration": 0.028382,
     "end_time": "2021-10-14T08:12:05.856364",
     "exception": false,
     "start_time": "2021-10-14T08:12:05.827982",
     "status": "completed"
    },
    "tags": []
   },
   "outputs": [],
   "source": [
    "xgb_params = {\n",
    "     'objective': 'binary:logistic',\n",
    "     'n_estimators':N_ESTIMATORS,\n",
    "     'importance_type': 'total_gain',\n",
    "     'booster': 'gbtree',\n",
    "     'n_jobs' : -1,\n",
    "     'tree_method': 'hist',\n",
    "    'grow_policy': 'lossguide',\n",
    "     'max_depth': 0,\n",
    "        \n",
    "     'learning_rate': 0.002059410583777856, \n",
    "    'subsample': 0.645562882560296, \n",
    "    'colsample_bytree': 0.27971556337339,\n",
    "    'reg_lambda': 8.575787302197103,\n",
    "    'reg_alpha': 0.4970914089965678, \n",
    "    'min_child_weight': 14.271520228654062,\n",
    "    'max_bin': 313, \n",
    "    'gamma': 6.694518017693891, \n",
    "    'max_leaves': 74\n",
    "}"
   ]
  },
  {
   "cell_type": "code",
   "execution_count": 13,
   "id": "68b1ad99",
   "metadata": {
    "execution": {
     "iopub.execute_input": "2021-10-14T08:12:05.914011Z",
     "iopub.status.busy": "2021-10-14T08:12:05.913208Z",
     "iopub.status.idle": "2021-10-14T13:27:41.816748Z",
     "shell.execute_reply": "2021-10-14T13:27:41.815700Z",
     "shell.execute_reply.started": "2021-09-07T00:48:20.356186Z"
    },
    "papermill": {
     "duration": 18935.941516,
     "end_time": "2021-10-14T13:27:41.817681",
     "exception": false,
     "start_time": "2021-10-14T08:12:05.876165",
     "status": "completed"
    },
    "tags": []
   },
   "outputs": [
    {
     "name": "stdout",
     "output_type": "stream",
     "text": [
      "===== fold 0 =====\n",
      "===== fold 1 =====\n",
      "===== fold 2 =====\n",
      "===== fold 3 =====\n",
      "===== fold 4 =====\n",
      "[0]\tvalidation_0-auc:0.60159\n",
      "[1000]\tvalidation_0-auc:0.84705\n",
      "[2000]\tvalidation_0-auc:0.84860\n",
      "[3000]\tvalidation_0-auc:0.84992\n",
      "[4000]\tvalidation_0-auc:0.85116\n",
      "[5000]\tvalidation_0-auc:0.85223\n",
      "[6000]\tvalidation_0-auc:0.85313\n",
      "[7000]\tvalidation_0-auc:0.85385\n",
      "[8000]\tvalidation_0-auc:0.85447\n",
      "[9000]\tvalidation_0-auc:0.85499\n",
      "[10000]\tvalidation_0-auc:0.85539\n",
      "[11000]\tvalidation_0-auc:0.85571\n",
      "[12000]\tvalidation_0-auc:0.85596\n",
      "[13000]\tvalidation_0-auc:0.85615\n",
      "[14000]\tvalidation_0-auc:0.85629\n",
      "[15000]\tvalidation_0-auc:0.85641\n",
      "[16000]\tvalidation_0-auc:0.85649\n",
      "[17000]\tvalidation_0-auc:0.85657\n",
      "[18000]\tvalidation_0-auc:0.85663\n",
      "[19000]\tvalidation_0-auc:0.85665\n",
      "[19999]\tvalidation_0-auc:0.85668\n",
      "[0]\tvalidation_0-auc:0.85669\n",
      "[640]\tvalidation_0-auc:0.85669\n",
      "fold 4 - xgb auc: 0.856718, elapsed time: 18932.97sec\n",
      "\n",
      "oof xgb_auc = 0.514268701117421\n"
     ]
    }
   ],
   "source": [
    "xgb_oof = np.zeros(train.shape[0])\n",
    "xgb_pred = np.zeros(test.shape[0])\n",
    "xgb_importances = pd.DataFrame()\n",
    "\n",
    "X_test = test[features]\n",
    "del test\n",
    "gc.collect()\n",
    "\n",
    "\n",
    "kf = StratifiedKFold(n_splits=N_SPLITS, shuffle=True, random_state=CVSEED)\n",
    "seed_list=[SEED+4]\n",
    "\n",
    "for fold, (trn_idx, val_idx) in enumerate(kf.split(X=train[features], y=train[target])):\n",
    "    print(f\"===== fold {fold} =====\")\n",
    "    if fold == 4 :\n",
    "        \n",
    "        X_train = train[features].iloc[trn_idx]\n",
    "        y_train = train[target].iloc[trn_idx]\n",
    "        X_valid = train[features].iloc[val_idx]\n",
    "        y_valid = train[target].iloc[val_idx]\n",
    "        \n",
    "\n",
    "\n",
    "        start = time.time()\n",
    "        for inseed in seed_list:\n",
    "            xgb_params['random_state'] = inseed\n",
    "\n",
    "            pre_model = xgb.XGBClassifier(**xgb_params)\n",
    "            pre_model.fit(\n",
    "                X_train, \n",
    "                y_train,\n",
    "                eval_set=[(X_valid, y_valid)],\n",
    "                eval_metric='auc',\n",
    "                early_stopping_rounds=EARLY_STOPPING_ROUNDS,\n",
    "                verbose=VERBOSE,\n",
    "            )\n",
    "\n",
    "            xgb_params2 = xgb_params.copy()\n",
    "            xgb_params2['reg_lambda'] *= 0.9\n",
    "            xgb_params2['reg_alpha'] *= 0.9\n",
    "            xgb_params2['learning_rate'] *= 0.1\n",
    "            model = xgb.XGBClassifier(**xgb_params2)\n",
    "            model.fit(\n",
    "                    X_train, y_train,\n",
    "                    eval_set=[(X_valid, y_valid)],\n",
    "                    eval_metric='auc',\n",
    "                    early_stopping_rounds=EARLY_STOPPING_ROUNDS,\n",
    "                    verbose=VERBOSE,\n",
    "                    xgb_model=pre_model\n",
    "            )    \n",
    "\n",
    "            with open(f\"xgb_model{fold}_seed{inseed}.pkl\", 'wb') as f:\n",
    "                pickle.dump(model, f)\n",
    "\n",
    "            fi_tmp = pd.DataFrame()\n",
    "            fi_tmp['feature'] = X_train.columns\n",
    "            fi_tmp['importance'] = model.feature_importances_\n",
    "            fi_tmp['fold'] = fold\n",
    "            fi_tmp['seed'] = inseed\n",
    "            xgb_importances = xgb_importances.append(fi_tmp)\n",
    "\n",
    "            xgb_oof[val_idx] += model.predict_proba(X_valid)[:,-1] / len(seed_list)\n",
    "            xgb_pred += model.predict_proba(X_test)[:,-1] / len(seed_list)\n",
    "            \n",
    "            del pre_model\n",
    "            del model\n",
    "            gc.collect()\n",
    "\n",
    "\n",
    "        elapsed = time.time() - start\n",
    "        auc = roc_auc_score(y_valid, xgb_oof[val_idx])\n",
    "        print(f\"fold {fold} - xgb auc: {auc:.6f}, elapsed time: {elapsed:.2f}sec\\n\")\n",
    "        \n",
    "        del X_train\n",
    "        del y_train\n",
    "        del X_valid\n",
    "        del y_valid\n",
    "        gc.collect()\n",
    "\n",
    "\n",
    "del X_test\n",
    "gc.collect()\n",
    "\n",
    "xgb_pred /= N_SPLITS\n",
    "print(f\"oof xgb_auc = {roc_auc_score(train[target], xgb_oof)}\")\n",
    "\n",
    "np.save(\"xgb_oof.npy\", xgb_oof)\n",
    "np.save(\"xgb_pred.npy\", xgb_pred)"
   ]
  },
  {
   "cell_type": "markdown",
   "id": "fb3b8c68",
   "metadata": {
    "papermill": {
     "duration": 0.028862,
     "end_time": "2021-10-14T13:27:41.875119",
     "exception": false,
     "start_time": "2021-10-14T13:27:41.846257",
     "status": "completed"
    },
    "tags": []
   },
   "source": [
    "# OOF predictions"
   ]
  },
  {
   "cell_type": "code",
   "execution_count": 14,
   "id": "0539a9d3",
   "metadata": {
    "execution": {
     "iopub.execute_input": "2021-10-14T13:27:41.942268Z",
     "iopub.status.busy": "2021-10-14T13:27:41.941382Z",
     "iopub.status.idle": "2021-10-14T13:27:45.763708Z",
     "shell.execute_reply": "2021-10-14T13:27:45.764246Z",
     "shell.execute_reply.started": "2021-09-07T00:50:57.432219Z"
    },
    "papermill": {
     "duration": 3.860619,
     "end_time": "2021-10-14T13:27:45.764427",
     "exception": false,
     "start_time": "2021-10-14T13:27:41.903808",
     "status": "completed"
    },
    "tags": []
   },
   "outputs": [
    {
     "data": {
      "text/plain": [
       "<matplotlib.collections.PathCollection at 0x7fee0dd0a150>"
      ]
     },
     "execution_count": 14,
     "metadata": {},
     "output_type": "execute_result"
    },
    {
     "data": {
      "image/png": "[encoded data removed]",
      "text/plain": [
       "<Figure size 432x288 with 1 Axes>"
      ]
     },
     "metadata": {
      "needs_background": "light"
     },
     "output_type": "display_data"
    }
   ],
   "source": [
    "plt.plot(train[target], train[target])\n",
    "plt.scatter(train[target], xgb_oof)"
   ]
  },
  {
   "cell_type": "code",
   "execution_count": 15,
   "id": "392a08ed",
   "metadata": {
    "execution": {
     "iopub.execute_input": "2021-10-14T13:27:45.965912Z",
     "iopub.status.busy": "2021-10-14T13:27:45.965177Z",
     "iopub.status.idle": "2021-10-14T13:27:45.968728Z",
     "shell.execute_reply": "2021-10-14T13:27:45.969248Z"
    },
    "papermill": {
     "duration": 0.175866,
     "end_time": "2021-10-14T13:27:45.969426",
     "exception": false,
     "start_time": "2021-10-14T13:27:45.793560",
     "status": "completed"
    },
    "tags": []
   },
   "outputs": [
    {
     "data": {
      "text/plain": [
       "20"
      ]
     },
     "execution_count": 15,
     "metadata": {},
     "output_type": "execute_result"
    }
   ],
   "source": [
    "del train\n",
    "del xgb_oof\n",
    "gc.collect()"
   ]
  },
  {
   "cell_type": "markdown",
   "id": "b8f50fc1",
   "metadata": {
    "papermill": {
     "duration": 0.028932,
     "end_time": "2021-10-14T13:27:46.027500",
     "exception": false,
     "start_time": "2021-10-14T13:27:45.998568",
     "status": "completed"
    },
    "tags": []
   },
   "source": [
    "# Features importances"
   ]
  },
  {
   "cell_type": "code",
   "execution_count": 16,
   "id": "bd50361c",
   "metadata": {
    "execution": {
     "iopub.execute_input": "2021-10-14T13:27:46.099846Z",
     "iopub.status.busy": "2021-10-14T13:27:46.097867Z",
     "iopub.status.idle": "2021-10-14T13:27:51.696415Z",
     "shell.execute_reply": "2021-10-14T13:27:51.696919Z",
     "shell.execute_reply.started": "2021-09-07T00:51:01.011128Z"
    },
    "papermill": {
     "duration": 5.639766,
     "end_time": "2021-10-14T13:27:51.697098",
     "exception": false,
     "start_time": "2021-10-14T13:27:46.057332",
     "status": "completed"
    },
    "tags": []
   },
   "outputs": [
    {
     "data": {
      "text/plain": [
       "Text(0.5, 1.0, 'XGB feature importances')"
      ]
     },
     "execution_count": 16,
     "metadata": {},
     "output_type": "execute_result"
    },
    {
     "data": {
      "image/png": "[encoded data removed]",
      "text/plain": [
       "<Figure size 1152x1152 with 1 Axes>"
      ]
     },
     "metadata": {
      "needs_background": "light"
     },
     "output_type": "display_data"
    }
   ],
   "source": [
    "order = list(xgb_importances.groupby('feature').mean().sort_values('importance', ascending=False).index)\n",
    "\n",
    "fig = plt.figure(figsize=(16, 16), tight_layout=True)\n",
    "sns.barplot(x=\"importance\", y=\"feature\", data=xgb_importances.groupby('feature').mean().reset_index(), order=order)\n",
    "plt.title(\"XGB feature importances\")"
   ]
  },
  {
   "cell_type": "markdown",
   "id": "02aecae0",
   "metadata": {
    "papermill": {
     "duration": 0.032557,
     "end_time": "2021-10-14T13:27:51.763222",
     "exception": false,
     "start_time": "2021-10-14T13:27:51.730665",
     "status": "completed"
    },
    "tags": []
   },
   "source": [
    "# Submission"
   ]
  },
  {
   "cell_type": "code",
   "execution_count": 17,
   "id": "363f052c",
   "metadata": {
    "execution": {
     "iopub.execute_input": "2021-10-14T13:27:51.834120Z",
     "iopub.status.busy": "2021-10-14T13:27:51.833314Z",
     "iopub.status.idle": "2021-10-14T13:27:53.790271Z",
     "shell.execute_reply": "2021-10-14T13:27:53.789622Z",
     "shell.execute_reply.started": "2021-09-07T00:51:03.177221Z"
    },
    "papermill": {
     "duration": 1.994396,
     "end_time": "2021-10-14T13:27:53.790442",
     "exception": false,
     "start_time": "2021-10-14T13:27:51.796046",
     "status": "completed"
    },
    "tags": []
   },
   "outputs": [
    {
     "data": {
      "text/html": [
       "<div>\n",
       "<style scoped>\n",
       "    .dataframe tbody tr th:only-of-type {\n",
       "        vertical-align: middle;\n",
       "    }\n",
       "\n",
       "    .dataframe tbody tr th {\n",
       "        vertical-align: top;\n",
       "    }\n",
       "\n",
       "    .dataframe thead th {\n",
       "        text-align: right;\n",
       "    }\n",
       "</style>\n",
       "<table border=\"1\" class=\"dataframe\">\n",
       "  <thead>\n",
       "    <tr style=\"text-align: right;\">\n",
       "      <th></th>\n",
       "      <th>id</th>\n",
       "      <th>target</th>\n",
       "    </tr>\n",
       "  </thead>\n",
       "  <tbody>\n",
       "    <tr>\n",
       "      <th>0</th>\n",
       "      <td>1000000</td>\n",
       "      <td>0.146708</td>\n",
       "    </tr>\n",
       "    <tr>\n",
       "      <th>1</th>\n",
       "      <td>1000001</td>\n",
       "      <td>0.048819</td>\n",
       "    </tr>\n",
       "    <tr>\n",
       "      <th>2</th>\n",
       "      <td>1000002</td>\n",
       "      <td>0.181163</td>\n",
       "    </tr>\n",
       "    <tr>\n",
       "      <th>3</th>\n",
       "      <td>1000003</td>\n",
       "      <td>0.169436</td>\n",
       "    </tr>\n",
       "    <tr>\n",
       "      <th>4</th>\n",
       "      <td>1000004</td>\n",
       "      <td>0.052422</td>\n",
       "    </tr>\n",
       "    <tr>\n",
       "      <th>...</th>\n",
       "      <td>...</td>\n",
       "      <td>...</td>\n",
       "    </tr>\n",
       "    <tr>\n",
       "      <th>499995</th>\n",
       "      <td>1499995</td>\n",
       "      <td>0.194049</td>\n",
       "    </tr>\n",
       "    <tr>\n",
       "      <th>499996</th>\n",
       "      <td>1499996</td>\n",
       "      <td>0.165094</td>\n",
       "    </tr>\n",
       "    <tr>\n",
       "      <th>499997</th>\n",
       "      <td>1499997</td>\n",
       "      <td>0.061141</td>\n",
       "    </tr>\n",
       "    <tr>\n",
       "      <th>499998</th>\n",
       "      <td>1499998</td>\n",
       "      <td>0.104681</td>\n",
       "    </tr>\n",
       "    <tr>\n",
       "      <th>499999</th>\n",
       "      <td>1499999</td>\n",
       "      <td>0.084753</td>\n",
       "    </tr>\n",
       "  </tbody>\n",
       "</table>\n",
       "<p>500000 rows × 2 columns</p>\n",
       "</div>"
      ],
      "text/plain": [
       "             id    target\n",
       "0       1000000  0.146708\n",
       "1       1000001  0.048819\n",
       "2       1000002  0.181163\n",
       "3       1000003  0.169436\n",
       "4       1000004  0.052422\n",
       "...         ...       ...\n",
       "499995  1499995  0.194049\n",
       "499996  1499996  0.165094\n",
       "499997  1499997  0.061141\n",
       "499998  1499998  0.104681\n",
       "499999  1499999  0.084753\n",
       "\n",
       "[500000 rows x 2 columns]"
      ]
     },
     "execution_count": 17,
     "metadata": {},
     "output_type": "execute_result"
    }
   ],
   "source": [
    "submission[target] = xgb_pred\n",
    "submission.to_csv(\"submission.csv\", index=False)\n",
    "\n",
    "submission"
   ]
  },
  {
   "cell_type": "markdown",
   "id": "2dfb2a52",
   "metadata": {
    "papermill": {
     "duration": 0.033298,
     "end_time": "2021-10-14T13:27:53.857538",
     "exception": false,
     "start_time": "2021-10-14T13:27:53.824240",
     "status": "completed"
    },
    "tags": []
   },
   "source": [
    "# Log\n",
    "\n",
    "seeds\n",
    "\n",
    "2017 ver7-11\n",
    "2018 ver12-16\n",
    "2019 ver17-21\n",
    "2020 ver22-26\n",
    "2021 ver27-31\n"
   ]
  }
 ],
 "metadata": {
  "kernelspec": {
   "display_name": "Python 3",
   "language": "python",
   "name": "python3"
  },
  "language_info": {
   "codemirror_mode": {
    "name": "ipython",
    "version": 3
   },
   "file_extension": ".py",
   "mimetype": "text/x-python",
   "name": "python",
   "nbconvert_exporter": "python",
   "pygments_lexer": "ipython3",
   "version": "3.7.10"
  },
  "papermill": {
   "default_parameters": {},
   "duration": 19168.213955,
   "end_time": "2021-10-14T13:27:55.218874",
   "environment_variables": {},
   "exception": null,
   "input_path": "__notebook__.ipynb",
   "output_path": "__notebook__.ipynb",
   "parameters": {},
   "start_time": "2021-10-14T08:08:27.004919",
   "version": "2.3.3"
  }
 },
 "nbformat": 4,
 "nbformat_minor": 5
}
