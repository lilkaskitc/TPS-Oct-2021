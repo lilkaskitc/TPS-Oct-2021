{
 "cells": [
  {
   "cell_type": "code",
   "execution_count": 1,
   "id": "637554ff",
   "metadata": {
    "_cell_guid": "b1076dfc-b9ad-4769-8c92-a6c4dae69d19",
    "_uuid": "8f2839f25d086af736a60e9eeb907d3b93b6e0e5",
    "execution": {
     "iopub.execute_input": "2021-10-07T09:04:54.064190Z",
     "iopub.status.busy": "2021-10-07T09:04:54.063005Z",
     "iopub.status.idle": "2021-10-07T09:04:55.970411Z",
     "shell.execute_reply": "2021-10-07T09:04:55.969728Z",
     "shell.execute_reply.started": "2021-10-06T06:02:10.56448Z"
    },
    "papermill": {
     "duration": 1.934755,
     "end_time": "2021-10-07T09:04:55.970562",
     "exception": false,
     "start_time": "2021-10-07T09:04:54.035807",
     "status": "completed"
    },
    "tags": []
   },
   "outputs": [
    {
     "data": {
      "text/html": [
       "<style type='text/css'>\n",
       ".datatable table.frame { margin-bottom: 0; }\n",
       ".datatable table.frame thead { border-bottom: none; }\n",
       ".datatable table.frame tr.coltypes td {  color: #FFFFFF;  line-height: 6px;  padding: 0 0.5em;}\n",
       ".datatable .bool    { background: #DDDD99; }\n",
       ".datatable .object  { background: #565656; }\n",
       ".datatable .int     { background: #5D9E5D; }\n",
       ".datatable .float   { background: #4040CC; }\n",
       ".datatable .str     { background: #CC4040; }\n",
       ".datatable .time    { background: #40CC40; }\n",
       ".datatable .row_index {  background: var(--jp-border-color3);  border-right: 1px solid var(--jp-border-color0);  color: var(--jp-ui-font-color3);  font-size: 9px;}\n",
       ".datatable .frame tbody td { text-align: left; }\n",
       ".datatable .frame tr.coltypes .row_index {  background: var(--jp-border-color0);}\n",
       ".datatable th:nth-child(2) { padding-left: 12px; }\n",
       ".datatable .hellipsis {  color: var(--jp-cell-editor-border-color);}\n",
       ".datatable .vellipsis {  background: var(--jp-layout-color0);  color: var(--jp-cell-editor-border-color);}\n",
       ".datatable .na {  color: var(--jp-cell-editor-border-color);  font-size: 80%;}\n",
       ".datatable .sp {  opacity: 0.25;}\n",
       ".datatable .footer { font-size: 9px; }\n",
       ".datatable .frame_dimensions {  background: var(--jp-border-color3);  border-top: 1px solid var(--jp-border-color0);  color: var(--jp-ui-font-color3);  display: inline-block;  opacity: 0.6;  padding: 1px 10px 1px 5px;}\n",
       "</style>\n"
      ],
      "text/plain": [
       "<IPython.core.display.HTML object>"
      ]
     },
     "metadata": {},
     "output_type": "display_data"
    }
   ],
   "source": [
    "import numpy as np\n",
    "import pandas as pd\n",
    "import random\n",
    "import os\n",
    "import time\n",
    "import pickle\n",
    "from pathlib import Path\n",
    "import gc\n",
    "\n",
    "from sklearn.preprocessing import StandardScaler, RobustScaler\n",
    "from sklearn.model_selection import StratifiedKFold, train_test_split\n",
    "from sklearn.metrics import roc_auc_score\n",
    "\n",
    "import lightgbm as lgb\n",
    "#import xgboost as xgb\n",
    "#import catboost as ctb\n",
    "\n",
    "import matplotlib.pyplot as plt\n",
    "import seaborn as sns\n",
    "\n",
    "import warnings\n",
    "warnings.simplefilter('ignore')"
   ]
  },
  {
   "cell_type": "markdown",
   "id": "54c2f83f",
   "metadata": {
    "papermill": {
     "duration": 0.022099,
     "end_time": "2021-10-07T09:04:56.016235",
     "exception": false,
     "start_time": "2021-10-07T09:04:55.994136",
     "status": "completed"
    },
    "tags": []
   },
   "source": [
    "https://www.kaggle.com/hamzaghanmi/tps-oct-lightgbm\n",
    "\n",
    "ver14"
   ]
  },
  {
   "cell_type": "markdown",
   "id": "c9af4ee6",
   "metadata": {
    "papermill": {
     "duration": 0.025688,
     "end_time": "2021-10-07T09:04:56.064405",
     "exception": false,
     "start_time": "2021-10-07T09:04:56.038717",
     "status": "completed"
    },
    "tags": []
   },
   "source": [
    "# Parameters"
   ]
  },
  {
   "cell_type": "code",
   "execution_count": 2,
   "id": "79aa6bc7",
   "metadata": {
    "execution": {
     "iopub.execute_input": "2021-10-07T09:04:56.114926Z",
     "iopub.status.busy": "2021-10-07T09:04:56.114249Z",
     "iopub.status.idle": "2021-10-07T09:04:56.118864Z",
     "shell.execute_reply": "2021-10-07T09:04:56.118315Z",
     "shell.execute_reply.started": "2021-10-06T06:02:10.575611Z"
    },
    "papermill": {
     "duration": 0.03016,
     "end_time": "2021-10-07T09:04:56.118999",
     "exception": false,
     "start_time": "2021-10-07T09:04:56.088839",
     "status": "completed"
    },
    "tags": []
   },
   "outputs": [],
   "source": [
    "target = 'target'\n",
    "\n",
    "DEBUG = False\n",
    "\n",
    "if DEBUG:\n",
    "    N_ESTIMATORS = 1\n",
    "    N_SPLITS = 2\n",
    "    SEED = 2017\n",
    "    CVSEED = 2017\n",
    "    EARLY_STOPPING_ROUNDS = 1\n",
    "    VERBOSE = 100\n",
    "    #N_ITERS = 2\n",
    "else:\n",
    "    N_SPLITS = 5\n",
    "    N_ESTIMATORS = 20000\n",
    "    EARLY_STOPPING_ROUNDS = 300\n",
    "    VERBOSE = 1000\n",
    "    SEED = 2017\n",
    "    CVSEED = 2017\n",
    "    #N_ITERS = 10"
   ]
  },
  {
   "cell_type": "code",
   "execution_count": 3,
   "id": "b1af3130",
   "metadata": {
    "execution": {
     "iopub.execute_input": "2021-10-07T09:04:56.168135Z",
     "iopub.status.busy": "2021-10-07T09:04:56.167684Z",
     "iopub.status.idle": "2021-10-07T09:04:56.169432Z",
     "shell.execute_reply": "2021-10-07T09:04:56.169773Z",
     "shell.execute_reply.started": "2021-10-06T06:02:10.585501Z"
    },
    "papermill": {
     "duration": 0.028051,
     "end_time": "2021-10-07T09:04:56.169887",
     "exception": false,
     "start_time": "2021-10-07T09:04:56.141836",
     "status": "completed"
    },
    "tags": []
   },
   "outputs": [],
   "source": [
    "def set_seed(seed=2017):\n",
    "    random.seed(seed)\n",
    "    os.environ['PYTHONHASHSEED'] = str(seed)\n",
    "    np.random.seed(seed)\n",
    "    \n",
    "set_seed(SEED)"
   ]
  },
  {
   "cell_type": "markdown",
   "id": "9a7d5b94",
   "metadata": {
    "papermill": {
     "duration": 0.015103,
     "end_time": "2021-10-07T09:04:56.203403",
     "exception": false,
     "start_time": "2021-10-07T09:04:56.188300",
     "status": "completed"
    },
    "tags": []
   },
   "source": [
    "# Datasets"
   ]
  },
  {
   "cell_type": "code",
   "execution_count": 4,
   "id": "7f06d32d",
   "metadata": {
    "execution": {
     "iopub.execute_input": "2021-10-07T09:04:56.235285Z",
     "iopub.status.busy": "2021-10-07T09:04:56.234835Z",
     "iopub.status.idle": "2021-10-07T09:06:20.953636Z",
     "shell.execute_reply": "2021-10-07T09:06:20.952819Z",
     "shell.execute_reply.started": "2021-10-06T06:02:10.598224Z"
    },
    "papermill": {
     "duration": 84.735597,
     "end_time": "2021-10-07T09:06:20.953771",
     "exception": false,
     "start_time": "2021-10-07T09:04:56.218174",
     "status": "completed"
    },
    "tags": []
   },
   "outputs": [],
   "source": [
    "INPUT = Path(\"../input/tabular-playground-series-oct-2021\")\n",
    "\n",
    "train = pd.read_csv(INPUT / \"train.csv\")\n",
    "test = pd.read_csv(INPUT / \"test.csv\")\n",
    "submission = pd.read_csv(INPUT / \"sample_submission.csv\")"
   ]
  },
  {
   "cell_type": "code",
   "execution_count": 5,
   "id": "6b35080e",
   "metadata": {
    "execution": {
     "iopub.execute_input": "2021-10-07T09:06:21.523621Z",
     "iopub.status.busy": "2021-10-07T09:06:21.008608Z",
     "iopub.status.idle": "2021-10-07T09:06:21.549556Z",
     "shell.execute_reply": "2021-10-07T09:06:21.549036Z",
     "shell.execute_reply.started": "2021-10-06T06:03:17.811383Z"
    },
    "papermill": {
     "duration": 0.572537,
     "end_time": "2021-10-07T09:06:21.549698",
     "exception": false,
     "start_time": "2021-10-07T09:06:20.977161",
     "status": "completed"
    },
    "tags": []
   },
   "outputs": [],
   "source": [
    "train = train[train.columns[1:]]\n",
    "test = test[test.columns[1:]]"
   ]
  },
  {
   "cell_type": "markdown",
   "id": "e609560f",
   "metadata": {
    "papermill": {
     "duration": 0.022552,
     "end_time": "2021-10-07T09:06:21.594810",
     "exception": false,
     "start_time": "2021-10-07T09:06:21.572258",
     "status": "completed"
    },
    "tags": []
   },
   "source": [
    "# Preprocessing"
   ]
  },
  {
   "cell_type": "code",
   "execution_count": 6,
   "id": "46241261",
   "metadata": {
    "execution": {
     "iopub.execute_input": "2021-10-07T09:06:21.646573Z",
     "iopub.status.busy": "2021-10-07T09:06:21.645201Z",
     "iopub.status.idle": "2021-10-07T09:06:21.647342Z",
     "shell.execute_reply": "2021-10-07T09:06:21.647859Z",
     "shell.execute_reply.started": "2021-10-06T06:03:18.940864Z"
    },
    "papermill": {
     "duration": 0.029989,
     "end_time": "2021-10-07T09:06:21.648007",
     "exception": false,
     "start_time": "2021-10-07T09:06:21.618018",
     "status": "completed"
    },
    "tags": []
   },
   "outputs": [],
   "source": [
    "features = [col for col in train.columns if 'f' in col]"
   ]
  },
  {
   "cell_type": "code",
   "execution_count": 7,
   "id": "781b73a5",
   "metadata": {
    "execution": {
     "iopub.execute_input": "2021-10-07T09:06:21.709677Z",
     "iopub.status.busy": "2021-10-07T09:06:21.709041Z",
     "iopub.status.idle": "2021-10-07T09:06:21.711738Z",
     "shell.execute_reply": "2021-10-07T09:06:21.711030Z",
     "shell.execute_reply.started": "2021-10-06T06:03:18.94738Z"
    },
    "papermill": {
     "duration": 0.04027,
     "end_time": "2021-10-07T09:06:21.711883",
     "exception": false,
     "start_time": "2021-10-07T09:06:21.671613",
     "status": "completed"
    },
    "tags": []
   },
   "outputs": [],
   "source": [
    "cont_features =[]\n",
    "disc_features =[]\n",
    "\n",
    "for col in features:\n",
    "    if train[col].dtype=='float64':\n",
    "        cont_features.append(col)\n",
    "    else:\n",
    "        disc_features.append(col)\n",
    "        \n",
    "features = disc_features + cont_features"
   ]
  },
  {
   "cell_type": "code",
   "execution_count": 8,
   "id": "779bc0e2",
   "metadata": {
    "execution": {
     "iopub.execute_input": "2021-10-07T09:06:22.033633Z",
     "iopub.status.busy": "2021-10-07T09:06:22.032999Z",
     "iopub.status.idle": "2021-10-07T09:07:14.610836Z",
     "shell.execute_reply": "2021-10-07T09:07:14.609095Z"
    },
    "papermill": {
     "duration": 52.875736,
     "end_time": "2021-10-07T09:07:14.610972",
     "exception": false,
     "start_time": "2021-10-07T09:06:21.735236",
     "status": "completed"
    },
    "tags": []
   },
   "outputs": [],
   "source": [
    "scaler = RobustScaler()\n",
    "train[cont_features] = scaler.fit_transform(train[cont_features])\n",
    "test[cont_features] = scaler.transform(test[cont_features])"
   ]
  },
  {
   "cell_type": "code",
   "execution_count": 9,
   "id": "83110e7f",
   "metadata": {
    "execution": {
     "iopub.execute_input": "2021-10-07T09:07:14.813910Z",
     "iopub.status.busy": "2021-10-07T09:07:14.806698Z",
     "iopub.status.idle": "2021-10-07T09:07:14.877663Z",
     "shell.execute_reply": "2021-10-07T09:07:14.877120Z",
     "shell.execute_reply.started": "2021-10-04T07:24:31.446188Z"
    },
    "papermill": {
     "duration": 0.248778,
     "end_time": "2021-10-07T09:07:14.877803",
     "exception": false,
     "start_time": "2021-10-07T09:07:14.629025",
     "status": "completed"
    },
    "tags": []
   },
   "outputs": [
    {
     "data": {
      "text/html": [
       "<div>\n",
       "<style scoped>\n",
       "    .dataframe tbody tr th:only-of-type {\n",
       "        vertical-align: middle;\n",
       "    }\n",
       "\n",
       "    .dataframe tbody tr th {\n",
       "        vertical-align: top;\n",
       "    }\n",
       "\n",
       "    .dataframe thead th {\n",
       "        text-align: right;\n",
       "    }\n",
       "</style>\n",
       "<table border=\"1\" class=\"dataframe\">\n",
       "  <thead>\n",
       "    <tr style=\"text-align: right;\">\n",
       "      <th></th>\n",
       "      <th>f22</th>\n",
       "      <th>f43</th>\n",
       "      <th>f242</th>\n",
       "      <th>f243</th>\n",
       "      <th>f244</th>\n",
       "      <th>f245</th>\n",
       "      <th>f246</th>\n",
       "      <th>f247</th>\n",
       "      <th>f248</th>\n",
       "      <th>f249</th>\n",
       "      <th>...</th>\n",
       "      <th>f232</th>\n",
       "      <th>f233</th>\n",
       "      <th>f234</th>\n",
       "      <th>f235</th>\n",
       "      <th>f236</th>\n",
       "      <th>f237</th>\n",
       "      <th>f238</th>\n",
       "      <th>f239</th>\n",
       "      <th>f240</th>\n",
       "      <th>f241</th>\n",
       "    </tr>\n",
       "  </thead>\n",
       "  <tbody>\n",
       "    <tr>\n",
       "      <th>0</th>\n",
       "      <td>0</td>\n",
       "      <td>1</td>\n",
       "      <td>0</td>\n",
       "      <td>0</td>\n",
       "      <td>1</td>\n",
       "      <td>0</td>\n",
       "      <td>1</td>\n",
       "      <td>1</td>\n",
       "      <td>0</td>\n",
       "      <td>0</td>\n",
       "      <td>...</td>\n",
       "      <td>0.176731</td>\n",
       "      <td>5.678981</td>\n",
       "      <td>0.099877</td>\n",
       "      <td>-0.161303</td>\n",
       "      <td>0.663454</td>\n",
       "      <td>0.002586</td>\n",
       "      <td>0.805119</td>\n",
       "      <td>-1.090903</td>\n",
       "      <td>0.506371</td>\n",
       "      <td>-0.910036</td>\n",
       "    </tr>\n",
       "    <tr>\n",
       "      <th>1</th>\n",
       "      <td>1</td>\n",
       "      <td>0</td>\n",
       "      <td>0</td>\n",
       "      <td>0</td>\n",
       "      <td>0</td>\n",
       "      <td>1</td>\n",
       "      <td>1</td>\n",
       "      <td>1</td>\n",
       "      <td>0</td>\n",
       "      <td>0</td>\n",
       "      <td>...</td>\n",
       "      <td>-0.410526</td>\n",
       "      <td>0.068038</td>\n",
       "      <td>0.427906</td>\n",
       "      <td>-0.440263</td>\n",
       "      <td>-0.334098</td>\n",
       "      <td>-1.028321</td>\n",
       "      <td>0.683359</td>\n",
       "      <td>-0.040858</td>\n",
       "      <td>-0.592200</td>\n",
       "      <td>-0.129326</td>\n",
       "    </tr>\n",
       "    <tr>\n",
       "      <th>2</th>\n",
       "      <td>0</td>\n",
       "      <td>0</td>\n",
       "      <td>0</td>\n",
       "      <td>1</td>\n",
       "      <td>1</td>\n",
       "      <td>1</td>\n",
       "      <td>1</td>\n",
       "      <td>1</td>\n",
       "      <td>0</td>\n",
       "      <td>1</td>\n",
       "      <td>...</td>\n",
       "      <td>0.486981</td>\n",
       "      <td>0.651625</td>\n",
       "      <td>1.863151</td>\n",
       "      <td>0.311898</td>\n",
       "      <td>0.874617</td>\n",
       "      <td>-0.248570</td>\n",
       "      <td>-0.645745</td>\n",
       "      <td>-0.018094</td>\n",
       "      <td>0.824797</td>\n",
       "      <td>0.336295</td>\n",
       "    </tr>\n",
       "    <tr>\n",
       "      <th>3</th>\n",
       "      <td>0</td>\n",
       "      <td>0</td>\n",
       "      <td>0</td>\n",
       "      <td>0</td>\n",
       "      <td>0</td>\n",
       "      <td>0</td>\n",
       "      <td>1</td>\n",
       "      <td>1</td>\n",
       "      <td>0</td>\n",
       "      <td>1</td>\n",
       "      <td>...</td>\n",
       "      <td>0.685319</td>\n",
       "      <td>1.069675</td>\n",
       "      <td>1.779975</td>\n",
       "      <td>1.098344</td>\n",
       "      <td>3.327531</td>\n",
       "      <td>0.442740</td>\n",
       "      <td>-0.303592</td>\n",
       "      <td>-0.970196</td>\n",
       "      <td>0.460491</td>\n",
       "      <td>-0.669676</td>\n",
       "    </tr>\n",
       "    <tr>\n",
       "      <th>4</th>\n",
       "      <td>1</td>\n",
       "      <td>0</td>\n",
       "      <td>0</td>\n",
       "      <td>1</td>\n",
       "      <td>0</td>\n",
       "      <td>1</td>\n",
       "      <td>1</td>\n",
       "      <td>0</td>\n",
       "      <td>0</td>\n",
       "      <td>0</td>\n",
       "      <td>...</td>\n",
       "      <td>-0.341828</td>\n",
       "      <td>-0.861585</td>\n",
       "      <td>1.046954</td>\n",
       "      <td>-0.456883</td>\n",
       "      <td>-0.505828</td>\n",
       "      <td>89.883769</td>\n",
       "      <td>-0.019083</td>\n",
       "      <td>0.017347</td>\n",
       "      <td>0.456191</td>\n",
       "      <td>1.879330</td>\n",
       "    </tr>\n",
       "    <tr>\n",
       "      <th>...</th>\n",
       "      <td>...</td>\n",
       "      <td>...</td>\n",
       "      <td>...</td>\n",
       "      <td>...</td>\n",
       "      <td>...</td>\n",
       "      <td>...</td>\n",
       "      <td>...</td>\n",
       "      <td>...</td>\n",
       "      <td>...</td>\n",
       "      <td>...</td>\n",
       "      <td>...</td>\n",
       "      <td>...</td>\n",
       "      <td>...</td>\n",
       "      <td>...</td>\n",
       "      <td>...</td>\n",
       "      <td>...</td>\n",
       "      <td>...</td>\n",
       "      <td>...</td>\n",
       "      <td>...</td>\n",
       "      <td>...</td>\n",
       "      <td>...</td>\n",
       "    </tr>\n",
       "    <tr>\n",
       "      <th>499995</th>\n",
       "      <td>0</td>\n",
       "      <td>0</td>\n",
       "      <td>1</td>\n",
       "      <td>0</td>\n",
       "      <td>0</td>\n",
       "      <td>0</td>\n",
       "      <td>0</td>\n",
       "      <td>0</td>\n",
       "      <td>1</td>\n",
       "      <td>0</td>\n",
       "      <td>...</td>\n",
       "      <td>-0.278670</td>\n",
       "      <td>-0.764321</td>\n",
       "      <td>0.090839</td>\n",
       "      <td>-0.055055</td>\n",
       "      <td>1.190361</td>\n",
       "      <td>1.241197</td>\n",
       "      <td>-0.262525</td>\n",
       "      <td>1.939633</td>\n",
       "      <td>0.912995</td>\n",
       "      <td>0.675409</td>\n",
       "    </tr>\n",
       "    <tr>\n",
       "      <th>499996</th>\n",
       "      <td>0</td>\n",
       "      <td>0</td>\n",
       "      <td>0</td>\n",
       "      <td>0</td>\n",
       "      <td>1</td>\n",
       "      <td>1</td>\n",
       "      <td>0</td>\n",
       "      <td>1</td>\n",
       "      <td>0</td>\n",
       "      <td>0</td>\n",
       "      <td>...</td>\n",
       "      <td>0.792798</td>\n",
       "      <td>-0.805471</td>\n",
       "      <td>6.365197</td>\n",
       "      <td>0.308775</td>\n",
       "      <td>-0.034392</td>\n",
       "      <td>-0.096314</td>\n",
       "      <td>0.379391</td>\n",
       "      <td>-0.025254</td>\n",
       "      <td>-0.479552</td>\n",
       "      <td>0.090200</td>\n",
       "    </tr>\n",
       "    <tr>\n",
       "      <th>499997</th>\n",
       "      <td>1</td>\n",
       "      <td>0</td>\n",
       "      <td>0</td>\n",
       "      <td>0</td>\n",
       "      <td>0</td>\n",
       "      <td>1</td>\n",
       "      <td>1</td>\n",
       "      <td>1</td>\n",
       "      <td>0</td>\n",
       "      <td>1</td>\n",
       "      <td>...</td>\n",
       "      <td>71.293075</td>\n",
       "      <td>-1.283376</td>\n",
       "      <td>0.978684</td>\n",
       "      <td>-0.350056</td>\n",
       "      <td>-0.550939</td>\n",
       "      <td>0.044126</td>\n",
       "      <td>-0.294751</td>\n",
       "      <td>-0.962915</td>\n",
       "      <td>-0.496209</td>\n",
       "      <td>0.320626</td>\n",
       "    </tr>\n",
       "    <tr>\n",
       "      <th>499998</th>\n",
       "      <td>0</td>\n",
       "      <td>0</td>\n",
       "      <td>0</td>\n",
       "      <td>0</td>\n",
       "      <td>0</td>\n",
       "      <td>0</td>\n",
       "      <td>1</td>\n",
       "      <td>1</td>\n",
       "      <td>0</td>\n",
       "      <td>0</td>\n",
       "      <td>...</td>\n",
       "      <td>-0.042105</td>\n",
       "      <td>-0.136077</td>\n",
       "      <td>-0.406542</td>\n",
       "      <td>0.249045</td>\n",
       "      <td>0.348935</td>\n",
       "      <td>-0.237508</td>\n",
       "      <td>0.708757</td>\n",
       "      <td>-0.017085</td>\n",
       "      <td>-0.017657</td>\n",
       "      <td>1.000087</td>\n",
       "    </tr>\n",
       "    <tr>\n",
       "      <th>499999</th>\n",
       "      <td>1</td>\n",
       "      <td>1</td>\n",
       "      <td>0</td>\n",
       "      <td>0</td>\n",
       "      <td>1</td>\n",
       "      <td>1</td>\n",
       "      <td>0</td>\n",
       "      <td>0</td>\n",
       "      <td>1</td>\n",
       "      <td>0</td>\n",
       "      <td>...</td>\n",
       "      <td>-0.798892</td>\n",
       "      <td>0.304887</td>\n",
       "      <td>-0.380813</td>\n",
       "      <td>-0.423053</td>\n",
       "      <td>-0.564792</td>\n",
       "      <td>0.306987</td>\n",
       "      <td>1.444372</td>\n",
       "      <td>1.136039</td>\n",
       "      <td>0.859322</td>\n",
       "      <td>1.839399</td>\n",
       "    </tr>\n",
       "  </tbody>\n",
       "</table>\n",
       "<p>500000 rows × 285 columns</p>\n",
       "</div>"
      ],
      "text/plain": [
       "        f22  f43  f242  f243  f244  f245  f246  f247  f248  f249  ...  \\\n",
       "0         0    1     0     0     1     0     1     1     0     0  ...   \n",
       "1         1    0     0     0     0     1     1     1     0     0  ...   \n",
       "2         0    0     0     1     1     1     1     1     0     1  ...   \n",
       "3         0    0     0     0     0     0     1     1     0     1  ...   \n",
       "4         1    0     0     1     0     1     1     0     0     0  ...   \n",
       "...     ...  ...   ...   ...   ...   ...   ...   ...   ...   ...  ...   \n",
       "499995    0    0     1     0     0     0     0     0     1     0  ...   \n",
       "499996    0    0     0     0     1     1     0     1     0     0  ...   \n",
       "499997    1    0     0     0     0     1     1     1     0     1  ...   \n",
       "499998    0    0     0     0     0     0     1     1     0     0  ...   \n",
       "499999    1    1     0     0     1     1     0     0     1     0  ...   \n",
       "\n",
       "             f232      f233      f234      f235      f236       f237  \\\n",
       "0        0.176731  5.678981  0.099877 -0.161303  0.663454   0.002586   \n",
       "1       -0.410526  0.068038  0.427906 -0.440263 -0.334098  -1.028321   \n",
       "2        0.486981  0.651625  1.863151  0.311898  0.874617  -0.248570   \n",
       "3        0.685319  1.069675  1.779975  1.098344  3.327531   0.442740   \n",
       "4       -0.341828 -0.861585  1.046954 -0.456883 -0.505828  89.883769   \n",
       "...           ...       ...       ...       ...       ...        ...   \n",
       "499995  -0.278670 -0.764321  0.090839 -0.055055  1.190361   1.241197   \n",
       "499996   0.792798 -0.805471  6.365197  0.308775 -0.034392  -0.096314   \n",
       "499997  71.293075 -1.283376  0.978684 -0.350056 -0.550939   0.044126   \n",
       "499998  -0.042105 -0.136077 -0.406542  0.249045  0.348935  -0.237508   \n",
       "499999  -0.798892  0.304887 -0.380813 -0.423053 -0.564792   0.306987   \n",
       "\n",
       "            f238      f239      f240      f241  \n",
       "0       0.805119 -1.090903  0.506371 -0.910036  \n",
       "1       0.683359 -0.040858 -0.592200 -0.129326  \n",
       "2      -0.645745 -0.018094  0.824797  0.336295  \n",
       "3      -0.303592 -0.970196  0.460491 -0.669676  \n",
       "4      -0.019083  0.017347  0.456191  1.879330  \n",
       "...          ...       ...       ...       ...  \n",
       "499995 -0.262525  1.939633  0.912995  0.675409  \n",
       "499996  0.379391 -0.025254 -0.479552  0.090200  \n",
       "499997 -0.294751 -0.962915 -0.496209  0.320626  \n",
       "499998  0.708757 -0.017085 -0.017657  1.000087  \n",
       "499999  1.444372  1.136039  0.859322  1.839399  \n",
       "\n",
       "[500000 rows x 285 columns]"
      ]
     },
     "execution_count": 9,
     "metadata": {},
     "output_type": "execute_result"
    }
   ],
   "source": [
    "test[features]"
   ]
  },
  {
   "cell_type": "code",
   "execution_count": 10,
   "id": "1be8efa8",
   "metadata": {
    "execution": {
     "iopub.execute_input": "2021-10-07T09:07:14.930837Z",
     "iopub.status.busy": "2021-10-07T09:07:14.930189Z",
     "iopub.status.idle": "2021-10-07T09:07:14.933526Z",
     "shell.execute_reply": "2021-10-07T09:07:14.932931Z",
     "shell.execute_reply.started": "2021-10-04T07:24:31.998191Z"
    },
    "papermill": {
     "duration": 0.031882,
     "end_time": "2021-10-07T09:07:14.933638",
     "exception": false,
     "start_time": "2021-10-07T09:07:14.901756",
     "status": "completed"
    },
    "tags": []
   },
   "outputs": [
    {
     "data": {
      "text/plain": [
       "0         1\n",
       "1         1\n",
       "2         1\n",
       "3         1\n",
       "4         1\n",
       "         ..\n",
       "999995    1\n",
       "999996    0\n",
       "999997    0\n",
       "999998    1\n",
       "999999    0\n",
       "Name: target, Length: 1000000, dtype: int64"
      ]
     },
     "execution_count": 10,
     "metadata": {},
     "output_type": "execute_result"
    }
   ],
   "source": [
    "train[target]"
   ]
  },
  {
   "cell_type": "code",
   "execution_count": 11,
   "id": "38fa403a",
   "metadata": {
    "execution": {
     "iopub.execute_input": "2021-10-07T09:07:15.163253Z",
     "iopub.status.busy": "2021-10-07T09:07:15.162621Z",
     "iopub.status.idle": "2021-10-07T09:07:15.166093Z",
     "shell.execute_reply": "2021-10-07T09:07:15.165684Z"
    },
    "papermill": {
     "duration": 0.208457,
     "end_time": "2021-10-07T09:07:15.166205",
     "exception": false,
     "start_time": "2021-10-07T09:07:14.957748",
     "status": "completed"
    },
    "tags": []
   },
   "outputs": [
    {
     "data": {
      "text/plain": [
       "40"
      ]
     },
     "execution_count": 11,
     "metadata": {},
     "output_type": "execute_result"
    }
   ],
   "source": [
    "del cont_features\n",
    "del disc_features\n",
    "del scaler\n",
    "\n",
    "gc.collect()"
   ]
  },
  {
   "cell_type": "markdown",
   "id": "6ae879b4",
   "metadata": {
    "papermill": {
     "duration": 0.016068,
     "end_time": "2021-10-07T09:07:15.198988",
     "exception": false,
     "start_time": "2021-10-07T09:07:15.182920",
     "status": "completed"
    },
    "tags": []
   },
   "source": [
    "# LGB"
   ]
  },
  {
   "cell_type": "code",
   "execution_count": 12,
   "id": "31736017",
   "metadata": {
    "execution": {
     "iopub.execute_input": "2021-10-07T09:07:15.236156Z",
     "iopub.status.busy": "2021-10-07T09:07:15.235577Z",
     "iopub.status.idle": "2021-10-07T09:07:15.238614Z",
     "shell.execute_reply": "2021-10-07T09:07:15.238155Z",
     "shell.execute_reply.started": "2021-09-07T00:44:32.516352Z"
    },
    "papermill": {
     "duration": 0.023439,
     "end_time": "2021-10-07T09:07:15.238739",
     "exception": false,
     "start_time": "2021-10-07T09:07:15.215300",
     "status": "completed"
    },
    "tags": []
   },
   "outputs": [],
   "source": [
    "lgb_params = {\n",
    "     'objective': 'binary',\n",
    "     'n_estimators':N_ESTIMATORS,\n",
    "     #'importance_type': 'gain',\n",
    "     #'metric':'auc',\n",
    "     #'boosting_type': 'gbdt',\n",
    "     'n_jobs' : -1,\n",
    "    \n",
    "    'reg_alpha': 8.158768860412389, \n",
    "    'reg_lambda': 8.793022151019823, \n",
    "    'colsample_bytree': 0.2, \n",
    "    'subsample': 0.4, \n",
    "    'learning_rate': 0.02,\n",
    "    'max_depth': 100, \n",
    "    'num_leaves': 12, \n",
    "    'min_child_samples': 68, \n",
    "    'cat_smooth': 91, \n",
    "}"
   ]
  },
  {
   "cell_type": "code",
   "execution_count": 13,
   "id": "494865b1",
   "metadata": {
    "execution": {
     "iopub.execute_input": "2021-10-07T09:07:15.273999Z",
     "iopub.status.busy": "2021-10-07T09:07:15.273540Z",
     "iopub.status.idle": "2021-10-07T11:32:08.459182Z",
     "shell.execute_reply": "2021-10-07T11:32:08.458735Z",
     "shell.execute_reply.started": "2021-09-07T00:48:20.356186Z"
    },
    "papermill": {
     "duration": 8693.203837,
     "end_time": "2021-10-07T11:32:08.459314",
     "exception": false,
     "start_time": "2021-10-07T09:07:15.255477",
     "status": "completed"
    },
    "tags": []
   },
   "outputs": [
    {
     "name": "stdout",
     "output_type": "stream",
     "text": [
      "===== fold 0 =====\n",
      "Training until validation scores don't improve for 300 rounds\n",
      "[1000]\tvalid_0's auc: 0.85087\tvalid_0's binary_logloss: 0.479614\n",
      "[2000]\tvalid_0's auc: 0.854713\tvalid_0's binary_logloss: 0.47151\n",
      "[3000]\tvalid_0's auc: 0.855891\tvalid_0's binary_logloss: 0.468839\n",
      "[4000]\tvalid_0's auc: 0.85627\tvalid_0's binary_logloss: 0.467849\n",
      "[5000]\tvalid_0's auc: 0.856339\tvalid_0's binary_logloss: 0.467529\n",
      "Early stopping, best iteration is:\n",
      "[5555]\tvalid_0's auc: 0.85636\tvalid_0's binary_logloss: 0.467444\n",
      "Training until validation scores don't improve for 300 rounds\n",
      "[6000]\tvalid_0's auc: 0.85636\tvalid_0's binary_logloss: 0.467439\n",
      "Early stopping, best iteration is:\n",
      "[6060]\tvalid_0's auc: 0.856361\tvalid_0's binary_logloss: 0.467438\n",
      "fold 0 - lgb auc: 0.856361, elapsed time: 1334.49sec\n",
      "\n",
      "===== fold 1 =====\n",
      "Training until validation scores don't improve for 300 rounds\n",
      "[1000]\tvalid_0's auc: 0.852132\tvalid_0's binary_logloss: 0.478043\n",
      "[2000]\tvalid_0's auc: 0.855965\tvalid_0's binary_logloss: 0.469904\n",
      "[3000]\tvalid_0's auc: 0.857123\tvalid_0's binary_logloss: 0.467232\n",
      "[4000]\tvalid_0's auc: 0.857513\tvalid_0's binary_logloss: 0.466175\n",
      "[5000]\tvalid_0's auc: 0.857622\tvalid_0's binary_logloss: 0.465821\n",
      "Early stopping, best iteration is:\n",
      "[5400]\tvalid_0's auc: 0.857653\tvalid_0's binary_logloss: 0.465725\n",
      "Training until validation scores don't improve for 300 rounds\n",
      "[6000]\tvalid_0's auc: 0.857655\tvalid_0's binary_logloss: 0.465717\n",
      "[7000]\tvalid_0's auc: 0.85766\tvalid_0's binary_logloss: 0.465701\n",
      "[8000]\tvalid_0's auc: 0.857665\tvalid_0's binary_logloss: 0.465684\n",
      "[9000]\tvalid_0's auc: 0.85767\tvalid_0's binary_logloss: 0.465667\n",
      "Early stopping, best iteration is:\n",
      "[9331]\tvalid_0's auc: 0.857671\tvalid_0's binary_logloss: 0.465661\n",
      "fold 1 - lgb auc: 0.857671, elapsed time: 1866.84sec\n",
      "\n",
      "===== fold 2 =====\n",
      "Training until validation scores don't improve for 300 rounds\n",
      "[1000]\tvalid_0's auc: 0.852532\tvalid_0's binary_logloss: 0.477603\n",
      "[2000]\tvalid_0's auc: 0.85644\tvalid_0's binary_logloss: 0.469357\n",
      "[3000]\tvalid_0's auc: 0.857628\tvalid_0's binary_logloss: 0.466655\n",
      "[4000]\tvalid_0's auc: 0.858029\tvalid_0's binary_logloss: 0.465563\n",
      "[5000]\tvalid_0's auc: 0.858119\tvalid_0's binary_logloss: 0.465241\n",
      "Early stopping, best iteration is:\n",
      "[5366]\tvalid_0's auc: 0.858141\tvalid_0's binary_logloss: 0.465165\n",
      "Training until validation scores don't improve for 300 rounds\n",
      "[6000]\tvalid_0's auc: 0.858143\tvalid_0's binary_logloss: 0.465156\n",
      "[7000]\tvalid_0's auc: 0.858147\tvalid_0's binary_logloss: 0.46514\n",
      "[8000]\tvalid_0's auc: 0.85815\tvalid_0's binary_logloss: 0.465125\n",
      "[9000]\tvalid_0's auc: 0.858154\tvalid_0's binary_logloss: 0.465112\n",
      "[10000]\tvalid_0's auc: 0.858155\tvalid_0's binary_logloss: 0.465096\n",
      "Early stopping, best iteration is:\n",
      "[9754]\tvalid_0's auc: 0.858156\tvalid_0's binary_logloss: 0.465098\n",
      "fold 2 - lgb auc: 0.858156, elapsed time: 1949.14sec\n",
      "\n",
      "===== fold 3 =====\n",
      "Training until validation scores don't improve for 300 rounds\n",
      "[1000]\tvalid_0's auc: 0.850907\tvalid_0's binary_logloss: 0.479474\n",
      "[2000]\tvalid_0's auc: 0.854767\tvalid_0's binary_logloss: 0.471349\n",
      "[3000]\tvalid_0's auc: 0.856019\tvalid_0's binary_logloss: 0.46859\n",
      "[4000]\tvalid_0's auc: 0.856441\tvalid_0's binary_logloss: 0.467534\n",
      "[5000]\tvalid_0's auc: 0.856534\tvalid_0's binary_logloss: 0.467222\n",
      "[6000]\tvalid_0's auc: 0.856574\tvalid_0's binary_logloss: 0.46704\n",
      "Early stopping, best iteration is:\n",
      "[6694]\tvalid_0's auc: 0.856593\tvalid_0's binary_logloss: 0.466948\n",
      "Training until validation scores don't improve for 300 rounds\n",
      "[7000]\tvalid_0's auc: 0.856594\tvalid_0's binary_logloss: 0.466946\n",
      "[8000]\tvalid_0's auc: 0.856596\tvalid_0's binary_logloss: 0.466939\n",
      "Early stopping, best iteration is:\n",
      "[8493]\tvalid_0's auc: 0.856597\tvalid_0's binary_logloss: 0.466934\n",
      "fold 3 - lgb auc: 0.856597, elapsed time: 1768.54sec\n",
      "\n",
      "===== fold 4 =====\n",
      "Training until validation scores don't improve for 300 rounds\n",
      "[1000]\tvalid_0's auc: 0.851306\tvalid_0's binary_logloss: 0.479037\n",
      "[2000]\tvalid_0's auc: 0.855032\tvalid_0's binary_logloss: 0.471103\n",
      "[3000]\tvalid_0's auc: 0.85616\tvalid_0's binary_logloss: 0.468501\n",
      "[4000]\tvalid_0's auc: 0.856481\tvalid_0's binary_logloss: 0.467579\n",
      "[5000]\tvalid_0's auc: 0.856532\tvalid_0's binary_logloss: 0.467272\n",
      "Early stopping, best iteration is:\n",
      "[4967]\tvalid_0's auc: 0.856534\tvalid_0's binary_logloss: 0.467284\n",
      "Training until validation scores don't improve for 300 rounds\n",
      "[5000]\tvalid_0's auc: 0.856534\tvalid_0's binary_logloss: 0.467284\n",
      "[6000]\tvalid_0's auc: 0.856538\tvalid_0's binary_logloss: 0.467268\n",
      "[7000]\tvalid_0's auc: 0.856542\tvalid_0's binary_logloss: 0.467252\n",
      "[8000]\tvalid_0's auc: 0.856545\tvalid_0's binary_logloss: 0.467239\n",
      "Early stopping, best iteration is:\n",
      "[8586]\tvalid_0's auc: 0.856548\tvalid_0's binary_logloss: 0.467227\n",
      "fold 4 - lgb auc: 0.856548, elapsed time: 1763.38sec\n",
      "\n",
      "oof lgb_auc = 0.857065542472969\n"
     ]
    }
   ],
   "source": [
    "lgb_oof = np.zeros(train.shape[0])\n",
    "lgb_pred = np.zeros(test.shape[0])\n",
    "lgb_importances = pd.DataFrame()\n",
    "\n",
    "X_test = test[features]\n",
    "del test\n",
    "gc.collect()\n",
    "\n",
    "\n",
    "kf = StratifiedKFold(n_splits=N_SPLITS, shuffle=True, random_state=CVSEED)\n",
    "seed_list=[SEED+3]\n",
    "\n",
    "for fold, (trn_idx, val_idx) in enumerate(kf.split(X=train[features], y=train[target])):\n",
    "    print(f\"===== fold {fold} =====\")\n",
    "    if fold <12:\n",
    "        \n",
    "        X_train = train[features].iloc[trn_idx]\n",
    "        y_train = train[target].iloc[trn_idx]\n",
    "        X_valid = train[features].iloc[val_idx]\n",
    "        y_valid = train[target].iloc[val_idx]\n",
    "        \n",
    "\n",
    "\n",
    "        start = time.time()\n",
    "        for inseed in seed_list:\n",
    "            lgb_params['random_state'] = inseed\n",
    "\n",
    "            pre_model = lgb.LGBMClassifier(**lgb_params)\n",
    "            pre_model.fit(\n",
    "                X_train, \n",
    "                y_train,\n",
    "                eval_set=[(X_valid, y_valid)],\n",
    "                eval_metric='auc',\n",
    "                early_stopping_rounds=EARLY_STOPPING_ROUNDS,\n",
    "                verbose=VERBOSE,\n",
    "            )\n",
    "\n",
    "            lgb_params2 = lgb_params.copy()\n",
    "            lgb_params2['reg_lambda'] *= 0.9\n",
    "            lgb_params2['reg_alpha'] *= 0.9\n",
    "            lgb_params2['learning_rate'] *= 0.1\n",
    "            model = lgb.LGBMClassifier(**lgb_params2)\n",
    "            model.fit(\n",
    "                    X_train, y_train,\n",
    "                    eval_set=[(X_valid, y_valid)],\n",
    "                    eval_metric='auc',\n",
    "                    early_stopping_rounds=EARLY_STOPPING_ROUNDS,\n",
    "                    verbose=VERBOSE,\n",
    "                    init_model=pre_model\n",
    "            )    \n",
    "\n",
    "            with open(f\"lgb_model{fold}_seed{inseed}.pkl\", 'wb') as f:\n",
    "                pickle.dump(model, f)\n",
    "\n",
    "            fi_tmp = pd.DataFrame()\n",
    "            fi_tmp['feature'] = X_train.columns\n",
    "            fi_tmp['importance'] = model.feature_importances_\n",
    "            fi_tmp['fold'] = fold\n",
    "            fi_tmp['seed'] = inseed\n",
    "            lgb_importances = lgb_importances.append(fi_tmp)\n",
    "\n",
    "            lgb_oof[val_idx] += model.predict_proba(X_valid)[:,-1] / len(seed_list)\n",
    "            lgb_pred += model.predict_proba(X_test)[:,-1] / len(seed_list)\n",
    "            \n",
    "            del pre_model\n",
    "            del model\n",
    "            gc.collect()\n",
    "\n",
    "\n",
    "        elapsed = time.time() - start\n",
    "        auc = roc_auc_score(y_valid, lgb_oof[val_idx])\n",
    "        print(f\"fold {fold} - lgb auc: {auc:.6f}, elapsed time: {elapsed:.2f}sec\\n\")\n",
    "        \n",
    "        del X_train\n",
    "        del y_train\n",
    "        del X_valid\n",
    "        del y_valid\n",
    "        gc.collect()\n",
    "\n",
    "\n",
    "del X_test\n",
    "gc.collect()\n",
    "\n",
    "lgb_pred /= N_SPLITS\n",
    "print(f\"oof lgb_auc = {roc_auc_score(train[target], lgb_oof)}\")\n",
    "\n",
    "np.save(\"lgb_oof.npy\", lgb_oof)\n",
    "np.save(\"lgb_pred.npy\", lgb_pred)"
   ]
  },
  {
   "cell_type": "markdown",
   "id": "805887ae",
   "metadata": {
    "papermill": {
     "duration": 0.033095,
     "end_time": "2021-10-07T11:32:08.527191",
     "exception": false,
     "start_time": "2021-10-07T11:32:08.494096",
     "status": "completed"
    },
    "tags": []
   },
   "source": [
    "# OOF predictions"
   ]
  },
  {
   "cell_type": "code",
   "execution_count": 14,
   "id": "01a2755b",
   "metadata": {
    "execution": {
     "iopub.execute_input": "2021-10-07T11:32:08.596768Z",
     "iopub.status.busy": "2021-10-07T11:32:08.596282Z",
     "iopub.status.idle": "2021-10-07T11:32:13.228623Z",
     "shell.execute_reply": "2021-10-07T11:32:13.229146Z",
     "shell.execute_reply.started": "2021-09-07T00:50:57.432219Z"
    },
    "papermill": {
     "duration": 4.668886,
     "end_time": "2021-10-07T11:32:13.229310",
     "exception": false,
     "start_time": "2021-10-07T11:32:08.560424",
     "status": "completed"
    },
    "tags": []
   },
   "outputs": [
    {
     "data": {
      "text/plain": [
       "<matplotlib.collections.PathCollection at 0x7faf39636a90>"
      ]
     },
     "execution_count": 14,
     "metadata": {},
     "output_type": "execute_result"
    },
    {
     "data": {
      "image/png": "[encoded data removed]",
      "text/plain": [
       "<Figure size 432x288 with 1 Axes>"
      ]
     },
     "metadata": {
      "needs_background": "light"
     },
     "output_type": "display_data"
    }
   ],
   "source": [
    "plt.plot(train[target], train[target])\n",
    "plt.scatter(train[target], lgb_oof)"
   ]
  },
  {
   "cell_type": "code",
   "execution_count": 15,
   "id": "3ce39b89",
   "metadata": {
    "execution": {
     "iopub.execute_input": "2021-10-07T11:32:13.428447Z",
     "iopub.status.busy": "2021-10-07T11:32:13.427585Z",
     "iopub.status.idle": "2021-10-07T11:32:13.433491Z",
     "shell.execute_reply": "2021-10-07T11:32:13.433974Z"
    },
    "papermill": {
     "duration": 0.152336,
     "end_time": "2021-10-07T11:32:13.434145",
     "exception": false,
     "start_time": "2021-10-07T11:32:13.281809",
     "status": "completed"
    },
    "tags": []
   },
   "outputs": [
    {
     "data": {
      "text/plain": [
       "20"
      ]
     },
     "execution_count": 15,
     "metadata": {},
     "output_type": "execute_result"
    }
   ],
   "source": [
    "del train\n",
    "del lgb_oof\n",
    "gc.collect()"
   ]
  },
  {
   "cell_type": "markdown",
   "id": "aa988cda",
   "metadata": {
    "papermill": {
     "duration": 0.053694,
     "end_time": "2021-10-07T11:32:13.541919",
     "exception": false,
     "start_time": "2021-10-07T11:32:13.488225",
     "status": "completed"
    },
    "tags": []
   },
   "source": [
    "# Features importances"
   ]
  },
  {
   "cell_type": "code",
   "execution_count": 16,
   "id": "37726ea7",
   "metadata": {
    "execution": {
     "iopub.execute_input": "2021-10-07T11:32:13.662916Z",
     "iopub.status.busy": "2021-10-07T11:32:13.657924Z",
     "iopub.status.idle": "2021-10-07T11:32:17.717057Z",
     "shell.execute_reply": "2021-10-07T11:32:17.717553Z",
     "shell.execute_reply.started": "2021-09-07T00:51:01.011128Z"
    },
    "papermill": {
     "duration": 4.122778,
     "end_time": "2021-10-07T11:32:17.717705",
     "exception": false,
     "start_time": "2021-10-07T11:32:13.594927",
     "status": "completed"
    },
    "tags": []
   },
   "outputs": [
    {
     "data": {
      "text/plain": [
       "Text(0.5, 1.0, 'LGB feature importances')"
      ]
     },
     "execution_count": 16,
     "metadata": {},
     "output_type": "execute_result"
    },
    {
     "data": {
      "image/png": "[encoded data removed]",
      "text/plain": [
       "<Figure size 1152x1152 with 1 Axes>"
      ]
     },
     "metadata": {
      "needs_background": "light"
     },
     "output_type": "display_data"
    }
   ],
   "source": [
    "order = list(lgb_importances.groupby('feature').mean().sort_values('importance', ascending=False).index)\n",
    "\n",
    "fig = plt.figure(figsize=(16, 16), tight_layout=True)\n",
    "sns.barplot(x=\"importance\", y=\"feature\", data=lgb_importances.groupby('feature').mean().reset_index(), order=order)\n",
    "plt.title(\"LGB feature importances\")"
   ]
  },
  {
   "cell_type": "markdown",
   "id": "76cc3536",
   "metadata": {
    "papermill": {
     "duration": 0.036515,
     "end_time": "2021-10-07T11:32:17.792197",
     "exception": false,
     "start_time": "2021-10-07T11:32:17.755682",
     "status": "completed"
    },
    "tags": []
   },
   "source": [
    "# Submission"
   ]
  },
  {
   "cell_type": "code",
   "execution_count": 17,
   "id": "16d049d7",
   "metadata": {
    "execution": {
     "iopub.execute_input": "2021-10-07T11:32:17.868449Z",
     "iopub.status.busy": "2021-10-07T11:32:17.867957Z",
     "iopub.status.idle": "2021-10-07T11:32:18.940589Z",
     "shell.execute_reply": "2021-10-07T11:32:18.941084Z",
     "shell.execute_reply.started": "2021-09-07T00:51:03.177221Z"
    },
    "papermill": {
     "duration": 1.112291,
     "end_time": "2021-10-07T11:32:18.941259",
     "exception": false,
     "start_time": "2021-10-07T11:32:17.828968",
     "status": "completed"
    },
    "tags": []
   },
   "outputs": [
    {
     "data": {
      "text/html": [
       "<div>\n",
       "<style scoped>\n",
       "    .dataframe tbody tr th:only-of-type {\n",
       "        vertical-align: middle;\n",
       "    }\n",
       "\n",
       "    .dataframe tbody tr th {\n",
       "        vertical-align: top;\n",
       "    }\n",
       "\n",
       "    .dataframe thead th {\n",
       "        text-align: right;\n",
       "    }\n",
       "</style>\n",
       "<table border=\"1\" class=\"dataframe\">\n",
       "  <thead>\n",
       "    <tr style=\"text-align: right;\">\n",
       "      <th></th>\n",
       "      <th>id</th>\n",
       "      <th>target</th>\n",
       "    </tr>\n",
       "  </thead>\n",
       "  <tbody>\n",
       "    <tr>\n",
       "      <th>0</th>\n",
       "      <td>1000000</td>\n",
       "      <td>0.759181</td>\n",
       "    </tr>\n",
       "    <tr>\n",
       "      <th>1</th>\n",
       "      <td>1000001</td>\n",
       "      <td>0.247041</td>\n",
       "    </tr>\n",
       "    <tr>\n",
       "      <th>2</th>\n",
       "      <td>1000002</td>\n",
       "      <td>0.911101</td>\n",
       "    </tr>\n",
       "    <tr>\n",
       "      <th>3</th>\n",
       "      <td>1000003</td>\n",
       "      <td>0.851071</td>\n",
       "    </tr>\n",
       "    <tr>\n",
       "      <th>4</th>\n",
       "      <td>1000004</td>\n",
       "      <td>0.252810</td>\n",
       "    </tr>\n",
       "    <tr>\n",
       "      <th>...</th>\n",
       "      <td>...</td>\n",
       "      <td>...</td>\n",
       "    </tr>\n",
       "    <tr>\n",
       "      <th>499995</th>\n",
       "      <td>1499995</td>\n",
       "      <td>0.969206</td>\n",
       "    </tr>\n",
       "    <tr>\n",
       "      <th>499996</th>\n",
       "      <td>1499996</td>\n",
       "      <td>0.826848</td>\n",
       "    </tr>\n",
       "    <tr>\n",
       "      <th>499997</th>\n",
       "      <td>1499997</td>\n",
       "      <td>0.305398</td>\n",
       "    </tr>\n",
       "    <tr>\n",
       "      <th>499998</th>\n",
       "      <td>1499998</td>\n",
       "      <td>0.503591</td>\n",
       "    </tr>\n",
       "    <tr>\n",
       "      <th>499999</th>\n",
       "      <td>1499999</td>\n",
       "      <td>0.424330</td>\n",
       "    </tr>\n",
       "  </tbody>\n",
       "</table>\n",
       "<p>500000 rows × 2 columns</p>\n",
       "</div>"
      ],
      "text/plain": [
       "             id    target\n",
       "0       1000000  0.759181\n",
       "1       1000001  0.247041\n",
       "2       1000002  0.911101\n",
       "3       1000003  0.851071\n",
       "4       1000004  0.252810\n",
       "...         ...       ...\n",
       "499995  1499995  0.969206\n",
       "499996  1499996  0.826848\n",
       "499997  1499997  0.305398\n",
       "499998  1499998  0.503591\n",
       "499999  1499999  0.424330\n",
       "\n",
       "[500000 rows x 2 columns]"
      ]
     },
     "execution_count": 17,
     "metadata": {},
     "output_type": "execute_result"
    }
   ],
   "source": [
    "submission[target] = lgb_pred\n",
    "submission.to_csv(\"submission.csv\", index=False)\n",
    "\n",
    "submission"
   ]
  },
  {
   "cell_type": "markdown",
   "id": "fec7987d",
   "metadata": {
    "papermill": {
     "duration": 0.055812,
     "end_time": "2021-10-07T11:32:19.052795",
     "exception": false,
     "start_time": "2021-10-07T11:32:18.996983",
     "status": "completed"
    },
    "tags": []
   },
   "source": [
    "# Log\n",
    "\n",
    "seeds\n",
    "\n",
    "2017 ver1\n",
    "2018 ver7\n",
    "2019 ver3\n",
    "2020 ver11\n",
    "2021 ver9"
   ]
  }
 ],
 "metadata": {
  "kernelspec": {
   "display_name": "Python 3",
   "language": "python",
   "name": "python3"
  },
  "language_info": {
   "codemirror_mode": {
    "name": "ipython",
    "version": 3
   },
   "file_extension": ".py",
   "mimetype": "text/x-python",
   "name": "python",
   "nbconvert_exporter": "python",
   "pygments_lexer": "ipython3",
   "version": "3.7.10"
  },
  "papermill": {
   "default_parameters": {},
   "duration": 8852.884835,
   "end_time": "2021-10-07T11:32:20.883091",
   "environment_variables": {},
   "exception": null,
   "input_path": "__notebook__.ipynb",
   "output_path": "__notebook__.ipynb",
   "parameters": {},
   "start_time": "2021-10-07T09:04:47.998256",
   "version": "2.3.3"
  }
 },
 "nbformat": 4,
 "nbformat_minor": 5
}
