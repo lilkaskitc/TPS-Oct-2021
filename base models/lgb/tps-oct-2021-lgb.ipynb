{
 "cells": [
  {
   "cell_type": "code",
   "execution_count": 1,
   "id": "4e682cb5",
   "metadata": {
    "_cell_guid": "b1076dfc-b9ad-4769-8c92-a6c4dae69d19",
    "_uuid": "8f2839f25d086af736a60e9eeb907d3b93b6e0e5",
    "execution": {
     "iopub.execute_input": "2021-10-09T14:23:56.136218Z",
     "iopub.status.busy": "2021-10-09T14:23:56.135016Z",
     "iopub.status.idle": "2021-10-09T14:23:58.408381Z",
     "shell.execute_reply": "2021-10-09T14:23:58.407454Z",
     "shell.execute_reply.started": "2021-10-04T07:17:37.625191Z"
    },
    "papermill": {
     "duration": 2.295669,
     "end_time": "2021-10-09T14:23:58.408554",
     "exception": false,
     "start_time": "2021-10-09T14:23:56.112885",
     "status": "completed"
    },
    "tags": []
   },
   "outputs": [
    {
     "data": {
      "text/html": [
       "<style type='text/css'>\n",
       ".datatable table.frame { margin-bottom: 0; }\n",
       ".datatable table.frame thead { border-bottom: none; }\n",
       ".datatable table.frame tr.coltypes td {  color: #FFFFFF;  line-height: 6px;  padding: 0 0.5em;}\n",
       ".datatable .bool    { background: #DDDD99; }\n",
       ".datatable .object  { background: #565656; }\n",
       ".datatable .int     { background: #5D9E5D; }\n",
       ".datatable .float   { background: #4040CC; }\n",
       ".datatable .str     { background: #CC4040; }\n",
       ".datatable .time    { background: #40CC40; }\n",
       ".datatable .row_index {  background: var(--jp-border-color3);  border-right: 1px solid var(--jp-border-color0);  color: var(--jp-ui-font-color3);  font-size: 9px;}\n",
       ".datatable .frame tbody td { text-align: left; }\n",
       ".datatable .frame tr.coltypes .row_index {  background: var(--jp-border-color0);}\n",
       ".datatable th:nth-child(2) { padding-left: 12px; }\n",
       ".datatable .hellipsis {  color: var(--jp-cell-editor-border-color);}\n",
       ".datatable .vellipsis {  background: var(--jp-layout-color0);  color: var(--jp-cell-editor-border-color);}\n",
       ".datatable .na {  color: var(--jp-cell-editor-border-color);  font-size: 80%;}\n",
       ".datatable .sp {  opacity: 0.25;}\n",
       ".datatable .footer { font-size: 9px; }\n",
       ".datatable .frame_dimensions {  background: var(--jp-border-color3);  border-top: 1px solid var(--jp-border-color0);  color: var(--jp-ui-font-color3);  display: inline-block;  opacity: 0.6;  padding: 1px 10px 1px 5px;}\n",
       "</style>\n"
      ],
      "text/plain": [
       "<IPython.core.display.HTML object>"
      ]
     },
     "metadata": {},
     "output_type": "display_data"
    }
   ],
   "source": [
    "import numpy as np\n",
    "import pandas as pd\n",
    "import random\n",
    "import os\n",
    "import time\n",
    "import pickle\n",
    "from pathlib import Path\n",
    "import gc\n",
    "\n",
    "from sklearn.preprocessing import StandardScaler\n",
    "from sklearn.model_selection import StratifiedKFold, train_test_split\n",
    "from sklearn.metrics import roc_auc_score\n",
    "\n",
    "import lightgbm as lgb\n",
    "#import xgboost as xgb\n",
    "#import catboost as ctb\n",
    "\n",
    "import matplotlib.pyplot as plt\n",
    "import seaborn as sns\n",
    "\n",
    "import warnings\n",
    "warnings.simplefilter('ignore')"
   ]
  },
  {
   "cell_type": "markdown",
   "id": "66a3f292",
   "metadata": {
    "papermill": {
     "duration": 0.017746,
     "end_time": "2021-10-09T14:23:58.447089",
     "exception": false,
     "start_time": "2021-10-09T14:23:58.429343",
     "status": "completed"
    },
    "tags": []
   },
   "source": [
    "# Parameters"
   ]
  },
  {
   "cell_type": "code",
   "execution_count": 2,
   "id": "11a201cc",
   "metadata": {
    "execution": {
     "iopub.execute_input": "2021-10-09T14:23:58.489812Z",
     "iopub.status.busy": "2021-10-09T14:23:58.489090Z",
     "iopub.status.idle": "2021-10-09T14:23:58.492421Z",
     "shell.execute_reply": "2021-10-09T14:23:58.491887Z",
     "shell.execute_reply.started": "2021-10-04T07:17:38.959998Z"
    },
    "papermill": {
     "duration": 0.027502,
     "end_time": "2021-10-09T14:23:58.492583",
     "exception": false,
     "start_time": "2021-10-09T14:23:58.465081",
     "status": "completed"
    },
    "tags": []
   },
   "outputs": [],
   "source": [
    "target = 'target'\n",
    "\n",
    "DEBUG = False\n",
    "\n",
    "if DEBUG:\n",
    "    N_ESTIMATORS = 1\n",
    "    N_SPLITS = 2\n",
    "    SEED = 2017\n",
    "    CVSEED = 2017\n",
    "    EARLY_STOPPING_ROUNDS = 1\n",
    "    VERBOSE = 100\n",
    "    #N_ITERS = 2\n",
    "else:\n",
    "    N_SPLITS = 5\n",
    "    N_ESTIMATORS = 20000\n",
    "    EARLY_STOPPING_ROUNDS = 300\n",
    "    VERBOSE = 1000\n",
    "    SEED = 2017\n",
    "    CVSEED = 2017\n",
    "    #N_ITERS = 10"
   ]
  },
  {
   "cell_type": "code",
   "execution_count": 3,
   "id": "4b75229b",
   "metadata": {
    "execution": {
     "iopub.execute_input": "2021-10-09T14:23:58.532094Z",
     "iopub.status.busy": "2021-10-09T14:23:58.531489Z",
     "iopub.status.idle": "2021-10-09T14:23:58.537019Z",
     "shell.execute_reply": "2021-10-09T14:23:58.536522Z",
     "shell.execute_reply.started": "2021-10-04T07:17:38.969573Z"
    },
    "papermill": {
     "duration": 0.02637,
     "end_time": "2021-10-09T14:23:58.537191",
     "exception": false,
     "start_time": "2021-10-09T14:23:58.510821",
     "status": "completed"
    },
    "tags": []
   },
   "outputs": [],
   "source": [
    "def set_seed(seed=2017):\n",
    "    random.seed(seed)\n",
    "    os.environ['PYTHONHASHSEED'] = str(seed)\n",
    "    np.random.seed(seed)\n",
    "    \n",
    "set_seed(SEED)"
   ]
  },
  {
   "cell_type": "markdown",
   "id": "4cddfeeb",
   "metadata": {
    "papermill": {
     "duration": 0.017818,
     "end_time": "2021-10-09T14:23:58.573083",
     "exception": false,
     "start_time": "2021-10-09T14:23:58.555265",
     "status": "completed"
    },
    "tags": []
   },
   "source": [
    "# Datasets"
   ]
  },
  {
   "cell_type": "code",
   "execution_count": 4,
   "id": "58bcf2e6",
   "metadata": {
    "execution": {
     "iopub.execute_input": "2021-10-09T14:23:58.615624Z",
     "iopub.status.busy": "2021-10-09T14:23:58.614686Z",
     "iopub.status.idle": "2021-10-09T14:25:36.209293Z",
     "shell.execute_reply": "2021-10-09T14:25:36.208625Z",
     "shell.execute_reply.started": "2021-10-04T07:17:38.980344Z"
    },
    "papermill": {
     "duration": 97.618249,
     "end_time": "2021-10-09T14:25:36.209466",
     "exception": false,
     "start_time": "2021-10-09T14:23:58.591217",
     "status": "completed"
    },
    "tags": []
   },
   "outputs": [],
   "source": [
    "INPUT = Path(\"../input/tabular-playground-series-oct-2021\")\n",
    "\n",
    "train = pd.read_csv(INPUT / \"train.csv\")\n",
    "test = pd.read_csv(INPUT / \"test.csv\")\n",
    "submission = pd.read_csv(INPUT / \"sample_submission.csv\")"
   ]
  },
  {
   "cell_type": "code",
   "execution_count": 5,
   "id": "82643b96",
   "metadata": {
    "execution": {
     "iopub.execute_input": "2021-10-09T14:25:36.257055Z",
     "iopub.status.busy": "2021-10-09T14:25:36.256393Z",
     "iopub.status.idle": "2021-10-09T14:25:37.692927Z",
     "shell.execute_reply": "2021-10-09T14:25:37.692397Z",
     "shell.execute_reply.started": "2021-10-04T07:19:21.369035Z"
    },
    "papermill": {
     "duration": 1.465272,
     "end_time": "2021-10-09T14:25:37.693073",
     "exception": false,
     "start_time": "2021-10-09T14:25:36.227801",
     "status": "completed"
    },
    "tags": []
   },
   "outputs": [],
   "source": [
    "train = train[train.columns[1:]]\n",
    "test = test[test.columns[1:]]"
   ]
  },
  {
   "cell_type": "markdown",
   "id": "8f110ccb",
   "metadata": {
    "papermill": {
     "duration": 0.017665,
     "end_time": "2021-10-09T14:25:37.728909",
     "exception": false,
     "start_time": "2021-10-09T14:25:37.711244",
     "status": "completed"
    },
    "tags": []
   },
   "source": [
    "# Preprocessing"
   ]
  },
  {
   "cell_type": "code",
   "execution_count": 6,
   "id": "31e5535f",
   "metadata": {
    "execution": {
     "iopub.execute_input": "2021-10-09T14:25:37.769826Z",
     "iopub.status.busy": "2021-10-09T14:25:37.769115Z",
     "iopub.status.idle": "2021-10-09T14:25:37.771785Z",
     "shell.execute_reply": "2021-10-09T14:25:37.772317Z",
     "shell.execute_reply.started": "2021-10-04T07:19:23.214541Z"
    },
    "papermill": {
     "duration": 0.025663,
     "end_time": "2021-10-09T14:25:37.772489",
     "exception": false,
     "start_time": "2021-10-09T14:25:37.746826",
     "status": "completed"
    },
    "tags": []
   },
   "outputs": [],
   "source": [
    "features = [col for col in train.columns if 'f' in col]"
   ]
  },
  {
   "cell_type": "code",
   "execution_count": 7,
   "id": "165fa926",
   "metadata": {
    "execution": {
     "iopub.execute_input": "2021-10-09T14:25:37.827763Z",
     "iopub.status.busy": "2021-10-09T14:25:37.827047Z",
     "iopub.status.idle": "2021-10-09T14:25:37.829785Z",
     "shell.execute_reply": "2021-10-09T14:25:37.830253Z",
     "shell.execute_reply.started": "2021-10-04T07:19:23.222364Z"
    },
    "papermill": {
     "duration": 0.03956,
     "end_time": "2021-10-09T14:25:37.830425",
     "exception": false,
     "start_time": "2021-10-09T14:25:37.790865",
     "status": "completed"
    },
    "tags": []
   },
   "outputs": [],
   "source": [
    "cont_features =[]\n",
    "disc_features =[]\n",
    "\n",
    "for col in features:\n",
    "    if train[col].dtype=='float64':\n",
    "        cont_features.append(col)\n",
    "    else:\n",
    "        disc_features.append(col)\n",
    "        \n",
    "features = disc_features + cont_features"
   ]
  },
  {
   "cell_type": "code",
   "execution_count": 8,
   "id": "22f05f72",
   "metadata": {
    "execution": {
     "iopub.execute_input": "2021-10-09T14:25:38.431350Z",
     "iopub.status.busy": "2021-10-09T14:25:38.430653Z",
     "iopub.status.idle": "2021-10-09T14:27:26.711490Z",
     "shell.execute_reply": "2021-10-09T14:27:26.710418Z",
     "shell.execute_reply.started": "2021-10-04T07:21:35.009513Z"
    },
    "papermill": {
     "duration": 108.862485,
     "end_time": "2021-10-09T14:27:26.711899",
     "exception": false,
     "start_time": "2021-10-09T14:25:37.849414",
     "status": "completed"
    },
    "tags": []
   },
   "outputs": [],
   "source": [
    "train[cont_features] = train[cont_features].astype('float32')\n",
    "train[disc_features] = train[disc_features].astype('uint8')\n",
    "train[target] = train[target].astype('uint8')\n",
    "\n",
    "test[cont_features] = test[cont_features].astype('float32')\n",
    "test[disc_features] = test[disc_features].astype('uint8')"
   ]
  },
  {
   "cell_type": "code",
   "execution_count": 9,
   "id": "fddc0acb",
   "metadata": {
    "execution": {
     "iopub.execute_input": "2021-10-09T14:27:26.758618Z",
     "iopub.status.busy": "2021-10-09T14:27:26.757868Z",
     "iopub.status.idle": "2021-10-09T14:27:26.988699Z",
     "shell.execute_reply": "2021-10-09T14:27:26.989180Z",
     "shell.execute_reply.started": "2021-10-04T07:24:31.446188Z"
    },
    "papermill": {
     "duration": 0.25641,
     "end_time": "2021-10-09T14:27:26.989367",
     "exception": false,
     "start_time": "2021-10-09T14:27:26.732957",
     "status": "completed"
    },
    "tags": []
   },
   "outputs": [
    {
     "data": {
      "text/html": [
       "<div>\n",
       "<style scoped>\n",
       "    .dataframe tbody tr th:only-of-type {\n",
       "        vertical-align: middle;\n",
       "    }\n",
       "\n",
       "    .dataframe tbody tr th {\n",
       "        vertical-align: top;\n",
       "    }\n",
       "\n",
       "    .dataframe thead th {\n",
       "        text-align: right;\n",
       "    }\n",
       "</style>\n",
       "<table border=\"1\" class=\"dataframe\">\n",
       "  <thead>\n",
       "    <tr style=\"text-align: right;\">\n",
       "      <th></th>\n",
       "      <th>f22</th>\n",
       "      <th>f43</th>\n",
       "      <th>f242</th>\n",
       "      <th>f243</th>\n",
       "      <th>f244</th>\n",
       "      <th>f245</th>\n",
       "      <th>f246</th>\n",
       "      <th>f247</th>\n",
       "      <th>f248</th>\n",
       "      <th>f249</th>\n",
       "      <th>...</th>\n",
       "      <th>f232</th>\n",
       "      <th>f233</th>\n",
       "      <th>f234</th>\n",
       "      <th>f235</th>\n",
       "      <th>f236</th>\n",
       "      <th>f237</th>\n",
       "      <th>f238</th>\n",
       "      <th>f239</th>\n",
       "      <th>f240</th>\n",
       "      <th>f241</th>\n",
       "    </tr>\n",
       "  </thead>\n",
       "  <tbody>\n",
       "    <tr>\n",
       "      <th>0</th>\n",
       "      <td>0</td>\n",
       "      <td>1</td>\n",
       "      <td>0</td>\n",
       "      <td>0</td>\n",
       "      <td>1</td>\n",
       "      <td>0</td>\n",
       "      <td>1</td>\n",
       "      <td>1</td>\n",
       "      <td>0</td>\n",
       "      <td>0</td>\n",
       "      <td>...</td>\n",
       "      <td>0.195952</td>\n",
       "      <td>0.227176</td>\n",
       "      <td>0.092359</td>\n",
       "      <td>0.152883</td>\n",
       "      <td>0.266000</td>\n",
       "      <td>0.006716</td>\n",
       "      <td>0.196959</td>\n",
       "      <td>0.022934</td>\n",
       "      <td>0.199017</td>\n",
       "      <td>0.150822</td>\n",
       "    </tr>\n",
       "    <tr>\n",
       "      <th>1</th>\n",
       "      <td>1</td>\n",
       "      <td>0</td>\n",
       "      <td>0</td>\n",
       "      <td>0</td>\n",
       "      <td>0</td>\n",
       "      <td>1</td>\n",
       "      <td>1</td>\n",
       "      <td>1</td>\n",
       "      <td>0</td>\n",
       "      <td>0</td>\n",
       "      <td>...</td>\n",
       "      <td>0.194892</td>\n",
       "      <td>0.203178</td>\n",
       "      <td>0.126690</td>\n",
       "      <td>0.128326</td>\n",
       "      <td>0.182899</td>\n",
       "      <td>0.003132</td>\n",
       "      <td>0.190789</td>\n",
       "      <td>0.195818</td>\n",
       "      <td>0.136427</td>\n",
       "      <td>0.200248</td>\n",
       "    </tr>\n",
       "    <tr>\n",
       "      <th>2</th>\n",
       "      <td>0</td>\n",
       "      <td>0</td>\n",
       "      <td>0</td>\n",
       "      <td>1</td>\n",
       "      <td>1</td>\n",
       "      <td>1</td>\n",
       "      <td>1</td>\n",
       "      <td>1</td>\n",
       "      <td>0</td>\n",
       "      <td>1</td>\n",
       "      <td>...</td>\n",
       "      <td>0.196512</td>\n",
       "      <td>0.205674</td>\n",
       "      <td>0.276899</td>\n",
       "      <td>0.194539</td>\n",
       "      <td>0.283591</td>\n",
       "      <td>0.005843</td>\n",
       "      <td>0.123439</td>\n",
       "      <td>0.199566</td>\n",
       "      <td>0.217159</td>\n",
       "      <td>0.229726</td>\n",
       "    </tr>\n",
       "    <tr>\n",
       "      <th>3</th>\n",
       "      <td>0</td>\n",
       "      <td>0</td>\n",
       "      <td>0</td>\n",
       "      <td>0</td>\n",
       "      <td>0</td>\n",
       "      <td>0</td>\n",
       "      <td>1</td>\n",
       "      <td>1</td>\n",
       "      <td>0</td>\n",
       "      <td>1</td>\n",
       "      <td>...</td>\n",
       "      <td>0.196870</td>\n",
       "      <td>0.207462</td>\n",
       "      <td>0.268194</td>\n",
       "      <td>0.263770</td>\n",
       "      <td>0.487931</td>\n",
       "      <td>0.008247</td>\n",
       "      <td>0.140777</td>\n",
       "      <td>0.042808</td>\n",
       "      <td>0.196403</td>\n",
       "      <td>0.166039</td>\n",
       "    </tr>\n",
       "    <tr>\n",
       "      <th>4</th>\n",
       "      <td>1</td>\n",
       "      <td>0</td>\n",
       "      <td>0</td>\n",
       "      <td>1</td>\n",
       "      <td>0</td>\n",
       "      <td>1</td>\n",
       "      <td>1</td>\n",
       "      <td>0</td>\n",
       "      <td>0</td>\n",
       "      <td>0</td>\n",
       "      <td>...</td>\n",
       "      <td>0.195016</td>\n",
       "      <td>0.199202</td>\n",
       "      <td>0.191478</td>\n",
       "      <td>0.126863</td>\n",
       "      <td>0.168593</td>\n",
       "      <td>0.319238</td>\n",
       "      <td>0.155194</td>\n",
       "      <td>0.205401</td>\n",
       "      <td>0.196158</td>\n",
       "      <td>0.327414</td>\n",
       "    </tr>\n",
       "    <tr>\n",
       "      <th>...</th>\n",
       "      <td>...</td>\n",
       "      <td>...</td>\n",
       "      <td>...</td>\n",
       "      <td>...</td>\n",
       "      <td>...</td>\n",
       "      <td>...</td>\n",
       "      <td>...</td>\n",
       "      <td>...</td>\n",
       "      <td>...</td>\n",
       "      <td>...</td>\n",
       "      <td>...</td>\n",
       "      <td>...</td>\n",
       "      <td>...</td>\n",
       "      <td>...</td>\n",
       "      <td>...</td>\n",
       "      <td>...</td>\n",
       "      <td>...</td>\n",
       "      <td>...</td>\n",
       "      <td>...</td>\n",
       "      <td>...</td>\n",
       "      <td>...</td>\n",
       "    </tr>\n",
       "    <tr>\n",
       "      <th>499995</th>\n",
       "      <td>0</td>\n",
       "      <td>0</td>\n",
       "      <td>1</td>\n",
       "      <td>0</td>\n",
       "      <td>0</td>\n",
       "      <td>0</td>\n",
       "      <td>0</td>\n",
       "      <td>0</td>\n",
       "      <td>1</td>\n",
       "      <td>0</td>\n",
       "      <td>...</td>\n",
       "      <td>0.195130</td>\n",
       "      <td>0.199618</td>\n",
       "      <td>0.091413</td>\n",
       "      <td>0.162236</td>\n",
       "      <td>0.309894</td>\n",
       "      <td>0.011023</td>\n",
       "      <td>0.142858</td>\n",
       "      <td>0.521894</td>\n",
       "      <td>0.222184</td>\n",
       "      <td>0.251195</td>\n",
       "    </tr>\n",
       "    <tr>\n",
       "      <th>499996</th>\n",
       "      <td>0</td>\n",
       "      <td>0</td>\n",
       "      <td>0</td>\n",
       "      <td>0</td>\n",
       "      <td>1</td>\n",
       "      <td>1</td>\n",
       "      <td>0</td>\n",
       "      <td>1</td>\n",
       "      <td>0</td>\n",
       "      <td>0</td>\n",
       "      <td>...</td>\n",
       "      <td>0.197064</td>\n",
       "      <td>0.199442</td>\n",
       "      <td>0.748071</td>\n",
       "      <td>0.194264</td>\n",
       "      <td>0.207866</td>\n",
       "      <td>0.006372</td>\n",
       "      <td>0.175386</td>\n",
       "      <td>0.198387</td>\n",
       "      <td>0.142845</td>\n",
       "      <td>0.214146</td>\n",
       "    </tr>\n",
       "    <tr>\n",
       "      <th>499997</th>\n",
       "      <td>1</td>\n",
       "      <td>0</td>\n",
       "      <td>0</td>\n",
       "      <td>0</td>\n",
       "      <td>0</td>\n",
       "      <td>1</td>\n",
       "      <td>1</td>\n",
       "      <td>1</td>\n",
       "      <td>0</td>\n",
       "      <td>1</td>\n",
       "      <td>...</td>\n",
       "      <td>0.324317</td>\n",
       "      <td>0.197398</td>\n",
       "      <td>0.184333</td>\n",
       "      <td>0.136267</td>\n",
       "      <td>0.164835</td>\n",
       "      <td>0.006861</td>\n",
       "      <td>0.141225</td>\n",
       "      <td>0.044007</td>\n",
       "      <td>0.141896</td>\n",
       "      <td>0.228734</td>\n",
       "    </tr>\n",
       "    <tr>\n",
       "      <th>499998</th>\n",
       "      <td>0</td>\n",
       "      <td>0</td>\n",
       "      <td>0</td>\n",
       "      <td>0</td>\n",
       "      <td>0</td>\n",
       "      <td>0</td>\n",
       "      <td>1</td>\n",
       "      <td>1</td>\n",
       "      <td>0</td>\n",
       "      <td>0</td>\n",
       "      <td>...</td>\n",
       "      <td>0.195557</td>\n",
       "      <td>0.202305</td>\n",
       "      <td>0.039359</td>\n",
       "      <td>0.189006</td>\n",
       "      <td>0.239799</td>\n",
       "      <td>0.005881</td>\n",
       "      <td>0.192076</td>\n",
       "      <td>0.199732</td>\n",
       "      <td>0.169161</td>\n",
       "      <td>0.271750</td>\n",
       "    </tr>\n",
       "    <tr>\n",
       "      <th>499999</th>\n",
       "      <td>1</td>\n",
       "      <td>1</td>\n",
       "      <td>0</td>\n",
       "      <td>0</td>\n",
       "      <td>1</td>\n",
       "      <td>1</td>\n",
       "      <td>0</td>\n",
       "      <td>0</td>\n",
       "      <td>1</td>\n",
       "      <td>0</td>\n",
       "      <td>...</td>\n",
       "      <td>0.194191</td>\n",
       "      <td>0.204191</td>\n",
       "      <td>0.042052</td>\n",
       "      <td>0.129841</td>\n",
       "      <td>0.163681</td>\n",
       "      <td>0.007775</td>\n",
       "      <td>0.229352</td>\n",
       "      <td>0.389587</td>\n",
       "      <td>0.219126</td>\n",
       "      <td>0.324886</td>\n",
       "    </tr>\n",
       "  </tbody>\n",
       "</table>\n",
       "<p>500000 rows × 285 columns</p>\n",
       "</div>"
      ],
      "text/plain": [
       "        f22  f43  f242  f243  f244  f245  f246  f247  f248  f249  ...  \\\n",
       "0         0    1     0     0     1     0     1     1     0     0  ...   \n",
       "1         1    0     0     0     0     1     1     1     0     0  ...   \n",
       "2         0    0     0     1     1     1     1     1     0     1  ...   \n",
       "3         0    0     0     0     0     0     1     1     0     1  ...   \n",
       "4         1    0     0     1     0     1     1     0     0     0  ...   \n",
       "...     ...  ...   ...   ...   ...   ...   ...   ...   ...   ...  ...   \n",
       "499995    0    0     1     0     0     0     0     0     1     0  ...   \n",
       "499996    0    0     0     0     1     1     0     1     0     0  ...   \n",
       "499997    1    0     0     0     0     1     1     1     0     1  ...   \n",
       "499998    0    0     0     0     0     0     1     1     0     0  ...   \n",
       "499999    1    1     0     0     1     1     0     0     1     0  ...   \n",
       "\n",
       "            f232      f233      f234      f235      f236      f237      f238  \\\n",
       "0       0.195952  0.227176  0.092359  0.152883  0.266000  0.006716  0.196959   \n",
       "1       0.194892  0.203178  0.126690  0.128326  0.182899  0.003132  0.190789   \n",
       "2       0.196512  0.205674  0.276899  0.194539  0.283591  0.005843  0.123439   \n",
       "3       0.196870  0.207462  0.268194  0.263770  0.487931  0.008247  0.140777   \n",
       "4       0.195016  0.199202  0.191478  0.126863  0.168593  0.319238  0.155194   \n",
       "...          ...       ...       ...       ...       ...       ...       ...   \n",
       "499995  0.195130  0.199618  0.091413  0.162236  0.309894  0.011023  0.142858   \n",
       "499996  0.197064  0.199442  0.748071  0.194264  0.207866  0.006372  0.175386   \n",
       "499997  0.324317  0.197398  0.184333  0.136267  0.164835  0.006861  0.141225   \n",
       "499998  0.195557  0.202305  0.039359  0.189006  0.239799  0.005881  0.192076   \n",
       "499999  0.194191  0.204191  0.042052  0.129841  0.163681  0.007775  0.229352   \n",
       "\n",
       "            f239      f240      f241  \n",
       "0       0.022934  0.199017  0.150822  \n",
       "1       0.195818  0.136427  0.200248  \n",
       "2       0.199566  0.217159  0.229726  \n",
       "3       0.042808  0.196403  0.166039  \n",
       "4       0.205401  0.196158  0.327414  \n",
       "...          ...       ...       ...  \n",
       "499995  0.521894  0.222184  0.251195  \n",
       "499996  0.198387  0.142845  0.214146  \n",
       "499997  0.044007  0.141896  0.228734  \n",
       "499998  0.199732  0.169161  0.271750  \n",
       "499999  0.389587  0.219126  0.324886  \n",
       "\n",
       "[500000 rows x 285 columns]"
      ]
     },
     "execution_count": 9,
     "metadata": {},
     "output_type": "execute_result"
    }
   ],
   "source": [
    "test[features]"
   ]
  },
  {
   "cell_type": "code",
   "execution_count": 10,
   "id": "7052bc5d",
   "metadata": {
    "execution": {
     "iopub.execute_input": "2021-10-09T14:27:27.037282Z",
     "iopub.status.busy": "2021-10-09T14:27:27.036417Z",
     "iopub.status.idle": "2021-10-09T14:27:27.040519Z",
     "shell.execute_reply": "2021-10-09T14:27:27.040014Z",
     "shell.execute_reply.started": "2021-10-04T07:24:31.998191Z"
    },
    "papermill": {
     "duration": 0.032199,
     "end_time": "2021-10-09T14:27:27.040657",
     "exception": false,
     "start_time": "2021-10-09T14:27:27.008458",
     "status": "completed"
    },
    "tags": []
   },
   "outputs": [
    {
     "data": {
      "text/plain": [
       "0         1\n",
       "1         1\n",
       "2         1\n",
       "3         1\n",
       "4         1\n",
       "         ..\n",
       "999995    1\n",
       "999996    0\n",
       "999997    0\n",
       "999998    1\n",
       "999999    0\n",
       "Name: target, Length: 1000000, dtype: uint8"
      ]
     },
     "execution_count": 10,
     "metadata": {},
     "output_type": "execute_result"
    }
   ],
   "source": [
    "train[target]"
   ]
  },
  {
   "cell_type": "markdown",
   "id": "ebeb53e0",
   "metadata": {
    "papermill": {
     "duration": 0.018903,
     "end_time": "2021-10-09T14:27:27.078765",
     "exception": false,
     "start_time": "2021-10-09T14:27:27.059862",
     "status": "completed"
    },
    "tags": []
   },
   "source": [
    "# LGB"
   ]
  },
  {
   "cell_type": "code",
   "execution_count": 11,
   "id": "16b02392",
   "metadata": {
    "execution": {
     "iopub.execute_input": "2021-10-09T14:27:27.124056Z",
     "iopub.status.busy": "2021-10-09T14:27:27.123075Z",
     "iopub.status.idle": "2021-10-09T14:27:27.126217Z",
     "shell.execute_reply": "2021-10-09T14:27:27.125730Z",
     "shell.execute_reply.started": "2021-09-07T00:44:32.516352Z"
    },
    "papermill": {
     "duration": 0.028405,
     "end_time": "2021-10-09T14:27:27.126353",
     "exception": false,
     "start_time": "2021-10-09T14:27:27.097948",
     "status": "completed"
    },
    "tags": []
   },
   "outputs": [],
   "source": [
    "lgb_params = {\n",
    "     'objective': 'binary',\n",
    "     'n_estimators':N_ESTIMATORS,\n",
    "     'importance_type': 'gain',\n",
    "     'metric':'auc',\n",
    "     'boosting_type': 'gbdt',\n",
    "     'n_jobs' : -1,\n",
    "        \n",
    "    'learning_rate': 0.0038511441056118664, \n",
    "    'subsample': 0.5827550088149794, \n",
    "    'subsample_freq': 1, \n",
    "    'colsample_bytree': 0.19599597755538956, \n",
    "    'reg_lambda': 0.011685550612519125, \n",
    "    'reg_alpha': 0.04502045156737212, \n",
    "    'min_child_weight': 16.843316711276092, \n",
    "    'min_child_samples': 412, \n",
    "    'num_leaves': 546, \n",
    "    'max_depth': 5, \n",
    "    'cat_smooth': 36.40200359200525, \n",
    "    'cat_l2': 12.979520035205597\n",
    "    }"
   ]
  },
  {
   "cell_type": "code",
   "execution_count": 12,
   "id": "65fe89fe",
   "metadata": {
    "execution": {
     "iopub.execute_input": "2021-10-09T14:27:27.176278Z",
     "iopub.status.busy": "2021-10-09T14:27:27.175584Z",
     "iopub.status.idle": "2021-10-09T16:04:46.492901Z",
     "shell.execute_reply": "2021-10-09T16:04:46.493729Z",
     "shell.execute_reply.started": "2021-09-07T00:48:20.356186Z"
    },
    "papermill": {
     "duration": 5839.349329,
     "end_time": "2021-10-09T16:04:46.494940",
     "exception": false,
     "start_time": "2021-10-09T14:27:27.145611",
     "status": "completed"
    },
    "tags": []
   },
   "outputs": [
    {
     "name": "stdout",
     "output_type": "stream",
     "text": [
      "===== fold 0 =====\n",
      "===== fold 1 =====\n",
      "===== fold 2 =====\n",
      "===== fold 3 =====\n",
      "===== fold 4 =====\n",
      "Training until validation scores don't improve for 300 rounds\n",
      "[1000]\tvalid_0's auc: 0.846338\n",
      "[2000]\tvalid_0's auc: 0.84834\n",
      "[3000]\tvalid_0's auc: 0.850289\n",
      "[4000]\tvalid_0's auc: 0.851785\n",
      "[5000]\tvalid_0's auc: 0.852955\n",
      "[6000]\tvalid_0's auc: 0.853902\n",
      "[7000]\tvalid_0's auc: 0.854634\n",
      "[8000]\tvalid_0's auc: 0.85517\n",
      "[9000]\tvalid_0's auc: 0.855583\n",
      "[10000]\tvalid_0's auc: 0.8559\n",
      "[11000]\tvalid_0's auc: 0.856123\n",
      "[12000]\tvalid_0's auc: 0.856279\n",
      "[13000]\tvalid_0's auc: 0.856411\n",
      "[14000]\tvalid_0's auc: 0.856509\n",
      "[15000]\tvalid_0's auc: 0.856576\n",
      "[16000]\tvalid_0's auc: 0.85662\n",
      "[17000]\tvalid_0's auc: 0.856648\n",
      "[18000]\tvalid_0's auc: 0.856662\n",
      "[19000]\tvalid_0's auc: 0.856668\n",
      "Early stopping, best iteration is:\n",
      "[18788]\tvalid_0's auc: 0.856671\n",
      "Training until validation scores don't improve for 300 rounds\n",
      "[19000]\tvalid_0's auc: 0.856671\n",
      "[20000]\tvalid_0's auc: 0.856672\n",
      "[21000]\tvalid_0's auc: 0.856673\n",
      "Early stopping, best iteration is:\n",
      "[20815]\tvalid_0's auc: 0.856674\n",
      "fold 4 - lgb auc: 0.856674, elapsed time: 5836.10sec\n",
      "\n",
      "oof lgb_auc = 0.5142669491537724\n"
     ]
    }
   ],
   "source": [
    "lgb_oof = np.zeros(train.shape[0])\n",
    "lgb_pred = np.zeros(test.shape[0])\n",
    "lgb_importances = pd.DataFrame()\n",
    "\n",
    "X_test = test[features]\n",
    "del test\n",
    "gc.collect()\n",
    "\n",
    "\n",
    "kf = StratifiedKFold(n_splits=N_SPLITS, shuffle=True, random_state=CVSEED)\n",
    "seed_list=[SEED+1]\n",
    "\n",
    "for fold, (trn_idx, val_idx) in enumerate(kf.split(X=train[features], y=train[target])):\n",
    "    print(f\"===== fold {fold} =====\")\n",
    "    if fold == 4:\n",
    "        \n",
    "        X_train = train[features].iloc[trn_idx]\n",
    "        y_train = train[target].iloc[trn_idx]\n",
    "        X_valid = train[features].iloc[val_idx]\n",
    "        y_valid = train[target].iloc[val_idx]\n",
    "        \n",
    "\n",
    "\n",
    "        start = time.time()\n",
    "        for inseed in seed_list:\n",
    "            lgb_params['random_state'] = inseed\n",
    "\n",
    "            pre_model = lgb.LGBMClassifier(**lgb_params)\n",
    "            pre_model.fit(\n",
    "                X_train, \n",
    "                y_train,\n",
    "                eval_set=[(X_valid, y_valid)],\n",
    "                eval_metric='auc',\n",
    "                categorical_feature = disc_features,\n",
    "                early_stopping_rounds=EARLY_STOPPING_ROUNDS,\n",
    "                verbose=VERBOSE,\n",
    "            )\n",
    "\n",
    "            lgb_params2 = lgb_params.copy()\n",
    "            lgb_params2['reg_lambda'] *= 0.9\n",
    "            lgb_params2['reg_alpha'] *= 0.9\n",
    "            lgb_params2['learning_rate'] *= 0.1\n",
    "            model = lgb.LGBMClassifier(**lgb_params2)\n",
    "            model.fit(\n",
    "                    X_train, y_train,\n",
    "                    eval_set=[(X_valid, y_valid)],\n",
    "                    eval_metric='auc',\n",
    "                    categorical_feature = disc_features,\n",
    "                    early_stopping_rounds=EARLY_STOPPING_ROUNDS,\n",
    "                    verbose=VERBOSE,\n",
    "                    init_model=pre_model\n",
    "            )    \n",
    "\n",
    "            with open(f\"lgb_model{fold}_seed{inseed}.pkl\", 'wb') as f:\n",
    "                pickle.dump(model, f)\n",
    "\n",
    "            fi_tmp = pd.DataFrame()\n",
    "            fi_tmp['feature'] = X_train.columns\n",
    "            fi_tmp['importance'] = model.feature_importances_\n",
    "            fi_tmp['fold'] = fold\n",
    "            fi_tmp['seed'] = inseed\n",
    "            lgb_importances = lgb_importances.append(fi_tmp)\n",
    "\n",
    "            lgb_oof[val_idx] += model.predict_proba(X_valid)[:,-1] / len(seed_list)\n",
    "            lgb_pred += model.predict_proba(X_test)[:,-1] / len(seed_list)\n",
    "            \n",
    "            del pre_model\n",
    "            del model\n",
    "            gc.collect()\n",
    "\n",
    "\n",
    "        elapsed = time.time() - start\n",
    "        auc = roc_auc_score(y_valid, lgb_oof[val_idx])\n",
    "        print(f\"fold {fold} - lgb auc: {auc:.6f}, elapsed time: {elapsed:.2f}sec\\n\")\n",
    "        \n",
    "        del X_train\n",
    "        del y_train\n",
    "        del X_valid\n",
    "        del y_valid\n",
    "        gc.collect()\n",
    "\n",
    "\n",
    "del X_test\n",
    "gc.collect()\n",
    "\n",
    "lgb_pred /= N_SPLITS\n",
    "print(f\"oof lgb_auc = {roc_auc_score(train[target], lgb_oof)}\")\n",
    "\n",
    "np.save(\"lgb_oof.npy\", lgb_oof)\n",
    "np.save(\"lgb_pred.npy\", lgb_pred)"
   ]
  },
  {
   "cell_type": "markdown",
   "id": "e9485e0b",
   "metadata": {
    "papermill": {
     "duration": 0.027958,
     "end_time": "2021-10-09T16:04:46.551728",
     "exception": false,
     "start_time": "2021-10-09T16:04:46.523770",
     "status": "completed"
    },
    "tags": []
   },
   "source": [
    "# OOF predictions"
   ]
  },
  {
   "cell_type": "code",
   "execution_count": 13,
   "id": "2729a4a0",
   "metadata": {
    "execution": {
     "iopub.execute_input": "2021-10-09T16:04:46.625731Z",
     "iopub.status.busy": "2021-10-09T16:04:46.625027Z",
     "iopub.status.idle": "2021-10-09T16:04:50.424552Z",
     "shell.execute_reply": "2021-10-09T16:04:50.423955Z",
     "shell.execute_reply.started": "2021-09-07T00:50:57.432219Z"
    },
    "papermill": {
     "duration": 3.844422,
     "end_time": "2021-10-09T16:04:50.424733",
     "exception": false,
     "start_time": "2021-10-09T16:04:46.580311",
     "status": "completed"
    },
    "tags": []
   },
   "outputs": [
    {
     "data": {
      "text/plain": [
       "<matplotlib.collections.PathCollection at 0x7f9c6faa7610>"
      ]
     },
     "execution_count": 13,
     "metadata": {},
     "output_type": "execute_result"
    },
    {
     "data": {
      "image/png": "[encoded data removed]",
      "text/plain": [
       "<Figure size 432x288 with 1 Axes>"
      ]
     },
     "metadata": {
      "needs_background": "light"
     },
     "output_type": "display_data"
    }
   ],
   "source": [
    "plt.plot(train[target], train[target])\n",
    "plt.scatter(train[target], lgb_oof)"
   ]
  },
  {
   "cell_type": "code",
   "execution_count": 14,
   "id": "b3ad1f79",
   "metadata": {
    "execution": {
     "iopub.execute_input": "2021-10-09T16:04:50.628434Z",
     "iopub.status.busy": "2021-10-09T16:04:50.627788Z",
     "iopub.status.idle": "2021-10-09T16:04:50.631673Z",
     "shell.execute_reply": "2021-10-09T16:04:50.632169Z"
    },
    "papermill": {
     "duration": 0.178444,
     "end_time": "2021-10-09T16:04:50.632348",
     "exception": false,
     "start_time": "2021-10-09T16:04:50.453904",
     "status": "completed"
    },
    "tags": []
   },
   "outputs": [
    {
     "data": {
      "text/plain": [
       "20"
      ]
     },
     "execution_count": 14,
     "metadata": {},
     "output_type": "execute_result"
    }
   ],
   "source": [
    "del train\n",
    "del lgb_oof\n",
    "gc.collect()"
   ]
  },
  {
   "cell_type": "markdown",
   "id": "ac79976f",
   "metadata": {
    "papermill": {
     "duration": 0.029133,
     "end_time": "2021-10-09T16:04:50.691338",
     "exception": false,
     "start_time": "2021-10-09T16:04:50.662205",
     "status": "completed"
    },
    "tags": []
   },
   "source": [
    "# Features importances"
   ]
  },
  {
   "cell_type": "code",
   "execution_count": 15,
   "id": "d41979ae",
   "metadata": {
    "execution": {
     "iopub.execute_input": "2021-10-09T16:04:50.767229Z",
     "iopub.status.busy": "2021-10-09T16:04:50.766434Z",
     "iopub.status.idle": "2021-10-09T16:04:56.381099Z",
     "shell.execute_reply": "2021-10-09T16:04:56.381634Z",
     "shell.execute_reply.started": "2021-09-07T00:51:01.011128Z"
    },
    "papermill": {
     "duration": 5.661173,
     "end_time": "2021-10-09T16:04:56.381810",
     "exception": false,
     "start_time": "2021-10-09T16:04:50.720637",
     "status": "completed"
    },
    "tags": []
   },
   "outputs": [
    {
     "data": {
      "text/plain": [
       "Text(0.5, 1.0, 'LGB feature importances')"
      ]
     },
     "execution_count": 15,
     "metadata": {},
     "output_type": "execute_result"
    },
    {
     "data": {
      "image/png": "[encoded data removed]",
      "text/plain": [
       "<Figure size 1152x1152 with 1 Axes>"
      ]
     },
     "metadata": {
      "needs_background": "light"
     },
     "output_type": "display_data"
    }
   ],
   "source": [
    "order = list(lgb_importances.groupby('feature').mean().sort_values('importance', ascending=False).index)\n",
    "\n",
    "fig = plt.figure(figsize=(16, 16), tight_layout=True)\n",
    "sns.barplot(x=\"importance\", y=\"feature\", data=lgb_importances.groupby('feature').mean().reset_index(), order=order)\n",
    "plt.title(\"LGB feature importances\")"
   ]
  },
  {
   "cell_type": "markdown",
   "id": "e7419335",
   "metadata": {
    "papermill": {
     "duration": 0.032694,
     "end_time": "2021-10-09T16:04:56.446969",
     "exception": false,
     "start_time": "2021-10-09T16:04:56.414275",
     "status": "completed"
    },
    "tags": []
   },
   "source": [
    "# Submission"
   ]
  },
  {
   "cell_type": "code",
   "execution_count": 16,
   "id": "fdd53226",
   "metadata": {
    "execution": {
     "iopub.execute_input": "2021-10-09T16:04:56.517785Z",
     "iopub.status.busy": "2021-10-09T16:04:56.516744Z",
     "iopub.status.idle": "2021-10-09T16:04:58.520046Z",
     "shell.execute_reply": "2021-10-09T16:04:58.520541Z",
     "shell.execute_reply.started": "2021-09-07T00:51:03.177221Z"
    },
    "papermill": {
     "duration": 2.040788,
     "end_time": "2021-10-09T16:04:58.520721",
     "exception": false,
     "start_time": "2021-10-09T16:04:56.479933",
     "status": "completed"
    },
    "tags": []
   },
   "outputs": [
    {
     "data": {
      "text/html": [
       "<div>\n",
       "<style scoped>\n",
       "    .dataframe tbody tr th:only-of-type {\n",
       "        vertical-align: middle;\n",
       "    }\n",
       "\n",
       "    .dataframe tbody tr th {\n",
       "        vertical-align: top;\n",
       "    }\n",
       "\n",
       "    .dataframe thead th {\n",
       "        text-align: right;\n",
       "    }\n",
       "</style>\n",
       "<table border=\"1\" class=\"dataframe\">\n",
       "  <thead>\n",
       "    <tr style=\"text-align: right;\">\n",
       "      <th></th>\n",
       "      <th>id</th>\n",
       "      <th>target</th>\n",
       "    </tr>\n",
       "  </thead>\n",
       "  <tbody>\n",
       "    <tr>\n",
       "      <th>0</th>\n",
       "      <td>1000000</td>\n",
       "      <td>0.143759</td>\n",
       "    </tr>\n",
       "    <tr>\n",
       "      <th>1</th>\n",
       "      <td>1000001</td>\n",
       "      <td>0.045991</td>\n",
       "    </tr>\n",
       "    <tr>\n",
       "      <th>2</th>\n",
       "      <td>1000002</td>\n",
       "      <td>0.180565</td>\n",
       "    </tr>\n",
       "    <tr>\n",
       "      <th>3</th>\n",
       "      <td>1000003</td>\n",
       "      <td>0.170625</td>\n",
       "    </tr>\n",
       "    <tr>\n",
       "      <th>4</th>\n",
       "      <td>1000004</td>\n",
       "      <td>0.050112</td>\n",
       "    </tr>\n",
       "    <tr>\n",
       "      <th>...</th>\n",
       "      <td>...</td>\n",
       "      <td>...</td>\n",
       "    </tr>\n",
       "    <tr>\n",
       "      <th>499995</th>\n",
       "      <td>1499995</td>\n",
       "      <td>0.192935</td>\n",
       "    </tr>\n",
       "    <tr>\n",
       "      <th>499996</th>\n",
       "      <td>1499996</td>\n",
       "      <td>0.165270</td>\n",
       "    </tr>\n",
       "    <tr>\n",
       "      <th>499997</th>\n",
       "      <td>1499997</td>\n",
       "      <td>0.059925</td>\n",
       "    </tr>\n",
       "    <tr>\n",
       "      <th>499998</th>\n",
       "      <td>1499998</td>\n",
       "      <td>0.102105</td>\n",
       "    </tr>\n",
       "    <tr>\n",
       "      <th>499999</th>\n",
       "      <td>1499999</td>\n",
       "      <td>0.083322</td>\n",
       "    </tr>\n",
       "  </tbody>\n",
       "</table>\n",
       "<p>500000 rows × 2 columns</p>\n",
       "</div>"
      ],
      "text/plain": [
       "             id    target\n",
       "0       1000000  0.143759\n",
       "1       1000001  0.045991\n",
       "2       1000002  0.180565\n",
       "3       1000003  0.170625\n",
       "4       1000004  0.050112\n",
       "...         ...       ...\n",
       "499995  1499995  0.192935\n",
       "499996  1499996  0.165270\n",
       "499997  1499997  0.059925\n",
       "499998  1499998  0.102105\n",
       "499999  1499999  0.083322\n",
       "\n",
       "[500000 rows x 2 columns]"
      ]
     },
     "execution_count": 16,
     "metadata": {},
     "output_type": "execute_result"
    }
   ],
   "source": [
    "submission[target] = lgb_pred\n",
    "submission.to_csv(\"submission.csv\", index=False)\n",
    "\n",
    "submission"
   ]
  },
  {
   "cell_type": "markdown",
   "id": "268fe4af",
   "metadata": {
    "papermill": {
     "duration": 0.033801,
     "end_time": "2021-10-09T16:04:58.587678",
     "exception": false,
     "start_time": "2021-10-09T16:04:58.553877",
     "status": "completed"
    },
    "tags": []
   },
   "source": [
    "# Log\n",
    "\n",
    "seeds\n",
    "\n",
    "2017 ver1\n",
    "2018 ver6 fold 0-3 ver7 fold 4 \n",
    "2019 ver3\n",
    "2020 ver4\n",
    "2021 ver5"
   ]
  }
 ],
 "metadata": {
  "kernelspec": {
   "display_name": "Python 3",
   "language": "python",
   "name": "python3"
  },
  "language_info": {
   "codemirror_mode": {
    "name": "ipython",
    "version": 3
   },
   "file_extension": ".py",
   "mimetype": "text/x-python",
   "name": "python",
   "nbconvert_exporter": "python",
   "pygments_lexer": "ipython3",
   "version": "3.7.10"
  },
  "papermill": {
   "default_parameters": {},
   "duration": 6072.53851,
   "end_time": "2021-10-09T16:05:00.625999",
   "environment_variables": {},
   "exception": null,
   "input_path": "__notebook__.ipynb",
   "output_path": "__notebook__.ipynb",
   "parameters": {},
   "start_time": "2021-10-09T14:23:48.087489",
   "version": "2.3.3"
  }
 },
 "nbformat": 4,
 "nbformat_minor": 5
}
