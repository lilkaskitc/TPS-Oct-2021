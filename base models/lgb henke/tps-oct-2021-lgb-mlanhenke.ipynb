{
 "cells": [
  {
   "cell_type": "code",
   "execution_count": 1,
   "id": "8fc2cd22",
   "metadata": {
    "_cell_guid": "b1076dfc-b9ad-4769-8c92-a6c4dae69d19",
    "_uuid": "8f2839f25d086af736a60e9eeb907d3b93b6e0e5",
    "execution": {
     "iopub.execute_input": "2021-10-05T12:43:34.451480Z",
     "iopub.status.busy": "2021-10-05T12:43:34.450206Z",
     "iopub.status.idle": "2021-10-05T12:43:37.455591Z",
     "shell.execute_reply": "2021-10-05T12:43:37.454809Z",
     "shell.execute_reply.started": "2021-10-04T14:26:29.9755Z"
    },
    "papermill": {
     "duration": 3.03934,
     "end_time": "2021-10-05T12:43:37.455745",
     "exception": false,
     "start_time": "2021-10-05T12:43:34.416405",
     "status": "completed"
    },
    "tags": []
   },
   "outputs": [
    {
     "data": {
      "text/html": [
       "<style type='text/css'>\n",
       ".datatable table.frame { margin-bottom: 0; }\n",
       ".datatable table.frame thead { border-bottom: none; }\n",
       ".datatable table.frame tr.coltypes td {  color: #FFFFFF;  line-height: 6px;  padding: 0 0.5em;}\n",
       ".datatable .bool    { background: #DDDD99; }\n",
       ".datatable .object  { background: #565656; }\n",
       ".datatable .int     { background: #5D9E5D; }\n",
       ".datatable .float   { background: #4040CC; }\n",
       ".datatable .str     { background: #CC4040; }\n",
       ".datatable .time    { background: #40CC40; }\n",
       ".datatable .row_index {  background: var(--jp-border-color3);  border-right: 1px solid var(--jp-border-color0);  color: var(--jp-ui-font-color3);  font-size: 9px;}\n",
       ".datatable .frame tbody td { text-align: left; }\n",
       ".datatable .frame tr.coltypes .row_index {  background: var(--jp-border-color0);}\n",
       ".datatable th:nth-child(2) { padding-left: 12px; }\n",
       ".datatable .hellipsis {  color: var(--jp-cell-editor-border-color);}\n",
       ".datatable .vellipsis {  background: var(--jp-layout-color0);  color: var(--jp-cell-editor-border-color);}\n",
       ".datatable .na {  color: var(--jp-cell-editor-border-color);  font-size: 80%;}\n",
       ".datatable .sp {  opacity: 0.25;}\n",
       ".datatable .footer { font-size: 9px; }\n",
       ".datatable .frame_dimensions {  background: var(--jp-border-color3);  border-top: 1px solid var(--jp-border-color0);  color: var(--jp-ui-font-color3);  display: inline-block;  opacity: 0.6;  padding: 1px 10px 1px 5px;}\n",
       "</style>\n"
      ],
      "text/plain": [
       "<IPython.core.display.HTML object>"
      ]
     },
     "metadata": {},
     "output_type": "display_data"
    }
   ],
   "source": [
    "import numpy as np\n",
    "import pandas as pd\n",
    "import random\n",
    "import os\n",
    "import time\n",
    "import pickle\n",
    "from pathlib import Path\n",
    "import gc\n",
    "\n",
    "from sklearn.preprocessing import StandardScaler\n",
    "from sklearn.model_selection import StratifiedKFold, train_test_split\n",
    "from sklearn.metrics import roc_auc_score\n",
    "\n",
    "import lightgbm as lgb\n",
    "#import xgboost as xgb\n",
    "#import catboost as ctb\n",
    "\n",
    "import matplotlib.pyplot as plt\n",
    "import seaborn as sns\n",
    "\n",
    "import warnings\n",
    "warnings.simplefilter('ignore')"
   ]
  },
  {
   "cell_type": "markdown",
   "id": "ae0cd3d1",
   "metadata": {
    "papermill": {
     "duration": 0.016235,
     "end_time": "2021-10-05T12:43:37.489377",
     "exception": false,
     "start_time": "2021-10-05T12:43:37.473142",
     "status": "completed"
    },
    "tags": []
   },
   "source": [
    "https://www.kaggle.com/mlanhenke/tps-10-single-lgbm-model/notebook\n",
    "\n",
    "ver6"
   ]
  },
  {
   "cell_type": "markdown",
   "id": "d02f5d99",
   "metadata": {
    "papermill": {
     "duration": 0.016442,
     "end_time": "2021-10-05T12:43:37.522470",
     "exception": false,
     "start_time": "2021-10-05T12:43:37.506028",
     "status": "completed"
    },
    "tags": []
   },
   "source": [
    "# Parameters"
   ]
  },
  {
   "cell_type": "code",
   "execution_count": 2,
   "id": "b233186f",
   "metadata": {
    "execution": {
     "iopub.execute_input": "2021-10-05T12:43:37.562552Z",
     "iopub.status.busy": "2021-10-05T12:43:37.562002Z",
     "iopub.status.idle": "2021-10-05T12:43:37.564951Z",
     "shell.execute_reply": "2021-10-05T12:43:37.564264Z",
     "shell.execute_reply.started": "2021-10-04T14:26:32.574861Z"
    },
    "papermill": {
     "duration": 0.025966,
     "end_time": "2021-10-05T12:43:37.565112",
     "exception": false,
     "start_time": "2021-10-05T12:43:37.539146",
     "status": "completed"
    },
    "tags": []
   },
   "outputs": [],
   "source": [
    "target = 'target'\n",
    "\n",
    "DEBUG = False\n",
    "\n",
    "if DEBUG:\n",
    "    N_ESTIMATORS = 1\n",
    "    N_SPLITS = 2\n",
    "    SEED = 2017\n",
    "    CVSEED = 2017\n",
    "    EARLY_STOPPING_ROUNDS = 1\n",
    "    VERBOSE = 100\n",
    "    #N_ITERS = 2\n",
    "else:\n",
    "    N_SPLITS = 5\n",
    "    N_ESTIMATORS = 20000\n",
    "    EARLY_STOPPING_ROUNDS = 300\n",
    "    VERBOSE = 1000\n",
    "    SEED = 2017\n",
    "    CVSEED = 2017\n",
    "    #N_ITERS = 10"
   ]
  },
  {
   "cell_type": "code",
   "execution_count": 3,
   "id": "457045ba",
   "metadata": {
    "execution": {
     "iopub.execute_input": "2021-10-05T12:43:37.617453Z",
     "iopub.status.busy": "2021-10-05T12:43:37.616797Z",
     "iopub.status.idle": "2021-10-05T12:43:37.620929Z",
     "shell.execute_reply": "2021-10-05T12:43:37.621533Z",
     "shell.execute_reply.started": "2021-10-04T14:26:32.582691Z"
    },
    "papermill": {
     "duration": 0.031784,
     "end_time": "2021-10-05T12:43:37.621718",
     "exception": false,
     "start_time": "2021-10-05T12:43:37.589934",
     "status": "completed"
    },
    "tags": []
   },
   "outputs": [],
   "source": [
    "def set_seed(seed=2017):\n",
    "    random.seed(seed)\n",
    "    os.environ['PYTHONHASHSEED'] = str(seed)\n",
    "    np.random.seed(seed)\n",
    "    \n",
    "set_seed(SEED)"
   ]
  },
  {
   "cell_type": "markdown",
   "id": "9df35846",
   "metadata": {
    "papermill": {
     "duration": 0.024106,
     "end_time": "2021-10-05T12:43:37.671169",
     "exception": false,
     "start_time": "2021-10-05T12:43:37.647063",
     "status": "completed"
    },
    "tags": []
   },
   "source": [
    "# Datasets"
   ]
  },
  {
   "cell_type": "code",
   "execution_count": 4,
   "id": "2699443a",
   "metadata": {
    "execution": {
     "iopub.execute_input": "2021-10-05T12:43:37.724190Z",
     "iopub.status.busy": "2021-10-05T12:43:37.723515Z",
     "iopub.status.idle": "2021-10-05T12:45:03.316858Z",
     "shell.execute_reply": "2021-10-05T12:45:03.316155Z",
     "shell.execute_reply.started": "2021-10-04T14:26:32.600792Z"
    },
    "papermill": {
     "duration": 85.620733,
     "end_time": "2021-10-05T12:45:03.317055",
     "exception": false,
     "start_time": "2021-10-05T12:43:37.696322",
     "status": "completed"
    },
    "tags": []
   },
   "outputs": [],
   "source": [
    "INPUT = Path(\"../input/tabular-playground-series-oct-2021\")\n",
    "\n",
    "train = pd.read_csv(INPUT / \"train.csv\")\n",
    "test = pd.read_csv(INPUT / \"test.csv\")\n",
    "submission = pd.read_csv(INPUT / \"sample_submission.csv\")"
   ]
  },
  {
   "cell_type": "code",
   "execution_count": 5,
   "id": "960ac378",
   "metadata": {
    "execution": {
     "iopub.execute_input": "2021-10-05T12:45:03.956837Z",
     "iopub.status.busy": "2021-10-05T12:45:03.773004Z",
     "iopub.status.idle": "2021-10-05T12:45:03.965216Z",
     "shell.execute_reply": "2021-10-05T12:45:03.964550Z",
     "shell.execute_reply.started": "2021-10-04T14:28:15.78371Z"
    },
    "papermill": {
     "duration": 0.620997,
     "end_time": "2021-10-05T12:45:03.965402",
     "exception": false,
     "start_time": "2021-10-05T12:45:03.344405",
     "status": "completed"
    },
    "tags": []
   },
   "outputs": [],
   "source": [
    "train = train[train.columns[1:]]\n",
    "test = test[test.columns[1:]]"
   ]
  },
  {
   "cell_type": "markdown",
   "id": "60cb2f6e",
   "metadata": {
    "papermill": {
     "duration": 0.025741,
     "end_time": "2021-10-05T12:45:04.016987",
     "exception": false,
     "start_time": "2021-10-05T12:45:03.991246",
     "status": "completed"
    },
    "tags": []
   },
   "source": [
    "# Preprocessing"
   ]
  },
  {
   "cell_type": "code",
   "execution_count": 6,
   "id": "a0fb34c2",
   "metadata": {
    "execution": {
     "iopub.execute_input": "2021-10-05T12:45:04.074034Z",
     "iopub.status.busy": "2021-10-05T12:45:04.073229Z",
     "iopub.status.idle": "2021-10-05T12:45:04.077530Z",
     "shell.execute_reply": "2021-10-05T12:45:04.076996Z",
     "shell.execute_reply.started": "2021-10-04T14:28:17.655048Z"
    },
    "papermill": {
     "duration": 0.034766,
     "end_time": "2021-10-05T12:45:04.077649",
     "exception": false,
     "start_time": "2021-10-05T12:45:04.042883",
     "status": "completed"
    },
    "tags": []
   },
   "outputs": [],
   "source": [
    "features = [col for col in train.columns if 'f' in col]"
   ]
  },
  {
   "cell_type": "code",
   "execution_count": 7,
   "id": "e0ffeb21",
   "metadata": {
    "execution": {
     "iopub.execute_input": "2021-10-05T12:45:04.463841Z",
     "iopub.status.busy": "2021-10-05T12:45:04.414777Z",
     "iopub.status.idle": "2021-10-05T12:45:04.483309Z",
     "shell.execute_reply": "2021-10-05T12:45:04.482748Z",
     "shell.execute_reply.started": "2021-10-04T14:28:17.663028Z"
    },
    "papermill": {
     "duration": 0.388419,
     "end_time": "2021-10-05T12:45:04.483426",
     "exception": false,
     "start_time": "2021-10-05T12:45:04.095007",
     "status": "completed"
    },
    "tags": []
   },
   "outputs": [],
   "source": [
    "disc_feat = [col for col in train[features].columns if train[col].dtype == 'int64']"
   ]
  },
  {
   "cell_type": "code",
   "execution_count": 8,
   "id": "57e85e0f",
   "metadata": {
    "execution": {
     "iopub.execute_input": "2021-10-05T12:45:04.569198Z",
     "iopub.status.busy": "2021-10-05T12:45:04.568671Z",
     "iopub.status.idle": "2021-10-05T12:45:04.723817Z",
     "shell.execute_reply": "2021-10-05T12:45:04.724228Z",
     "shell.execute_reply.started": "2021-10-04T14:28:18.367586Z"
    },
    "papermill": {
     "duration": 0.223832,
     "end_time": "2021-10-05T12:45:04.724379",
     "exception": false,
     "start_time": "2021-10-05T12:45:04.500547",
     "status": "completed"
    },
    "tags": []
   },
   "outputs": [],
   "source": [
    "def get_row_stats(df):\n",
    "    df['r_sum'] = df[disc_feat].mean(axis=1)\n",
    "    return df\n",
    "\n",
    "train = get_row_stats(train)\n",
    "test = get_row_stats(test)\n",
    "\n",
    "features = features + ['r_sum']"
   ]
  },
  {
   "cell_type": "code",
   "execution_count": 9,
   "id": "23a8f3ce",
   "metadata": {
    "execution": {
     "iopub.execute_input": "2021-10-05T12:45:04.773113Z",
     "iopub.status.busy": "2021-10-05T12:45:04.772580Z",
     "iopub.status.idle": "2021-10-05T12:45:04.778917Z",
     "shell.execute_reply": "2021-10-05T12:45:04.778412Z",
     "shell.execute_reply.started": "2021-10-04T14:28:18.725055Z"
    },
    "papermill": {
     "duration": 0.037866,
     "end_time": "2021-10-05T12:45:04.779035",
     "exception": false,
     "start_time": "2021-10-05T12:45:04.741169",
     "status": "completed"
    },
    "tags": []
   },
   "outputs": [],
   "source": [
    "def reduce_memory_usage(df, verbose=True):\n",
    "    numerics = [\"int8\", \"int16\", \"int32\", \"int64\", \"float16\", \"float32\", \"float64\"]\n",
    "    start_mem = df.memory_usage().sum() / 1024 ** 2\n",
    "    for col in df.columns:\n",
    "        col_type = df[col].dtypes\n",
    "        if col_type in numerics:\n",
    "            c_min = df[col].min()\n",
    "            c_max = df[col].max()\n",
    "            if str(col_type)[:3] == \"int\":\n",
    "                if c_min > np.iinfo(np.int8).min and c_max < np.iinfo(np.int8).max:\n",
    "                    df[col] = df[col].astype(np.int8)\n",
    "                elif c_min > np.iinfo(np.int16).min and c_max < np.iinfo(np.int16).max:\n",
    "                    df[col] = df[col].astype(np.int16)\n",
    "                elif c_min > np.iinfo(np.int32).min and c_max < np.iinfo(np.int32).max:\n",
    "                    df[col] = df[col].astype(np.int32)\n",
    "                elif c_min > np.iinfo(np.int64).min and c_max < np.iinfo(np.int64).max:\n",
    "                    df[col] = df[col].astype(np.int64)\n",
    "            else:\n",
    "                if (\n",
    "                    c_min > np.finfo(np.float16).min\n",
    "                    and c_max < np.finfo(np.float16).max\n",
    "                ):\n",
    "                    df[col] = df[col].astype(np.float16)\n",
    "                elif (\n",
    "                    c_min > np.finfo(np.float32).min\n",
    "                    and c_max < np.finfo(np.float32).max\n",
    "                ):\n",
    "                    df[col] = df[col].astype(np.float32)\n",
    "                else:\n",
    "                    df[col] = df[col].astype(np.float64)\n",
    "    end_mem = df.memory_usage().sum() / 1024 ** 2\n",
    "    if verbose:\n",
    "        print(\n",
    "            \"Mem. usage decreased to {:.2f} Mb ({:.1f}% reduction)\".format(\n",
    "                end_mem, 100 * (start_mem - end_mem) / start_mem\n",
    "            )\n",
    "        )\n",
    "    return df"
   ]
  },
  {
   "cell_type": "code",
   "execution_count": 10,
   "id": "26b712a1",
   "metadata": {
    "execution": {
     "iopub.execute_input": "2021-10-05T12:45:04.825309Z",
     "iopub.status.busy": "2021-10-05T12:45:04.824800Z",
     "iopub.status.idle": "2021-10-05T12:46:05.002844Z",
     "shell.execute_reply": "2021-10-05T12:46:05.003245Z",
     "shell.execute_reply.started": "2021-10-04T14:28:18.741479Z"
    },
    "papermill": {
     "duration": 60.206619,
     "end_time": "2021-10-05T12:46:05.003402",
     "exception": false,
     "start_time": "2021-10-05T12:45:04.796783",
     "status": "completed"
    },
    "tags": []
   },
   "outputs": [
    {
     "name": "stdout",
     "output_type": "stream",
     "text": [
      "Mem. usage decreased to 503.54 Mb (77.0% reduction)\n",
      "Mem. usage decreased to 251.29 Mb (77.0% reduction)\n"
     ]
    }
   ],
   "source": [
    "train = reduce_memory_usage(train)\n",
    "test = reduce_memory_usage(test)"
   ]
  },
  {
   "cell_type": "code",
   "execution_count": 11,
   "id": "dd3c583b",
   "metadata": {
    "execution": {
     "iopub.execute_input": "2021-10-05T12:46:05.049845Z",
     "iopub.status.busy": "2021-10-05T12:46:05.049175Z",
     "iopub.status.idle": "2021-10-05T12:46:05.265782Z",
     "shell.execute_reply": "2021-10-05T12:46:05.265319Z",
     "shell.execute_reply.started": "2021-10-04T14:31:11.994263Z"
    },
    "papermill": {
     "duration": 0.245238,
     "end_time": "2021-10-05T12:46:05.265925",
     "exception": false,
     "start_time": "2021-10-05T12:46:05.020687",
     "status": "completed"
    },
    "tags": []
   },
   "outputs": [
    {
     "data": {
      "text/html": [
       "<div>\n",
       "<style scoped>\n",
       "    .dataframe tbody tr th:only-of-type {\n",
       "        vertical-align: middle;\n",
       "    }\n",
       "\n",
       "    .dataframe tbody tr th {\n",
       "        vertical-align: top;\n",
       "    }\n",
       "\n",
       "    .dataframe thead th {\n",
       "        text-align: right;\n",
       "    }\n",
       "</style>\n",
       "<table border=\"1\" class=\"dataframe\">\n",
       "  <thead>\n",
       "    <tr style=\"text-align: right;\">\n",
       "      <th></th>\n",
       "      <th>f0</th>\n",
       "      <th>f1</th>\n",
       "      <th>f2</th>\n",
       "      <th>f3</th>\n",
       "      <th>f4</th>\n",
       "      <th>f5</th>\n",
       "      <th>f6</th>\n",
       "      <th>f7</th>\n",
       "      <th>f8</th>\n",
       "      <th>f9</th>\n",
       "      <th>...</th>\n",
       "      <th>f276</th>\n",
       "      <th>f277</th>\n",
       "      <th>f278</th>\n",
       "      <th>f279</th>\n",
       "      <th>f280</th>\n",
       "      <th>f281</th>\n",
       "      <th>f282</th>\n",
       "      <th>f283</th>\n",
       "      <th>f284</th>\n",
       "      <th>r_sum</th>\n",
       "    </tr>\n",
       "  </thead>\n",
       "  <tbody>\n",
       "    <tr>\n",
       "      <th>0</th>\n",
       "      <td>0.178223</td>\n",
       "      <td>0.435547</td>\n",
       "      <td>0.010231</td>\n",
       "      <td>0.202026</td>\n",
       "      <td>0.390137</td>\n",
       "      <td>0.324219</td>\n",
       "      <td>0.221680</td>\n",
       "      <td>0.738770</td>\n",
       "      <td>0.582520</td>\n",
       "      <td>0.343750</td>\n",
       "      <td>...</td>\n",
       "      <td>0</td>\n",
       "      <td>0</td>\n",
       "      <td>0</td>\n",
       "      <td>0</td>\n",
       "      <td>0</td>\n",
       "      <td>1</td>\n",
       "      <td>1</td>\n",
       "      <td>1</td>\n",
       "      <td>0</td>\n",
       "      <td>0.399902</td>\n",
       "    </tr>\n",
       "    <tr>\n",
       "      <th>1</th>\n",
       "      <td>0.181274</td>\n",
       "      <td>0.476562</td>\n",
       "      <td>0.022415</td>\n",
       "      <td>0.283203</td>\n",
       "      <td>0.598145</td>\n",
       "      <td>0.349609</td>\n",
       "      <td>0.283447</td>\n",
       "      <td>0.721680</td>\n",
       "      <td>0.269043</td>\n",
       "      <td>0.208374</td>\n",
       "      <td>...</td>\n",
       "      <td>0</td>\n",
       "      <td>0</td>\n",
       "      <td>0</td>\n",
       "      <td>0</td>\n",
       "      <td>0</td>\n",
       "      <td>0</td>\n",
       "      <td>0</td>\n",
       "      <td>0</td>\n",
       "      <td>0</td>\n",
       "      <td>0.288818</td>\n",
       "    </tr>\n",
       "    <tr>\n",
       "      <th>2</th>\n",
       "      <td>0.159668</td>\n",
       "      <td>0.451172</td>\n",
       "      <td>0.259766</td>\n",
       "      <td>0.365234</td>\n",
       "      <td>0.594727</td>\n",
       "      <td>0.413574</td>\n",
       "      <td>0.249268</td>\n",
       "      <td>0.642578</td>\n",
       "      <td>0.411133</td>\n",
       "      <td>0.246948</td>\n",
       "      <td>...</td>\n",
       "      <td>0</td>\n",
       "      <td>0</td>\n",
       "      <td>0</td>\n",
       "      <td>0</td>\n",
       "      <td>0</td>\n",
       "      <td>1</td>\n",
       "      <td>0</td>\n",
       "      <td>0</td>\n",
       "      <td>0</td>\n",
       "      <td>0.422119</td>\n",
       "    </tr>\n",
       "    <tr>\n",
       "      <th>3</th>\n",
       "      <td>0.182373</td>\n",
       "      <td>0.520996</td>\n",
       "      <td>0.095337</td>\n",
       "      <td>0.327637</td>\n",
       "      <td>0.741699</td>\n",
       "      <td>0.358643</td>\n",
       "      <td>0.270020</td>\n",
       "      <td>0.601562</td>\n",
       "      <td>0.297852</td>\n",
       "      <td>0.252930</td>\n",
       "      <td>...</td>\n",
       "      <td>0</td>\n",
       "      <td>0</td>\n",
       "      <td>0</td>\n",
       "      <td>0</td>\n",
       "      <td>1</td>\n",
       "      <td>1</td>\n",
       "      <td>0</td>\n",
       "      <td>0</td>\n",
       "      <td>0</td>\n",
       "      <td>0.355469</td>\n",
       "    </tr>\n",
       "    <tr>\n",
       "      <th>4</th>\n",
       "      <td>0.229370</td>\n",
       "      <td>0.336426</td>\n",
       "      <td>0.023514</td>\n",
       "      <td>0.301025</td>\n",
       "      <td>0.668945</td>\n",
       "      <td>0.481689</td>\n",
       "      <td>0.545898</td>\n",
       "      <td>0.667969</td>\n",
       "      <td>0.545898</td>\n",
       "      <td>0.202759</td>\n",
       "      <td>...</td>\n",
       "      <td>0</td>\n",
       "      <td>0</td>\n",
       "      <td>0</td>\n",
       "      <td>1</td>\n",
       "      <td>0</td>\n",
       "      <td>0</td>\n",
       "      <td>1</td>\n",
       "      <td>0</td>\n",
       "      <td>0</td>\n",
       "      <td>0.355469</td>\n",
       "    </tr>\n",
       "    <tr>\n",
       "      <th>...</th>\n",
       "      <td>...</td>\n",
       "      <td>...</td>\n",
       "      <td>...</td>\n",
       "      <td>...</td>\n",
       "      <td>...</td>\n",
       "      <td>...</td>\n",
       "      <td>...</td>\n",
       "      <td>...</td>\n",
       "      <td>...</td>\n",
       "      <td>...</td>\n",
       "      <td>...</td>\n",
       "      <td>...</td>\n",
       "      <td>...</td>\n",
       "      <td>...</td>\n",
       "      <td>...</td>\n",
       "      <td>...</td>\n",
       "      <td>...</td>\n",
       "      <td>...</td>\n",
       "      <td>...</td>\n",
       "      <td>...</td>\n",
       "      <td>...</td>\n",
       "    </tr>\n",
       "    <tr>\n",
       "      <th>499995</th>\n",
       "      <td>0.185425</td>\n",
       "      <td>0.525391</td>\n",
       "      <td>0.014946</td>\n",
       "      <td>0.203979</td>\n",
       "      <td>0.499023</td>\n",
       "      <td>0.431885</td>\n",
       "      <td>0.470459</td>\n",
       "      <td>0.731445</td>\n",
       "      <td>0.452148</td>\n",
       "      <td>0.211182</td>\n",
       "      <td>...</td>\n",
       "      <td>0</td>\n",
       "      <td>0</td>\n",
       "      <td>0</td>\n",
       "      <td>0</td>\n",
       "      <td>0</td>\n",
       "      <td>1</td>\n",
       "      <td>0</td>\n",
       "      <td>0</td>\n",
       "      <td>0</td>\n",
       "      <td>0.244385</td>\n",
       "    </tr>\n",
       "    <tr>\n",
       "      <th>499996</th>\n",
       "      <td>0.183228</td>\n",
       "      <td>0.553223</td>\n",
       "      <td>0.008057</td>\n",
       "      <td>0.280762</td>\n",
       "      <td>0.636719</td>\n",
       "      <td>0.478027</td>\n",
       "      <td>0.450439</td>\n",
       "      <td>0.582520</td>\n",
       "      <td>0.517090</td>\n",
       "      <td>0.225098</td>\n",
       "      <td>...</td>\n",
       "      <td>0</td>\n",
       "      <td>0</td>\n",
       "      <td>0</td>\n",
       "      <td>0</td>\n",
       "      <td>0</td>\n",
       "      <td>0</td>\n",
       "      <td>1</td>\n",
       "      <td>0</td>\n",
       "      <td>0</td>\n",
       "      <td>0.333252</td>\n",
       "    </tr>\n",
       "    <tr>\n",
       "      <th>499997</th>\n",
       "      <td>0.184692</td>\n",
       "      <td>0.533691</td>\n",
       "      <td>0.011215</td>\n",
       "      <td>0.201294</td>\n",
       "      <td>0.720703</td>\n",
       "      <td>0.472900</td>\n",
       "      <td>0.427490</td>\n",
       "      <td>0.589355</td>\n",
       "      <td>0.243896</td>\n",
       "      <td>0.413086</td>\n",
       "      <td>...</td>\n",
       "      <td>1</td>\n",
       "      <td>0</td>\n",
       "      <td>0</td>\n",
       "      <td>0</td>\n",
       "      <td>0</td>\n",
       "      <td>0</td>\n",
       "      <td>0</td>\n",
       "      <td>0</td>\n",
       "      <td>0</td>\n",
       "      <td>0.377686</td>\n",
       "    </tr>\n",
       "    <tr>\n",
       "      <th>499998</th>\n",
       "      <td>0.227783</td>\n",
       "      <td>0.513184</td>\n",
       "      <td>0.178589</td>\n",
       "      <td>0.313721</td>\n",
       "      <td>0.665527</td>\n",
       "      <td>0.401367</td>\n",
       "      <td>0.183350</td>\n",
       "      <td>0.708008</td>\n",
       "      <td>0.575195</td>\n",
       "      <td>0.152832</td>\n",
       "      <td>...</td>\n",
       "      <td>0</td>\n",
       "      <td>0</td>\n",
       "      <td>0</td>\n",
       "      <td>0</td>\n",
       "      <td>0</td>\n",
       "      <td>1</td>\n",
       "      <td>0</td>\n",
       "      <td>0</td>\n",
       "      <td>0</td>\n",
       "      <td>0.155518</td>\n",
       "    </tr>\n",
       "    <tr>\n",
       "      <th>499999</th>\n",
       "      <td>0.185547</td>\n",
       "      <td>0.406250</td>\n",
       "      <td>0.097595</td>\n",
       "      <td>0.327148</td>\n",
       "      <td>0.655273</td>\n",
       "      <td>0.384033</td>\n",
       "      <td>0.330811</td>\n",
       "      <td>0.747559</td>\n",
       "      <td>0.409912</td>\n",
       "      <td>0.294434</td>\n",
       "      <td>...</td>\n",
       "      <td>0</td>\n",
       "      <td>0</td>\n",
       "      <td>0</td>\n",
       "      <td>0</td>\n",
       "      <td>1</td>\n",
       "      <td>0</td>\n",
       "      <td>0</td>\n",
       "      <td>0</td>\n",
       "      <td>0</td>\n",
       "      <td>0.377686</td>\n",
       "    </tr>\n",
       "  </tbody>\n",
       "</table>\n",
       "<p>500000 rows × 286 columns</p>\n",
       "</div>"
      ],
      "text/plain": [
       "              f0        f1        f2        f3        f4        f5        f6  \\\n",
       "0       0.178223  0.435547  0.010231  0.202026  0.390137  0.324219  0.221680   \n",
       "1       0.181274  0.476562  0.022415  0.283203  0.598145  0.349609  0.283447   \n",
       "2       0.159668  0.451172  0.259766  0.365234  0.594727  0.413574  0.249268   \n",
       "3       0.182373  0.520996  0.095337  0.327637  0.741699  0.358643  0.270020   \n",
       "4       0.229370  0.336426  0.023514  0.301025  0.668945  0.481689  0.545898   \n",
       "...          ...       ...       ...       ...       ...       ...       ...   \n",
       "499995  0.185425  0.525391  0.014946  0.203979  0.499023  0.431885  0.470459   \n",
       "499996  0.183228  0.553223  0.008057  0.280762  0.636719  0.478027  0.450439   \n",
       "499997  0.184692  0.533691  0.011215  0.201294  0.720703  0.472900  0.427490   \n",
       "499998  0.227783  0.513184  0.178589  0.313721  0.665527  0.401367  0.183350   \n",
       "499999  0.185547  0.406250  0.097595  0.327148  0.655273  0.384033  0.330811   \n",
       "\n",
       "              f7        f8        f9  ...  f276  f277  f278  f279  f280  f281  \\\n",
       "0       0.738770  0.582520  0.343750  ...     0     0     0     0     0     1   \n",
       "1       0.721680  0.269043  0.208374  ...     0     0     0     0     0     0   \n",
       "2       0.642578  0.411133  0.246948  ...     0     0     0     0     0     1   \n",
       "3       0.601562  0.297852  0.252930  ...     0     0     0     0     1     1   \n",
       "4       0.667969  0.545898  0.202759  ...     0     0     0     1     0     0   \n",
       "...          ...       ...       ...  ...   ...   ...   ...   ...   ...   ...   \n",
       "499995  0.731445  0.452148  0.211182  ...     0     0     0     0     0     1   \n",
       "499996  0.582520  0.517090  0.225098  ...     0     0     0     0     0     0   \n",
       "499997  0.589355  0.243896  0.413086  ...     1     0     0     0     0     0   \n",
       "499998  0.708008  0.575195  0.152832  ...     0     0     0     0     0     1   \n",
       "499999  0.747559  0.409912  0.294434  ...     0     0     0     0     1     0   \n",
       "\n",
       "        f282  f283  f284     r_sum  \n",
       "0          1     1     0  0.399902  \n",
       "1          0     0     0  0.288818  \n",
       "2          0     0     0  0.422119  \n",
       "3          0     0     0  0.355469  \n",
       "4          1     0     0  0.355469  \n",
       "...      ...   ...   ...       ...  \n",
       "499995     0     0     0  0.244385  \n",
       "499996     1     0     0  0.333252  \n",
       "499997     0     0     0  0.377686  \n",
       "499998     0     0     0  0.155518  \n",
       "499999     0     0     0  0.377686  \n",
       "\n",
       "[500000 rows x 286 columns]"
      ]
     },
     "execution_count": 11,
     "metadata": {},
     "output_type": "execute_result"
    }
   ],
   "source": [
    "test[features]"
   ]
  },
  {
   "cell_type": "code",
   "execution_count": 12,
   "id": "6da566bc",
   "metadata": {
    "execution": {
     "iopub.execute_input": "2021-10-05T12:46:05.311878Z",
     "iopub.status.busy": "2021-10-05T12:46:05.311194Z",
     "iopub.status.idle": "2021-10-05T12:46:05.316577Z",
     "shell.execute_reply": "2021-10-05T12:46:05.316089Z",
     "shell.execute_reply.started": "2021-10-04T14:31:12.584295Z"
    },
    "papermill": {
     "duration": 0.032281,
     "end_time": "2021-10-05T12:46:05.316700",
     "exception": false,
     "start_time": "2021-10-05T12:46:05.284419",
     "status": "completed"
    },
    "tags": []
   },
   "outputs": [
    {
     "data": {
      "text/plain": [
       "0         1\n",
       "1         1\n",
       "2         1\n",
       "3         1\n",
       "4         1\n",
       "         ..\n",
       "999995    1\n",
       "999996    0\n",
       "999997    0\n",
       "999998    1\n",
       "999999    0\n",
       "Name: target, Length: 1000000, dtype: int8"
      ]
     },
     "execution_count": 12,
     "metadata": {},
     "output_type": "execute_result"
    }
   ],
   "source": [
    "train[target]"
   ]
  },
  {
   "cell_type": "markdown",
   "id": "ad6f5b08",
   "metadata": {
    "papermill": {
     "duration": 0.018296,
     "end_time": "2021-10-05T12:46:05.354104",
     "exception": false,
     "start_time": "2021-10-05T12:46:05.335808",
     "status": "completed"
    },
    "tags": []
   },
   "source": [
    "# LGB"
   ]
  },
  {
   "cell_type": "code",
   "execution_count": 13,
   "id": "3366b332",
   "metadata": {
    "execution": {
     "iopub.execute_input": "2021-10-05T12:46:05.397158Z",
     "iopub.status.busy": "2021-10-05T12:46:05.396620Z",
     "iopub.status.idle": "2021-10-05T12:46:05.400406Z",
     "shell.execute_reply": "2021-10-05T12:46:05.400008Z",
     "shell.execute_reply.started": "2021-09-07T00:44:32.516352Z"
    },
    "papermill": {
     "duration": 0.027921,
     "end_time": "2021-10-05T12:46:05.400534",
     "exception": false,
     "start_time": "2021-10-05T12:46:05.372613",
     "status": "completed"
    },
    "tags": []
   },
   "outputs": [],
   "source": [
    "lgb_params = {\n",
    "     'objective': 'binary',\n",
    "     'n_estimators':N_ESTIMATORS,\n",
    "     #'importance_type': 'gain',\n",
    "     #'metric':'auc',\n",
    "     #'boosting_type': 'gbdt',\n",
    "     'n_jobs' : -1,\n",
    "     \n",
    "        \n",
    "    'learning_rate':  0.01, \n",
    "    'min_child_weight': 256,\n",
    "    'min_child_samples': 20, \n",
    "    'reg_alpha': 10, \n",
    "    'reg_lambda': 0.1, \n",
    "    'subsample': 0.6, \n",
    "    'subsample_freq': 1, \n",
    "    'colsample_bytree': 0.4,\n",
    "}"
   ]
  },
  {
   "cell_type": "code",
   "execution_count": 14,
   "id": "44960cb6",
   "metadata": {
    "execution": {
     "iopub.execute_input": "2021-10-05T12:46:05.457674Z",
     "iopub.status.busy": "2021-10-05T12:46:05.451643Z",
     "iopub.status.idle": "2021-10-05T17:48:02.526333Z",
     "shell.execute_reply": "2021-10-05T17:48:02.526921Z",
     "shell.execute_reply.started": "2021-09-07T00:48:20.356186Z"
    },
    "papermill": {
     "duration": 18117.107955,
     "end_time": "2021-10-05T17:48:02.527180",
     "exception": false,
     "start_time": "2021-10-05T12:46:05.419225",
     "status": "completed"
    },
    "tags": []
   },
   "outputs": [
    {
     "name": "stdout",
     "output_type": "stream",
     "text": [
      "===== fold 0 =====\n",
      "Training until validation scores don't improve for 300 rounds\n",
      "[1000]\tvalid_0's auc: 0.849108\tvalid_0's binary_logloss: 0.482017\n",
      "[2000]\tvalid_0's auc: 0.853999\tvalid_0's binary_logloss: 0.472304\n",
      "[3000]\tvalid_0's auc: 0.855565\tvalid_0's binary_logloss: 0.468902\n",
      "[4000]\tvalid_0's auc: 0.856153\tvalid_0's binary_logloss: 0.467454\n",
      "[5000]\tvalid_0's auc: 0.856335\tvalid_0's binary_logloss: 0.466903\n",
      "[6000]\tvalid_0's auc: 0.856358\tvalid_0's binary_logloss: 0.466721\n",
      "Early stopping, best iteration is:\n",
      "[5760]\tvalid_0's auc: 0.856374\tvalid_0's binary_logloss: 0.466723\n",
      "Training until validation scores don't improve for 300 rounds\n",
      "[6000]\tvalid_0's auc: 0.856374\tvalid_0's binary_logloss: 0.46672\n",
      "[7000]\tvalid_0's auc: 0.856377\tvalid_0's binary_logloss: 0.466705\n",
      "[8000]\tvalid_0's auc: 0.856379\tvalid_0's binary_logloss: 0.466691\n",
      "Early stopping, best iteration is:\n",
      "[7951]\tvalid_0's auc: 0.856379\tvalid_0's binary_logloss: 0.466691\n",
      "fold 0 - lgb auc: 0.856379, elapsed time: 3746.21sec\n",
      "\n",
      "===== fold 1 =====\n",
      "Training until validation scores don't improve for 300 rounds\n",
      "[1000]\tvalid_0's auc: 0.850615\tvalid_0's binary_logloss: 0.480203\n",
      "[2000]\tvalid_0's auc: 0.855378\tvalid_0's binary_logloss: 0.470544\n",
      "[3000]\tvalid_0's auc: 0.856912\tvalid_0's binary_logloss: 0.467089\n",
      "[4000]\tvalid_0's auc: 0.857497\tvalid_0's binary_logloss: 0.465643\n",
      "[5000]\tvalid_0's auc: 0.857675\tvalid_0's binary_logloss: 0.465064\n",
      "[6000]\tvalid_0's auc: 0.857709\tvalid_0's binary_logloss: 0.464855\n",
      "Early stopping, best iteration is:\n",
      "[6062]\tvalid_0's auc: 0.857715\tvalid_0's binary_logloss: 0.464839\n",
      "Training until validation scores don't improve for 300 rounds\n",
      "Early stopping, best iteration is:\n",
      "[6065]\tvalid_0's auc: 0.857715\tvalid_0's binary_logloss: 0.464839\n",
      "fold 1 - lgb auc: 0.857715, elapsed time: 3015.53sec\n",
      "\n",
      "===== fold 2 =====\n",
      "Training until validation scores don't improve for 300 rounds\n",
      "[1000]\tvalid_0's auc: 0.850887\tvalid_0's binary_logloss: 0.47982\n",
      "[2000]\tvalid_0's auc: 0.855823\tvalid_0's binary_logloss: 0.469971\n",
      "[3000]\tvalid_0's auc: 0.857463\tvalid_0's binary_logloss: 0.466437\n",
      "[4000]\tvalid_0's auc: 0.858055\tvalid_0's binary_logloss: 0.464957\n",
      "[5000]\tvalid_0's auc: 0.858261\tvalid_0's binary_logloss: 0.464354\n",
      "[6000]\tvalid_0's auc: 0.858305\tvalid_0's binary_logloss: 0.46413\n",
      "Early stopping, best iteration is:\n",
      "[5814]\tvalid_0's auc: 0.858311\tvalid_0's binary_logloss: 0.464145\n",
      "Training until validation scores don't improve for 300 rounds\n",
      "[6000]\tvalid_0's auc: 0.858312\tvalid_0's binary_logloss: 0.464142\n",
      "[7000]\tvalid_0's auc: 0.858316\tvalid_0's binary_logloss: 0.464123\n",
      "[8000]\tvalid_0's auc: 0.85832\tvalid_0's binary_logloss: 0.464107\n",
      "[9000]\tvalid_0's auc: 0.858322\tvalid_0's binary_logloss: 0.464093\n",
      "Early stopping, best iteration is:\n",
      "[9057]\tvalid_0's auc: 0.858324\tvalid_0's binary_logloss: 0.46409\n",
      "fold 2 - lgb auc: 0.858324, elapsed time: 4199.86sec\n",
      "\n",
      "===== fold 3 =====\n",
      "Training until validation scores don't improve for 300 rounds\n",
      "[1000]\tvalid_0's auc: 0.849332\tvalid_0's binary_logloss: 0.481646\n",
      "[2000]\tvalid_0's auc: 0.854269\tvalid_0's binary_logloss: 0.471826\n",
      "[3000]\tvalid_0's auc: 0.855874\tvalid_0's binary_logloss: 0.468343\n",
      "[4000]\tvalid_0's auc: 0.856485\tvalid_0's binary_logloss: 0.466897\n",
      "[5000]\tvalid_0's auc: 0.85668\tvalid_0's binary_logloss: 0.466316\n",
      "[6000]\tvalid_0's auc: 0.856727\tvalid_0's binary_logloss: 0.466102\n",
      "Early stopping, best iteration is:\n",
      "[6193]\tvalid_0's auc: 0.85674\tvalid_0's binary_logloss: 0.466065\n",
      "Training until validation scores don't improve for 300 rounds\n",
      "Early stopping, best iteration is:\n",
      "[6563]\tvalid_0's auc: 0.856741\tvalid_0's binary_logloss: 0.46606\n",
      "fold 3 - lgb auc: 0.856741, elapsed time: 3286.40sec\n",
      "\n",
      "===== fold 4 =====\n",
      "Training until validation scores don't improve for 300 rounds\n",
      "[1000]\tvalid_0's auc: 0.849564\tvalid_0's binary_logloss: 0.481404\n",
      "[2000]\tvalid_0's auc: 0.854352\tvalid_0's binary_logloss: 0.471769\n",
      "[3000]\tvalid_0's auc: 0.855911\tvalid_0's binary_logloss: 0.46842\n",
      "[4000]\tvalid_0's auc: 0.856456\tvalid_0's binary_logloss: 0.467037\n",
      "[5000]\tvalid_0's auc: 0.85659\tvalid_0's binary_logloss: 0.466543\n",
      "Early stopping, best iteration is:\n",
      "[5526]\tvalid_0's auc: 0.856616\tvalid_0's binary_logloss: 0.466419\n",
      "Training until validation scores don't improve for 300 rounds\n",
      "[6000]\tvalid_0's auc: 0.856618\tvalid_0's binary_logloss: 0.466411\n",
      "[7000]\tvalid_0's auc: 0.856621\tvalid_0's binary_logloss: 0.466393\n",
      "[8000]\tvalid_0's auc: 0.856625\tvalid_0's binary_logloss: 0.466375\n",
      "Early stopping, best iteration is:\n",
      "[8228]\tvalid_0's auc: 0.856626\tvalid_0's binary_logloss: 0.466372\n",
      "fold 4 - lgb auc: 0.856626, elapsed time: 3849.46sec\n",
      "\n",
      "oof lgb_auc = 0.8571568961869236\n"
     ]
    }
   ],
   "source": [
    "lgb_oof = np.zeros(train.shape[0])\n",
    "lgb_pred = np.zeros(test.shape[0])\n",
    "lgb_importances = pd.DataFrame()\n",
    "\n",
    "X_test = test[features]\n",
    "del test\n",
    "gc.collect()\n",
    "\n",
    "\n",
    "kf = StratifiedKFold(n_splits=N_SPLITS, shuffle=True, random_state=CVSEED)\n",
    "seed_list=[SEED+4]\n",
    "\n",
    "for fold, (trn_idx, val_idx) in enumerate(kf.split(X=train[features], y=train[target])):\n",
    "    print(f\"===== fold {fold} =====\")\n",
    "    if fold <12:\n",
    "        \n",
    "        X_train = train[features].iloc[trn_idx]\n",
    "        y_train = train[target].iloc[trn_idx]\n",
    "        X_valid = train[features].iloc[val_idx]\n",
    "        y_valid = train[target].iloc[val_idx]\n",
    "        \n",
    "\n",
    "\n",
    "        start = time.time()\n",
    "        for inseed in seed_list:\n",
    "            lgb_params['random_state'] = inseed\n",
    "\n",
    "            pre_model = lgb.LGBMClassifier(**lgb_params)\n",
    "            pre_model.fit(\n",
    "                X_train, \n",
    "                y_train,\n",
    "                eval_set=[(X_valid, y_valid)],\n",
    "                eval_metric='auc',\n",
    "                categorical_feature= disc_feat,\n",
    "                early_stopping_rounds=EARLY_STOPPING_ROUNDS,\n",
    "                verbose=VERBOSE,\n",
    "            )\n",
    "\n",
    "            lgb_params2 = lgb_params.copy()\n",
    "            lgb_params2['reg_lambda'] *= 0.9\n",
    "            lgb_params2['reg_alpha'] *= 0.9\n",
    "            lgb_params2['learning_rate'] *= 0.1\n",
    "            model = lgb.LGBMClassifier(**lgb_params2)\n",
    "            model.fit(\n",
    "                    X_train, y_train,\n",
    "                    eval_set=[(X_valid, y_valid)],\n",
    "                    eval_metric='auc',\n",
    "                    categorical_feature= disc_feat,\n",
    "                    early_stopping_rounds=EARLY_STOPPING_ROUNDS,\n",
    "                    verbose=VERBOSE,\n",
    "                    init_model=pre_model\n",
    "            )    \n",
    "\n",
    "            with open(f\"lgb_model{fold}_seed{inseed}.pkl\", 'wb') as f:\n",
    "                pickle.dump(model, f)\n",
    "\n",
    "            fi_tmp = pd.DataFrame()\n",
    "            fi_tmp['feature'] = X_train.columns\n",
    "            fi_tmp['importance'] = model.feature_importances_\n",
    "            fi_tmp['fold'] = fold\n",
    "            fi_tmp['seed'] = inseed\n",
    "            lgb_importances = lgb_importances.append(fi_tmp)\n",
    "\n",
    "            lgb_oof[val_idx] += model.predict_proba(X_valid)[:,-1] / len(seed_list)\n",
    "            lgb_pred += model.predict_proba(X_test)[:,-1] / len(seed_list)\n",
    "            \n",
    "            del pre_model\n",
    "            del model\n",
    "            gc.collect()\n",
    "\n",
    "\n",
    "        elapsed = time.time() - start\n",
    "        auc = roc_auc_score(y_valid, lgb_oof[val_idx])\n",
    "        print(f\"fold {fold} - lgb auc: {auc:.6f}, elapsed time: {elapsed:.2f}sec\\n\")\n",
    "        \n",
    "        del X_train\n",
    "        del y_train\n",
    "        del X_valid\n",
    "        del y_valid\n",
    "        gc.collect()\n",
    "\n",
    "\n",
    "del X_test\n",
    "gc.collect()\n",
    "\n",
    "lgb_pred /= N_SPLITS\n",
    "print(f\"oof lgb_auc = {roc_auc_score(train[target], lgb_oof)}\")\n",
    "\n",
    "np.save(\"lgb_oof.npy\", lgb_oof)\n",
    "np.save(\"lgb_pred.npy\", lgb_pred)"
   ]
  },
  {
   "cell_type": "markdown",
   "id": "90c0ae99",
   "metadata": {
    "papermill": {
     "duration": 0.055879,
     "end_time": "2021-10-05T17:48:02.640126",
     "exception": false,
     "start_time": "2021-10-05T17:48:02.584247",
     "status": "completed"
    },
    "tags": []
   },
   "source": [
    "# OOF predictions"
   ]
  },
  {
   "cell_type": "code",
   "execution_count": 15,
   "id": "84f83569",
   "metadata": {
    "execution": {
     "iopub.execute_input": "2021-10-05T17:48:02.775571Z",
     "iopub.status.busy": "2021-10-05T17:48:02.774699Z",
     "iopub.status.idle": "2021-10-05T17:48:07.613796Z",
     "shell.execute_reply": "2021-10-05T17:48:07.613107Z",
     "shell.execute_reply.started": "2021-09-07T00:50:57.432219Z"
    },
    "papermill": {
     "duration": 4.919263,
     "end_time": "2021-10-05T17:48:07.613979",
     "exception": false,
     "start_time": "2021-10-05T17:48:02.694716",
     "status": "completed"
    },
    "tags": []
   },
   "outputs": [
    {
     "data": {
      "text/plain": [
       "<matplotlib.collections.PathCollection at 0x7f8d3159ca10>"
      ]
     },
     "execution_count": 15,
     "metadata": {},
     "output_type": "execute_result"
    },
    {
     "data": {
      "image/png": "[encoded data removed]",
      "text/plain": [
       "<Figure size 432x288 with 1 Axes>"
      ]
     },
     "metadata": {
      "needs_background": "light"
     },
     "output_type": "display_data"
    }
   ],
   "source": [
    "plt.plot(train[target], train[target])\n",
    "plt.scatter(train[target], lgb_oof)"
   ]
  },
  {
   "cell_type": "code",
   "execution_count": 16,
   "id": "874206aa",
   "metadata": {
    "execution": {
     "iopub.execute_input": "2021-10-05T17:48:07.931539Z",
     "iopub.status.busy": "2021-10-05T17:48:07.930690Z",
     "iopub.status.idle": "2021-10-05T17:48:07.938117Z",
     "shell.execute_reply": "2021-10-05T17:48:07.938539Z"
    },
    "papermill": {
     "duration": 0.269685,
     "end_time": "2021-10-05T17:48:07.938714",
     "exception": false,
     "start_time": "2021-10-05T17:48:07.669029",
     "status": "completed"
    },
    "tags": []
   },
   "outputs": [
    {
     "data": {
      "text/plain": [
       "20"
      ]
     },
     "execution_count": 16,
     "metadata": {},
     "output_type": "execute_result"
    }
   ],
   "source": [
    "del train\n",
    "del lgb_oof\n",
    "gc.collect()"
   ]
  },
  {
   "cell_type": "markdown",
   "id": "e7ab6e25",
   "metadata": {
    "papermill": {
     "duration": 0.038075,
     "end_time": "2021-10-05T17:48:08.014359",
     "exception": false,
     "start_time": "2021-10-05T17:48:07.976284",
     "status": "completed"
    },
    "tags": []
   },
   "source": [
    "# Features importances"
   ]
  },
  {
   "cell_type": "code",
   "execution_count": 17,
   "id": "9ea0b1b9",
   "metadata": {
    "execution": {
     "iopub.execute_input": "2021-10-05T17:48:08.110795Z",
     "iopub.status.busy": "2021-10-05T17:48:08.101044Z",
     "iopub.status.idle": "2021-10-05T17:48:13.247762Z",
     "shell.execute_reply": "2021-10-05T17:48:13.248200Z",
     "shell.execute_reply.started": "2021-09-07T00:51:01.011128Z"
    },
    "papermill": {
     "duration": 5.196304,
     "end_time": "2021-10-05T17:48:13.248372",
     "exception": false,
     "start_time": "2021-10-05T17:48:08.052068",
     "status": "completed"
    },
    "tags": []
   },
   "outputs": [
    {
     "data": {
      "text/plain": [
       "Text(0.5, 1.0, 'LGB feature importances')"
      ]
     },
     "execution_count": 17,
     "metadata": {},
     "output_type": "execute_result"
    },
    {
     "data": {
      "image/png": "[encoded data removed]",
      "text/plain": [
       "<Figure size 1152x1152 with 1 Axes>"
      ]
     },
     "metadata": {
      "needs_background": "light"
     },
     "output_type": "display_data"
    }
   ],
   "source": [
    "order = list(lgb_importances.groupby('feature').mean().sort_values('importance', ascending=False).index)\n",
    "\n",
    "fig = plt.figure(figsize=(16, 16), tight_layout=True)\n",
    "sns.barplot(x=\"importance\", y=\"feature\", data=lgb_importances.groupby('feature').mean().reset_index(), order=order)\n",
    "plt.title(\"LGB feature importances\")"
   ]
  },
  {
   "cell_type": "markdown",
   "id": "3a4b1267",
   "metadata": {
    "papermill": {
     "duration": 0.039134,
     "end_time": "2021-10-05T17:48:13.327254",
     "exception": false,
     "start_time": "2021-10-05T17:48:13.288120",
     "status": "completed"
    },
    "tags": []
   },
   "source": [
    "# Submission"
   ]
  },
  {
   "cell_type": "code",
   "execution_count": 18,
   "id": "3822e387",
   "metadata": {
    "execution": {
     "iopub.execute_input": "2021-10-05T17:48:13.413627Z",
     "iopub.status.busy": "2021-10-05T17:48:13.413065Z",
     "iopub.status.idle": "2021-10-05T17:48:15.160861Z",
     "shell.execute_reply": "2021-10-05T17:48:15.160356Z",
     "shell.execute_reply.started": "2021-09-07T00:51:03.177221Z"
    },
    "papermill": {
     "duration": 1.79151,
     "end_time": "2021-10-05T17:48:15.161016",
     "exception": false,
     "start_time": "2021-10-05T17:48:13.369506",
     "status": "completed"
    },
    "tags": []
   },
   "outputs": [
    {
     "data": {
      "text/html": [
       "<div>\n",
       "<style scoped>\n",
       "    .dataframe tbody tr th:only-of-type {\n",
       "        vertical-align: middle;\n",
       "    }\n",
       "\n",
       "    .dataframe tbody tr th {\n",
       "        vertical-align: top;\n",
       "    }\n",
       "\n",
       "    .dataframe thead th {\n",
       "        text-align: right;\n",
       "    }\n",
       "</style>\n",
       "<table border=\"1\" class=\"dataframe\">\n",
       "  <thead>\n",
       "    <tr style=\"text-align: right;\">\n",
       "      <th></th>\n",
       "      <th>id</th>\n",
       "      <th>target</th>\n",
       "    </tr>\n",
       "  </thead>\n",
       "  <tbody>\n",
       "    <tr>\n",
       "      <th>0</th>\n",
       "      <td>1000000</td>\n",
       "      <td>0.726242</td>\n",
       "    </tr>\n",
       "    <tr>\n",
       "      <th>1</th>\n",
       "      <td>1000001</td>\n",
       "      <td>0.245428</td>\n",
       "    </tr>\n",
       "    <tr>\n",
       "      <th>2</th>\n",
       "      <td>1000002</td>\n",
       "      <td>0.910781</td>\n",
       "    </tr>\n",
       "    <tr>\n",
       "      <th>3</th>\n",
       "      <td>1000003</td>\n",
       "      <td>0.830312</td>\n",
       "    </tr>\n",
       "    <tr>\n",
       "      <th>4</th>\n",
       "      <td>1000004</td>\n",
       "      <td>0.269478</td>\n",
       "    </tr>\n",
       "    <tr>\n",
       "      <th>...</th>\n",
       "      <td>...</td>\n",
       "      <td>...</td>\n",
       "    </tr>\n",
       "    <tr>\n",
       "      <th>499995</th>\n",
       "      <td>1499995</td>\n",
       "      <td>0.975618</td>\n",
       "    </tr>\n",
       "    <tr>\n",
       "      <th>499996</th>\n",
       "      <td>1499996</td>\n",
       "      <td>0.841009</td>\n",
       "    </tr>\n",
       "    <tr>\n",
       "      <th>499997</th>\n",
       "      <td>1499997</td>\n",
       "      <td>0.284486</td>\n",
       "    </tr>\n",
       "    <tr>\n",
       "      <th>499998</th>\n",
       "      <td>1499998</td>\n",
       "      <td>0.493857</td>\n",
       "    </tr>\n",
       "    <tr>\n",
       "      <th>499999</th>\n",
       "      <td>1499999</td>\n",
       "      <td>0.424570</td>\n",
       "    </tr>\n",
       "  </tbody>\n",
       "</table>\n",
       "<p>500000 rows × 2 columns</p>\n",
       "</div>"
      ],
      "text/plain": [
       "             id    target\n",
       "0       1000000  0.726242\n",
       "1       1000001  0.245428\n",
       "2       1000002  0.910781\n",
       "3       1000003  0.830312\n",
       "4       1000004  0.269478\n",
       "...         ...       ...\n",
       "499995  1499995  0.975618\n",
       "499996  1499996  0.841009\n",
       "499997  1499997  0.284486\n",
       "499998  1499998  0.493857\n",
       "499999  1499999  0.424570\n",
       "\n",
       "[500000 rows x 2 columns]"
      ]
     },
     "execution_count": 18,
     "metadata": {},
     "output_type": "execute_result"
    }
   ],
   "source": [
    "submission[target] = lgb_pred\n",
    "submission.to_csv(\"submission.csv\", index=False)\n",
    "\n",
    "submission"
   ]
  },
  {
   "cell_type": "markdown",
   "id": "4ae351a9",
   "metadata": {
    "papermill": {
     "duration": 0.039239,
     "end_time": "2021-10-05T17:48:15.241428",
     "exception": false,
     "start_time": "2021-10-05T17:48:15.202189",
     "status": "completed"
    },
    "tags": []
   },
   "source": [
    "# Log\n",
    "\n",
    "seeds\n",
    "\n",
    "2017 ver3\n",
    "2018 ver4\n",
    "2019 ver5\n",
    "2020 ver6\n",
    "2021 ver7"
   ]
  }
 ],
 "metadata": {
  "kernelspec": {
   "display_name": "Python 3",
   "language": "python",
   "name": "python3"
  },
  "language_info": {
   "codemirror_mode": {
    "name": "ipython",
    "version": 3
   },
   "file_extension": ".py",
   "mimetype": "text/x-python",
   "name": "python",
   "nbconvert_exporter": "python",
   "pygments_lexer": "ipython3",
   "version": "3.7.10"
  },
  "papermill": {
   "default_parameters": {},
   "duration": 18293.089018,
   "end_time": "2021-10-05T17:48:17.353651",
   "environment_variables": {},
   "exception": null,
   "input_path": "__notebook__.ipynb",
   "output_path": "__notebook__.ipynb",
   "parameters": {},
   "start_time": "2021-10-05T12:43:24.264633",
   "version": "2.3.3"
  }
 },
 "nbformat": 4,
 "nbformat_minor": 5
}
