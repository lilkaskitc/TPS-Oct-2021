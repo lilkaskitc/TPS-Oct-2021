{
 "cells": [
  {
   "cell_type": "code",
   "execution_count": 1,
   "id": "2741c397",
   "metadata": {
    "_cell_guid": "b1076dfc-b9ad-4769-8c92-a6c4dae69d19",
    "_uuid": "8f2839f25d086af736a60e9eeb907d3b93b6e0e5",
    "execution": {
     "iopub.execute_input": "2021-10-07T02:27:41.139214Z",
     "iopub.status.busy": "2021-10-07T02:27:41.138514Z",
     "iopub.status.idle": "2021-10-07T02:27:42.266784Z",
     "shell.execute_reply": "2021-10-07T02:27:42.266045Z",
     "shell.execute_reply.started": "2021-10-04T07:17:37.625191Z"
    },
    "papermill": {
     "duration": 1.161529,
     "end_time": "2021-10-07T02:27:42.266985",
     "exception": false,
     "start_time": "2021-10-07T02:27:41.105456",
     "status": "completed"
    },
    "tags": []
   },
   "outputs": [],
   "source": [
    "import numpy as np\n",
    "import pandas as pd\n",
    "import random\n",
    "import os\n",
    "import time\n",
    "import pickle\n",
    "from pathlib import Path\n",
    "import gc\n",
    "\n",
    "from sklearn.preprocessing import StandardScaler\n",
    "from sklearn.model_selection import StratifiedKFold, train_test_split\n",
    "from sklearn.metrics import roc_auc_score\n",
    "\n",
    "#import lightgbm as lgb\n",
    "import xgboost as xgb\n",
    "#import catboost as ctb\n",
    "\n",
    "import matplotlib.pyplot as plt\n",
    "import seaborn as sns\n",
    "\n",
    "import warnings\n",
    "warnings.simplefilter('ignore')"
   ]
  },
  {
   "cell_type": "markdown",
   "id": "d7cab796",
   "metadata": {
    "papermill": {
     "duration": 0.019629,
     "end_time": "2021-10-07T02:27:42.306980",
     "exception": false,
     "start_time": "2021-10-07T02:27:42.287351",
     "status": "completed"
    },
    "tags": []
   },
   "source": [
    "# Parameters"
   ]
  },
  {
   "cell_type": "code",
   "execution_count": 2,
   "id": "590a2e36",
   "metadata": {
    "execution": {
     "iopub.execute_input": "2021-10-07T02:27:42.353220Z",
     "iopub.status.busy": "2021-10-07T02:27:42.352519Z",
     "iopub.status.idle": "2021-10-07T02:27:42.355826Z",
     "shell.execute_reply": "2021-10-07T02:27:42.355299Z",
     "shell.execute_reply.started": "2021-10-04T07:17:38.959998Z"
    },
    "papermill": {
     "duration": 0.028937,
     "end_time": "2021-10-07T02:27:42.355996",
     "exception": false,
     "start_time": "2021-10-07T02:27:42.327059",
     "status": "completed"
    },
    "tags": []
   },
   "outputs": [],
   "source": [
    "target = 'target'\n",
    "\n",
    "DEBUG = False\n",
    "\n",
    "if DEBUG:\n",
    "    N_ESTIMATORS = 1\n",
    "    N_SPLITS = 2\n",
    "    SEED = 2017\n",
    "    CVSEED = 2017\n",
    "    EARLY_STOPPING_ROUNDS = 1\n",
    "    VERBOSE = 100\n",
    "    #N_ITERS = 2\n",
    "else:\n",
    "    N_SPLITS = 5\n",
    "    N_ESTIMATORS = 20000\n",
    "    EARLY_STOPPING_ROUNDS = 300\n",
    "    VERBOSE = 1000\n",
    "    SEED = 2017\n",
    "    CVSEED = 2017\n",
    "    #N_ITERS = 10"
   ]
  },
  {
   "cell_type": "code",
   "execution_count": 3,
   "id": "b5886afb",
   "metadata": {
    "execution": {
     "iopub.execute_input": "2021-10-07T02:27:42.403467Z",
     "iopub.status.busy": "2021-10-07T02:27:42.402510Z",
     "iopub.status.idle": "2021-10-07T02:27:42.406044Z",
     "shell.execute_reply": "2021-10-07T02:27:42.406688Z",
     "shell.execute_reply.started": "2021-10-04T07:17:38.969573Z"
    },
    "papermill": {
     "duration": 0.031196,
     "end_time": "2021-10-07T02:27:42.406887",
     "exception": false,
     "start_time": "2021-10-07T02:27:42.375691",
     "status": "completed"
    },
    "tags": []
   },
   "outputs": [],
   "source": [
    "def set_seed(seed=2017):\n",
    "    random.seed(seed)\n",
    "    os.environ['PYTHONHASHSEED'] = str(seed)\n",
    "    np.random.seed(seed)\n",
    "    \n",
    "set_seed(SEED)"
   ]
  },
  {
   "cell_type": "markdown",
   "id": "ac8458e2",
   "metadata": {
    "papermill": {
     "duration": 0.021278,
     "end_time": "2021-10-07T02:27:42.449842",
     "exception": false,
     "start_time": "2021-10-07T02:27:42.428564",
     "status": "completed"
    },
    "tags": []
   },
   "source": [
    "# Datasets"
   ]
  },
  {
   "cell_type": "code",
   "execution_count": 4,
   "id": "358c7bfe",
   "metadata": {
    "execution": {
     "iopub.execute_input": "2021-10-07T02:27:42.496030Z",
     "iopub.status.busy": "2021-10-07T02:27:42.495106Z",
     "iopub.status.idle": "2021-10-07T02:29:19.597132Z",
     "shell.execute_reply": "2021-10-07T02:29:19.596155Z",
     "shell.execute_reply.started": "2021-10-04T07:17:38.980344Z"
    },
    "papermill": {
     "duration": 97.127423,
     "end_time": "2021-10-07T02:29:19.597323",
     "exception": false,
     "start_time": "2021-10-07T02:27:42.469900",
     "status": "completed"
    },
    "tags": []
   },
   "outputs": [],
   "source": [
    "INPUT = Path(\"../input/tabular-playground-series-oct-2021\")\n",
    "\n",
    "train = pd.read_csv(INPUT / \"train.csv\")\n",
    "test = pd.read_csv(INPUT / \"test.csv\")\n",
    "submission = pd.read_csv(INPUT / \"sample_submission.csv\")"
   ]
  },
  {
   "cell_type": "code",
   "execution_count": 5,
   "id": "2bc98ca9",
   "metadata": {
    "execution": {
     "iopub.execute_input": "2021-10-07T02:29:20.895553Z",
     "iopub.status.busy": "2021-10-07T02:29:20.894845Z",
     "iopub.status.idle": "2021-10-07T02:29:20.897458Z",
     "shell.execute_reply": "2021-10-07T02:29:20.897967Z",
     "shell.execute_reply.started": "2021-10-04T07:19:21.369035Z"
    },
    "papermill": {
     "duration": 1.276657,
     "end_time": "2021-10-07T02:29:20.898176",
     "exception": false,
     "start_time": "2021-10-07T02:29:19.621519",
     "status": "completed"
    },
    "tags": []
   },
   "outputs": [],
   "source": [
    "train = train[train.columns[1:]]\n",
    "test = test[test.columns[1:]]"
   ]
  },
  {
   "cell_type": "markdown",
   "id": "86815943",
   "metadata": {
    "papermill": {
     "duration": 0.019265,
     "end_time": "2021-10-07T02:29:20.937052",
     "exception": false,
     "start_time": "2021-10-07T02:29:20.917787",
     "status": "completed"
    },
    "tags": []
   },
   "source": [
    "# Preprocessing"
   ]
  },
  {
   "cell_type": "code",
   "execution_count": 6,
   "id": "fb8b361d",
   "metadata": {
    "execution": {
     "iopub.execute_input": "2021-10-07T02:29:20.981223Z",
     "iopub.status.busy": "2021-10-07T02:29:20.980521Z",
     "iopub.status.idle": "2021-10-07T02:29:20.982719Z",
     "shell.execute_reply": "2021-10-07T02:29:20.983238Z",
     "shell.execute_reply.started": "2021-10-04T07:19:23.214541Z"
    },
    "papermill": {
     "duration": 0.026798,
     "end_time": "2021-10-07T02:29:20.983415",
     "exception": false,
     "start_time": "2021-10-07T02:29:20.956617",
     "status": "completed"
    },
    "tags": []
   },
   "outputs": [],
   "source": [
    "features = [col for col in train.columns if 'f' in col]"
   ]
  },
  {
   "cell_type": "code",
   "execution_count": 7,
   "id": "f3c2c709",
   "metadata": {
    "execution": {
     "iopub.execute_input": "2021-10-07T02:29:21.042625Z",
     "iopub.status.busy": "2021-10-07T02:29:21.041890Z",
     "iopub.status.idle": "2021-10-07T02:29:21.043577Z",
     "shell.execute_reply": "2021-10-07T02:29:21.044252Z",
     "shell.execute_reply.started": "2021-10-04T07:19:23.222364Z"
    },
    "papermill": {
     "duration": 0.041385,
     "end_time": "2021-10-07T02:29:21.044439",
     "exception": false,
     "start_time": "2021-10-07T02:29:21.003054",
     "status": "completed"
    },
    "tags": []
   },
   "outputs": [],
   "source": [
    "cont_features =[]\n",
    "disc_features =[]\n",
    "\n",
    "for col in features:\n",
    "    if train[col].dtype=='float64':\n",
    "        cont_features.append(col)\n",
    "    else:\n",
    "        disc_features.append(col)\n",
    "        \n",
    "features = disc_features + cont_features"
   ]
  },
  {
   "cell_type": "code",
   "execution_count": 8,
   "id": "966445ba",
   "metadata": {
    "execution": {
     "iopub.execute_input": "2021-10-07T02:29:21.087083Z",
     "iopub.status.busy": "2021-10-07T02:29:21.086397Z",
     "iopub.status.idle": "2021-10-07T02:31:26.066770Z",
     "shell.execute_reply": "2021-10-07T02:31:26.065907Z",
     "shell.execute_reply.started": "2021-10-04T07:21:35.009513Z"
    },
    "papermill": {
     "duration": 125.002623,
     "end_time": "2021-10-07T02:31:26.066983",
     "exception": false,
     "start_time": "2021-10-07T02:29:21.064360",
     "status": "completed"
    },
    "tags": []
   },
   "outputs": [],
   "source": [
    "train[cont_features] = train[cont_features].astype('float32')\n",
    "train[disc_features] = train[disc_features].astype('uint8')\n",
    "train[target] = train[target].astype('uint8')\n",
    "\n",
    "test[cont_features] = test[cont_features].astype('float32')\n",
    "test[disc_features] = test[disc_features].astype('uint8')"
   ]
  },
  {
   "cell_type": "code",
   "execution_count": 9,
   "id": "7942c930",
   "metadata": {
    "execution": {
     "iopub.execute_input": "2021-10-07T02:31:26.116611Z",
     "iopub.status.busy": "2021-10-07T02:31:26.114719Z",
     "iopub.status.idle": "2021-10-07T02:31:26.319232Z",
     "shell.execute_reply": "2021-10-07T02:31:26.319762Z",
     "shell.execute_reply.started": "2021-10-04T07:24:31.446188Z"
    },
    "papermill": {
     "duration": 0.232437,
     "end_time": "2021-10-07T02:31:26.319962",
     "exception": false,
     "start_time": "2021-10-07T02:31:26.087525",
     "status": "completed"
    },
    "tags": []
   },
   "outputs": [
    {
     "data": {
      "text/html": [
       "<div>\n",
       "<style scoped>\n",
       "    .dataframe tbody tr th:only-of-type {\n",
       "        vertical-align: middle;\n",
       "    }\n",
       "\n",
       "    .dataframe tbody tr th {\n",
       "        vertical-align: top;\n",
       "    }\n",
       "\n",
       "    .dataframe thead th {\n",
       "        text-align: right;\n",
       "    }\n",
       "</style>\n",
       "<table border=\"1\" class=\"dataframe\">\n",
       "  <thead>\n",
       "    <tr style=\"text-align: right;\">\n",
       "      <th></th>\n",
       "      <th>f22</th>\n",
       "      <th>f43</th>\n",
       "      <th>f242</th>\n",
       "      <th>f243</th>\n",
       "      <th>f244</th>\n",
       "      <th>f245</th>\n",
       "      <th>f246</th>\n",
       "      <th>f247</th>\n",
       "      <th>f248</th>\n",
       "      <th>f249</th>\n",
       "      <th>...</th>\n",
       "      <th>f232</th>\n",
       "      <th>f233</th>\n",
       "      <th>f234</th>\n",
       "      <th>f235</th>\n",
       "      <th>f236</th>\n",
       "      <th>f237</th>\n",
       "      <th>f238</th>\n",
       "      <th>f239</th>\n",
       "      <th>f240</th>\n",
       "      <th>f241</th>\n",
       "    </tr>\n",
       "  </thead>\n",
       "  <tbody>\n",
       "    <tr>\n",
       "      <th>0</th>\n",
       "      <td>0</td>\n",
       "      <td>1</td>\n",
       "      <td>0</td>\n",
       "      <td>0</td>\n",
       "      <td>1</td>\n",
       "      <td>0</td>\n",
       "      <td>1</td>\n",
       "      <td>1</td>\n",
       "      <td>0</td>\n",
       "      <td>0</td>\n",
       "      <td>...</td>\n",
       "      <td>0.195952</td>\n",
       "      <td>0.227176</td>\n",
       "      <td>0.092359</td>\n",
       "      <td>0.152883</td>\n",
       "      <td>0.266000</td>\n",
       "      <td>0.006716</td>\n",
       "      <td>0.196959</td>\n",
       "      <td>0.022934</td>\n",
       "      <td>0.199017</td>\n",
       "      <td>0.150822</td>\n",
       "    </tr>\n",
       "    <tr>\n",
       "      <th>1</th>\n",
       "      <td>1</td>\n",
       "      <td>0</td>\n",
       "      <td>0</td>\n",
       "      <td>0</td>\n",
       "      <td>0</td>\n",
       "      <td>1</td>\n",
       "      <td>1</td>\n",
       "      <td>1</td>\n",
       "      <td>0</td>\n",
       "      <td>0</td>\n",
       "      <td>...</td>\n",
       "      <td>0.194892</td>\n",
       "      <td>0.203178</td>\n",
       "      <td>0.126690</td>\n",
       "      <td>0.128326</td>\n",
       "      <td>0.182899</td>\n",
       "      <td>0.003132</td>\n",
       "      <td>0.190789</td>\n",
       "      <td>0.195818</td>\n",
       "      <td>0.136427</td>\n",
       "      <td>0.200248</td>\n",
       "    </tr>\n",
       "    <tr>\n",
       "      <th>2</th>\n",
       "      <td>0</td>\n",
       "      <td>0</td>\n",
       "      <td>0</td>\n",
       "      <td>1</td>\n",
       "      <td>1</td>\n",
       "      <td>1</td>\n",
       "      <td>1</td>\n",
       "      <td>1</td>\n",
       "      <td>0</td>\n",
       "      <td>1</td>\n",
       "      <td>...</td>\n",
       "      <td>0.196512</td>\n",
       "      <td>0.205674</td>\n",
       "      <td>0.276899</td>\n",
       "      <td>0.194539</td>\n",
       "      <td>0.283591</td>\n",
       "      <td>0.005843</td>\n",
       "      <td>0.123439</td>\n",
       "      <td>0.199566</td>\n",
       "      <td>0.217159</td>\n",
       "      <td>0.229726</td>\n",
       "    </tr>\n",
       "    <tr>\n",
       "      <th>3</th>\n",
       "      <td>0</td>\n",
       "      <td>0</td>\n",
       "      <td>0</td>\n",
       "      <td>0</td>\n",
       "      <td>0</td>\n",
       "      <td>0</td>\n",
       "      <td>1</td>\n",
       "      <td>1</td>\n",
       "      <td>0</td>\n",
       "      <td>1</td>\n",
       "      <td>...</td>\n",
       "      <td>0.196870</td>\n",
       "      <td>0.207462</td>\n",
       "      <td>0.268194</td>\n",
       "      <td>0.263770</td>\n",
       "      <td>0.487931</td>\n",
       "      <td>0.008247</td>\n",
       "      <td>0.140777</td>\n",
       "      <td>0.042808</td>\n",
       "      <td>0.196403</td>\n",
       "      <td>0.166039</td>\n",
       "    </tr>\n",
       "    <tr>\n",
       "      <th>4</th>\n",
       "      <td>1</td>\n",
       "      <td>0</td>\n",
       "      <td>0</td>\n",
       "      <td>1</td>\n",
       "      <td>0</td>\n",
       "      <td>1</td>\n",
       "      <td>1</td>\n",
       "      <td>0</td>\n",
       "      <td>0</td>\n",
       "      <td>0</td>\n",
       "      <td>...</td>\n",
       "      <td>0.195016</td>\n",
       "      <td>0.199202</td>\n",
       "      <td>0.191478</td>\n",
       "      <td>0.126863</td>\n",
       "      <td>0.168593</td>\n",
       "      <td>0.319238</td>\n",
       "      <td>0.155194</td>\n",
       "      <td>0.205401</td>\n",
       "      <td>0.196158</td>\n",
       "      <td>0.327414</td>\n",
       "    </tr>\n",
       "    <tr>\n",
       "      <th>...</th>\n",
       "      <td>...</td>\n",
       "      <td>...</td>\n",
       "      <td>...</td>\n",
       "      <td>...</td>\n",
       "      <td>...</td>\n",
       "      <td>...</td>\n",
       "      <td>...</td>\n",
       "      <td>...</td>\n",
       "      <td>...</td>\n",
       "      <td>...</td>\n",
       "      <td>...</td>\n",
       "      <td>...</td>\n",
       "      <td>...</td>\n",
       "      <td>...</td>\n",
       "      <td>...</td>\n",
       "      <td>...</td>\n",
       "      <td>...</td>\n",
       "      <td>...</td>\n",
       "      <td>...</td>\n",
       "      <td>...</td>\n",
       "      <td>...</td>\n",
       "    </tr>\n",
       "    <tr>\n",
       "      <th>499995</th>\n",
       "      <td>0</td>\n",
       "      <td>0</td>\n",
       "      <td>1</td>\n",
       "      <td>0</td>\n",
       "      <td>0</td>\n",
       "      <td>0</td>\n",
       "      <td>0</td>\n",
       "      <td>0</td>\n",
       "      <td>1</td>\n",
       "      <td>0</td>\n",
       "      <td>...</td>\n",
       "      <td>0.195130</td>\n",
       "      <td>0.199618</td>\n",
       "      <td>0.091413</td>\n",
       "      <td>0.162236</td>\n",
       "      <td>0.309894</td>\n",
       "      <td>0.011023</td>\n",
       "      <td>0.142858</td>\n",
       "      <td>0.521894</td>\n",
       "      <td>0.222184</td>\n",
       "      <td>0.251195</td>\n",
       "    </tr>\n",
       "    <tr>\n",
       "      <th>499996</th>\n",
       "      <td>0</td>\n",
       "      <td>0</td>\n",
       "      <td>0</td>\n",
       "      <td>0</td>\n",
       "      <td>1</td>\n",
       "      <td>1</td>\n",
       "      <td>0</td>\n",
       "      <td>1</td>\n",
       "      <td>0</td>\n",
       "      <td>0</td>\n",
       "      <td>...</td>\n",
       "      <td>0.197064</td>\n",
       "      <td>0.199442</td>\n",
       "      <td>0.748071</td>\n",
       "      <td>0.194264</td>\n",
       "      <td>0.207866</td>\n",
       "      <td>0.006372</td>\n",
       "      <td>0.175386</td>\n",
       "      <td>0.198387</td>\n",
       "      <td>0.142845</td>\n",
       "      <td>0.214146</td>\n",
       "    </tr>\n",
       "    <tr>\n",
       "      <th>499997</th>\n",
       "      <td>1</td>\n",
       "      <td>0</td>\n",
       "      <td>0</td>\n",
       "      <td>0</td>\n",
       "      <td>0</td>\n",
       "      <td>1</td>\n",
       "      <td>1</td>\n",
       "      <td>1</td>\n",
       "      <td>0</td>\n",
       "      <td>1</td>\n",
       "      <td>...</td>\n",
       "      <td>0.324317</td>\n",
       "      <td>0.197398</td>\n",
       "      <td>0.184333</td>\n",
       "      <td>0.136267</td>\n",
       "      <td>0.164835</td>\n",
       "      <td>0.006861</td>\n",
       "      <td>0.141225</td>\n",
       "      <td>0.044007</td>\n",
       "      <td>0.141896</td>\n",
       "      <td>0.228734</td>\n",
       "    </tr>\n",
       "    <tr>\n",
       "      <th>499998</th>\n",
       "      <td>0</td>\n",
       "      <td>0</td>\n",
       "      <td>0</td>\n",
       "      <td>0</td>\n",
       "      <td>0</td>\n",
       "      <td>0</td>\n",
       "      <td>1</td>\n",
       "      <td>1</td>\n",
       "      <td>0</td>\n",
       "      <td>0</td>\n",
       "      <td>...</td>\n",
       "      <td>0.195557</td>\n",
       "      <td>0.202305</td>\n",
       "      <td>0.039359</td>\n",
       "      <td>0.189006</td>\n",
       "      <td>0.239799</td>\n",
       "      <td>0.005881</td>\n",
       "      <td>0.192076</td>\n",
       "      <td>0.199732</td>\n",
       "      <td>0.169161</td>\n",
       "      <td>0.271750</td>\n",
       "    </tr>\n",
       "    <tr>\n",
       "      <th>499999</th>\n",
       "      <td>1</td>\n",
       "      <td>1</td>\n",
       "      <td>0</td>\n",
       "      <td>0</td>\n",
       "      <td>1</td>\n",
       "      <td>1</td>\n",
       "      <td>0</td>\n",
       "      <td>0</td>\n",
       "      <td>1</td>\n",
       "      <td>0</td>\n",
       "      <td>...</td>\n",
       "      <td>0.194191</td>\n",
       "      <td>0.204191</td>\n",
       "      <td>0.042052</td>\n",
       "      <td>0.129841</td>\n",
       "      <td>0.163681</td>\n",
       "      <td>0.007775</td>\n",
       "      <td>0.229352</td>\n",
       "      <td>0.389587</td>\n",
       "      <td>0.219126</td>\n",
       "      <td>0.324886</td>\n",
       "    </tr>\n",
       "  </tbody>\n",
       "</table>\n",
       "<p>500000 rows × 285 columns</p>\n",
       "</div>"
      ],
      "text/plain": [
       "        f22  f43  f242  f243  f244  f245  f246  f247  f248  f249  ...  \\\n",
       "0         0    1     0     0     1     0     1     1     0     0  ...   \n",
       "1         1    0     0     0     0     1     1     1     0     0  ...   \n",
       "2         0    0     0     1     1     1     1     1     0     1  ...   \n",
       "3         0    0     0     0     0     0     1     1     0     1  ...   \n",
       "4         1    0     0     1     0     1     1     0     0     0  ...   \n",
       "...     ...  ...   ...   ...   ...   ...   ...   ...   ...   ...  ...   \n",
       "499995    0    0     1     0     0     0     0     0     1     0  ...   \n",
       "499996    0    0     0     0     1     1     0     1     0     0  ...   \n",
       "499997    1    0     0     0     0     1     1     1     0     1  ...   \n",
       "499998    0    0     0     0     0     0     1     1     0     0  ...   \n",
       "499999    1    1     0     0     1     1     0     0     1     0  ...   \n",
       "\n",
       "            f232      f233      f234      f235      f236      f237      f238  \\\n",
       "0       0.195952  0.227176  0.092359  0.152883  0.266000  0.006716  0.196959   \n",
       "1       0.194892  0.203178  0.126690  0.128326  0.182899  0.003132  0.190789   \n",
       "2       0.196512  0.205674  0.276899  0.194539  0.283591  0.005843  0.123439   \n",
       "3       0.196870  0.207462  0.268194  0.263770  0.487931  0.008247  0.140777   \n",
       "4       0.195016  0.199202  0.191478  0.126863  0.168593  0.319238  0.155194   \n",
       "...          ...       ...       ...       ...       ...       ...       ...   \n",
       "499995  0.195130  0.199618  0.091413  0.162236  0.309894  0.011023  0.142858   \n",
       "499996  0.197064  0.199442  0.748071  0.194264  0.207866  0.006372  0.175386   \n",
       "499997  0.324317  0.197398  0.184333  0.136267  0.164835  0.006861  0.141225   \n",
       "499998  0.195557  0.202305  0.039359  0.189006  0.239799  0.005881  0.192076   \n",
       "499999  0.194191  0.204191  0.042052  0.129841  0.163681  0.007775  0.229352   \n",
       "\n",
       "            f239      f240      f241  \n",
       "0       0.022934  0.199017  0.150822  \n",
       "1       0.195818  0.136427  0.200248  \n",
       "2       0.199566  0.217159  0.229726  \n",
       "3       0.042808  0.196403  0.166039  \n",
       "4       0.205401  0.196158  0.327414  \n",
       "...          ...       ...       ...  \n",
       "499995  0.521894  0.222184  0.251195  \n",
       "499996  0.198387  0.142845  0.214146  \n",
       "499997  0.044007  0.141896  0.228734  \n",
       "499998  0.199732  0.169161  0.271750  \n",
       "499999  0.389587  0.219126  0.324886  \n",
       "\n",
       "[500000 rows x 285 columns]"
      ]
     },
     "execution_count": 9,
     "metadata": {},
     "output_type": "execute_result"
    }
   ],
   "source": [
    "test[features]"
   ]
  },
  {
   "cell_type": "code",
   "execution_count": 10,
   "id": "b999da2d",
   "metadata": {
    "execution": {
     "iopub.execute_input": "2021-10-07T02:31:26.371169Z",
     "iopub.status.busy": "2021-10-07T02:31:26.370497Z",
     "iopub.status.idle": "2021-10-07T02:31:26.376866Z",
     "shell.execute_reply": "2021-10-07T02:31:26.376230Z",
     "shell.execute_reply.started": "2021-10-04T07:24:31.998191Z"
    },
    "papermill": {
     "duration": 0.035393,
     "end_time": "2021-10-07T02:31:26.377028",
     "exception": false,
     "start_time": "2021-10-07T02:31:26.341635",
     "status": "completed"
    },
    "tags": []
   },
   "outputs": [
    {
     "data": {
      "text/plain": [
       "0         1\n",
       "1         1\n",
       "2         1\n",
       "3         1\n",
       "4         1\n",
       "         ..\n",
       "999995    1\n",
       "999996    0\n",
       "999997    0\n",
       "999998    1\n",
       "999999    0\n",
       "Name: target, Length: 1000000, dtype: uint8"
      ]
     },
     "execution_count": 10,
     "metadata": {},
     "output_type": "execute_result"
    }
   ],
   "source": [
    "train[target]"
   ]
  },
  {
   "cell_type": "code",
   "execution_count": 11,
   "id": "c3d2c8ef",
   "metadata": {
    "execution": {
     "iopub.execute_input": "2021-10-07T02:31:26.532419Z",
     "iopub.status.busy": "2021-10-07T02:31:26.531713Z",
     "iopub.status.idle": "2021-10-07T02:31:26.536473Z",
     "shell.execute_reply": "2021-10-07T02:31:26.535889Z",
     "shell.execute_reply.started": "2021-10-04T07:24:32.011225Z"
    },
    "papermill": {
     "duration": 0.138263,
     "end_time": "2021-10-07T02:31:26.536625",
     "exception": false,
     "start_time": "2021-10-07T02:31:26.398362",
     "status": "completed"
    },
    "tags": []
   },
   "outputs": [
    {
     "data": {
      "text/plain": [
       "40"
      ]
     },
     "execution_count": 11,
     "metadata": {},
     "output_type": "execute_result"
    }
   ],
   "source": [
    "del cont_features\n",
    "del disc_features\n",
    "\n",
    "gc.collect()"
   ]
  },
  {
   "cell_type": "markdown",
   "id": "5f794743",
   "metadata": {
    "papermill": {
     "duration": 0.020636,
     "end_time": "2021-10-07T02:31:26.578410",
     "exception": false,
     "start_time": "2021-10-07T02:31:26.557774",
     "status": "completed"
    },
    "tags": []
   },
   "source": [
    "# XGB"
   ]
  },
  {
   "cell_type": "code",
   "execution_count": 12,
   "id": "d85b8958",
   "metadata": {
    "execution": {
     "iopub.execute_input": "2021-10-07T02:31:26.626434Z",
     "iopub.status.busy": "2021-10-07T02:31:26.625768Z",
     "iopub.status.idle": "2021-10-07T02:31:26.629700Z",
     "shell.execute_reply": "2021-10-07T02:31:26.629160Z",
     "shell.execute_reply.started": "2021-09-07T00:44:32.516352Z"
    },
    "papermill": {
     "duration": 0.030481,
     "end_time": "2021-10-07T02:31:26.629840",
     "exception": false,
     "start_time": "2021-10-07T02:31:26.599359",
     "status": "completed"
    },
    "tags": []
   },
   "outputs": [],
   "source": [
    "xgb_params = {\n",
    "     'objective': 'binary:logistic',\n",
    "     'n_estimators':N_ESTIMATORS,\n",
    "     'importance_type': 'total_gain',\n",
    "     'booster': 'gbtree',\n",
    "     'n_jobs' : -1,\n",
    "     'tree_method': 'hist',\n",
    "        \n",
    "     'learning_rate': 0.007966791864124856,\n",
    "     'subsample': 0.7026602002884274,\n",
    "     'colsample_bytree': 0.24070791032515187,\n",
    "     'reg_lambda': 0.005152407158810763,\n",
    "     'reg_alpha': 0.00019514845055575486,\n",
    "     'min_child_weight': 45.558073562258386,\n",
    "     'max_depth': 4,\n",
    "     'max_bin': 243,\n",
    "     'gamma': 4.352430619148093\n",
    "}"
   ]
  },
  {
   "cell_type": "code",
   "execution_count": 13,
   "id": "f4efe981",
   "metadata": {
    "execution": {
     "iopub.execute_input": "2021-10-07T02:31:26.689427Z",
     "iopub.status.busy": "2021-10-07T02:31:26.688187Z",
     "iopub.status.idle": "2021-10-07T07:12:21.646129Z",
     "shell.execute_reply": "2021-10-07T07:12:21.647081Z",
     "shell.execute_reply.started": "2021-09-07T00:48:20.356186Z"
    },
    "papermill": {
     "duration": 16854.997382,
     "end_time": "2021-10-07T07:12:21.648261",
     "exception": false,
     "start_time": "2021-10-07T02:31:26.650879",
     "status": "completed"
    },
    "tags": []
   },
   "outputs": [
    {
     "name": "stdout",
     "output_type": "stream",
     "text": [
      "===== fold 0 =====\n",
      "===== fold 1 =====\n",
      "===== fold 2 =====\n",
      "===== fold 3 =====\n",
      "[0]\tvalidation_0-auc:0.59599\n",
      "[1000]\tvalidation_0-auc:0.84508\n",
      "[2000]\tvalidation_0-auc:0.84936\n",
      "[3000]\tvalidation_0-auc:0.85219\n",
      "[4000]\tvalidation_0-auc:0.85383\n",
      "[5000]\tvalidation_0-auc:0.85483\n",
      "[6000]\tvalidation_0-auc:0.85546\n",
      "[7000]\tvalidation_0-auc:0.85585\n",
      "[8000]\tvalidation_0-auc:0.85613\n",
      "[9000]\tvalidation_0-auc:0.85632\n",
      "[10000]\tvalidation_0-auc:0.85644\n",
      "[11000]\tvalidation_0-auc:0.85654\n",
      "[12000]\tvalidation_0-auc:0.85658\n",
      "[12026]\tvalidation_0-auc:0.85657\n",
      "[0]\tvalidation_0-auc:0.85658\n",
      "[922]\tvalidation_0-auc:0.85658\n",
      "fold 3 - xgb auc: 0.856634, elapsed time: 9008.11sec\n",
      "\n",
      "===== fold 4 =====\n",
      "[0]\tvalidation_0-auc:0.59649\n",
      "[1000]\tvalidation_0-auc:0.84540\n",
      "[2000]\tvalidation_0-auc:0.84971\n",
      "[3000]\tvalidation_0-auc:0.85245\n",
      "[4000]\tvalidation_0-auc:0.85403\n",
      "[5000]\tvalidation_0-auc:0.85503\n",
      "[6000]\tvalidation_0-auc:0.85561\n",
      "[7000]\tvalidation_0-auc:0.85594\n",
      "[8000]\tvalidation_0-auc:0.85619\n",
      "[9000]\tvalidation_0-auc:0.85637\n",
      "[10000]\tvalidation_0-auc:0.85647\n",
      "[10952]\tvalidation_0-auc:0.85652\n",
      "[0]\tvalidation_0-auc:0.85653\n",
      "[321]\tvalidation_0-auc:0.85653\n",
      "fold 4 - xgb auc: 0.856607, elapsed time: 7841.31sec\n",
      "\n",
      "oof xgb_auc = 0.5570592130470137\n"
     ]
    }
   ],
   "source": [
    "xgb_oof = np.zeros(train.shape[0])\n",
    "xgb_pred = np.zeros(test.shape[0])\n",
    "xgb_importances = pd.DataFrame()\n",
    "\n",
    "X_test = test[features]\n",
    "del test\n",
    "gc.collect()\n",
    "\n",
    "\n",
    "kf = StratifiedKFold(n_splits=N_SPLITS, shuffle=True, random_state=CVSEED)\n",
    "seed_list=[SEED+4]\n",
    "\n",
    "for fold, (trn_idx, val_idx) in enumerate(kf.split(X=train[features], y=train[target])):\n",
    "    print(f\"===== fold {fold} =====\")\n",
    "    if fold >2:\n",
    "        \n",
    "        X_train = train[features].iloc[trn_idx]\n",
    "        y_train = train[target].iloc[trn_idx]\n",
    "        X_valid = train[features].iloc[val_idx]\n",
    "        y_valid = train[target].iloc[val_idx]\n",
    "        \n",
    "\n",
    "\n",
    "        start = time.time()\n",
    "        for inseed in seed_list:\n",
    "            xgb_params['random_state'] = inseed\n",
    "\n",
    "            pre_model = xgb.XGBClassifier(**xgb_params)\n",
    "            pre_model.fit(\n",
    "                X_train, \n",
    "                y_train,\n",
    "                eval_set=[(X_valid, y_valid)],\n",
    "                eval_metric='auc',\n",
    "                early_stopping_rounds=EARLY_STOPPING_ROUNDS,\n",
    "                verbose=VERBOSE,\n",
    "            )\n",
    "\n",
    "            xgb_params2 = xgb_params.copy()\n",
    "            xgb_params2['reg_lambda'] *= 0.9\n",
    "            xgb_params2['reg_alpha'] *= 0.9\n",
    "            xgb_params2['learning_rate'] *= 0.1\n",
    "            model = xgb.XGBClassifier(**xgb_params2)\n",
    "            model.fit(\n",
    "                    X_train, y_train,\n",
    "                    eval_set=[(X_valid, y_valid)],\n",
    "                    eval_metric='auc',\n",
    "                    early_stopping_rounds=EARLY_STOPPING_ROUNDS,\n",
    "                    verbose=VERBOSE,\n",
    "                    xgb_model=pre_model\n",
    "            )    \n",
    "\n",
    "            with open(f\"xgb_model{fold}_seed{inseed}.pkl\", 'wb') as f:\n",
    "                pickle.dump(model, f)\n",
    "\n",
    "            fi_tmp = pd.DataFrame()\n",
    "            fi_tmp['feature'] = X_train.columns\n",
    "            fi_tmp['importance'] = model.feature_importances_\n",
    "            fi_tmp['fold'] = fold\n",
    "            fi_tmp['seed'] = inseed\n",
    "            xgb_importances = xgb_importances.append(fi_tmp)\n",
    "\n",
    "            xgb_oof[val_idx] += model.predict_proba(X_valid)[:,-1] / len(seed_list)\n",
    "            xgb_pred += model.predict_proba(X_test)[:,-1] / len(seed_list)\n",
    "            \n",
    "            del pre_model\n",
    "            del model\n",
    "            gc.collect()\n",
    "\n",
    "\n",
    "        elapsed = time.time() - start\n",
    "        auc = roc_auc_score(y_valid, xgb_oof[val_idx])\n",
    "        print(f\"fold {fold} - xgb auc: {auc:.6f}, elapsed time: {elapsed:.2f}sec\\n\")\n",
    "        \n",
    "        del X_train\n",
    "        del y_train\n",
    "        del X_valid\n",
    "        del y_valid\n",
    "        gc.collect()\n",
    "\n",
    "\n",
    "del X_test\n",
    "gc.collect()\n",
    "\n",
    "xgb_pred /= N_SPLITS\n",
    "print(f\"oof xgb_auc = {roc_auc_score(train[target], xgb_oof)}\")\n",
    "\n",
    "np.save(\"xgb_oof.npy\", xgb_oof)\n",
    "np.save(\"xgb_pred.npy\", xgb_pred)"
   ]
  },
  {
   "cell_type": "markdown",
   "id": "966a38b6",
   "metadata": {
    "papermill": {
     "duration": 0.03187,
     "end_time": "2021-10-07T07:12:21.712582",
     "exception": false,
     "start_time": "2021-10-07T07:12:21.680712",
     "status": "completed"
    },
    "tags": []
   },
   "source": [
    "# OOF predictions"
   ]
  },
  {
   "cell_type": "code",
   "execution_count": 14,
   "id": "e63642d6",
   "metadata": {
    "execution": {
     "iopub.execute_input": "2021-10-07T07:12:21.802993Z",
     "iopub.status.busy": "2021-10-07T07:12:21.801866Z",
     "iopub.status.idle": "2021-10-07T07:12:25.551853Z",
     "shell.execute_reply": "2021-10-07T07:12:25.551178Z",
     "shell.execute_reply.started": "2021-09-07T00:50:57.432219Z"
    },
    "papermill": {
     "duration": 3.807249,
     "end_time": "2021-10-07T07:12:25.552030",
     "exception": false,
     "start_time": "2021-10-07T07:12:21.744781",
     "status": "completed"
    },
    "tags": []
   },
   "outputs": [
    {
     "data": {
      "text/plain": [
       "<matplotlib.collections.PathCollection at 0x7f53667c7d10>"
      ]
     },
     "execution_count": 14,
     "metadata": {},
     "output_type": "execute_result"
    },
    {
     "data": {
      "image/png": "[encoded data removed]",
      "text/plain": [
       "<Figure size 432x288 with 1 Axes>"
      ]
     },
     "metadata": {
      "needs_background": "light"
     },
     "output_type": "display_data"
    }
   ],
   "source": [
    "plt.plot(train[target], train[target])\n",
    "plt.scatter(train[target], xgb_oof)"
   ]
  },
  {
   "cell_type": "code",
   "execution_count": 15,
   "id": "638bcc03",
   "metadata": {
    "execution": {
     "iopub.execute_input": "2021-10-07T07:12:25.752065Z",
     "iopub.status.busy": "2021-10-07T07:12:25.751036Z",
     "iopub.status.idle": "2021-10-07T07:12:25.755430Z",
     "shell.execute_reply": "2021-10-07T07:12:25.754857Z"
    },
    "papermill": {
     "duration": 0.170016,
     "end_time": "2021-10-07T07:12:25.755581",
     "exception": false,
     "start_time": "2021-10-07T07:12:25.585565",
     "status": "completed"
    },
    "tags": []
   },
   "outputs": [
    {
     "data": {
      "text/plain": [
       "20"
      ]
     },
     "execution_count": 15,
     "metadata": {},
     "output_type": "execute_result"
    }
   ],
   "source": [
    "del train\n",
    "del xgb_oof\n",
    "gc.collect()"
   ]
  },
  {
   "cell_type": "markdown",
   "id": "b0d30a23",
   "metadata": {
    "papermill": {
     "duration": 0.033741,
     "end_time": "2021-10-07T07:12:25.823263",
     "exception": false,
     "start_time": "2021-10-07T07:12:25.789522",
     "status": "completed"
    },
    "tags": []
   },
   "source": [
    "# Features importances"
   ]
  },
  {
   "cell_type": "code",
   "execution_count": 16,
   "id": "50b26ece",
   "metadata": {
    "execution": {
     "iopub.execute_input": "2021-10-07T07:12:25.907606Z",
     "iopub.status.busy": "2021-10-07T07:12:25.902001Z",
     "iopub.status.idle": "2021-10-07T07:12:32.557706Z",
     "shell.execute_reply": "2021-10-07T07:12:32.558287Z",
     "shell.execute_reply.started": "2021-09-07T00:51:01.011128Z"
    },
    "papermill": {
     "duration": 6.701214,
     "end_time": "2021-10-07T07:12:32.558480",
     "exception": false,
     "start_time": "2021-10-07T07:12:25.857266",
     "status": "completed"
    },
    "tags": []
   },
   "outputs": [
    {
     "data": {
      "text/plain": [
       "Text(0.5, 1.0, 'XGB feature importances')"
      ]
     },
     "execution_count": 16,
     "metadata": {},
     "output_type": "execute_result"
    },
    {
     "data": {
      "image/png": "[encoded data removed]",
      "text/plain": [
       "<Figure size 1152x1152 with 1 Axes>"
      ]
     },
     "metadata": {
      "needs_background": "light"
     },
     "output_type": "display_data"
    }
   ],
   "source": [
    "order = list(xgb_importances.groupby('feature').mean().sort_values('importance', ascending=False).index)\n",
    "\n",
    "fig = plt.figure(figsize=(16, 16), tight_layout=True)\n",
    "sns.barplot(x=\"importance\", y=\"feature\", data=xgb_importances.groupby('feature').mean().reset_index(), order=order)\n",
    "plt.title(\"XGB feature importances\")"
   ]
  },
  {
   "cell_type": "markdown",
   "id": "3e82755d",
   "metadata": {
    "papermill": {
     "duration": 0.036836,
     "end_time": "2021-10-07T07:12:32.632403",
     "exception": false,
     "start_time": "2021-10-07T07:12:32.595567",
     "status": "completed"
    },
    "tags": []
   },
   "source": [
    "# Submission"
   ]
  },
  {
   "cell_type": "code",
   "execution_count": 17,
   "id": "9c3f02f6",
   "metadata": {
    "execution": {
     "iopub.execute_input": "2021-10-07T07:12:32.709053Z",
     "iopub.status.busy": "2021-10-07T07:12:32.708340Z",
     "iopub.status.idle": "2021-10-07T07:12:34.514218Z",
     "shell.execute_reply": "2021-10-07T07:12:34.513640Z",
     "shell.execute_reply.started": "2021-09-07T00:51:03.177221Z"
    },
    "papermill": {
     "duration": 1.845296,
     "end_time": "2021-10-07T07:12:34.514383",
     "exception": false,
     "start_time": "2021-10-07T07:12:32.669087",
     "status": "completed"
    },
    "tags": []
   },
   "outputs": [
    {
     "data": {
      "text/html": [
       "<div>\n",
       "<style scoped>\n",
       "    .dataframe tbody tr th:only-of-type {\n",
       "        vertical-align: middle;\n",
       "    }\n",
       "\n",
       "    .dataframe tbody tr th {\n",
       "        vertical-align: top;\n",
       "    }\n",
       "\n",
       "    .dataframe thead th {\n",
       "        text-align: right;\n",
       "    }\n",
       "</style>\n",
       "<table border=\"1\" class=\"dataframe\">\n",
       "  <thead>\n",
       "    <tr style=\"text-align: right;\">\n",
       "      <th></th>\n",
       "      <th>id</th>\n",
       "      <th>target</th>\n",
       "    </tr>\n",
       "  </thead>\n",
       "  <tbody>\n",
       "    <tr>\n",
       "      <th>0</th>\n",
       "      <td>1000000</td>\n",
       "      <td>0.295668</td>\n",
       "    </tr>\n",
       "    <tr>\n",
       "      <th>1</th>\n",
       "      <td>1000001</td>\n",
       "      <td>0.093533</td>\n",
       "    </tr>\n",
       "    <tr>\n",
       "      <th>2</th>\n",
       "      <td>1000002</td>\n",
       "      <td>0.358194</td>\n",
       "    </tr>\n",
       "    <tr>\n",
       "      <th>3</th>\n",
       "      <td>1000003</td>\n",
       "      <td>0.340446</td>\n",
       "    </tr>\n",
       "    <tr>\n",
       "      <th>4</th>\n",
       "      <td>1000004</td>\n",
       "      <td>0.104157</td>\n",
       "    </tr>\n",
       "    <tr>\n",
       "      <th>...</th>\n",
       "      <td>...</td>\n",
       "      <td>...</td>\n",
       "    </tr>\n",
       "    <tr>\n",
       "      <th>499995</th>\n",
       "      <td>1499995</td>\n",
       "      <td>0.386237</td>\n",
       "    </tr>\n",
       "    <tr>\n",
       "      <th>499996</th>\n",
       "      <td>1499996</td>\n",
       "      <td>0.331100</td>\n",
       "    </tr>\n",
       "    <tr>\n",
       "      <th>499997</th>\n",
       "      <td>1499997</td>\n",
       "      <td>0.120990</td>\n",
       "    </tr>\n",
       "    <tr>\n",
       "      <th>499998</th>\n",
       "      <td>1499998</td>\n",
       "      <td>0.205277</td>\n",
       "    </tr>\n",
       "    <tr>\n",
       "      <th>499999</th>\n",
       "      <td>1499999</td>\n",
       "      <td>0.171002</td>\n",
       "    </tr>\n",
       "  </tbody>\n",
       "</table>\n",
       "<p>500000 rows × 2 columns</p>\n",
       "</div>"
      ],
      "text/plain": [
       "             id    target\n",
       "0       1000000  0.295668\n",
       "1       1000001  0.093533\n",
       "2       1000002  0.358194\n",
       "3       1000003  0.340446\n",
       "4       1000004  0.104157\n",
       "...         ...       ...\n",
       "499995  1499995  0.386237\n",
       "499996  1499996  0.331100\n",
       "499997  1499997  0.120990\n",
       "499998  1499998  0.205277\n",
       "499999  1499999  0.171002\n",
       "\n",
       "[500000 rows x 2 columns]"
      ]
     },
     "execution_count": 17,
     "metadata": {},
     "output_type": "execute_result"
    }
   ],
   "source": [
    "submission[target] = xgb_pred\n",
    "submission.to_csv(\"submission.csv\", index=False)\n",
    "\n",
    "submission"
   ]
  },
  {
   "cell_type": "markdown",
   "id": "cb2025a2",
   "metadata": {
    "papermill": {
     "duration": 0.036226,
     "end_time": "2021-10-07T07:12:34.587696",
     "exception": false,
     "start_time": "2021-10-07T07:12:34.551470",
     "status": "completed"
    },
    "tags": []
   },
   "source": [
    "# Log\n",
    "\n",
    "seeds\n",
    "\n",
    "2017 ver2 fold 0-2 ver3 fold 3-4\n",
    "2018 ver4 fold 0-2 ver5 fold 3-4\n",
    "2019 ver6 fold 0-2 ver7 fold 3-4\n",
    "2020 ver8 fold 0-2 ver9 fold 3-4\n",
    "2021 ver10 fold 0-2 ver11 fold 3-4\n"
   ]
  }
 ],
 "metadata": {
  "kernelspec": {
   "display_name": "Python 3",
   "language": "python",
   "name": "python3"
  },
  "language_info": {
   "codemirror_mode": {
    "name": "ipython",
    "version": 3
   },
   "file_extension": ".py",
   "mimetype": "text/x-python",
   "name": "python",
   "nbconvert_exporter": "python",
   "pygments_lexer": "ipython3",
   "version": "3.7.10"
  },
  "papermill": {
   "default_parameters": {},
   "duration": 17103.099723,
   "end_time": "2021-10-07T07:12:36.510647",
   "environment_variables": {},
   "exception": null,
   "input_path": "__notebook__.ipynb",
   "output_path": "__notebook__.ipynb",
   "parameters": {},
   "start_time": "2021-10-07T02:27:33.410924",
   "version": "2.3.3"
  }
 },
 "nbformat": 4,
 "nbformat_minor": 5
}
