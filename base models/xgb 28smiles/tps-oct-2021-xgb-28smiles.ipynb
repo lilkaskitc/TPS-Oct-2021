{
 "cells": [
  {
   "cell_type": "code",
   "execution_count": 1,
   "id": "48fdfdd1",
   "metadata": {
    "_cell_guid": "b1076dfc-b9ad-4769-8c92-a6c4dae69d19",
    "_uuid": "8f2839f25d086af736a60e9eeb907d3b93b6e0e5",
    "execution": {
     "iopub.execute_input": "2021-10-05T23:55:50.553219Z",
     "iopub.status.busy": "2021-10-05T23:55:50.552316Z",
     "iopub.status.idle": "2021-10-05T23:55:51.788708Z",
     "shell.execute_reply": "2021-10-05T23:55:51.787854Z",
     "shell.execute_reply.started": "2021-10-04T07:17:37.625191Z"
    },
    "papermill": {
     "duration": 1.271266,
     "end_time": "2021-10-05T23:55:51.788879",
     "exception": false,
     "start_time": "2021-10-05T23:55:50.517613",
     "status": "completed"
    },
    "tags": []
   },
   "outputs": [],
   "source": [
    "import numpy as np\n",
    "import pandas as pd\n",
    "import random\n",
    "import os\n",
    "import time\n",
    "import pickle\n",
    "from pathlib import Path\n",
    "import gc\n",
    "\n",
    "from sklearn.preprocessing import StandardScaler\n",
    "from sklearn.model_selection import StratifiedKFold, train_test_split\n",
    "from sklearn.metrics import roc_auc_score\n",
    "\n",
    "#import lightgbm as lgb\n",
    "import xgboost as xgb\n",
    "#import catboost as ctb\n",
    "\n",
    "import matplotlib.pyplot as plt\n",
    "import seaborn as sns\n",
    "\n",
    "import warnings\n",
    "warnings.simplefilter('ignore')"
   ]
  },
  {
   "cell_type": "markdown",
   "id": "2c009c48",
   "metadata": {
    "papermill": {
     "duration": 0.020784,
     "end_time": "2021-10-05T23:55:51.831437",
     "exception": false,
     "start_time": "2021-10-05T23:55:51.810653",
     "status": "completed"
    },
    "tags": []
   },
   "source": [
    "https://www.kaggle.com/smiles28/tps10-optuna-xgb-catb-lgbm-stacking\n",
    "\n",
    "ver6 xgb1"
   ]
  },
  {
   "cell_type": "markdown",
   "id": "80e936fa",
   "metadata": {
    "papermill": {
     "duration": 0.020714,
     "end_time": "2021-10-05T23:55:51.873128",
     "exception": false,
     "start_time": "2021-10-05T23:55:51.852414",
     "status": "completed"
    },
    "tags": []
   },
   "source": [
    "# Parameters"
   ]
  },
  {
   "cell_type": "code",
   "execution_count": 2,
   "id": "27d1c6c6",
   "metadata": {
    "execution": {
     "iopub.execute_input": "2021-10-05T23:55:51.921713Z",
     "iopub.status.busy": "2021-10-05T23:55:51.921048Z",
     "iopub.status.idle": "2021-10-05T23:55:51.923377Z",
     "shell.execute_reply": "2021-10-05T23:55:51.922730Z",
     "shell.execute_reply.started": "2021-10-04T07:17:38.959998Z"
    },
    "papermill": {
     "duration": 0.029301,
     "end_time": "2021-10-05T23:55:51.923531",
     "exception": false,
     "start_time": "2021-10-05T23:55:51.894230",
     "status": "completed"
    },
    "tags": []
   },
   "outputs": [],
   "source": [
    "target = 'target'\n",
    "\n",
    "DEBUG = False\n",
    "\n",
    "if DEBUG:\n",
    "    N_ESTIMATORS = 1\n",
    "    N_SPLITS = 2\n",
    "    SEED = 2017\n",
    "    CVSEED = 2017\n",
    "    EARLY_STOPPING_ROUNDS = 1\n",
    "    VERBOSE = 100\n",
    "    #N_ITERS = 2\n",
    "else:\n",
    "    N_SPLITS = 5\n",
    "    N_ESTIMATORS = 20000\n",
    "    EARLY_STOPPING_ROUNDS = 500\n",
    "    VERBOSE = 1000\n",
    "    SEED = 2017\n",
    "    CVSEED = 2017\n",
    "    #N_ITERS = 10"
   ]
  },
  {
   "cell_type": "code",
   "execution_count": 3,
   "id": "aea9222d",
   "metadata": {
    "execution": {
     "iopub.execute_input": "2021-10-05T23:55:51.972715Z",
     "iopub.status.busy": "2021-10-05T23:55:51.971768Z",
     "iopub.status.idle": "2021-10-05T23:55:51.975339Z",
     "shell.execute_reply": "2021-10-05T23:55:51.974745Z",
     "shell.execute_reply.started": "2021-10-04T07:17:38.969573Z"
    },
    "papermill": {
     "duration": 0.030319,
     "end_time": "2021-10-05T23:55:51.975483",
     "exception": false,
     "start_time": "2021-10-05T23:55:51.945164",
     "status": "completed"
    },
    "tags": []
   },
   "outputs": [],
   "source": [
    "def set_seed(seed=2017):\n",
    "    random.seed(seed)\n",
    "    os.environ['PYTHONHASHSEED'] = str(seed)\n",
    "    np.random.seed(seed)\n",
    "    \n",
    "set_seed(SEED)"
   ]
  },
  {
   "cell_type": "markdown",
   "id": "12df8a44",
   "metadata": {
    "papermill": {
     "duration": 0.025159,
     "end_time": "2021-10-05T23:55:52.021748",
     "exception": false,
     "start_time": "2021-10-05T23:55:51.996589",
     "status": "completed"
    },
    "tags": []
   },
   "source": [
    "# Datasets"
   ]
  },
  {
   "cell_type": "code",
   "execution_count": 4,
   "id": "3cc54604",
   "metadata": {
    "execution": {
     "iopub.execute_input": "2021-10-05T23:55:52.081461Z",
     "iopub.status.busy": "2021-10-05T23:55:52.080462Z",
     "iopub.status.idle": "2021-10-05T23:57:27.911073Z",
     "shell.execute_reply": "2021-10-05T23:57:27.910317Z",
     "shell.execute_reply.started": "2021-10-04T07:17:38.980344Z"
    },
    "papermill": {
     "duration": 95.865957,
     "end_time": "2021-10-05T23:57:27.911244",
     "exception": false,
     "start_time": "2021-10-05T23:55:52.045287",
     "status": "completed"
    },
    "tags": []
   },
   "outputs": [],
   "source": [
    "INPUT = Path(\"../input/tabular-playground-series-oct-2021\")\n",
    "\n",
    "train = pd.read_csv(INPUT / \"train.csv\")\n",
    "test = pd.read_csv(INPUT / \"test.csv\")\n",
    "submission = pd.read_csv(INPUT / \"sample_submission.csv\")"
   ]
  },
  {
   "cell_type": "code",
   "execution_count": 5,
   "id": "04919641",
   "metadata": {
    "execution": {
     "iopub.execute_input": "2021-10-05T23:57:29.198992Z",
     "iopub.status.busy": "2021-10-05T23:57:28.793175Z",
     "iopub.status.idle": "2021-10-05T23:57:29.202555Z",
     "shell.execute_reply": "2021-10-05T23:57:29.203083Z",
     "shell.execute_reply.started": "2021-10-04T07:19:21.369035Z"
    },
    "papermill": {
     "duration": 1.270606,
     "end_time": "2021-10-05T23:57:29.203262",
     "exception": false,
     "start_time": "2021-10-05T23:57:27.932656",
     "status": "completed"
    },
    "tags": []
   },
   "outputs": [],
   "source": [
    "train = train[train.columns[1:]]\n",
    "test = test[test.columns[1:]]"
   ]
  },
  {
   "cell_type": "markdown",
   "id": "2010240e",
   "metadata": {
    "papermill": {
     "duration": 0.020435,
     "end_time": "2021-10-05T23:57:29.244759",
     "exception": false,
     "start_time": "2021-10-05T23:57:29.224324",
     "status": "completed"
    },
    "tags": []
   },
   "source": [
    "# Preprocessing"
   ]
  },
  {
   "cell_type": "code",
   "execution_count": 6,
   "id": "15c79b04",
   "metadata": {
    "execution": {
     "iopub.execute_input": "2021-10-05T23:57:29.291258Z",
     "iopub.status.busy": "2021-10-05T23:57:29.290614Z",
     "iopub.status.idle": "2021-10-05T23:57:29.294072Z",
     "shell.execute_reply": "2021-10-05T23:57:29.293070Z",
     "shell.execute_reply.started": "2021-10-04T07:19:23.214541Z"
    },
    "papermill": {
     "duration": 0.028756,
     "end_time": "2021-10-05T23:57:29.294218",
     "exception": false,
     "start_time": "2021-10-05T23:57:29.265462",
     "status": "completed"
    },
    "tags": []
   },
   "outputs": [],
   "source": [
    "features = [col for col in train.columns if 'f' in col]"
   ]
  },
  {
   "cell_type": "code",
   "execution_count": 7,
   "id": "08bc09e9",
   "metadata": {
    "execution": {
     "iopub.execute_input": "2021-10-05T23:57:29.996073Z",
     "iopub.status.busy": "2021-10-05T23:57:29.995380Z",
     "iopub.status.idle": "2021-10-05T23:57:49.243002Z",
     "shell.execute_reply": "2021-10-05T23:57:49.242250Z",
     "shell.execute_reply.started": "2021-10-04T07:19:23.222364Z"
    },
    "papermill": {
     "duration": 19.926832,
     "end_time": "2021-10-05T23:57:49.243161",
     "exception": false,
     "start_time": "2021-10-05T23:57:29.316329",
     "status": "completed"
    },
    "tags": []
   },
   "outputs": [],
   "source": [
    "train[\"mean\"] = train[features].mean(axis=1)\n",
    "train[\"std\"] = train[features].std(axis=1)\n",
    "train[\"min\"] = train[features].min(axis=1)\n",
    "train[\"max\"] = train[features].max(axis=1)\n",
    "\n",
    "test[\"mean\"] = test[features].mean(axis=1)\n",
    "test[\"std\"] = test[features].std(axis=1)\n",
    "test[\"min\"] = test[features].min(axis=1)\n",
    "test[\"max\"] = test[features].max(axis=1)\n",
    "\n",
    "features = features + ['mean', 'std', 'min', 'max']"
   ]
  },
  {
   "cell_type": "code",
   "execution_count": 8,
   "id": "941d2aff",
   "metadata": {
    "execution": {
     "iopub.execute_input": "2021-10-05T23:57:49.295729Z",
     "iopub.status.busy": "2021-10-05T23:57:49.294065Z",
     "iopub.status.idle": "2021-10-05T23:58:47.667899Z",
     "shell.execute_reply": "2021-10-05T23:58:47.668435Z",
     "shell.execute_reply.started": "2021-10-04T07:19:52.694888Z"
    },
    "papermill": {
     "duration": 58.403931,
     "end_time": "2021-10-05T23:58:47.668625",
     "exception": false,
     "start_time": "2021-10-05T23:57:49.264694",
     "status": "completed"
    },
    "tags": []
   },
   "outputs": [
    {
     "name": "stdout",
     "output_type": "stream",
     "text": [
      "cat_cols: Index(['f22', 'f43', 'f242', 'f243', 'f244', 'f245', 'f246', 'f247', 'f248',\n",
      "       'f249', 'f250', 'f251', 'f252', 'f253', 'f254', 'f255', 'f256', 'f257',\n",
      "       'f258', 'f259', 'f260', 'f261', 'f262', 'f263', 'f264', 'f265', 'f266',\n",
      "       'f267', 'f268', 'f269', 'f270', 'f271', 'f272', 'f273', 'f274', 'f275',\n",
      "       'f276', 'f277', 'f278', 'f279', 'f280', 'f281', 'f282', 'f283', 'f284',\n",
      "       'min', 'max'],\n",
      "      dtype='object')\n"
     ]
    }
   ],
   "source": [
    "cat_cols = train[features].columns[(train[features].nunique() < 5)]\n",
    "con_cols = train[features].columns[(train[features].nunique() >= 5)]\n",
    "cat_cols_indices = [train[features].columns.get_loc(col) for col in cat_cols]\n",
    "print(f\"cat_cols: {cat_cols}\")"
   ]
  },
  {
   "cell_type": "code",
   "execution_count": 9,
   "id": "12e6c4d5",
   "metadata": {
    "execution": {
     "iopub.execute_input": "2021-10-05T23:58:48.300097Z",
     "iopub.status.busy": "2021-10-05T23:58:48.295806Z",
     "iopub.status.idle": "2021-10-05T23:58:56.201021Z",
     "shell.execute_reply": "2021-10-05T23:58:56.201530Z",
     "shell.execute_reply.started": "2021-10-04T07:21:21.878433Z"
    },
    "papermill": {
     "duration": 8.511749,
     "end_time": "2021-10-05T23:58:56.201764",
     "exception": false,
     "start_time": "2021-10-05T23:58:47.690015",
     "status": "completed"
    },
    "tags": []
   },
   "outputs": [],
   "source": [
    "scaler = StandardScaler()\n",
    "\n",
    "train[con_cols] = pd.DataFrame(columns=con_cols, data=scaler.fit_transform(train[con_cols]))\n",
    "test[con_cols] = pd.DataFrame(columns=con_cols, data=scaler.transform(test[con_cols]))"
   ]
  },
  {
   "cell_type": "code",
   "execution_count": 10,
   "id": "e3c583d9",
   "metadata": {
    "execution": {
     "iopub.execute_input": "2021-10-05T23:58:56.249519Z",
     "iopub.status.busy": "2021-10-05T23:58:56.248835Z",
     "iopub.status.idle": "2021-10-05T23:58:56.263387Z",
     "shell.execute_reply": "2021-10-05T23:58:56.263985Z",
     "shell.execute_reply.started": "2021-10-04T07:21:35.009513Z"
    },
    "papermill": {
     "duration": 0.03936,
     "end_time": "2021-10-05T23:58:56.264184",
     "exception": false,
     "start_time": "2021-10-05T23:58:56.224824",
     "status": "completed"
    },
    "tags": []
   },
   "outputs": [],
   "source": [
    "def reduce_mem_usage(props):\n",
    "    start_mem_usg = props.memory_usage().sum() / 1024**2 \n",
    "    print(\"Memory usage of properties dataframe is :\",start_mem_usg,\" MB\")\n",
    "    for col in props.columns:\n",
    "        if props[col].dtype != object:  # Exclude strings\n",
    "            # make variables for Int, max and min\n",
    "            IsInt = False\n",
    "            mx = props[col].max()\n",
    "            mn = props[col].min()\n",
    "    \n",
    "            # test if column can be converted to an integer\n",
    "            asint = props[col].astype(np.int64)\n",
    "            result = (props[col] - asint)\n",
    "            result = result.sum()\n",
    "            if result > -0.01 and result < 0.01:\n",
    "                IsInt = True\n",
    "\n",
    "            \n",
    "            # Make Integer/unsigned Integer datatypes\n",
    "            if IsInt:\n",
    "                if mn >= 0:\n",
    "                    if mx < 255:\n",
    "                        props[col] = props[col].astype(np.uint8)\n",
    "                    elif mx < 65535:\n",
    "                        props[col] = props[col].astype(np.uint16)\n",
    "                    elif mx < 4294967295:\n",
    "                        props[col] = props[col].astype(np.uint32)\n",
    "                    else:\n",
    "                        props[col] = props[col].astype(np.uint64)\n",
    "                else:\n",
    "                    if mn > np.iinfo(np.int8).min and mx < np.iinfo(np.int8).max:\n",
    "                        props[col] = props[col].astype(np.int8)\n",
    "                    elif mn > np.iinfo(np.int16).min and mx < np.iinfo(np.int16).max:\n",
    "                        props[col] = props[col].astype(np.int16)\n",
    "                    elif mn > np.iinfo(np.int32).min and mx < np.iinfo(np.int32).max:\n",
    "                        props[col] = props[col].astype(np.int32)\n",
    "                    elif mn > np.iinfo(np.int64).min and mx < np.iinfo(np.int64).max:\n",
    "                        props[col] = props[col].astype(np.int64)    \n",
    "            \n",
    "            # Make float datatypes 32 bit\n",
    "            else:\n",
    "                props[col] = props[col].astype(np.float32)\n",
    "    \n",
    "    # Print final result\n",
    "    print(\"___MEMORY USAGE AFTER COMPLETION:___\")\n",
    "    mem_usg = props.memory_usage().sum() / 1024**2 \n",
    "    print(\"Memory usage is: \",mem_usg,\" MB\")\n",
    "    print(\"This is \",100*mem_usg/start_mem_usg,\"% of the initial size\")\n",
    "    return props"
   ]
  },
  {
   "cell_type": "code",
   "execution_count": 11,
   "id": "4e508c60",
   "metadata": {
    "execution": {
     "iopub.execute_input": "2021-10-05T23:58:56.310459Z",
     "iopub.status.busy": "2021-10-05T23:58:56.309806Z",
     "iopub.status.idle": "2021-10-06T00:00:48.618644Z",
     "shell.execute_reply": "2021-10-06T00:00:48.619162Z",
     "shell.execute_reply.started": "2021-10-04T07:21:35.027642Z"
    },
    "papermill": {
     "duration": 112.333482,
     "end_time": "2021-10-06T00:00:48.619352",
     "exception": false,
     "start_time": "2021-10-05T23:58:56.285870",
     "status": "completed"
    },
    "tags": []
   },
   "outputs": [
    {
     "name": "stdout",
     "output_type": "stream",
     "text": [
      "Memory usage of properties dataframe is : 2212.5245361328125  MB\n",
      "___MEMORY USAGE AFTER COMPLETION:___\n",
      "Memory usage is:  968.9332275390625  MB\n",
      "This is  43.79310654934584 % of the initial size\n",
      "Memory usage of properties dataframe is : 1102.4476318359375  MB\n",
      "___MEMORY USAGE AFTER COMPLETION:___\n",
      "Memory usage is:  483.9898376464844  MB\n",
      "This is  43.90139029465575 % of the initial size\n"
     ]
    }
   ],
   "source": [
    "train = reduce_mem_usage(train)\n",
    "test  = reduce_mem_usage(test)"
   ]
  },
  {
   "cell_type": "code",
   "execution_count": 12,
   "id": "8b958a06",
   "metadata": {
    "execution": {
     "iopub.execute_input": "2021-10-06T00:00:48.674430Z",
     "iopub.status.busy": "2021-10-06T00:00:48.672945Z",
     "iopub.status.idle": "2021-10-06T00:00:49.214569Z",
     "shell.execute_reply": "2021-10-06T00:00:49.215067Z",
     "shell.execute_reply.started": "2021-10-04T07:24:31.446188Z"
    },
    "papermill": {
     "duration": 0.573637,
     "end_time": "2021-10-06T00:00:49.215246",
     "exception": false,
     "start_time": "2021-10-06T00:00:48.641609",
     "status": "completed"
    },
    "tags": []
   },
   "outputs": [
    {
     "data": {
      "text/html": [
       "<div>\n",
       "<style scoped>\n",
       "    .dataframe tbody tr th:only-of-type {\n",
       "        vertical-align: middle;\n",
       "    }\n",
       "\n",
       "    .dataframe tbody tr th {\n",
       "        vertical-align: top;\n",
       "    }\n",
       "\n",
       "    .dataframe thead th {\n",
       "        text-align: right;\n",
       "    }\n",
       "</style>\n",
       "<table border=\"1\" class=\"dataframe\">\n",
       "  <thead>\n",
       "    <tr style=\"text-align: right;\">\n",
       "      <th></th>\n",
       "      <th>f0</th>\n",
       "      <th>f1</th>\n",
       "      <th>f2</th>\n",
       "      <th>f3</th>\n",
       "      <th>f4</th>\n",
       "      <th>f5</th>\n",
       "      <th>f6</th>\n",
       "      <th>f7</th>\n",
       "      <th>f8</th>\n",
       "      <th>f9</th>\n",
       "      <th>...</th>\n",
       "      <th>f279</th>\n",
       "      <th>f280</th>\n",
       "      <th>f281</th>\n",
       "      <th>f282</th>\n",
       "      <th>f283</th>\n",
       "      <th>f284</th>\n",
       "      <th>mean</th>\n",
       "      <th>std</th>\n",
       "      <th>min</th>\n",
       "      <th>max</th>\n",
       "    </tr>\n",
       "  </thead>\n",
       "  <tbody>\n",
       "    <tr>\n",
       "      <th>0</th>\n",
       "      <td>-0.677383</td>\n",
       "      <td>-0.242816</td>\n",
       "      <td>-0.985247</td>\n",
       "      <td>-1.195697</td>\n",
       "      <td>-1.652015</td>\n",
       "      <td>-1.586751</td>\n",
       "      <td>-1.234930</td>\n",
       "      <td>1.289721</td>\n",
       "      <td>0.929646</td>\n",
       "      <td>0.720009</td>\n",
       "      <td>...</td>\n",
       "      <td>0</td>\n",
       "      <td>0</td>\n",
       "      <td>1</td>\n",
       "      <td>1</td>\n",
       "      <td>1</td>\n",
       "      <td>0</td>\n",
       "      <td>0.234938</td>\n",
       "      <td>0.713578</td>\n",
       "      <td>0</td>\n",
       "      <td>1</td>\n",
       "    </tr>\n",
       "    <tr>\n",
       "      <th>1</th>\n",
       "      <td>-0.620481</td>\n",
       "      <td>0.160259</td>\n",
       "      <td>-0.884402</td>\n",
       "      <td>0.087831</td>\n",
       "      <td>0.150076</td>\n",
       "      <td>-1.152499</td>\n",
       "      <td>-0.772270</td>\n",
       "      <td>1.023922</td>\n",
       "      <td>-1.493109</td>\n",
       "      <td>-0.417006</td>\n",
       "      <td>...</td>\n",
       "      <td>0</td>\n",
       "      <td>0</td>\n",
       "      <td>0</td>\n",
       "      <td>0</td>\n",
       "      <td>0</td>\n",
       "      <td>0</td>\n",
       "      <td>-0.717136</td>\n",
       "      <td>-0.848016</td>\n",
       "      <td>0</td>\n",
       "      <td>1</td>\n",
       "    </tr>\n",
       "    <tr>\n",
       "      <th>2</th>\n",
       "      <td>-1.024253</td>\n",
       "      <td>-0.088991</td>\n",
       "      <td>1.079392</td>\n",
       "      <td>1.388078</td>\n",
       "      <td>0.120719</td>\n",
       "      <td>-0.053533</td>\n",
       "      <td>-1.028151</td>\n",
       "      <td>-0.192132</td>\n",
       "      <td>-0.395183</td>\n",
       "      <td>-0.093546</td>\n",
       "      <td>...</td>\n",
       "      <td>0</td>\n",
       "      <td>0</td>\n",
       "      <td>1</td>\n",
       "      <td>0</td>\n",
       "      <td>0</td>\n",
       "      <td>0</td>\n",
       "      <td>0.587046</td>\n",
       "      <td>0.987172</td>\n",
       "      <td>0</td>\n",
       "      <td>1</td>\n",
       "    </tr>\n",
       "    <tr>\n",
       "      <th>3</th>\n",
       "      <td>-0.598463</td>\n",
       "      <td>0.599685</td>\n",
       "      <td>-0.280695</td>\n",
       "      <td>0.793873</td>\n",
       "      <td>1.396931</td>\n",
       "      <td>-0.994456</td>\n",
       "      <td>-0.872602</td>\n",
       "      <td>-0.816411</td>\n",
       "      <td>-1.270981</td>\n",
       "      <td>-0.043680</td>\n",
       "      <td>...</td>\n",
       "      <td>0</td>\n",
       "      <td>1</td>\n",
       "      <td>1</td>\n",
       "      <td>0</td>\n",
       "      <td>0</td>\n",
       "      <td>0</td>\n",
       "      <td>0.815102</td>\n",
       "      <td>0.387856</td>\n",
       "      <td>0</td>\n",
       "      <td>1</td>\n",
       "    </tr>\n",
       "    <tr>\n",
       "      <th>4</th>\n",
       "      <td>0.281231</td>\n",
       "      <td>-1.220983</td>\n",
       "      <td>-0.875313</td>\n",
       "      <td>0.369118</td>\n",
       "      <td>0.763212</td>\n",
       "      <td>1.115671</td>\n",
       "      <td>1.192359</td>\n",
       "      <td>0.199376</td>\n",
       "      <td>0.647326</td>\n",
       "      <td>-0.464385</td>\n",
       "      <td>...</td>\n",
       "      <td>1</td>\n",
       "      <td>0</td>\n",
       "      <td>0</td>\n",
       "      <td>1</td>\n",
       "      <td>0</td>\n",
       "      <td>0</td>\n",
       "      <td>-0.059900</td>\n",
       "      <td>0.193448</td>\n",
       "      <td>0</td>\n",
       "      <td>1</td>\n",
       "    </tr>\n",
       "    <tr>\n",
       "      <th>...</th>\n",
       "      <td>...</td>\n",
       "      <td>...</td>\n",
       "      <td>...</td>\n",
       "      <td>...</td>\n",
       "      <td>...</td>\n",
       "      <td>...</td>\n",
       "      <td>...</td>\n",
       "      <td>...</td>\n",
       "      <td>...</td>\n",
       "      <td>...</td>\n",
       "      <td>...</td>\n",
       "      <td>...</td>\n",
       "      <td>...</td>\n",
       "      <td>...</td>\n",
       "      <td>...</td>\n",
       "      <td>...</td>\n",
       "      <td>...</td>\n",
       "      <td>...</td>\n",
       "      <td>...</td>\n",
       "      <td>...</td>\n",
       "      <td>...</td>\n",
       "    </tr>\n",
       "    <tr>\n",
       "      <th>499995</th>\n",
       "      <td>-0.541280</td>\n",
       "      <td>0.642739</td>\n",
       "      <td>-0.946219</td>\n",
       "      <td>-1.164745</td>\n",
       "      <td>-0.708815</td>\n",
       "      <td>0.262982</td>\n",
       "      <td>0.629577</td>\n",
       "      <td>1.172683</td>\n",
       "      <td>-0.078199</td>\n",
       "      <td>-0.393215</td>\n",
       "      <td>...</td>\n",
       "      <td>0</td>\n",
       "      <td>0</td>\n",
       "      <td>1</td>\n",
       "      <td>0</td>\n",
       "      <td>0</td>\n",
       "      <td>0</td>\n",
       "      <td>-1.011832</td>\n",
       "      <td>-1.211808</td>\n",
       "      <td>0</td>\n",
       "      <td>1</td>\n",
       "    </tr>\n",
       "    <tr>\n",
       "      <th>499996</th>\n",
       "      <td>-0.584022</td>\n",
       "      <td>0.918391</td>\n",
       "      <td>-1.003251</td>\n",
       "      <td>0.048331</td>\n",
       "      <td>0.484493</td>\n",
       "      <td>1.055669</td>\n",
       "      <td>0.478465</td>\n",
       "      <td>-1.108239</td>\n",
       "      <td>0.425020</td>\n",
       "      <td>-0.276404</td>\n",
       "      <td>...</td>\n",
       "      <td>0</td>\n",
       "      <td>0</td>\n",
       "      <td>0</td>\n",
       "      <td>1</td>\n",
       "      <td>0</td>\n",
       "      <td>0</td>\n",
       "      <td>-0.571106</td>\n",
       "      <td>-0.366257</td>\n",
       "      <td>0</td>\n",
       "      <td>1</td>\n",
       "    </tr>\n",
       "    <tr>\n",
       "      <th>499997</th>\n",
       "      <td>-0.556715</td>\n",
       "      <td>0.724710</td>\n",
       "      <td>-0.977074</td>\n",
       "      <td>-1.208552</td>\n",
       "      <td>1.213713</td>\n",
       "      <td>0.966301</td>\n",
       "      <td>0.306746</td>\n",
       "      <td>-1.006763</td>\n",
       "      <td>-1.687109</td>\n",
       "      <td>1.301561</td>\n",
       "      <td>...</td>\n",
       "      <td>0</td>\n",
       "      <td>0</td>\n",
       "      <td>0</td>\n",
       "      <td>0</td>\n",
       "      <td>0</td>\n",
       "      <td>0</td>\n",
       "      <td>0.170697</td>\n",
       "      <td>0.016326</td>\n",
       "      <td>0</td>\n",
       "      <td>1</td>\n",
       "    </tr>\n",
       "    <tr>\n",
       "      <th>499998</th>\n",
       "      <td>0.251260</td>\n",
       "      <td>0.523399</td>\n",
       "      <td>0.408509</td>\n",
       "      <td>0.572796</td>\n",
       "      <td>0.736491</td>\n",
       "      <td>-0.261961</td>\n",
       "      <td>-1.522311</td>\n",
       "      <td>0.819159</td>\n",
       "      <td>0.872066</td>\n",
       "      <td>-0.883931</td>\n",
       "      <td>...</td>\n",
       "      <td>0</td>\n",
       "      <td>0</td>\n",
       "      <td>1</td>\n",
       "      <td>0</td>\n",
       "      <td>0</td>\n",
       "      <td>0</td>\n",
       "      <td>-2.531486</td>\n",
       "      <td>-3.519996</td>\n",
       "      <td>0</td>\n",
       "      <td>1</td>\n",
       "    </tr>\n",
       "    <tr>\n",
       "      <th>499999</th>\n",
       "      <td>-0.539629</td>\n",
       "      <td>-0.532918</td>\n",
       "      <td>-0.262035</td>\n",
       "      <td>0.784168</td>\n",
       "      <td>0.645558</td>\n",
       "      <td>-0.558503</td>\n",
       "      <td>-0.417623</td>\n",
       "      <td>1.419574</td>\n",
       "      <td>-0.404060</td>\n",
       "      <td>0.305921</td>\n",
       "      <td>...</td>\n",
       "      <td>0</td>\n",
       "      <td>1</td>\n",
       "      <td>0</td>\n",
       "      <td>0</td>\n",
       "      <td>0</td>\n",
       "      <td>0</td>\n",
       "      <td>0.713990</td>\n",
       "      <td>1.093107</td>\n",
       "      <td>0</td>\n",
       "      <td>1</td>\n",
       "    </tr>\n",
       "  </tbody>\n",
       "</table>\n",
       "<p>500000 rows × 289 columns</p>\n",
       "</div>"
      ],
      "text/plain": [
       "              f0        f1        f2        f3        f4        f5        f6  \\\n",
       "0      -0.677383 -0.242816 -0.985247 -1.195697 -1.652015 -1.586751 -1.234930   \n",
       "1      -0.620481  0.160259 -0.884402  0.087831  0.150076 -1.152499 -0.772270   \n",
       "2      -1.024253 -0.088991  1.079392  1.388078  0.120719 -0.053533 -1.028151   \n",
       "3      -0.598463  0.599685 -0.280695  0.793873  1.396931 -0.994456 -0.872602   \n",
       "4       0.281231 -1.220983 -0.875313  0.369118  0.763212  1.115671  1.192359   \n",
       "...          ...       ...       ...       ...       ...       ...       ...   \n",
       "499995 -0.541280  0.642739 -0.946219 -1.164745 -0.708815  0.262982  0.629577   \n",
       "499996 -0.584022  0.918391 -1.003251  0.048331  0.484493  1.055669  0.478465   \n",
       "499997 -0.556715  0.724710 -0.977074 -1.208552  1.213713  0.966301  0.306746   \n",
       "499998  0.251260  0.523399  0.408509  0.572796  0.736491 -0.261961 -1.522311   \n",
       "499999 -0.539629 -0.532918 -0.262035  0.784168  0.645558 -0.558503 -0.417623   \n",
       "\n",
       "              f7        f8        f9  ...  f279  f280  f281  f282  f283  f284  \\\n",
       "0       1.289721  0.929646  0.720009  ...     0     0     1     1     1     0   \n",
       "1       1.023922 -1.493109 -0.417006  ...     0     0     0     0     0     0   \n",
       "2      -0.192132 -0.395183 -0.093546  ...     0     0     1     0     0     0   \n",
       "3      -0.816411 -1.270981 -0.043680  ...     0     1     1     0     0     0   \n",
       "4       0.199376  0.647326 -0.464385  ...     1     0     0     1     0     0   \n",
       "...          ...       ...       ...  ...   ...   ...   ...   ...   ...   ...   \n",
       "499995  1.172683 -0.078199 -0.393215  ...     0     0     1     0     0     0   \n",
       "499996 -1.108239  0.425020 -0.276404  ...     0     0     0     1     0     0   \n",
       "499997 -1.006763 -1.687109  1.301561  ...     0     0     0     0     0     0   \n",
       "499998  0.819159  0.872066 -0.883931  ...     0     0     1     0     0     0   \n",
       "499999  1.419574 -0.404060  0.305921  ...     0     1     0     0     0     0   \n",
       "\n",
       "            mean       std  min  max  \n",
       "0       0.234938  0.713578    0    1  \n",
       "1      -0.717136 -0.848016    0    1  \n",
       "2       0.587046  0.987172    0    1  \n",
       "3       0.815102  0.387856    0    1  \n",
       "4      -0.059900  0.193448    0    1  \n",
       "...          ...       ...  ...  ...  \n",
       "499995 -1.011832 -1.211808    0    1  \n",
       "499996 -0.571106 -0.366257    0    1  \n",
       "499997  0.170697  0.016326    0    1  \n",
       "499998 -2.531486 -3.519996    0    1  \n",
       "499999  0.713990  1.093107    0    1  \n",
       "\n",
       "[500000 rows x 289 columns]"
      ]
     },
     "execution_count": 12,
     "metadata": {},
     "output_type": "execute_result"
    }
   ],
   "source": [
    "test[features]"
   ]
  },
  {
   "cell_type": "code",
   "execution_count": 13,
   "id": "6e7be007",
   "metadata": {
    "execution": {
     "iopub.execute_input": "2021-10-06T00:00:49.271487Z",
     "iopub.status.busy": "2021-10-06T00:00:49.270498Z",
     "iopub.status.idle": "2021-10-06T00:00:49.274804Z",
     "shell.execute_reply": "2021-10-06T00:00:49.274284Z",
     "shell.execute_reply.started": "2021-10-04T07:24:31.998191Z"
    },
    "papermill": {
     "duration": 0.036195,
     "end_time": "2021-10-06T00:00:49.274967",
     "exception": false,
     "start_time": "2021-10-06T00:00:49.238772",
     "status": "completed"
    },
    "tags": []
   },
   "outputs": [
    {
     "data": {
      "text/plain": [
       "0         1\n",
       "1         1\n",
       "2         1\n",
       "3         1\n",
       "4         1\n",
       "         ..\n",
       "999995    1\n",
       "999996    0\n",
       "999997    0\n",
       "999998    1\n",
       "999999    0\n",
       "Name: target, Length: 1000000, dtype: uint8"
      ]
     },
     "execution_count": 13,
     "metadata": {},
     "output_type": "execute_result"
    }
   ],
   "source": [
    "train[target]"
   ]
  },
  {
   "cell_type": "code",
   "execution_count": 14,
   "id": "e7caee11",
   "metadata": {
    "execution": {
     "iopub.execute_input": "2021-10-06T00:00:49.438108Z",
     "iopub.status.busy": "2021-10-06T00:00:49.437187Z",
     "iopub.status.idle": "2021-10-06T00:00:49.441229Z",
     "shell.execute_reply": "2021-10-06T00:00:49.440662Z",
     "shell.execute_reply.started": "2021-10-04T07:24:32.011225Z"
    },
    "papermill": {
     "duration": 0.142558,
     "end_time": "2021-10-06T00:00:49.441379",
     "exception": false,
     "start_time": "2021-10-06T00:00:49.298821",
     "status": "completed"
    },
    "tags": []
   },
   "outputs": [
    {
     "data": {
      "text/plain": [
       "40"
      ]
     },
     "execution_count": 14,
     "metadata": {},
     "output_type": "execute_result"
    }
   ],
   "source": [
    "del cat_cols\n",
    "del cat_cols_indices\n",
    "del con_cols\n",
    "del scaler\n",
    "\n",
    "gc.collect()"
   ]
  },
  {
   "cell_type": "markdown",
   "id": "d04e1679",
   "metadata": {
    "papermill": {
     "duration": 0.023565,
     "end_time": "2021-10-06T00:00:49.488791",
     "exception": false,
     "start_time": "2021-10-06T00:00:49.465226",
     "status": "completed"
    },
    "tags": []
   },
   "source": [
    "# XGB"
   ]
  },
  {
   "cell_type": "code",
   "execution_count": 15,
   "id": "67bdbf09",
   "metadata": {
    "execution": {
     "iopub.execute_input": "2021-10-06T00:00:49.542212Z",
     "iopub.status.busy": "2021-10-06T00:00:49.541453Z",
     "iopub.status.idle": "2021-10-06T00:00:49.546021Z",
     "shell.execute_reply": "2021-10-06T00:00:49.545471Z",
     "shell.execute_reply.started": "2021-09-07T00:44:32.516352Z"
    },
    "papermill": {
     "duration": 0.033597,
     "end_time": "2021-10-06T00:00:49.546163",
     "exception": false,
     "start_time": "2021-10-06T00:00:49.512566",
     "status": "completed"
    },
    "tags": []
   },
   "outputs": [],
   "source": [
    "xgb_params = {\n",
    "     'objective': 'binary:logistic',\n",
    "     'n_estimators':N_ESTIMATORS,\n",
    "     'importance_type': 'total_gain',\n",
    "     #'booster': 'gbtree',\n",
    "     'n_jobs' : -1,\n",
    "     'tree_method': 'hist',\n",
    "        \n",
    "    'learning_rate': 8e-3,\n",
    "    'subsample': 0.6,\n",
    "    'colsample_bytree': 0.4,\n",
    "    'reg_lambda': 32, \n",
    "    'reg_alpha': 64, \n",
    "    'min_child_weight': 8,\n",
    "    'max_depth': 8, \n",
    "    \n",
    "    'colsample_bylevel': 0.9,\n",
    "}"
   ]
  },
  {
   "cell_type": "code",
   "execution_count": 16,
   "id": "57f71619",
   "metadata": {
    "execution": {
     "iopub.execute_input": "2021-10-06T00:00:49.612148Z",
     "iopub.status.busy": "2021-10-06T00:00:49.611025Z",
     "iopub.status.idle": "2021-10-06T05:04:05.461108Z",
     "shell.execute_reply": "2021-10-06T05:04:05.461926Z",
     "shell.execute_reply.started": "2021-09-07T00:48:20.356186Z"
    },
    "papermill": {
     "duration": 18195.892729,
     "end_time": "2021-10-06T05:04:05.462940",
     "exception": false,
     "start_time": "2021-10-06T00:00:49.570211",
     "status": "completed"
    },
    "tags": []
   },
   "outputs": [
    {
     "name": "stdout",
     "output_type": "stream",
     "text": [
      "===== fold 0 =====\n",
      "===== fold 1 =====\n",
      "===== fold 2 =====\n",
      "===== fold 3 =====\n",
      "[0]\tvalidation_0-auc:0.62019\n",
      "[1000]\tvalidation_0-auc:0.84846\n",
      "[2000]\tvalidation_0-auc:0.85325\n",
      "[3000]\tvalidation_0-auc:0.85508\n",
      "[4000]\tvalidation_0-auc:0.85591\n",
      "[5000]\tvalidation_0-auc:0.85627\n",
      "[6000]\tvalidation_0-auc:0.85642\n",
      "[7000]\tvalidation_0-auc:0.85649\n",
      "[8000]\tvalidation_0-auc:0.85651\n",
      "[8415]\tvalidation_0-auc:0.85650\n",
      "[0]\tvalidation_0-auc:0.85650\n",
      "[1000]\tvalidation_0-auc:0.85650\n",
      "[1099]\tvalidation_0-auc:0.85650\n",
      "fold 3 - xgb auc: 0.856587, elapsed time: 8530.20sec\n",
      "\n",
      "===== fold 4 =====\n",
      "[0]\tvalidation_0-auc:0.61974\n",
      "[1000]\tvalidation_0-auc:0.84873\n",
      "[2000]\tvalidation_0-auc:0.85339\n",
      "[3000]\tvalidation_0-auc:0.85515\n",
      "[4000]\tvalidation_0-auc:0.85590\n",
      "[5000]\tvalidation_0-auc:0.85623\n",
      "[6000]\tvalidation_0-auc:0.85636\n",
      "[7000]\tvalidation_0-auc:0.85640\n",
      "[7373]\tvalidation_0-auc:0.85641\n",
      "[0]\tvalidation_0-auc:0.85641\n",
      "[1000]\tvalidation_0-auc:0.85642\n",
      "[2000]\tvalidation_0-auc:0.85642\n",
      "[3000]\tvalidation_0-auc:0.85644\n",
      "[3456]\tvalidation_0-auc:0.85643\n",
      "fold 4 - xgb auc: 0.856475, elapsed time: 9658.95sec\n",
      "\n",
      "oof xgb_auc = 0.5570449126115582\n"
     ]
    }
   ],
   "source": [
    "xgb_oof = np.zeros(train.shape[0])\n",
    "xgb_pred = np.zeros(test.shape[0])\n",
    "xgb_importances = pd.DataFrame()\n",
    "\n",
    "X_test = test[features]\n",
    "del test\n",
    "gc.collect()\n",
    "\n",
    "\n",
    "kf = StratifiedKFold(n_splits=N_SPLITS, shuffle=True, random_state=CVSEED)\n",
    "seed_list=[SEED+4]\n",
    "\n",
    "for fold, (trn_idx, val_idx) in enumerate(kf.split(X=train[features], y=train[target])):\n",
    "    print(f\"===== fold {fold} =====\")\n",
    "    if fold >2:\n",
    "        \n",
    "        X_train = train[features].iloc[trn_idx]\n",
    "        y_train = train[target].iloc[trn_idx]\n",
    "        X_valid = train[features].iloc[val_idx]\n",
    "        y_valid = train[target].iloc[val_idx]\n",
    "        \n",
    "\n",
    "\n",
    "        start = time.time()\n",
    "        for inseed in seed_list:\n",
    "            xgb_params['random_state'] = inseed\n",
    "\n",
    "            pre_model = xgb.XGBClassifier(**xgb_params)\n",
    "            pre_model.fit(\n",
    "                X_train, \n",
    "                y_train,\n",
    "                eval_set=[(X_valid, y_valid)],\n",
    "                eval_metric='auc',\n",
    "                early_stopping_rounds=EARLY_STOPPING_ROUNDS,\n",
    "                verbose=VERBOSE,\n",
    "            )\n",
    "\n",
    "            xgb_params2 = xgb_params.copy()\n",
    "            xgb_params2['reg_lambda'] *= 0.9\n",
    "            xgb_params2['reg_alpha'] *= 0.9\n",
    "            xgb_params2['learning_rate'] *= 0.1\n",
    "            model = xgb.XGBClassifier(**xgb_params2)\n",
    "            model.fit(\n",
    "                    X_train, y_train,\n",
    "                    eval_set=[(X_valid, y_valid)],\n",
    "                    eval_metric='auc',\n",
    "                    early_stopping_rounds=EARLY_STOPPING_ROUNDS,\n",
    "                    verbose=VERBOSE,\n",
    "                    xgb_model=pre_model\n",
    "            )    \n",
    "\n",
    "            with open(f\"xgb_model{fold}_seed{inseed}.pkl\", 'wb') as f:\n",
    "                pickle.dump(model, f)\n",
    "\n",
    "            fi_tmp = pd.DataFrame()\n",
    "            fi_tmp['feature'] = X_train.columns\n",
    "            fi_tmp['importance'] = model.feature_importances_\n",
    "            fi_tmp['fold'] = fold\n",
    "            fi_tmp['seed'] = inseed\n",
    "            xgb_importances = xgb_importances.append(fi_tmp)\n",
    "\n",
    "            xgb_oof[val_idx] += model.predict_proba(X_valid)[:,-1] / len(seed_list)\n",
    "            xgb_pred += model.predict_proba(X_test)[:,-1] / len(seed_list)\n",
    "            \n",
    "            del pre_model\n",
    "            del model\n",
    "            gc.collect()\n",
    "\n",
    "\n",
    "        elapsed = time.time() - start\n",
    "        auc = roc_auc_score(y_valid, xgb_oof[val_idx])\n",
    "        print(f\"fold {fold} - xgb auc: {auc:.6f}, elapsed time: {elapsed:.2f}sec\\n\")\n",
    "        \n",
    "        del X_train\n",
    "        del y_train\n",
    "        del X_valid\n",
    "        del y_valid\n",
    "        gc.collect()\n",
    "\n",
    "\n",
    "del X_test\n",
    "gc.collect()\n",
    "\n",
    "xgb_pred /= N_SPLITS\n",
    "print(f\"oof xgb_auc = {roc_auc_score(train[target], xgb_oof)}\")\n",
    "\n",
    "np.save(\"xgb_oof.npy\", xgb_oof)\n",
    "np.save(\"xgb_pred.npy\", xgb_pred)"
   ]
  },
  {
   "cell_type": "markdown",
   "id": "92228185",
   "metadata": {
    "papermill": {
     "duration": 0.033623,
     "end_time": "2021-10-06T05:04:05.530717",
     "exception": false,
     "start_time": "2021-10-06T05:04:05.497094",
     "status": "completed"
    },
    "tags": []
   },
   "source": [
    "# OOF predictions"
   ]
  },
  {
   "cell_type": "code",
   "execution_count": 17,
   "id": "591faa3c",
   "metadata": {
    "execution": {
     "iopub.execute_input": "2021-10-06T05:04:05.623605Z",
     "iopub.status.busy": "2021-10-06T05:04:05.619311Z",
     "iopub.status.idle": "2021-10-06T05:04:09.576609Z",
     "shell.execute_reply": "2021-10-06T05:04:09.575972Z",
     "shell.execute_reply.started": "2021-09-07T00:50:57.432219Z"
    },
    "papermill": {
     "duration": 4.012366,
     "end_time": "2021-10-06T05:04:09.576749",
     "exception": false,
     "start_time": "2021-10-06T05:04:05.564383",
     "status": "completed"
    },
    "tags": []
   },
   "outputs": [
    {
     "data": {
      "text/plain": [
       "<matplotlib.collections.PathCollection at 0x7f2e062ac6d0>"
      ]
     },
     "execution_count": 17,
     "metadata": {},
     "output_type": "execute_result"
    },
    {
     "data": {
      "image/png": "[encoded data removed]",
      "text/plain": [
       "<Figure size 432x288 with 1 Axes>"
      ]
     },
     "metadata": {
      "needs_background": "light"
     },
     "output_type": "display_data"
    }
   ],
   "source": [
    "plt.plot(train[target], train[target])\n",
    "plt.scatter(train[target], xgb_oof)"
   ]
  },
  {
   "cell_type": "code",
   "execution_count": 18,
   "id": "1bf34050",
   "metadata": {
    "execution": {
     "iopub.execute_input": "2021-10-06T05:04:09.788324Z",
     "iopub.status.busy": "2021-10-06T05:04:09.787319Z",
     "iopub.status.idle": "2021-10-06T05:04:09.792775Z",
     "shell.execute_reply": "2021-10-06T05:04:09.792245Z"
    },
    "papermill": {
     "duration": 0.181696,
     "end_time": "2021-10-06T05:04:09.792935",
     "exception": false,
     "start_time": "2021-10-06T05:04:09.611239",
     "status": "completed"
    },
    "tags": []
   },
   "outputs": [
    {
     "data": {
      "text/plain": [
       "20"
      ]
     },
     "execution_count": 18,
     "metadata": {},
     "output_type": "execute_result"
    }
   ],
   "source": [
    "del train\n",
    "del xgb_oof\n",
    "gc.collect()"
   ]
  },
  {
   "cell_type": "markdown",
   "id": "4cb00d47",
   "metadata": {
    "papermill": {
     "duration": 0.034298,
     "end_time": "2021-10-06T05:04:09.862168",
     "exception": false,
     "start_time": "2021-10-06T05:04:09.827870",
     "status": "completed"
    },
    "tags": []
   },
   "source": [
    "# Features importances"
   ]
  },
  {
   "cell_type": "code",
   "execution_count": 19,
   "id": "9bd3ce1a",
   "metadata": {
    "execution": {
     "iopub.execute_input": "2021-10-06T05:04:09.946687Z",
     "iopub.status.busy": "2021-10-06T05:04:09.942228Z",
     "iopub.status.idle": "2021-10-06T05:04:15.633004Z",
     "shell.execute_reply": "2021-10-06T05:04:15.633516Z",
     "shell.execute_reply.started": "2021-09-07T00:51:01.011128Z"
    },
    "papermill": {
     "duration": 5.736053,
     "end_time": "2021-10-06T05:04:15.633689",
     "exception": false,
     "start_time": "2021-10-06T05:04:09.897636",
     "status": "completed"
    },
    "tags": []
   },
   "outputs": [
    {
     "data": {
      "text/plain": [
       "Text(0.5, 1.0, 'XGB feature importances')"
      ]
     },
     "execution_count": 19,
     "metadata": {},
     "output_type": "execute_result"
    },
    {
     "data": {
      "image/png": "[encoded data removed]",
      "text/plain": [
       "<Figure size 1152x1152 with 1 Axes>"
      ]
     },
     "metadata": {
      "needs_background": "light"
     },
     "output_type": "display_data"
    }
   ],
   "source": [
    "order = list(xgb_importances.groupby('feature').mean().sort_values('importance', ascending=False).index)\n",
    "\n",
    "fig = plt.figure(figsize=(16, 16), tight_layout=True)\n",
    "sns.barplot(x=\"importance\", y=\"feature\", data=xgb_importances.groupby('feature').mean().reset_index(), order=order)\n",
    "plt.title(\"XGB feature importances\")"
   ]
  },
  {
   "cell_type": "markdown",
   "id": "47564a99",
   "metadata": {
    "papermill": {
     "duration": 0.037582,
     "end_time": "2021-10-06T05:04:15.709156",
     "exception": false,
     "start_time": "2021-10-06T05:04:15.671574",
     "status": "completed"
    },
    "tags": []
   },
   "source": [
    "# Submission"
   ]
  },
  {
   "cell_type": "code",
   "execution_count": 20,
   "id": "f479b7db",
   "metadata": {
    "execution": {
     "iopub.execute_input": "2021-10-06T05:04:15.790014Z",
     "iopub.status.busy": "2021-10-06T05:04:15.789316Z",
     "iopub.status.idle": "2021-10-06T05:04:17.704275Z",
     "shell.execute_reply": "2021-10-06T05:04:17.703624Z",
     "shell.execute_reply.started": "2021-09-07T00:51:03.177221Z"
    },
    "papermill": {
     "duration": 1.957264,
     "end_time": "2021-10-06T05:04:17.704417",
     "exception": false,
     "start_time": "2021-10-06T05:04:15.747153",
     "status": "completed"
    },
    "tags": []
   },
   "outputs": [
    {
     "data": {
      "text/html": [
       "<div>\n",
       "<style scoped>\n",
       "    .dataframe tbody tr th:only-of-type {\n",
       "        vertical-align: middle;\n",
       "    }\n",
       "\n",
       "    .dataframe tbody tr th {\n",
       "        vertical-align: top;\n",
       "    }\n",
       "\n",
       "    .dataframe thead th {\n",
       "        text-align: right;\n",
       "    }\n",
       "</style>\n",
       "<table border=\"1\" class=\"dataframe\">\n",
       "  <thead>\n",
       "    <tr style=\"text-align: right;\">\n",
       "      <th></th>\n",
       "      <th>id</th>\n",
       "      <th>target</th>\n",
       "    </tr>\n",
       "  </thead>\n",
       "  <tbody>\n",
       "    <tr>\n",
       "      <th>0</th>\n",
       "      <td>1000000</td>\n",
       "      <td>0.275433</td>\n",
       "    </tr>\n",
       "    <tr>\n",
       "      <th>1</th>\n",
       "      <td>1000001</td>\n",
       "      <td>0.097503</td>\n",
       "    </tr>\n",
       "    <tr>\n",
       "      <th>2</th>\n",
       "      <td>1000002</td>\n",
       "      <td>0.365732</td>\n",
       "    </tr>\n",
       "    <tr>\n",
       "      <th>3</th>\n",
       "      <td>1000003</td>\n",
       "      <td>0.330921</td>\n",
       "    </tr>\n",
       "    <tr>\n",
       "      <th>4</th>\n",
       "      <td>1000004</td>\n",
       "      <td>0.109128</td>\n",
       "    </tr>\n",
       "    <tr>\n",
       "      <th>...</th>\n",
       "      <td>...</td>\n",
       "      <td>...</td>\n",
       "    </tr>\n",
       "    <tr>\n",
       "      <th>499995</th>\n",
       "      <td>1499995</td>\n",
       "      <td>0.391384</td>\n",
       "    </tr>\n",
       "    <tr>\n",
       "      <th>499996</th>\n",
       "      <td>1499996</td>\n",
       "      <td>0.340512</td>\n",
       "    </tr>\n",
       "    <tr>\n",
       "      <th>499997</th>\n",
       "      <td>1499997</td>\n",
       "      <td>0.126231</td>\n",
       "    </tr>\n",
       "    <tr>\n",
       "      <th>499998</th>\n",
       "      <td>1499998</td>\n",
       "      <td>0.210996</td>\n",
       "    </tr>\n",
       "    <tr>\n",
       "      <th>499999</th>\n",
       "      <td>1499999</td>\n",
       "      <td>0.174182</td>\n",
       "    </tr>\n",
       "  </tbody>\n",
       "</table>\n",
       "<p>500000 rows × 2 columns</p>\n",
       "</div>"
      ],
      "text/plain": [
       "             id    target\n",
       "0       1000000  0.275433\n",
       "1       1000001  0.097503\n",
       "2       1000002  0.365732\n",
       "3       1000003  0.330921\n",
       "4       1000004  0.109128\n",
       "...         ...       ...\n",
       "499995  1499995  0.391384\n",
       "499996  1499996  0.340512\n",
       "499997  1499997  0.126231\n",
       "499998  1499998  0.210996\n",
       "499999  1499999  0.174182\n",
       "\n",
       "[500000 rows x 2 columns]"
      ]
     },
     "execution_count": 20,
     "metadata": {},
     "output_type": "execute_result"
    }
   ],
   "source": [
    "submission[target] = xgb_pred\n",
    "submission.to_csv(\"submission.csv\", index=False)\n",
    "\n",
    "submission"
   ]
  },
  {
   "cell_type": "markdown",
   "id": "8662b482",
   "metadata": {
    "papermill": {
     "duration": 0.038171,
     "end_time": "2021-10-06T05:04:17.781563",
     "exception": false,
     "start_time": "2021-10-06T05:04:17.743392",
     "status": "completed"
    },
    "tags": []
   },
   "source": [
    "# Log\n",
    "\n",
    "seeds\n",
    "\n",
    "2017 ver2 fold 0-2 ver3 fold 3-4 \n",
    "\n",
    "2018 ver4 fold 0-2 ver5 fold 3-4\n",
    "\n",
    "2019 ver6 fold 0-2 ver7 fold 3-4\n",
    "\n",
    "2020 ver8 fold 0-2 ver9 fold 3-4\n",
    "\n",
    "2021 ver10 fold 0-2 ver11 fold 3-4\n"
   ]
  }
 ],
 "metadata": {
  "kernelspec": {
   "display_name": "Python 3",
   "language": "python",
   "name": "python3"
  },
  "language_info": {
   "codemirror_mode": {
    "name": "ipython",
    "version": 3
   },
   "file_extension": ".py",
   "mimetype": "text/x-python",
   "name": "python",
   "nbconvert_exporter": "python",
   "pygments_lexer": "ipython3",
   "version": "3.7.10"
  },
  "papermill": {
   "default_parameters": {},
   "duration": 18517.047058,
   "end_time": "2021-10-06T05:04:19.391578",
   "environment_variables": {},
   "exception": null,
   "input_path": "__notebook__.ipynb",
   "output_path": "__notebook__.ipynb",
   "parameters": {},
   "start_time": "2021-10-05T23:55:42.344520",
   "version": "2.3.3"
  }
 },
 "nbformat": 4,
 "nbformat_minor": 5
}
