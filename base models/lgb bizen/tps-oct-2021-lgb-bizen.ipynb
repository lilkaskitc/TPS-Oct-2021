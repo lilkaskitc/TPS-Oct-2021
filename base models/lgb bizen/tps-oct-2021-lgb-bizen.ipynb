{
 "cells": [
  {
   "cell_type": "code",
   "execution_count": 1,
   "id": "b4918927",
   "metadata": {
    "_cell_guid": "b1076dfc-b9ad-4769-8c92-a6c4dae69d19",
    "_uuid": "8f2839f25d086af736a60e9eeb907d3b93b6e0e5",
    "execution": {
     "iopub.execute_input": "2021-10-05T09:36:49.879280Z",
     "iopub.status.busy": "2021-10-05T09:36:49.878368Z",
     "iopub.status.idle": "2021-10-05T09:36:52.301142Z",
     "shell.execute_reply": "2021-10-05T09:36:52.300391Z",
     "shell.execute_reply.started": "2021-10-04T07:17:37.625191Z"
    },
    "papermill": {
     "duration": 2.456681,
     "end_time": "2021-10-05T09:36:52.301333",
     "exception": false,
     "start_time": "2021-10-05T09:36:49.844652",
     "status": "completed"
    },
    "tags": []
   },
   "outputs": [
    {
     "data": {
      "text/html": [
       "<style type='text/css'>\n",
       ".datatable table.frame { margin-bottom: 0; }\n",
       ".datatable table.frame thead { border-bottom: none; }\n",
       ".datatable table.frame tr.coltypes td {  color: #FFFFFF;  line-height: 6px;  padding: 0 0.5em;}\n",
       ".datatable .bool    { background: #DDDD99; }\n",
       ".datatable .object  { background: #565656; }\n",
       ".datatable .int     { background: #5D9E5D; }\n",
       ".datatable .float   { background: #4040CC; }\n",
       ".datatable .str     { background: #CC4040; }\n",
       ".datatable .time    { background: #40CC40; }\n",
       ".datatable .row_index {  background: var(--jp-border-color3);  border-right: 1px solid var(--jp-border-color0);  color: var(--jp-ui-font-color3);  font-size: 9px;}\n",
       ".datatable .frame tbody td { text-align: left; }\n",
       ".datatable .frame tr.coltypes .row_index {  background: var(--jp-border-color0);}\n",
       ".datatable th:nth-child(2) { padding-left: 12px; }\n",
       ".datatable .hellipsis {  color: var(--jp-cell-editor-border-color);}\n",
       ".datatable .vellipsis {  background: var(--jp-layout-color0);  color: var(--jp-cell-editor-border-color);}\n",
       ".datatable .na {  color: var(--jp-cell-editor-border-color);  font-size: 80%;}\n",
       ".datatable .sp {  opacity: 0.25;}\n",
       ".datatable .footer { font-size: 9px; }\n",
       ".datatable .frame_dimensions {  background: var(--jp-border-color3);  border-top: 1px solid var(--jp-border-color0);  color: var(--jp-ui-font-color3);  display: inline-block;  opacity: 0.6;  padding: 1px 10px 1px 5px;}\n",
       "</style>\n"
      ],
      "text/plain": [
       "<IPython.core.display.HTML object>"
      ]
     },
     "metadata": {},
     "output_type": "display_data"
    }
   ],
   "source": [
    "import numpy as np\n",
    "import pandas as pd\n",
    "import random\n",
    "import os\n",
    "import time\n",
    "import pickle\n",
    "from pathlib import Path\n",
    "import gc\n",
    "\n",
    "from sklearn.preprocessing import StandardScaler\n",
    "from sklearn.model_selection import StratifiedKFold, train_test_split\n",
    "from sklearn.metrics import roc_auc_score\n",
    "\n",
    "import lightgbm as lgb\n",
    "#import xgboost as xgb\n",
    "#import catboost as ctb\n",
    "\n",
    "import matplotlib.pyplot as plt\n",
    "import seaborn as sns\n",
    "\n",
    "import warnings\n",
    "warnings.simplefilter('ignore')"
   ]
  },
  {
   "cell_type": "markdown",
   "id": "893c1f68",
   "metadata": {
    "papermill": {
     "duration": 0.018539,
     "end_time": "2021-10-05T09:36:52.340070",
     "exception": false,
     "start_time": "2021-10-05T09:36:52.321531",
     "status": "completed"
    },
    "tags": []
   },
   "source": [
    "https://www.kaggle.com/hiro5299834/tps-oct-2021-single-lightgbm?scriptVersionId=76163449\n",
    "\n",
    "ver1"
   ]
  },
  {
   "cell_type": "markdown",
   "id": "e01fcea2",
   "metadata": {
    "papermill": {
     "duration": 0.018553,
     "end_time": "2021-10-05T09:36:52.377659",
     "exception": false,
     "start_time": "2021-10-05T09:36:52.359106",
     "status": "completed"
    },
    "tags": []
   },
   "source": [
    "# Parameters"
   ]
  },
  {
   "cell_type": "code",
   "execution_count": 2,
   "id": "cf54aada",
   "metadata": {
    "execution": {
     "iopub.execute_input": "2021-10-05T09:36:52.421889Z",
     "iopub.status.busy": "2021-10-05T09:36:52.421165Z",
     "iopub.status.idle": "2021-10-05T09:36:52.423524Z",
     "shell.execute_reply": "2021-10-05T09:36:52.424038Z",
     "shell.execute_reply.started": "2021-10-04T07:17:38.959998Z"
    },
    "papermill": {
     "duration": 0.027831,
     "end_time": "2021-10-05T09:36:52.424250",
     "exception": false,
     "start_time": "2021-10-05T09:36:52.396419",
     "status": "completed"
    },
    "tags": []
   },
   "outputs": [],
   "source": [
    "target = 'target'\n",
    "\n",
    "DEBUG = False\n",
    "\n",
    "if DEBUG:\n",
    "    N_ESTIMATORS = 1\n",
    "    N_SPLITS = 2\n",
    "    SEED = 2017\n",
    "    CVSEED = 2017\n",
    "    EARLY_STOPPING_ROUNDS = 1\n",
    "    VERBOSE = 100\n",
    "    #N_ITERS = 2\n",
    "else:\n",
    "    N_SPLITS = 5\n",
    "    N_ESTIMATORS = 20000\n",
    "    EARLY_STOPPING_ROUNDS = 300\n",
    "    VERBOSE = 1000\n",
    "    SEED = 2017\n",
    "    CVSEED = 2017\n",
    "    #N_ITERS = 10"
   ]
  },
  {
   "cell_type": "code",
   "execution_count": 3,
   "id": "b0ca0c18",
   "metadata": {
    "execution": {
     "iopub.execute_input": "2021-10-05T09:36:52.469711Z",
     "iopub.status.busy": "2021-10-05T09:36:52.468823Z",
     "iopub.status.idle": "2021-10-05T09:36:52.472000Z",
     "shell.execute_reply": "2021-10-05T09:36:52.471445Z",
     "shell.execute_reply.started": "2021-10-04T07:17:38.969573Z"
    },
    "papermill": {
     "duration": 0.028168,
     "end_time": "2021-10-05T09:36:52.472163",
     "exception": false,
     "start_time": "2021-10-05T09:36:52.443995",
     "status": "completed"
    },
    "tags": []
   },
   "outputs": [],
   "source": [
    "def set_seed(seed=2017):\n",
    "    random.seed(seed)\n",
    "    os.environ['PYTHONHASHSEED'] = str(seed)\n",
    "    np.random.seed(seed)\n",
    "    \n",
    "set_seed(SEED)"
   ]
  },
  {
   "cell_type": "markdown",
   "id": "677ba73f",
   "metadata": {
    "papermill": {
     "duration": 0.018503,
     "end_time": "2021-10-05T09:36:52.509309",
     "exception": false,
     "start_time": "2021-10-05T09:36:52.490806",
     "status": "completed"
    },
    "tags": []
   },
   "source": [
    "# Datasets"
   ]
  },
  {
   "cell_type": "code",
   "execution_count": 4,
   "id": "105045ca",
   "metadata": {
    "execution": {
     "iopub.execute_input": "2021-10-05T09:36:52.553255Z",
     "iopub.status.busy": "2021-10-05T09:36:52.552465Z",
     "iopub.status.idle": "2021-10-05T09:38:33.218327Z",
     "shell.execute_reply": "2021-10-05T09:38:33.217178Z",
     "shell.execute_reply.started": "2021-10-04T07:17:38.980344Z"
    },
    "papermill": {
     "duration": 100.690367,
     "end_time": "2021-10-05T09:38:33.218519",
     "exception": false,
     "start_time": "2021-10-05T09:36:52.528152",
     "status": "completed"
    },
    "tags": []
   },
   "outputs": [],
   "source": [
    "INPUT = Path(\"../input/tabular-playground-series-oct-2021\")\n",
    "\n",
    "train = pd.read_csv(INPUT / \"train.csv\")\n",
    "test = pd.read_csv(INPUT / \"test.csv\")\n",
    "submission = pd.read_csv(INPUT / \"sample_submission.csv\")"
   ]
  },
  {
   "cell_type": "code",
   "execution_count": 5,
   "id": "f8f24091",
   "metadata": {
    "execution": {
     "iopub.execute_input": "2021-10-05T09:38:34.515250Z",
     "iopub.status.busy": "2021-10-05T09:38:34.514461Z",
     "iopub.status.idle": "2021-10-05T09:38:35.130318Z",
     "shell.execute_reply": "2021-10-05T09:38:35.130859Z",
     "shell.execute_reply.started": "2021-10-04T07:19:21.369035Z"
    },
    "papermill": {
     "duration": 1.893355,
     "end_time": "2021-10-05T09:38:35.131077",
     "exception": false,
     "start_time": "2021-10-05T09:38:33.237722",
     "status": "completed"
    },
    "tags": []
   },
   "outputs": [],
   "source": [
    "train = train[train.columns[1:]]\n",
    "test = test[test.columns[1:]]"
   ]
  },
  {
   "cell_type": "markdown",
   "id": "e41eadf4",
   "metadata": {
    "papermill": {
     "duration": 0.018796,
     "end_time": "2021-10-05T09:38:35.168529",
     "exception": false,
     "start_time": "2021-10-05T09:38:35.149733",
     "status": "completed"
    },
    "tags": []
   },
   "source": [
    "# Preprocessing"
   ]
  },
  {
   "cell_type": "code",
   "execution_count": 6,
   "id": "d0418b3f",
   "metadata": {
    "execution": {
     "iopub.execute_input": "2021-10-05T09:38:35.212086Z",
     "iopub.status.busy": "2021-10-05T09:38:35.211401Z",
     "iopub.status.idle": "2021-10-05T09:38:35.216161Z",
     "shell.execute_reply": "2021-10-05T09:38:35.216758Z",
     "shell.execute_reply.started": "2021-10-04T07:19:23.214541Z"
    },
    "papermill": {
     "duration": 0.028211,
     "end_time": "2021-10-05T09:38:35.216946",
     "exception": false,
     "start_time": "2021-10-05T09:38:35.188735",
     "status": "completed"
    },
    "tags": []
   },
   "outputs": [],
   "source": [
    "features = [col for col in train.columns if 'f' in col]"
   ]
  },
  {
   "cell_type": "code",
   "execution_count": 7,
   "id": "b98bd891",
   "metadata": {
    "execution": {
     "iopub.execute_input": "2021-10-05T09:38:35.258118Z",
     "iopub.status.busy": "2021-10-05T09:38:35.257430Z",
     "iopub.status.idle": "2021-10-05T09:38:35.275481Z",
     "shell.execute_reply": "2021-10-05T09:38:35.276023Z",
     "shell.execute_reply.started": "2021-10-04T07:19:23.222364Z"
    },
    "papermill": {
     "duration": 0.040166,
     "end_time": "2021-10-05T09:38:35.276288",
     "exception": false,
     "start_time": "2021-10-05T09:38:35.236122",
     "status": "completed"
    },
    "tags": []
   },
   "outputs": [],
   "source": [
    "cont_features =[]\n",
    "disc_features =[]\n",
    "\n",
    "for col in features:\n",
    "    if train[col].dtype=='float64':\n",
    "        cont_features.append(col)\n",
    "    else:\n",
    "        disc_features.append(col)\n",
    "        \n",
    "features = disc_features + cont_features"
   ]
  },
  {
   "cell_type": "code",
   "execution_count": 8,
   "id": "6b56c25a",
   "metadata": {
    "execution": {
     "iopub.execute_input": "2021-10-05T09:38:35.319858Z",
     "iopub.status.busy": "2021-10-05T09:38:35.318879Z",
     "iopub.status.idle": "2021-10-05T09:41:08.755781Z",
     "shell.execute_reply": "2021-10-05T09:41:08.755150Z",
     "shell.execute_reply.started": "2021-10-04T07:21:35.009513Z"
    },
    "papermill": {
     "duration": 153.45845,
     "end_time": "2021-10-05T09:41:08.755948",
     "exception": false,
     "start_time": "2021-10-05T09:38:35.297498",
     "status": "completed"
    },
    "tags": []
   },
   "outputs": [],
   "source": [
    "train[cont_features] = train[cont_features].astype('float32')\n",
    "train[disc_features] = train[disc_features].astype('uint8')\n",
    "train[target] = train[target].astype('uint8')\n",
    "\n",
    "test[cont_features] = test[cont_features].astype('float32')\n",
    "test[disc_features] = test[disc_features].astype('uint8')"
   ]
  },
  {
   "cell_type": "code",
   "execution_count": 9,
   "id": "b84a327c",
   "metadata": {
    "execution": {
     "iopub.execute_input": "2021-10-05T09:41:08.803176Z",
     "iopub.status.busy": "2021-10-05T09:41:08.802086Z",
     "iopub.status.idle": "2021-10-05T09:41:09.026767Z",
     "shell.execute_reply": "2021-10-05T09:41:09.026020Z",
     "shell.execute_reply.started": "2021-10-04T07:24:31.446188Z"
    },
    "papermill": {
     "duration": 0.252137,
     "end_time": "2021-10-05T09:41:09.026921",
     "exception": false,
     "start_time": "2021-10-05T09:41:08.774784",
     "status": "completed"
    },
    "tags": []
   },
   "outputs": [
    {
     "data": {
      "text/html": [
       "<div>\n",
       "<style scoped>\n",
       "    .dataframe tbody tr th:only-of-type {\n",
       "        vertical-align: middle;\n",
       "    }\n",
       "\n",
       "    .dataframe tbody tr th {\n",
       "        vertical-align: top;\n",
       "    }\n",
       "\n",
       "    .dataframe thead th {\n",
       "        text-align: right;\n",
       "    }\n",
       "</style>\n",
       "<table border=\"1\" class=\"dataframe\">\n",
       "  <thead>\n",
       "    <tr style=\"text-align: right;\">\n",
       "      <th></th>\n",
       "      <th>f22</th>\n",
       "      <th>f43</th>\n",
       "      <th>f242</th>\n",
       "      <th>f243</th>\n",
       "      <th>f244</th>\n",
       "      <th>f245</th>\n",
       "      <th>f246</th>\n",
       "      <th>f247</th>\n",
       "      <th>f248</th>\n",
       "      <th>f249</th>\n",
       "      <th>...</th>\n",
       "      <th>f232</th>\n",
       "      <th>f233</th>\n",
       "      <th>f234</th>\n",
       "      <th>f235</th>\n",
       "      <th>f236</th>\n",
       "      <th>f237</th>\n",
       "      <th>f238</th>\n",
       "      <th>f239</th>\n",
       "      <th>f240</th>\n",
       "      <th>f241</th>\n",
       "    </tr>\n",
       "  </thead>\n",
       "  <tbody>\n",
       "    <tr>\n",
       "      <th>0</th>\n",
       "      <td>0</td>\n",
       "      <td>1</td>\n",
       "      <td>0</td>\n",
       "      <td>0</td>\n",
       "      <td>1</td>\n",
       "      <td>0</td>\n",
       "      <td>1</td>\n",
       "      <td>1</td>\n",
       "      <td>0</td>\n",
       "      <td>0</td>\n",
       "      <td>...</td>\n",
       "      <td>0.195952</td>\n",
       "      <td>0.227176</td>\n",
       "      <td>0.092359</td>\n",
       "      <td>0.152883</td>\n",
       "      <td>0.266000</td>\n",
       "      <td>0.006716</td>\n",
       "      <td>0.196959</td>\n",
       "      <td>0.022934</td>\n",
       "      <td>0.199017</td>\n",
       "      <td>0.150822</td>\n",
       "    </tr>\n",
       "    <tr>\n",
       "      <th>1</th>\n",
       "      <td>1</td>\n",
       "      <td>0</td>\n",
       "      <td>0</td>\n",
       "      <td>0</td>\n",
       "      <td>0</td>\n",
       "      <td>1</td>\n",
       "      <td>1</td>\n",
       "      <td>1</td>\n",
       "      <td>0</td>\n",
       "      <td>0</td>\n",
       "      <td>...</td>\n",
       "      <td>0.194892</td>\n",
       "      <td>0.203178</td>\n",
       "      <td>0.126690</td>\n",
       "      <td>0.128326</td>\n",
       "      <td>0.182899</td>\n",
       "      <td>0.003132</td>\n",
       "      <td>0.190789</td>\n",
       "      <td>0.195818</td>\n",
       "      <td>0.136427</td>\n",
       "      <td>0.200248</td>\n",
       "    </tr>\n",
       "    <tr>\n",
       "      <th>2</th>\n",
       "      <td>0</td>\n",
       "      <td>0</td>\n",
       "      <td>0</td>\n",
       "      <td>1</td>\n",
       "      <td>1</td>\n",
       "      <td>1</td>\n",
       "      <td>1</td>\n",
       "      <td>1</td>\n",
       "      <td>0</td>\n",
       "      <td>1</td>\n",
       "      <td>...</td>\n",
       "      <td>0.196512</td>\n",
       "      <td>0.205674</td>\n",
       "      <td>0.276899</td>\n",
       "      <td>0.194539</td>\n",
       "      <td>0.283591</td>\n",
       "      <td>0.005843</td>\n",
       "      <td>0.123439</td>\n",
       "      <td>0.199566</td>\n",
       "      <td>0.217159</td>\n",
       "      <td>0.229726</td>\n",
       "    </tr>\n",
       "    <tr>\n",
       "      <th>3</th>\n",
       "      <td>0</td>\n",
       "      <td>0</td>\n",
       "      <td>0</td>\n",
       "      <td>0</td>\n",
       "      <td>0</td>\n",
       "      <td>0</td>\n",
       "      <td>1</td>\n",
       "      <td>1</td>\n",
       "      <td>0</td>\n",
       "      <td>1</td>\n",
       "      <td>...</td>\n",
       "      <td>0.196870</td>\n",
       "      <td>0.207462</td>\n",
       "      <td>0.268194</td>\n",
       "      <td>0.263770</td>\n",
       "      <td>0.487931</td>\n",
       "      <td>0.008247</td>\n",
       "      <td>0.140777</td>\n",
       "      <td>0.042808</td>\n",
       "      <td>0.196403</td>\n",
       "      <td>0.166039</td>\n",
       "    </tr>\n",
       "    <tr>\n",
       "      <th>4</th>\n",
       "      <td>1</td>\n",
       "      <td>0</td>\n",
       "      <td>0</td>\n",
       "      <td>1</td>\n",
       "      <td>0</td>\n",
       "      <td>1</td>\n",
       "      <td>1</td>\n",
       "      <td>0</td>\n",
       "      <td>0</td>\n",
       "      <td>0</td>\n",
       "      <td>...</td>\n",
       "      <td>0.195016</td>\n",
       "      <td>0.199202</td>\n",
       "      <td>0.191478</td>\n",
       "      <td>0.126863</td>\n",
       "      <td>0.168593</td>\n",
       "      <td>0.319238</td>\n",
       "      <td>0.155194</td>\n",
       "      <td>0.205401</td>\n",
       "      <td>0.196158</td>\n",
       "      <td>0.327414</td>\n",
       "    </tr>\n",
       "    <tr>\n",
       "      <th>...</th>\n",
       "      <td>...</td>\n",
       "      <td>...</td>\n",
       "      <td>...</td>\n",
       "      <td>...</td>\n",
       "      <td>...</td>\n",
       "      <td>...</td>\n",
       "      <td>...</td>\n",
       "      <td>...</td>\n",
       "      <td>...</td>\n",
       "      <td>...</td>\n",
       "      <td>...</td>\n",
       "      <td>...</td>\n",
       "      <td>...</td>\n",
       "      <td>...</td>\n",
       "      <td>...</td>\n",
       "      <td>...</td>\n",
       "      <td>...</td>\n",
       "      <td>...</td>\n",
       "      <td>...</td>\n",
       "      <td>...</td>\n",
       "      <td>...</td>\n",
       "    </tr>\n",
       "    <tr>\n",
       "      <th>499995</th>\n",
       "      <td>0</td>\n",
       "      <td>0</td>\n",
       "      <td>1</td>\n",
       "      <td>0</td>\n",
       "      <td>0</td>\n",
       "      <td>0</td>\n",
       "      <td>0</td>\n",
       "      <td>0</td>\n",
       "      <td>1</td>\n",
       "      <td>0</td>\n",
       "      <td>...</td>\n",
       "      <td>0.195130</td>\n",
       "      <td>0.199618</td>\n",
       "      <td>0.091413</td>\n",
       "      <td>0.162236</td>\n",
       "      <td>0.309894</td>\n",
       "      <td>0.011023</td>\n",
       "      <td>0.142858</td>\n",
       "      <td>0.521894</td>\n",
       "      <td>0.222184</td>\n",
       "      <td>0.251195</td>\n",
       "    </tr>\n",
       "    <tr>\n",
       "      <th>499996</th>\n",
       "      <td>0</td>\n",
       "      <td>0</td>\n",
       "      <td>0</td>\n",
       "      <td>0</td>\n",
       "      <td>1</td>\n",
       "      <td>1</td>\n",
       "      <td>0</td>\n",
       "      <td>1</td>\n",
       "      <td>0</td>\n",
       "      <td>0</td>\n",
       "      <td>...</td>\n",
       "      <td>0.197064</td>\n",
       "      <td>0.199442</td>\n",
       "      <td>0.748071</td>\n",
       "      <td>0.194264</td>\n",
       "      <td>0.207866</td>\n",
       "      <td>0.006372</td>\n",
       "      <td>0.175386</td>\n",
       "      <td>0.198387</td>\n",
       "      <td>0.142845</td>\n",
       "      <td>0.214146</td>\n",
       "    </tr>\n",
       "    <tr>\n",
       "      <th>499997</th>\n",
       "      <td>1</td>\n",
       "      <td>0</td>\n",
       "      <td>0</td>\n",
       "      <td>0</td>\n",
       "      <td>0</td>\n",
       "      <td>1</td>\n",
       "      <td>1</td>\n",
       "      <td>1</td>\n",
       "      <td>0</td>\n",
       "      <td>1</td>\n",
       "      <td>...</td>\n",
       "      <td>0.324317</td>\n",
       "      <td>0.197398</td>\n",
       "      <td>0.184333</td>\n",
       "      <td>0.136267</td>\n",
       "      <td>0.164835</td>\n",
       "      <td>0.006861</td>\n",
       "      <td>0.141225</td>\n",
       "      <td>0.044007</td>\n",
       "      <td>0.141896</td>\n",
       "      <td>0.228734</td>\n",
       "    </tr>\n",
       "    <tr>\n",
       "      <th>499998</th>\n",
       "      <td>0</td>\n",
       "      <td>0</td>\n",
       "      <td>0</td>\n",
       "      <td>0</td>\n",
       "      <td>0</td>\n",
       "      <td>0</td>\n",
       "      <td>1</td>\n",
       "      <td>1</td>\n",
       "      <td>0</td>\n",
       "      <td>0</td>\n",
       "      <td>...</td>\n",
       "      <td>0.195557</td>\n",
       "      <td>0.202305</td>\n",
       "      <td>0.039359</td>\n",
       "      <td>0.189006</td>\n",
       "      <td>0.239799</td>\n",
       "      <td>0.005881</td>\n",
       "      <td>0.192076</td>\n",
       "      <td>0.199732</td>\n",
       "      <td>0.169161</td>\n",
       "      <td>0.271750</td>\n",
       "    </tr>\n",
       "    <tr>\n",
       "      <th>499999</th>\n",
       "      <td>1</td>\n",
       "      <td>1</td>\n",
       "      <td>0</td>\n",
       "      <td>0</td>\n",
       "      <td>1</td>\n",
       "      <td>1</td>\n",
       "      <td>0</td>\n",
       "      <td>0</td>\n",
       "      <td>1</td>\n",
       "      <td>0</td>\n",
       "      <td>...</td>\n",
       "      <td>0.194191</td>\n",
       "      <td>0.204191</td>\n",
       "      <td>0.042052</td>\n",
       "      <td>0.129841</td>\n",
       "      <td>0.163681</td>\n",
       "      <td>0.007775</td>\n",
       "      <td>0.229352</td>\n",
       "      <td>0.389587</td>\n",
       "      <td>0.219126</td>\n",
       "      <td>0.324886</td>\n",
       "    </tr>\n",
       "  </tbody>\n",
       "</table>\n",
       "<p>500000 rows × 285 columns</p>\n",
       "</div>"
      ],
      "text/plain": [
       "        f22  f43  f242  f243  f244  f245  f246  f247  f248  f249  ...  \\\n",
       "0         0    1     0     0     1     0     1     1     0     0  ...   \n",
       "1         1    0     0     0     0     1     1     1     0     0  ...   \n",
       "2         0    0     0     1     1     1     1     1     0     1  ...   \n",
       "3         0    0     0     0     0     0     1     1     0     1  ...   \n",
       "4         1    0     0     1     0     1     1     0     0     0  ...   \n",
       "...     ...  ...   ...   ...   ...   ...   ...   ...   ...   ...  ...   \n",
       "499995    0    0     1     0     0     0     0     0     1     0  ...   \n",
       "499996    0    0     0     0     1     1     0     1     0     0  ...   \n",
       "499997    1    0     0     0     0     1     1     1     0     1  ...   \n",
       "499998    0    0     0     0     0     0     1     1     0     0  ...   \n",
       "499999    1    1     0     0     1     1     0     0     1     0  ...   \n",
       "\n",
       "            f232      f233      f234      f235      f236      f237      f238  \\\n",
       "0       0.195952  0.227176  0.092359  0.152883  0.266000  0.006716  0.196959   \n",
       "1       0.194892  0.203178  0.126690  0.128326  0.182899  0.003132  0.190789   \n",
       "2       0.196512  0.205674  0.276899  0.194539  0.283591  0.005843  0.123439   \n",
       "3       0.196870  0.207462  0.268194  0.263770  0.487931  0.008247  0.140777   \n",
       "4       0.195016  0.199202  0.191478  0.126863  0.168593  0.319238  0.155194   \n",
       "...          ...       ...       ...       ...       ...       ...       ...   \n",
       "499995  0.195130  0.199618  0.091413  0.162236  0.309894  0.011023  0.142858   \n",
       "499996  0.197064  0.199442  0.748071  0.194264  0.207866  0.006372  0.175386   \n",
       "499997  0.324317  0.197398  0.184333  0.136267  0.164835  0.006861  0.141225   \n",
       "499998  0.195557  0.202305  0.039359  0.189006  0.239799  0.005881  0.192076   \n",
       "499999  0.194191  0.204191  0.042052  0.129841  0.163681  0.007775  0.229352   \n",
       "\n",
       "            f239      f240      f241  \n",
       "0       0.022934  0.199017  0.150822  \n",
       "1       0.195818  0.136427  0.200248  \n",
       "2       0.199566  0.217159  0.229726  \n",
       "3       0.042808  0.196403  0.166039  \n",
       "4       0.205401  0.196158  0.327414  \n",
       "...          ...       ...       ...  \n",
       "499995  0.521894  0.222184  0.251195  \n",
       "499996  0.198387  0.142845  0.214146  \n",
       "499997  0.044007  0.141896  0.228734  \n",
       "499998  0.199732  0.169161  0.271750  \n",
       "499999  0.389587  0.219126  0.324886  \n",
       "\n",
       "[500000 rows x 285 columns]"
      ]
     },
     "execution_count": 9,
     "metadata": {},
     "output_type": "execute_result"
    }
   ],
   "source": [
    "test[features]"
   ]
  },
  {
   "cell_type": "code",
   "execution_count": 10,
   "id": "5b970c10",
   "metadata": {
    "execution": {
     "iopub.execute_input": "2021-10-05T09:41:09.076215Z",
     "iopub.status.busy": "2021-10-05T09:41:09.075174Z",
     "iopub.status.idle": "2021-10-05T09:41:09.080076Z",
     "shell.execute_reply": "2021-10-05T09:41:09.079543Z",
     "shell.execute_reply.started": "2021-10-04T07:24:31.998191Z"
    },
    "papermill": {
     "duration": 0.03351,
     "end_time": "2021-10-05T09:41:09.080234",
     "exception": false,
     "start_time": "2021-10-05T09:41:09.046724",
     "status": "completed"
    },
    "tags": []
   },
   "outputs": [
    {
     "data": {
      "text/plain": [
       "0         1\n",
       "1         1\n",
       "2         1\n",
       "3         1\n",
       "4         1\n",
       "         ..\n",
       "999995    1\n",
       "999996    0\n",
       "999997    0\n",
       "999998    1\n",
       "999999    0\n",
       "Name: target, Length: 1000000, dtype: uint8"
      ]
     },
     "execution_count": 10,
     "metadata": {},
     "output_type": "execute_result"
    }
   ],
   "source": [
    "train[target]"
   ]
  },
  {
   "cell_type": "markdown",
   "id": "5fc0d573",
   "metadata": {
    "papermill": {
     "duration": 0.019586,
     "end_time": "2021-10-05T09:41:09.119451",
     "exception": false,
     "start_time": "2021-10-05T09:41:09.099865",
     "status": "completed"
    },
    "tags": []
   },
   "source": [
    "# LGB"
   ]
  },
  {
   "cell_type": "code",
   "execution_count": 11,
   "id": "31f8c964",
   "metadata": {
    "execution": {
     "iopub.execute_input": "2021-10-05T09:41:09.166062Z",
     "iopub.status.busy": "2021-10-05T09:41:09.165044Z",
     "iopub.status.idle": "2021-10-05T09:41:09.168683Z",
     "shell.execute_reply": "2021-10-05T09:41:09.168040Z",
     "shell.execute_reply.started": "2021-09-07T00:44:32.516352Z"
    },
    "papermill": {
     "duration": 0.029405,
     "end_time": "2021-10-05T09:41:09.168832",
     "exception": false,
     "start_time": "2021-10-05T09:41:09.139427",
     "status": "completed"
    },
    "tags": []
   },
   "outputs": [],
   "source": [
    "lgb_params = {\n",
    "     'objective': 'binary',\n",
    "     'n_estimators':N_ESTIMATORS,\n",
    "     #'importance_type': 'gain',\n",
    "     #'metric':'auc',\n",
    "     #'boosting_type': 'gbdt',\n",
    "     'n_jobs' : -1,\n",
    "        \n",
    "    'learning_rate': 8e-3,\n",
    "    'subsample': 0.6,\n",
    "    'subsample_freq': 1,\n",
    "    'colsample_bytree': 0.4,\n",
    "    'reg_alpha': 10.0,\n",
    "    'reg_lambda': 1e-1,\n",
    "    'min_child_weight': 256,\n",
    "    'min_child_samples': 20,\n",
    "}"
   ]
  },
  {
   "cell_type": "code",
   "execution_count": 12,
   "id": "bad7f224",
   "metadata": {
    "execution": {
     "iopub.execute_input": "2021-10-05T09:41:09.226477Z",
     "iopub.status.busy": "2021-10-05T09:41:09.225713Z",
     "iopub.status.idle": "2021-10-05T14:57:41.424466Z",
     "shell.execute_reply": "2021-10-05T14:57:41.425022Z",
     "shell.execute_reply.started": "2021-09-07T00:48:20.356186Z"
    },
    "papermill": {
     "duration": 18992.236761,
     "end_time": "2021-10-05T14:57:41.425247",
     "exception": false,
     "start_time": "2021-10-05T09:41:09.188486",
     "status": "completed"
    },
    "tags": []
   },
   "outputs": [
    {
     "name": "stdout",
     "output_type": "stream",
     "text": [
      "===== fold 0 =====\n",
      "Training until validation scores don't improve for 300 rounds\n",
      "[1000]\tvalid_0's auc: 0.847197\tvalid_0's binary_logloss: 0.486613\n",
      "[2000]\tvalid_0's auc: 0.852593\tvalid_0's binary_logloss: 0.47524\n",
      "[3000]\tvalid_0's auc: 0.854771\tvalid_0's binary_logloss: 0.470782\n",
      "[4000]\tvalid_0's auc: 0.855724\tvalid_0's binary_logloss: 0.468617\n",
      "[5000]\tvalid_0's auc: 0.856165\tvalid_0's binary_logloss: 0.467534\n",
      "[6000]\tvalid_0's auc: 0.856342\tvalid_0's binary_logloss: 0.467018\n",
      "[7000]\tvalid_0's auc: 0.856402\tvalid_0's binary_logloss: 0.46678\n",
      "Early stopping, best iteration is:\n",
      "[6858]\tvalid_0's auc: 0.856409\tvalid_0's binary_logloss: 0.466787\n",
      "Training until validation scores don't improve for 300 rounds\n",
      "[7000]\tvalid_0's auc: 0.856411\tvalid_0's binary_logloss: 0.466782\n",
      "[8000]\tvalid_0's auc: 0.856415\tvalid_0's binary_logloss: 0.466764\n",
      "[9000]\tvalid_0's auc: 0.856419\tvalid_0's binary_logloss: 0.466746\n",
      "[10000]\tvalid_0's auc: 0.856424\tvalid_0's binary_logloss: 0.466729\n",
      "[11000]\tvalid_0's auc: 0.856427\tvalid_0's binary_logloss: 0.466713\n",
      "[12000]\tvalid_0's auc: 0.856429\tvalid_0's binary_logloss: 0.466701\n",
      "Early stopping, best iteration is:\n",
      "[12076]\tvalid_0's auc: 0.85643\tvalid_0's binary_logloss: 0.466699\n",
      "fold 0 - lgb auc: 0.856430, elapsed time: 4839.70sec\n",
      "\n",
      "===== fold 1 =====\n",
      "Training until validation scores don't improve for 300 rounds\n",
      "[1000]\tvalid_0's auc: 0.848658\tvalid_0's binary_logloss: 0.484831\n",
      "[2000]\tvalid_0's auc: 0.854011\tvalid_0's binary_logloss: 0.473452\n",
      "[3000]\tvalid_0's auc: 0.856141\tvalid_0's binary_logloss: 0.469008\n",
      "[4000]\tvalid_0's auc: 0.857079\tvalid_0's binary_logloss: 0.466845\n",
      "[5000]\tvalid_0's auc: 0.857487\tvalid_0's binary_logloss: 0.465775\n",
      "[6000]\tvalid_0's auc: 0.85767\tvalid_0's binary_logloss: 0.465226\n",
      "[7000]\tvalid_0's auc: 0.857732\tvalid_0's binary_logloss: 0.46496\n",
      "Early stopping, best iteration is:\n",
      "[7655]\tvalid_0's auc: 0.857755\tvalid_0's binary_logloss: 0.46486\n",
      "Training until validation scores don't improve for 300 rounds\n",
      "Early stopping, best iteration is:\n",
      "[7695]\tvalid_0's auc: 0.857756\tvalid_0's binary_logloss: 0.464859\n",
      "fold 1 - lgb auc: 0.857756, elapsed time: 3315.52sec\n",
      "\n",
      "===== fold 2 =====\n",
      "Training until validation scores don't improve for 300 rounds\n",
      "[1000]\tvalid_0's auc: 0.848956\tvalid_0's binary_logloss: 0.484516\n",
      "[2000]\tvalid_0's auc: 0.854356\tvalid_0's binary_logloss: 0.473023\n",
      "[3000]\tvalid_0's auc: 0.856534\tvalid_0's binary_logloss: 0.468544\n",
      "[4000]\tvalid_0's auc: 0.857494\tvalid_0's binary_logloss: 0.466362\n",
      "[5000]\tvalid_0's auc: 0.857931\tvalid_0's binary_logloss: 0.46527\n",
      "[6000]\tvalid_0's auc: 0.858127\tvalid_0's binary_logloss: 0.464713\n",
      "[7000]\tvalid_0's auc: 0.8582\tvalid_0's binary_logloss: 0.464438\n",
      "[8000]\tvalid_0's auc: 0.858228\tvalid_0's binary_logloss: 0.464293\n",
      "Early stopping, best iteration is:\n",
      "[8222]\tvalid_0's auc: 0.858234\tvalid_0's binary_logloss: 0.464271\n",
      "Training until validation scores don't improve for 300 rounds\n",
      "Early stopping, best iteration is:\n",
      "[8296]\tvalid_0's auc: 0.858235\tvalid_0's binary_logloss: 0.464271\n",
      "fold 2 - lgb auc: 0.858235, elapsed time: 3768.76sec\n",
      "\n",
      "===== fold 3 =====\n",
      "Training until validation scores don't improve for 300 rounds\n",
      "[1000]\tvalid_0's auc: 0.847374\tvalid_0's binary_logloss: 0.486294\n",
      "[2000]\tvalid_0's auc: 0.85281\tvalid_0's binary_logloss: 0.474842\n",
      "[3000]\tvalid_0's auc: 0.855012\tvalid_0's binary_logloss: 0.470333\n",
      "[4000]\tvalid_0's auc: 0.855997\tvalid_0's binary_logloss: 0.468168\n",
      "[5000]\tvalid_0's auc: 0.856439\tvalid_0's binary_logloss: 0.467073\n",
      "[6000]\tvalid_0's auc: 0.856625\tvalid_0's binary_logloss: 0.466536\n",
      "[7000]\tvalid_0's auc: 0.856698\tvalid_0's binary_logloss: 0.466282\n",
      "[8000]\tvalid_0's auc: 0.856726\tvalid_0's binary_logloss: 0.466145\n",
      "Early stopping, best iteration is:\n",
      "[8030]\tvalid_0's auc: 0.856729\tvalid_0's binary_logloss: 0.466138\n",
      "Training until validation scores don't improve for 300 rounds\n",
      "Early stopping, best iteration is:\n",
      "[8628]\tvalid_0's auc: 0.856729\tvalid_0's binary_logloss: 0.466133\n",
      "fold 3 - lgb auc: 0.856729, elapsed time: 3834.65sec\n",
      "\n",
      "===== fold 4 =====\n",
      "Training until validation scores don't improve for 300 rounds\n",
      "[1000]\tvalid_0's auc: 0.847618\tvalid_0's binary_logloss: 0.485996\n",
      "[2000]\tvalid_0's auc: 0.852993\tvalid_0's binary_logloss: 0.474702\n",
      "[3000]\tvalid_0's auc: 0.855121\tvalid_0's binary_logloss: 0.470294\n",
      "[4000]\tvalid_0's auc: 0.856034\tvalid_0's binary_logloss: 0.468215\n",
      "[5000]\tvalid_0's auc: 0.856444\tvalid_0's binary_logloss: 0.46718\n",
      "[6000]\tvalid_0's auc: 0.856593\tvalid_0's binary_logloss: 0.466708\n",
      "[7000]\tvalid_0's auc: 0.856631\tvalid_0's binary_logloss: 0.466502\n",
      "Early stopping, best iteration is:\n",
      "[6948]\tvalid_0's auc: 0.856638\tvalid_0's binary_logloss: 0.466498\n",
      "Training until validation scores don't improve for 300 rounds\n",
      "[7000]\tvalid_0's auc: 0.856639\tvalid_0's binary_logloss: 0.466496\n",
      "Early stopping, best iteration is:\n",
      "[7572]\tvalid_0's auc: 0.856641\tvalid_0's binary_logloss: 0.466486\n",
      "fold 4 - lgb auc: 0.856641, elapsed time: 3219.27sec\n",
      "\n",
      "oof lgb_auc = 0.8571576110315962\n"
     ]
    }
   ],
   "source": [
    "lgb_oof = np.zeros(train.shape[0])\n",
    "lgb_pred = np.zeros(test.shape[0])\n",
    "lgb_importances = pd.DataFrame()\n",
    "\n",
    "X_test = test[features]\n",
    "del test\n",
    "gc.collect()\n",
    "\n",
    "\n",
    "kf = StratifiedKFold(n_splits=N_SPLITS, shuffle=True, random_state=CVSEED)\n",
    "seed_list=[SEED+4]\n",
    "\n",
    "for fold, (trn_idx, val_idx) in enumerate(kf.split(X=train[features], y=train[target])):\n",
    "    print(f\"===== fold {fold} =====\")\n",
    "    if fold <12:\n",
    "        \n",
    "        X_train = train[features].iloc[trn_idx]\n",
    "        y_train = train[target].iloc[trn_idx]\n",
    "        X_valid = train[features].iloc[val_idx]\n",
    "        y_valid = train[target].iloc[val_idx]\n",
    "        \n",
    "\n",
    "\n",
    "        start = time.time()\n",
    "        for inseed in seed_list:\n",
    "            lgb_params['random_state'] = inseed\n",
    "\n",
    "            pre_model = lgb.LGBMClassifier(**lgb_params)\n",
    "            pre_model.fit(\n",
    "                X_train, \n",
    "                y_train,\n",
    "                eval_set=[(X_valid, y_valid)],\n",
    "                eval_metric='auc',\n",
    "                categorical_feature = disc_features,\n",
    "                early_stopping_rounds=EARLY_STOPPING_ROUNDS,\n",
    "                verbose=VERBOSE,\n",
    "            )\n",
    "\n",
    "            lgb_params2 = lgb_params.copy()\n",
    "            lgb_params2['reg_lambda'] *= 0.9\n",
    "            lgb_params2['reg_alpha'] *= 0.9\n",
    "            lgb_params2['learning_rate'] *= 0.1\n",
    "            model = lgb.LGBMClassifier(**lgb_params2)\n",
    "            model.fit(\n",
    "                    X_train, y_train,\n",
    "                    eval_set=[(X_valid, y_valid)],\n",
    "                    eval_metric='auc',\n",
    "                    categorical_feature = disc_features,\n",
    "                    early_stopping_rounds=EARLY_STOPPING_ROUNDS,\n",
    "                    verbose=VERBOSE,\n",
    "                    init_model=pre_model\n",
    "            )    \n",
    "\n",
    "            with open(f\"lgb_model{fold}_seed{inseed}.pkl\", 'wb') as f:\n",
    "                pickle.dump(model, f)\n",
    "\n",
    "            fi_tmp = pd.DataFrame()\n",
    "            fi_tmp['feature'] = X_train.columns\n",
    "            fi_tmp['importance'] = model.feature_importances_\n",
    "            fi_tmp['fold'] = fold\n",
    "            fi_tmp['seed'] = inseed\n",
    "            lgb_importances = lgb_importances.append(fi_tmp)\n",
    "\n",
    "            lgb_oof[val_idx] += model.predict_proba(X_valid)[:,-1] / len(seed_list)\n",
    "            lgb_pred += model.predict_proba(X_test)[:,-1] / len(seed_list)\n",
    "            \n",
    "            del pre_model\n",
    "            del model\n",
    "            gc.collect()\n",
    "\n",
    "\n",
    "        elapsed = time.time() - start\n",
    "        auc = roc_auc_score(y_valid, lgb_oof[val_idx])\n",
    "        print(f\"fold {fold} - lgb auc: {auc:.6f}, elapsed time: {elapsed:.2f}sec\\n\")\n",
    "        \n",
    "        del X_train\n",
    "        del y_train\n",
    "        del X_valid\n",
    "        del y_valid\n",
    "        gc.collect()\n",
    "\n",
    "\n",
    "del X_test\n",
    "gc.collect()\n",
    "\n",
    "lgb_pred /= N_SPLITS\n",
    "print(f\"oof lgb_auc = {roc_auc_score(train[target], lgb_oof)}\")\n",
    "\n",
    "np.save(\"lgb_oof.npy\", lgb_oof)\n",
    "np.save(\"lgb_pred.npy\", lgb_pred)"
   ]
  },
  {
   "cell_type": "markdown",
   "id": "6e88c537",
   "metadata": {
    "papermill": {
     "duration": 0.042525,
     "end_time": "2021-10-05T14:57:41.509434",
     "exception": false,
     "start_time": "2021-10-05T14:57:41.466909",
     "status": "completed"
    },
    "tags": []
   },
   "source": [
    "# OOF predictions"
   ]
  },
  {
   "cell_type": "code",
   "execution_count": 13,
   "id": "82cb17ee",
   "metadata": {
    "execution": {
     "iopub.execute_input": "2021-10-05T14:57:41.595491Z",
     "iopub.status.busy": "2021-10-05T14:57:41.594839Z",
     "iopub.status.idle": "2021-10-05T14:57:45.434720Z",
     "shell.execute_reply": "2021-10-05T14:57:45.435428Z",
     "shell.execute_reply.started": "2021-09-07T00:50:57.432219Z"
    },
    "papermill": {
     "duration": 3.884959,
     "end_time": "2021-10-05T14:57:45.435709",
     "exception": false,
     "start_time": "2021-10-05T14:57:41.550750",
     "status": "completed"
    },
    "tags": []
   },
   "outputs": [
    {
     "data": {
      "text/plain": [
       "<matplotlib.collections.PathCollection at 0x7f2ed30d4610>"
      ]
     },
     "execution_count": 13,
     "metadata": {},
     "output_type": "execute_result"
    },
    {
     "data": {
      "image/png": "[encoded data removed]",
      "text/plain": [
       "<Figure size 432x288 with 1 Axes>"
      ]
     },
     "metadata": {
      "needs_background": "light"
     },
     "output_type": "display_data"
    }
   ],
   "source": [
    "plt.plot(train[target], train[target])\n",
    "plt.scatter(train[target], lgb_oof)"
   ]
  },
  {
   "cell_type": "code",
   "execution_count": 14,
   "id": "838173ec",
   "metadata": {
    "execution": {
     "iopub.execute_input": "2021-10-05T14:57:45.699243Z",
     "iopub.status.busy": "2021-10-05T14:57:45.530350Z",
     "iopub.status.idle": "2021-10-05T14:57:45.704098Z",
     "shell.execute_reply": "2021-10-05T14:57:45.703559Z"
    },
    "papermill": {
     "duration": 0.219369,
     "end_time": "2021-10-05T14:57:45.704254",
     "exception": false,
     "start_time": "2021-10-05T14:57:45.484885",
     "status": "completed"
    },
    "tags": []
   },
   "outputs": [
    {
     "data": {
      "text/plain": [
       "20"
      ]
     },
     "execution_count": 14,
     "metadata": {},
     "output_type": "execute_result"
    }
   ],
   "source": [
    "del train\n",
    "del lgb_oof\n",
    "gc.collect()"
   ]
  },
  {
   "cell_type": "markdown",
   "id": "075077f4",
   "metadata": {
    "papermill": {
     "duration": 0.043671,
     "end_time": "2021-10-05T14:57:45.791883",
     "exception": false,
     "start_time": "2021-10-05T14:57:45.748212",
     "status": "completed"
    },
    "tags": []
   },
   "source": [
    "# Features importances"
   ]
  },
  {
   "cell_type": "code",
   "execution_count": 15,
   "id": "42d9d95d",
   "metadata": {
    "execution": {
     "iopub.execute_input": "2021-10-05T14:57:45.890421Z",
     "iopub.status.busy": "2021-10-05T14:57:45.889324Z",
     "iopub.status.idle": "2021-10-05T14:57:51.579339Z",
     "shell.execute_reply": "2021-10-05T14:57:51.579884Z",
     "shell.execute_reply.started": "2021-09-07T00:51:01.011128Z"
    },
    "papermill": {
     "duration": 5.745298,
     "end_time": "2021-10-05T14:57:51.580072",
     "exception": false,
     "start_time": "2021-10-05T14:57:45.834774",
     "status": "completed"
    },
    "tags": []
   },
   "outputs": [
    {
     "data": {
      "text/plain": [
       "Text(0.5, 1.0, 'LGB feature importances')"
      ]
     },
     "execution_count": 15,
     "metadata": {},
     "output_type": "execute_result"
    },
    {
     "data": {
      "image/png": "[encoded data removed]",
      "text/plain": [
       "<Figure size 1152x1152 with 1 Axes>"
      ]
     },
     "metadata": {
      "needs_background": "light"
     },
     "output_type": "display_data"
    }
   ],
   "source": [
    "order = list(lgb_importances.groupby('feature').mean().sort_values('importance', ascending=False).index)\n",
    "\n",
    "fig = plt.figure(figsize=(16, 16), tight_layout=True)\n",
    "sns.barplot(x=\"importance\", y=\"feature\", data=lgb_importances.groupby('feature').mean().reset_index(), order=order)\n",
    "plt.title(\"LGB feature importances\")"
   ]
  },
  {
   "cell_type": "markdown",
   "id": "5fab3681",
   "metadata": {
    "papermill": {
     "duration": 0.045675,
     "end_time": "2021-10-05T14:57:51.671651",
     "exception": false,
     "start_time": "2021-10-05T14:57:51.625976",
     "status": "completed"
    },
    "tags": []
   },
   "source": [
    "# Submission"
   ]
  },
  {
   "cell_type": "code",
   "execution_count": 16,
   "id": "76954306",
   "metadata": {
    "execution": {
     "iopub.execute_input": "2021-10-05T14:57:51.771820Z",
     "iopub.status.busy": "2021-10-05T14:57:51.771104Z",
     "iopub.status.idle": "2021-10-05T14:57:53.704779Z",
     "shell.execute_reply": "2021-10-05T14:57:53.705283Z",
     "shell.execute_reply.started": "2021-09-07T00:51:03.177221Z"
    },
    "papermill": {
     "duration": 1.98746,
     "end_time": "2021-10-05T14:57:53.705465",
     "exception": false,
     "start_time": "2021-10-05T14:57:51.718005",
     "status": "completed"
    },
    "tags": []
   },
   "outputs": [
    {
     "data": {
      "text/html": [
       "<div>\n",
       "<style scoped>\n",
       "    .dataframe tbody tr th:only-of-type {\n",
       "        vertical-align: middle;\n",
       "    }\n",
       "\n",
       "    .dataframe tbody tr th {\n",
       "        vertical-align: top;\n",
       "    }\n",
       "\n",
       "    .dataframe thead th {\n",
       "        text-align: right;\n",
       "    }\n",
       "</style>\n",
       "<table border=\"1\" class=\"dataframe\">\n",
       "  <thead>\n",
       "    <tr style=\"text-align: right;\">\n",
       "      <th></th>\n",
       "      <th>id</th>\n",
       "      <th>target</th>\n",
       "    </tr>\n",
       "  </thead>\n",
       "  <tbody>\n",
       "    <tr>\n",
       "      <th>0</th>\n",
       "      <td>1000000</td>\n",
       "      <td>0.728361</td>\n",
       "    </tr>\n",
       "    <tr>\n",
       "      <th>1</th>\n",
       "      <td>1000001</td>\n",
       "      <td>0.251751</td>\n",
       "    </tr>\n",
       "    <tr>\n",
       "      <th>2</th>\n",
       "      <td>1000002</td>\n",
       "      <td>0.913643</td>\n",
       "    </tr>\n",
       "    <tr>\n",
       "      <th>3</th>\n",
       "      <td>1000003</td>\n",
       "      <td>0.837768</td>\n",
       "    </tr>\n",
       "    <tr>\n",
       "      <th>4</th>\n",
       "      <td>1000004</td>\n",
       "      <td>0.267531</td>\n",
       "    </tr>\n",
       "    <tr>\n",
       "      <th>...</th>\n",
       "      <td>...</td>\n",
       "      <td>...</td>\n",
       "    </tr>\n",
       "    <tr>\n",
       "      <th>499995</th>\n",
       "      <td>1499995</td>\n",
       "      <td>0.975220</td>\n",
       "    </tr>\n",
       "    <tr>\n",
       "      <th>499996</th>\n",
       "      <td>1499996</td>\n",
       "      <td>0.838480</td>\n",
       "    </tr>\n",
       "    <tr>\n",
       "      <th>499997</th>\n",
       "      <td>1499997</td>\n",
       "      <td>0.298287</td>\n",
       "    </tr>\n",
       "    <tr>\n",
       "      <th>499998</th>\n",
       "      <td>1499998</td>\n",
       "      <td>0.512511</td>\n",
       "    </tr>\n",
       "    <tr>\n",
       "      <th>499999</th>\n",
       "      <td>1499999</td>\n",
       "      <td>0.433798</td>\n",
       "    </tr>\n",
       "  </tbody>\n",
       "</table>\n",
       "<p>500000 rows × 2 columns</p>\n",
       "</div>"
      ],
      "text/plain": [
       "             id    target\n",
       "0       1000000  0.728361\n",
       "1       1000001  0.251751\n",
       "2       1000002  0.913643\n",
       "3       1000003  0.837768\n",
       "4       1000004  0.267531\n",
       "...         ...       ...\n",
       "499995  1499995  0.975220\n",
       "499996  1499996  0.838480\n",
       "499997  1499997  0.298287\n",
       "499998  1499998  0.512511\n",
       "499999  1499999  0.433798\n",
       "\n",
       "[500000 rows x 2 columns]"
      ]
     },
     "execution_count": 16,
     "metadata": {},
     "output_type": "execute_result"
    }
   ],
   "source": [
    "submission[target] = lgb_pred\n",
    "submission.to_csv(\"submission.csv\", index=False)\n",
    "\n",
    "submission"
   ]
  },
  {
   "cell_type": "markdown",
   "id": "ca639f82",
   "metadata": {
    "papermill": {
     "duration": 0.045969,
     "end_time": "2021-10-05T14:57:53.797451",
     "exception": false,
     "start_time": "2021-10-05T14:57:53.751482",
     "status": "completed"
    },
    "tags": []
   },
   "source": [
    "# Log\n",
    "\n",
    "seeds\n",
    "\n",
    "2017 ver3\n",
    "2018 ver4\n",
    "2019 ver5\n",
    "2020 ver6\n",
    "2021 ver7"
   ]
  }
 ],
 "metadata": {
  "kernelspec": {
   "display_name": "Python 3",
   "language": "python",
   "name": "python3"
  },
  "language_info": {
   "codemirror_mode": {
    "name": "ipython",
    "version": 3
   },
   "file_extension": ".py",
   "mimetype": "text/x-python",
   "name": "python",
   "nbconvert_exporter": "python",
   "pygments_lexer": "ipython3",
   "version": "3.7.10"
  },
  "papermill": {
   "default_parameters": {},
   "duration": 19273.542127,
   "end_time": "2021-10-05T14:57:54.955816",
   "environment_variables": {},
   "exception": null,
   "input_path": "__notebook__.ipynb",
   "output_path": "__notebook__.ipynb",
   "parameters": {},
   "start_time": "2021-10-05T09:36:41.413689",
   "version": "2.3.3"
  }
 },
 "nbformat": 4,
 "nbformat_minor": 5
}
