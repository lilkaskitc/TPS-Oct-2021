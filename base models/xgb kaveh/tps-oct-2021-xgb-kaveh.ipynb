{
 "cells": [
  {
   "cell_type": "code",
   "execution_count": 1,
   "id": "2f46b65c",
   "metadata": {
    "_cell_guid": "b1076dfc-b9ad-4769-8c92-a6c4dae69d19",
    "_uuid": "8f2839f25d086af736a60e9eeb907d3b93b6e0e5",
    "execution": {
     "iopub.execute_input": "2021-10-08T06:26:38.780896Z",
     "iopub.status.busy": "2021-10-08T06:26:38.780267Z",
     "iopub.status.idle": "2021-10-08T06:26:40.059902Z",
     "shell.execute_reply": "2021-10-08T06:26:40.059082Z",
     "shell.execute_reply.started": "2021-10-04T14:09:25.173489Z"
    },
    "papermill": {
     "duration": 1.313459,
     "end_time": "2021-10-08T06:26:40.060084",
     "exception": false,
     "start_time": "2021-10-08T06:26:38.746625",
     "status": "completed"
    },
    "tags": []
   },
   "outputs": [],
   "source": [
    "import numpy as np\n",
    "import pandas as pd\n",
    "import random\n",
    "import os\n",
    "import time\n",
    "import pickle\n",
    "from pathlib import Path\n",
    "import gc\n",
    "\n",
    "from sklearn.preprocessing import StandardScaler\n",
    "from sklearn.model_selection import StratifiedKFold, train_test_split\n",
    "from sklearn.metrics import roc_auc_score\n",
    "\n",
    "#import lightgbm as lgb\n",
    "import xgboost as xgb\n",
    "#import catboost as ctb\n",
    "\n",
    "import matplotlib.pyplot as plt\n",
    "import seaborn as sns\n",
    "\n",
    "import warnings\n",
    "warnings.simplefilter('ignore')"
   ]
  },
  {
   "cell_type": "markdown",
   "id": "2801291e",
   "metadata": {
    "papermill": {
     "duration": 0.017401,
     "end_time": "2021-10-08T06:26:40.096864",
     "exception": false,
     "start_time": "2021-10-08T06:26:40.079463",
     "status": "completed"
    },
    "tags": []
   },
   "source": [
    "https://www.kaggle.com/kavehshahhosseini/tps-oct-2021-xgboost-and-shap-values\n",
    "\n",
    "ver3"
   ]
  },
  {
   "cell_type": "markdown",
   "id": "93c9316c",
   "metadata": {
    "papermill": {
     "duration": 0.017479,
     "end_time": "2021-10-08T06:26:40.132066",
     "exception": false,
     "start_time": "2021-10-08T06:26:40.114587",
     "status": "completed"
    },
    "tags": []
   },
   "source": [
    "# Parameters"
   ]
  },
  {
   "cell_type": "code",
   "execution_count": 2,
   "id": "6d1dd7b5",
   "metadata": {
    "execution": {
     "iopub.execute_input": "2021-10-08T06:26:40.174792Z",
     "iopub.status.busy": "2021-10-08T06:26:40.174144Z",
     "iopub.status.idle": "2021-10-08T06:26:40.176839Z",
     "shell.execute_reply": "2021-10-08T06:26:40.177307Z",
     "shell.execute_reply.started": "2021-10-04T14:09:26.370378Z"
    },
    "papermill": {
     "duration": 0.02716,
     "end_time": "2021-10-08T06:26:40.177481",
     "exception": false,
     "start_time": "2021-10-08T06:26:40.150321",
     "status": "completed"
    },
    "tags": []
   },
   "outputs": [],
   "source": [
    "target = 'target'\n",
    "\n",
    "DEBUG = False\n",
    "\n",
    "if DEBUG:\n",
    "    N_ESTIMATORS = 1\n",
    "    N_SPLITS = 2\n",
    "    SEED = 2017\n",
    "    CVSEED = 2017\n",
    "    EARLY_STOPPING_ROUNDS = 1\n",
    "    VERBOSE = 100\n",
    "    #N_ITERS = 2\n",
    "else:\n",
    "    N_SPLITS = 5\n",
    "    N_ESTIMATORS = 10000\n",
    "    EARLY_STOPPING_ROUNDS = 300\n",
    "    VERBOSE = 1000\n",
    "    SEED = 2017\n",
    "    CVSEED = 2017\n",
    "    #N_ITERS = 10"
   ]
  },
  {
   "cell_type": "code",
   "execution_count": 3,
   "id": "6e50bb5d",
   "metadata": {
    "execution": {
     "iopub.execute_input": "2021-10-08T06:26:40.220803Z",
     "iopub.status.busy": "2021-10-08T06:26:40.220076Z",
     "iopub.status.idle": "2021-10-08T06:26:40.223660Z",
     "shell.execute_reply": "2021-10-08T06:26:40.223023Z",
     "shell.execute_reply.started": "2021-10-04T14:09:26.380942Z"
    },
    "papermill": {
     "duration": 0.027565,
     "end_time": "2021-10-08T06:26:40.223813",
     "exception": false,
     "start_time": "2021-10-08T06:26:40.196248",
     "status": "completed"
    },
    "tags": []
   },
   "outputs": [],
   "source": [
    "def set_seed(seed=2017):\n",
    "    random.seed(seed)\n",
    "    os.environ['PYTHONHASHSEED'] = str(seed)\n",
    "    np.random.seed(seed)\n",
    "    \n",
    "set_seed(SEED)"
   ]
  },
  {
   "cell_type": "markdown",
   "id": "c6f42e98",
   "metadata": {
    "papermill": {
     "duration": 0.017525,
     "end_time": "2021-10-08T06:26:40.259716",
     "exception": false,
     "start_time": "2021-10-08T06:26:40.242191",
     "status": "completed"
    },
    "tags": []
   },
   "source": [
    "# Datasets"
   ]
  },
  {
   "cell_type": "code",
   "execution_count": 4,
   "id": "365ecc34",
   "metadata": {
    "execution": {
     "iopub.execute_input": "2021-10-08T06:26:40.301779Z",
     "iopub.status.busy": "2021-10-08T06:26:40.300987Z",
     "iopub.status.idle": "2021-10-08T06:28:13.479025Z",
     "shell.execute_reply": "2021-10-08T06:28:13.477801Z",
     "shell.execute_reply.started": "2021-10-04T14:09:26.389535Z"
    },
    "papermill": {
     "duration": 93.2017,
     "end_time": "2021-10-08T06:28:13.479220",
     "exception": false,
     "start_time": "2021-10-08T06:26:40.277520",
     "status": "completed"
    },
    "tags": []
   },
   "outputs": [],
   "source": [
    "INPUT = Path(\"../input/tabular-playground-series-oct-2021\")\n",
    "\n",
    "train = pd.read_csv(INPUT / \"train.csv\")\n",
    "test = pd.read_csv(INPUT / \"test.csv\")\n",
    "submission = pd.read_csv(INPUT / \"sample_submission.csv\")"
   ]
  },
  {
   "cell_type": "code",
   "execution_count": 5,
   "id": "03dedd7d",
   "metadata": {
    "execution": {
     "iopub.execute_input": "2021-10-08T06:28:14.253756Z",
     "iopub.status.busy": "2021-10-08T06:28:13.526066Z",
     "iopub.status.idle": "2021-10-08T06:28:14.666547Z",
     "shell.execute_reply": "2021-10-08T06:28:14.665973Z",
     "shell.execute_reply.started": "2021-10-04T14:11:05.734236Z"
    },
    "papermill": {
     "duration": 1.168743,
     "end_time": "2021-10-08T06:28:14.666692",
     "exception": false,
     "start_time": "2021-10-08T06:28:13.497949",
     "status": "completed"
    },
    "tags": []
   },
   "outputs": [],
   "source": [
    "train = train[train.columns[1:]]\n",
    "test = test[test.columns[1:]]"
   ]
  },
  {
   "cell_type": "markdown",
   "id": "3eda7d57",
   "metadata": {
    "papermill": {
     "duration": 0.017402,
     "end_time": "2021-10-08T06:28:14.701964",
     "exception": false,
     "start_time": "2021-10-08T06:28:14.684562",
     "status": "completed"
    },
    "tags": []
   },
   "source": [
    "# Preprocessing"
   ]
  },
  {
   "cell_type": "code",
   "execution_count": 6,
   "id": "3ebd163e",
   "metadata": {
    "execution": {
     "iopub.execute_input": "2021-10-08T06:28:14.742826Z",
     "iopub.status.busy": "2021-10-08T06:28:14.742176Z",
     "iopub.status.idle": "2021-10-08T06:28:14.744830Z",
     "shell.execute_reply": "2021-10-08T06:28:14.745325Z",
     "shell.execute_reply.started": "2021-10-04T14:11:06.890392Z"
    },
    "papermill": {
     "duration": 0.025703,
     "end_time": "2021-10-08T06:28:14.745500",
     "exception": false,
     "start_time": "2021-10-08T06:28:14.719797",
     "status": "completed"
    },
    "tags": []
   },
   "outputs": [],
   "source": [
    "features = [col for col in train.columns if 'f' in col]"
   ]
  },
  {
   "cell_type": "code",
   "execution_count": 7,
   "id": "d5dc64b1",
   "metadata": {
    "execution": {
     "iopub.execute_input": "2021-10-08T06:28:15.370152Z",
     "iopub.status.busy": "2021-10-08T06:28:14.793342Z",
     "iopub.status.idle": "2021-10-08T06:30:02.078070Z",
     "shell.execute_reply": "2021-10-08T06:30:02.078638Z"
    },
    "papermill": {
     "duration": 107.315194,
     "end_time": "2021-10-08T06:30:02.078858",
     "exception": false,
     "start_time": "2021-10-08T06:28:14.763664",
     "status": "completed"
    },
    "tags": []
   },
   "outputs": [],
   "source": [
    "cnt_features =[]\n",
    "cat_features =[]\n",
    "\n",
    "for col in features:\n",
    "    if train[col].dtype=='float64':\n",
    "        cnt_features.append(col)\n",
    "    else:\n",
    "        cat_features.append(col)\n",
    "        \n",
    "\n",
    "train[cnt_features] = train[cnt_features].astype('float32')\n",
    "train[cat_features] = train[cat_features].astype('uint8')\n",
    "train[target] = train[target].astype('uint8')\n",
    "\n",
    "test[cnt_features] = test[cnt_features].astype('float32')\n",
    "test[cat_features] = test[cat_features].astype('uint8')"
   ]
  },
  {
   "cell_type": "code",
   "execution_count": 8,
   "id": "40e6a909",
   "metadata": {
    "execution": {
     "iopub.execute_input": "2021-10-08T06:30:02.123172Z",
     "iopub.status.busy": "2021-10-08T06:30:02.122397Z",
     "iopub.status.idle": "2021-10-08T06:30:02.317756Z",
     "shell.execute_reply": "2021-10-08T06:30:02.318417Z",
     "shell.execute_reply.started": "2021-10-04T14:13:08.317951Z"
    },
    "papermill": {
     "duration": 0.220782,
     "end_time": "2021-10-08T06:30:02.318619",
     "exception": false,
     "start_time": "2021-10-08T06:30:02.097837",
     "status": "completed"
    },
    "tags": []
   },
   "outputs": [
    {
     "data": {
      "text/html": [
       "<div>\n",
       "<style scoped>\n",
       "    .dataframe tbody tr th:only-of-type {\n",
       "        vertical-align: middle;\n",
       "    }\n",
       "\n",
       "    .dataframe tbody tr th {\n",
       "        vertical-align: top;\n",
       "    }\n",
       "\n",
       "    .dataframe thead th {\n",
       "        text-align: right;\n",
       "    }\n",
       "</style>\n",
       "<table border=\"1\" class=\"dataframe\">\n",
       "  <thead>\n",
       "    <tr style=\"text-align: right;\">\n",
       "      <th></th>\n",
       "      <th>f0</th>\n",
       "      <th>f1</th>\n",
       "      <th>f2</th>\n",
       "      <th>f3</th>\n",
       "      <th>f4</th>\n",
       "      <th>f5</th>\n",
       "      <th>f6</th>\n",
       "      <th>f7</th>\n",
       "      <th>f8</th>\n",
       "      <th>f9</th>\n",
       "      <th>...</th>\n",
       "      <th>f275</th>\n",
       "      <th>f276</th>\n",
       "      <th>f277</th>\n",
       "      <th>f278</th>\n",
       "      <th>f279</th>\n",
       "      <th>f280</th>\n",
       "      <th>f281</th>\n",
       "      <th>f282</th>\n",
       "      <th>f283</th>\n",
       "      <th>f284</th>\n",
       "    </tr>\n",
       "  </thead>\n",
       "  <tbody>\n",
       "    <tr>\n",
       "      <th>0</th>\n",
       "      <td>0.178216</td>\n",
       "      <td>0.435617</td>\n",
       "      <td>0.010230</td>\n",
       "      <td>0.202074</td>\n",
       "      <td>0.390170</td>\n",
       "      <td>0.324221</td>\n",
       "      <td>0.221722</td>\n",
       "      <td>0.738894</td>\n",
       "      <td>0.582588</td>\n",
       "      <td>0.343770</td>\n",
       "      <td>...</td>\n",
       "      <td>1</td>\n",
       "      <td>0</td>\n",
       "      <td>0</td>\n",
       "      <td>0</td>\n",
       "      <td>0</td>\n",
       "      <td>0</td>\n",
       "      <td>1</td>\n",
       "      <td>1</td>\n",
       "      <td>1</td>\n",
       "      <td>0</td>\n",
       "    </tr>\n",
       "    <tr>\n",
       "      <th>1</th>\n",
       "      <td>0.181250</td>\n",
       "      <td>0.476455</td>\n",
       "      <td>0.022413</td>\n",
       "      <td>0.283146</td>\n",
       "      <td>0.598020</td>\n",
       "      <td>0.349508</td>\n",
       "      <td>0.283467</td>\n",
       "      <td>0.721575</td>\n",
       "      <td>0.268990</td>\n",
       "      <td>0.208373</td>\n",
       "      <td>...</td>\n",
       "      <td>0</td>\n",
       "      <td>0</td>\n",
       "      <td>0</td>\n",
       "      <td>0</td>\n",
       "      <td>0</td>\n",
       "      <td>0</td>\n",
       "      <td>0</td>\n",
       "      <td>0</td>\n",
       "      <td>0</td>\n",
       "      <td>0</td>\n",
       "    </tr>\n",
       "    <tr>\n",
       "      <th>2</th>\n",
       "      <td>0.159721</td>\n",
       "      <td>0.451202</td>\n",
       "      <td>0.259649</td>\n",
       "      <td>0.365274</td>\n",
       "      <td>0.594634</td>\n",
       "      <td>0.413502</td>\n",
       "      <td>0.249318</td>\n",
       "      <td>0.642339</td>\n",
       "      <td>0.411104</td>\n",
       "      <td>0.246891</td>\n",
       "      <td>...</td>\n",
       "      <td>0</td>\n",
       "      <td>0</td>\n",
       "      <td>0</td>\n",
       "      <td>0</td>\n",
       "      <td>0</td>\n",
       "      <td>0</td>\n",
       "      <td>1</td>\n",
       "      <td>0</td>\n",
       "      <td>0</td>\n",
       "      <td>0</td>\n",
       "    </tr>\n",
       "    <tr>\n",
       "      <th>3</th>\n",
       "      <td>0.182424</td>\n",
       "      <td>0.520976</td>\n",
       "      <td>0.095344</td>\n",
       "      <td>0.327742</td>\n",
       "      <td>0.741830</td>\n",
       "      <td>0.358711</td>\n",
       "      <td>0.270077</td>\n",
       "      <td>0.601662</td>\n",
       "      <td>0.297742</td>\n",
       "      <td>0.252829</td>\n",
       "      <td>...</td>\n",
       "      <td>0</td>\n",
       "      <td>0</td>\n",
       "      <td>0</td>\n",
       "      <td>0</td>\n",
       "      <td>0</td>\n",
       "      <td>1</td>\n",
       "      <td>1</td>\n",
       "      <td>0</td>\n",
       "      <td>0</td>\n",
       "      <td>0</td>\n",
       "    </tr>\n",
       "    <tr>\n",
       "      <th>4</th>\n",
       "      <td>0.229329</td>\n",
       "      <td>0.336513</td>\n",
       "      <td>0.023511</td>\n",
       "      <td>0.300913</td>\n",
       "      <td>0.668738</td>\n",
       "      <td>0.481586</td>\n",
       "      <td>0.545660</td>\n",
       "      <td>0.667849</td>\n",
       "      <td>0.546045</td>\n",
       "      <td>0.202731</td>\n",
       "      <td>...</td>\n",
       "      <td>0</td>\n",
       "      <td>0</td>\n",
       "      <td>0</td>\n",
       "      <td>0</td>\n",
       "      <td>1</td>\n",
       "      <td>0</td>\n",
       "      <td>0</td>\n",
       "      <td>1</td>\n",
       "      <td>0</td>\n",
       "      <td>0</td>\n",
       "    </tr>\n",
       "    <tr>\n",
       "      <th>...</th>\n",
       "      <td>...</td>\n",
       "      <td>...</td>\n",
       "      <td>...</td>\n",
       "      <td>...</td>\n",
       "      <td>...</td>\n",
       "      <td>...</td>\n",
       "      <td>...</td>\n",
       "      <td>...</td>\n",
       "      <td>...</td>\n",
       "      <td>...</td>\n",
       "      <td>...</td>\n",
       "      <td>...</td>\n",
       "      <td>...</td>\n",
       "      <td>...</td>\n",
       "      <td>...</td>\n",
       "      <td>...</td>\n",
       "      <td>...</td>\n",
       "      <td>...</td>\n",
       "      <td>...</td>\n",
       "      <td>...</td>\n",
       "      <td>...</td>\n",
       "    </tr>\n",
       "    <tr>\n",
       "      <th>499995</th>\n",
       "      <td>0.185473</td>\n",
       "      <td>0.525338</td>\n",
       "      <td>0.014945</td>\n",
       "      <td>0.204029</td>\n",
       "      <td>0.498957</td>\n",
       "      <td>0.431933</td>\n",
       "      <td>0.470553</td>\n",
       "      <td>0.731268</td>\n",
       "      <td>0.452134</td>\n",
       "      <td>0.211206</td>\n",
       "      <td>...</td>\n",
       "      <td>1</td>\n",
       "      <td>0</td>\n",
       "      <td>0</td>\n",
       "      <td>0</td>\n",
       "      <td>0</td>\n",
       "      <td>0</td>\n",
       "      <td>1</td>\n",
       "      <td>0</td>\n",
       "      <td>0</td>\n",
       "      <td>0</td>\n",
       "    </tr>\n",
       "    <tr>\n",
       "      <th>499996</th>\n",
       "      <td>0.183194</td>\n",
       "      <td>0.553266</td>\n",
       "      <td>0.008055</td>\n",
       "      <td>0.280651</td>\n",
       "      <td>0.636591</td>\n",
       "      <td>0.478092</td>\n",
       "      <td>0.450386</td>\n",
       "      <td>0.582647</td>\n",
       "      <td>0.517270</td>\n",
       "      <td>0.225116</td>\n",
       "      <td>...</td>\n",
       "      <td>1</td>\n",
       "      <td>0</td>\n",
       "      <td>0</td>\n",
       "      <td>0</td>\n",
       "      <td>0</td>\n",
       "      <td>0</td>\n",
       "      <td>0</td>\n",
       "      <td>1</td>\n",
       "      <td>0</td>\n",
       "      <td>0</td>\n",
       "    </tr>\n",
       "    <tr>\n",
       "      <th>499997</th>\n",
       "      <td>0.184650</td>\n",
       "      <td>0.533643</td>\n",
       "      <td>0.011218</td>\n",
       "      <td>0.201262</td>\n",
       "      <td>0.720698</td>\n",
       "      <td>0.472888</td>\n",
       "      <td>0.427469</td>\n",
       "      <td>0.589259</td>\n",
       "      <td>0.243879</td>\n",
       "      <td>0.413022</td>\n",
       "      <td>...</td>\n",
       "      <td>1</td>\n",
       "      <td>1</td>\n",
       "      <td>0</td>\n",
       "      <td>0</td>\n",
       "      <td>0</td>\n",
       "      <td>0</td>\n",
       "      <td>0</td>\n",
       "      <td>0</td>\n",
       "      <td>0</td>\n",
       "      <td>0</td>\n",
       "    </tr>\n",
       "    <tr>\n",
       "      <th>499998</th>\n",
       "      <td>0.227731</td>\n",
       "      <td>0.513247</td>\n",
       "      <td>0.178603</td>\n",
       "      <td>0.313778</td>\n",
       "      <td>0.665656</td>\n",
       "      <td>0.401365</td>\n",
       "      <td>0.183369</td>\n",
       "      <td>0.708233</td>\n",
       "      <td>0.575135</td>\n",
       "      <td>0.152771</td>\n",
       "      <td>...</td>\n",
       "      <td>0</td>\n",
       "      <td>0</td>\n",
       "      <td>0</td>\n",
       "      <td>0</td>\n",
       "      <td>0</td>\n",
       "      <td>0</td>\n",
       "      <td>1</td>\n",
       "      <td>0</td>\n",
       "      <td>0</td>\n",
       "      <td>0</td>\n",
       "    </tr>\n",
       "    <tr>\n",
       "      <th>499999</th>\n",
       "      <td>0.185561</td>\n",
       "      <td>0.406225</td>\n",
       "      <td>0.097598</td>\n",
       "      <td>0.327129</td>\n",
       "      <td>0.655168</td>\n",
       "      <td>0.384097</td>\n",
       "      <td>0.330797</td>\n",
       "      <td>0.747355</td>\n",
       "      <td>0.409955</td>\n",
       "      <td>0.294460</td>\n",
       "      <td>...</td>\n",
       "      <td>1</td>\n",
       "      <td>0</td>\n",
       "      <td>0</td>\n",
       "      <td>0</td>\n",
       "      <td>0</td>\n",
       "      <td>1</td>\n",
       "      <td>0</td>\n",
       "      <td>0</td>\n",
       "      <td>0</td>\n",
       "      <td>0</td>\n",
       "    </tr>\n",
       "  </tbody>\n",
       "</table>\n",
       "<p>500000 rows × 285 columns</p>\n",
       "</div>"
      ],
      "text/plain": [
       "              f0        f1        f2        f3        f4        f5        f6  \\\n",
       "0       0.178216  0.435617  0.010230  0.202074  0.390170  0.324221  0.221722   \n",
       "1       0.181250  0.476455  0.022413  0.283146  0.598020  0.349508  0.283467   \n",
       "2       0.159721  0.451202  0.259649  0.365274  0.594634  0.413502  0.249318   \n",
       "3       0.182424  0.520976  0.095344  0.327742  0.741830  0.358711  0.270077   \n",
       "4       0.229329  0.336513  0.023511  0.300913  0.668738  0.481586  0.545660   \n",
       "...          ...       ...       ...       ...       ...       ...       ...   \n",
       "499995  0.185473  0.525338  0.014945  0.204029  0.498957  0.431933  0.470553   \n",
       "499996  0.183194  0.553266  0.008055  0.280651  0.636591  0.478092  0.450386   \n",
       "499997  0.184650  0.533643  0.011218  0.201262  0.720698  0.472888  0.427469   \n",
       "499998  0.227731  0.513247  0.178603  0.313778  0.665656  0.401365  0.183369   \n",
       "499999  0.185561  0.406225  0.097598  0.327129  0.655168  0.384097  0.330797   \n",
       "\n",
       "              f7        f8        f9  ...  f275  f276  f277  f278  f279  f280  \\\n",
       "0       0.738894  0.582588  0.343770  ...     1     0     0     0     0     0   \n",
       "1       0.721575  0.268990  0.208373  ...     0     0     0     0     0     0   \n",
       "2       0.642339  0.411104  0.246891  ...     0     0     0     0     0     0   \n",
       "3       0.601662  0.297742  0.252829  ...     0     0     0     0     0     1   \n",
       "4       0.667849  0.546045  0.202731  ...     0     0     0     0     1     0   \n",
       "...          ...       ...       ...  ...   ...   ...   ...   ...   ...   ...   \n",
       "499995  0.731268  0.452134  0.211206  ...     1     0     0     0     0     0   \n",
       "499996  0.582647  0.517270  0.225116  ...     1     0     0     0     0     0   \n",
       "499997  0.589259  0.243879  0.413022  ...     1     1     0     0     0     0   \n",
       "499998  0.708233  0.575135  0.152771  ...     0     0     0     0     0     0   \n",
       "499999  0.747355  0.409955  0.294460  ...     1     0     0     0     0     1   \n",
       "\n",
       "        f281  f282  f283  f284  \n",
       "0          1     1     1     0  \n",
       "1          0     0     0     0  \n",
       "2          1     0     0     0  \n",
       "3          1     0     0     0  \n",
       "4          0     1     0     0  \n",
       "...      ...   ...   ...   ...  \n",
       "499995     1     0     0     0  \n",
       "499996     0     1     0     0  \n",
       "499997     0     0     0     0  \n",
       "499998     1     0     0     0  \n",
       "499999     0     0     0     0  \n",
       "\n",
       "[500000 rows x 285 columns]"
      ]
     },
     "execution_count": 8,
     "metadata": {},
     "output_type": "execute_result"
    }
   ],
   "source": [
    "test[features]"
   ]
  },
  {
   "cell_type": "code",
   "execution_count": 9,
   "id": "3a5bcf2b",
   "metadata": {
    "execution": {
     "iopub.execute_input": "2021-10-08T06:30:02.370392Z",
     "iopub.status.busy": "2021-10-08T06:30:02.369482Z",
     "iopub.status.idle": "2021-10-08T06:30:02.373521Z",
     "shell.execute_reply": "2021-10-08T06:30:02.374073Z",
     "shell.execute_reply.started": "2021-10-04T14:13:08.658437Z"
    },
    "papermill": {
     "duration": 0.033872,
     "end_time": "2021-10-08T06:30:02.374332",
     "exception": false,
     "start_time": "2021-10-08T06:30:02.340460",
     "status": "completed"
    },
    "tags": []
   },
   "outputs": [
    {
     "data": {
      "text/plain": [
       "0         1\n",
       "1         1\n",
       "2         1\n",
       "3         1\n",
       "4         1\n",
       "         ..\n",
       "999995    1\n",
       "999996    0\n",
       "999997    0\n",
       "999998    1\n",
       "999999    0\n",
       "Name: target, Length: 1000000, dtype: uint8"
      ]
     },
     "execution_count": 9,
     "metadata": {},
     "output_type": "execute_result"
    }
   ],
   "source": [
    "train[target]"
   ]
  },
  {
   "cell_type": "code",
   "execution_count": 10,
   "id": "0810cebb",
   "metadata": {
    "execution": {
     "iopub.execute_input": "2021-10-08T06:30:02.530377Z",
     "iopub.status.busy": "2021-10-08T06:30:02.529372Z",
     "iopub.status.idle": "2021-10-08T06:30:02.534464Z",
     "shell.execute_reply": "2021-10-08T06:30:02.533554Z",
     "shell.execute_reply.started": "2021-10-04T07:24:32.011225Z"
    },
    "papermill": {
     "duration": 0.139553,
     "end_time": "2021-10-08T06:30:02.534619",
     "exception": false,
     "start_time": "2021-10-08T06:30:02.395066",
     "status": "completed"
    },
    "tags": []
   },
   "outputs": [
    {
     "data": {
      "text/plain": [
       "40"
      ]
     },
     "execution_count": 10,
     "metadata": {},
     "output_type": "execute_result"
    }
   ],
   "source": [
    "del cnt_features\n",
    "del cat_features\n",
    "\n",
    "gc.collect()"
   ]
  },
  {
   "cell_type": "markdown",
   "id": "3d469a95",
   "metadata": {
    "papermill": {
     "duration": 0.019776,
     "end_time": "2021-10-08T06:30:02.575784",
     "exception": false,
     "start_time": "2021-10-08T06:30:02.556008",
     "status": "completed"
    },
    "tags": []
   },
   "source": [
    "# XGB"
   ]
  },
  {
   "cell_type": "code",
   "execution_count": 11,
   "id": "d696d5e9",
   "metadata": {
    "execution": {
     "iopub.execute_input": "2021-10-08T06:30:02.624946Z",
     "iopub.status.busy": "2021-10-08T06:30:02.623933Z",
     "iopub.status.idle": "2021-10-08T06:30:02.626907Z",
     "shell.execute_reply": "2021-10-08T06:30:02.627395Z",
     "shell.execute_reply.started": "2021-09-07T00:44:32.516352Z"
    },
    "papermill": {
     "duration": 0.030059,
     "end_time": "2021-10-08T06:30:02.627581",
     "exception": false,
     "start_time": "2021-10-08T06:30:02.597522",
     "status": "completed"
    },
    "tags": []
   },
   "outputs": [],
   "source": [
    "xgb_params = {\n",
    "        'objective': 'binary:logistic',\n",
    "        'n_estimators':N_ESTIMATORS,\n",
    "        'importance_type': 'total_gain',\n",
    "        #'booster': 'gbtree',\n",
    "        'n_jobs' : -1,\n",
    "        'tree_method': 'hist',\n",
    "\n",
    "        'learning_rate': 0.01063045229441343, \n",
    "        'gamma': 0.24652519525750877, \n",
    "        'max_depth': 4,   \n",
    "        'min_child_weight': 366, \n",
    "        'subsample': 0.6423040816299684, \n",
    "        'colsample_bytree': 0.7751264493218339, \n",
    "        'colsample_bylevel': 0.8675692743597421, \n",
    "        'use_label_encoder': False,\n",
    "        'reg_lambda': 0, \n",
    "        'reg_alpha': 10\n",
    "}"
   ]
  },
  {
   "cell_type": "code",
   "execution_count": 12,
   "id": "02155536",
   "metadata": {
    "execution": {
     "iopub.execute_input": "2021-10-08T06:30:02.684202Z",
     "iopub.status.busy": "2021-10-08T06:30:02.682587Z",
     "iopub.status.idle": "2021-10-08T09:46:09.622007Z",
     "shell.execute_reply": "2021-10-08T09:46:09.622753Z",
     "shell.execute_reply.started": "2021-09-07T00:48:20.356186Z"
    },
    "papermill": {
     "duration": 11766.97636,
     "end_time": "2021-10-08T09:46:09.623857",
     "exception": false,
     "start_time": "2021-10-08T06:30:02.647497",
     "status": "completed"
    },
    "tags": []
   },
   "outputs": [
    {
     "name": "stdout",
     "output_type": "stream",
     "text": [
      "===== fold 0 =====\n",
      "===== fold 1 =====\n",
      "===== fold 2 =====\n",
      "===== fold 3 =====\n",
      "===== fold 4 =====\n",
      "[0]\tvalidation_0-auc:0.79936\n",
      "[1000]\tvalidation_0-auc:0.84669\n",
      "[2000]\tvalidation_0-auc:0.85201\n",
      "[3000]\tvalidation_0-auc:0.85417\n",
      "[4000]\tvalidation_0-auc:0.85526\n",
      "[5000]\tvalidation_0-auc:0.85580\n",
      "[6000]\tvalidation_0-auc:0.85610\n",
      "[7000]\tvalidation_0-auc:0.85627\n",
      "[8000]\tvalidation_0-auc:0.85634\n",
      "[9000]\tvalidation_0-auc:0.85636\n",
      "[9999]\tvalidation_0-auc:0.85633\n",
      "[0]\tvalidation_0-auc:0.85634\n",
      "[1000]\tvalidation_0-auc:0.85634\n",
      "[2000]\tvalidation_0-auc:0.85634\n",
      "[3000]\tvalidation_0-auc:0.85634\n",
      "[4000]\tvalidation_0-auc:0.85634\n",
      "[5000]\tvalidation_0-auc:0.85634\n",
      "[6000]\tvalidation_0-auc:0.85634\n",
      "[7000]\tvalidation_0-auc:0.85633\n",
      "[8000]\tvalidation_0-auc:0.85633\n",
      "[9000]\tvalidation_0-auc:0.85633\n",
      "[9999]\tvalidation_0-auc:0.85633\n",
      "fold 4 - xgb auc: 0.856384, elapsed time: 11763.92sec\n",
      "\n",
      "oof xgb_auc = 0.5142553514808602\n"
     ]
    }
   ],
   "source": [
    "xgb_oof = np.zeros(train.shape[0])\n",
    "xgb_pred = np.zeros(test.shape[0])\n",
    "xgb_importances = pd.DataFrame()\n",
    "\n",
    "X_test = test[features]\n",
    "del test\n",
    "gc.collect()\n",
    "\n",
    "\n",
    "kf = StratifiedKFold(n_splits=N_SPLITS, shuffle=True, random_state=CVSEED)\n",
    "seed_list=[SEED+4]\n",
    "\n",
    "for fold, (trn_idx, val_idx) in enumerate(kf.split(X=train[features], y=train[target])):\n",
    "    print(f\"===== fold {fold} =====\")\n",
    "    if fold in [4]:\n",
    "        \n",
    "        X_train = train[features].iloc[trn_idx]\n",
    "        y_train = train[target].iloc[trn_idx]\n",
    "        X_valid = train[features].iloc[val_idx]\n",
    "        y_valid = train[target].iloc[val_idx]\n",
    "        \n",
    "\n",
    "\n",
    "        start = time.time()\n",
    "        for inseed in seed_list:\n",
    "            xgb_params['random_state'] = inseed\n",
    "\n",
    "            pre_model = xgb.XGBClassifier(**xgb_params)\n",
    "            pre_model.fit(\n",
    "                X_train, \n",
    "                y_train,\n",
    "                eval_set=[(X_valid, y_valid)],\n",
    "                eval_metric='auc',\n",
    "                verbose=VERBOSE,\n",
    "            )\n",
    "\n",
    "            xgb_params2 = xgb_params.copy()\n",
    "            xgb_params2['reg_lambda'] *= 0.9\n",
    "            xgb_params2['reg_alpha'] *= 0.9\n",
    "            xgb_params2['learning_rate'] *= 0.1\n",
    "            model = xgb.XGBClassifier(**xgb_params2)\n",
    "            model.fit(\n",
    "                    X_train, y_train,\n",
    "                    eval_set=[(X_valid, y_valid)],\n",
    "                    eval_metric='auc',\n",
    "                    verbose=VERBOSE,\n",
    "                    xgb_model=pre_model\n",
    "            )    \n",
    "\n",
    "            with open(f\"xgb_model{fold}_seed{inseed}.pkl\", 'wb') as f:\n",
    "                pickle.dump(model, f)\n",
    "\n",
    "            fi_tmp = pd.DataFrame()\n",
    "            fi_tmp['feature'] = X_train.columns\n",
    "            fi_tmp['importance'] = model.feature_importances_\n",
    "            fi_tmp['fold'] = fold\n",
    "            fi_tmp['seed'] = inseed\n",
    "            xgb_importances = xgb_importances.append(fi_tmp)\n",
    "\n",
    "            xgb_oof[val_idx] += model.predict_proba(X_valid)[:,-1] / len(seed_list)\n",
    "            xgb_pred += model.predict_proba(X_test)[:,-1] / len(seed_list)\n",
    "            \n",
    "            del pre_model\n",
    "            del model\n",
    "            gc.collect()\n",
    "\n",
    "\n",
    "        elapsed = time.time() - start\n",
    "        auc = roc_auc_score(y_valid, xgb_oof[val_idx])\n",
    "        print(f\"fold {fold} - xgb auc: {auc:.6f}, elapsed time: {elapsed:.2f}sec\\n\")\n",
    "        \n",
    "        del X_train\n",
    "        del y_train\n",
    "        del X_valid\n",
    "        del y_valid\n",
    "        gc.collect()\n",
    "\n",
    "\n",
    "del X_test\n",
    "gc.collect()\n",
    "\n",
    "xgb_pred /= N_SPLITS\n",
    "print(f\"oof xgb_auc = {roc_auc_score(train[target], xgb_oof)}\")\n",
    "\n",
    "np.save(\"xgb_oof.npy\", xgb_oof)\n",
    "np.save(\"xgb_pred.npy\", xgb_pred)"
   ]
  },
  {
   "cell_type": "markdown",
   "id": "16152375",
   "metadata": {
    "papermill": {
     "duration": 0.027386,
     "end_time": "2021-10-08T09:46:09.679889",
     "exception": false,
     "start_time": "2021-10-08T09:46:09.652503",
     "status": "completed"
    },
    "tags": []
   },
   "source": [
    "# OOF predictions"
   ]
  },
  {
   "cell_type": "code",
   "execution_count": 13,
   "id": "8716ee56",
   "metadata": {
    "execution": {
     "iopub.execute_input": "2021-10-08T09:46:09.744930Z",
     "iopub.status.busy": "2021-10-08T09:46:09.744199Z",
     "iopub.status.idle": "2021-10-08T09:46:13.563448Z",
     "shell.execute_reply": "2021-10-08T09:46:13.562860Z",
     "shell.execute_reply.started": "2021-09-07T00:50:57.432219Z"
    },
    "papermill": {
     "duration": 3.85554,
     "end_time": "2021-10-08T09:46:13.563610",
     "exception": false,
     "start_time": "2021-10-08T09:46:09.708070",
     "status": "completed"
    },
    "tags": []
   },
   "outputs": [
    {
     "data": {
      "text/plain": [
       "<matplotlib.collections.PathCollection at 0x7f0c5fa4c510>"
      ]
     },
     "execution_count": 13,
     "metadata": {},
     "output_type": "execute_result"
    },
    {
     "data": {
      "image/png": "[encoded data removed]",
      "text/plain": [
       "<Figure size 432x288 with 1 Axes>"
      ]
     },
     "metadata": {
      "needs_background": "light"
     },
     "output_type": "display_data"
    }
   ],
   "source": [
    "plt.plot(train[target], train[target])\n",
    "plt.scatter(train[target], xgb_oof)"
   ]
  },
  {
   "cell_type": "code",
   "execution_count": 14,
   "id": "daa99f39",
   "metadata": {
    "execution": {
     "iopub.execute_input": "2021-10-08T09:46:13.768438Z",
     "iopub.status.busy": "2021-10-08T09:46:13.767584Z",
     "iopub.status.idle": "2021-10-08T09:46:13.771913Z",
     "shell.execute_reply": "2021-10-08T09:46:13.771251Z"
    },
    "papermill": {
     "duration": 0.179769,
     "end_time": "2021-10-08T09:46:13.772056",
     "exception": false,
     "start_time": "2021-10-08T09:46:13.592287",
     "status": "completed"
    },
    "tags": []
   },
   "outputs": [
    {
     "data": {
      "text/plain": [
       "20"
      ]
     },
     "execution_count": 14,
     "metadata": {},
     "output_type": "execute_result"
    }
   ],
   "source": [
    "del train\n",
    "del xgb_oof\n",
    "gc.collect()"
   ]
  },
  {
   "cell_type": "markdown",
   "id": "3ba1f135",
   "metadata": {
    "papermill": {
     "duration": 0.028472,
     "end_time": "2021-10-08T09:46:13.829310",
     "exception": false,
     "start_time": "2021-10-08T09:46:13.800838",
     "status": "completed"
    },
    "tags": []
   },
   "source": [
    "# Features importances"
   ]
  },
  {
   "cell_type": "code",
   "execution_count": 15,
   "id": "0b8a91f1",
   "metadata": {
    "execution": {
     "iopub.execute_input": "2021-10-08T09:46:13.904339Z",
     "iopub.status.busy": "2021-10-08T09:46:13.903482Z",
     "iopub.status.idle": "2021-10-08T09:46:19.614669Z",
     "shell.execute_reply": "2021-10-08T09:46:19.615201Z",
     "shell.execute_reply.started": "2021-09-07T00:51:01.011128Z"
    },
    "papermill": {
     "duration": 5.756715,
     "end_time": "2021-10-08T09:46:19.615386",
     "exception": false,
     "start_time": "2021-10-08T09:46:13.858671",
     "status": "completed"
    },
    "tags": []
   },
   "outputs": [
    {
     "data": {
      "text/plain": [
       "Text(0.5, 1.0, 'XGB feature importances')"
      ]
     },
     "execution_count": 15,
     "metadata": {},
     "output_type": "execute_result"
    },
    {
     "data": {
      "image/png": "[encoded data removed]",
      "text/plain": [
       "<Figure size 1152x1152 with 1 Axes>"
      ]
     },
     "metadata": {
      "needs_background": "light"
     },
     "output_type": "display_data"
    }
   ],
   "source": [
    "order = list(xgb_importances.groupby('feature').mean().sort_values('importance', ascending=False).index)\n",
    "\n",
    "fig = plt.figure(figsize=(16, 16), tight_layout=True)\n",
    "sns.barplot(x=\"importance\", y=\"feature\", data=xgb_importances.groupby('feature').mean().reset_index(), order=order)\n",
    "plt.title(\"XGB feature importances\")"
   ]
  },
  {
   "cell_type": "markdown",
   "id": "97b2e009",
   "metadata": {
    "papermill": {
     "duration": 0.031762,
     "end_time": "2021-10-08T09:46:19.679083",
     "exception": false,
     "start_time": "2021-10-08T09:46:19.647321",
     "status": "completed"
    },
    "tags": []
   },
   "source": [
    "# Submission"
   ]
  },
  {
   "cell_type": "code",
   "execution_count": 16,
   "id": "10b273b2",
   "metadata": {
    "execution": {
     "iopub.execute_input": "2021-10-08T09:46:19.746760Z",
     "iopub.status.busy": "2021-10-08T09:46:19.746027Z",
     "iopub.status.idle": "2021-10-08T09:46:21.703240Z",
     "shell.execute_reply": "2021-10-08T09:46:21.703742Z",
     "shell.execute_reply.started": "2021-09-07T00:51:03.177221Z"
    },
    "papermill": {
     "duration": 1.992633,
     "end_time": "2021-10-08T09:46:21.703912",
     "exception": false,
     "start_time": "2021-10-08T09:46:19.711279",
     "status": "completed"
    },
    "tags": []
   },
   "outputs": [
    {
     "data": {
      "text/html": [
       "<div>\n",
       "<style scoped>\n",
       "    .dataframe tbody tr th:only-of-type {\n",
       "        vertical-align: middle;\n",
       "    }\n",
       "\n",
       "    .dataframe tbody tr th {\n",
       "        vertical-align: top;\n",
       "    }\n",
       "\n",
       "    .dataframe thead th {\n",
       "        text-align: right;\n",
       "    }\n",
       "</style>\n",
       "<table border=\"1\" class=\"dataframe\">\n",
       "  <thead>\n",
       "    <tr style=\"text-align: right;\">\n",
       "      <th></th>\n",
       "      <th>id</th>\n",
       "      <th>target</th>\n",
       "    </tr>\n",
       "  </thead>\n",
       "  <tbody>\n",
       "    <tr>\n",
       "      <th>0</th>\n",
       "      <td>1000000</td>\n",
       "      <td>0.144920</td>\n",
       "    </tr>\n",
       "    <tr>\n",
       "      <th>1</th>\n",
       "      <td>1000001</td>\n",
       "      <td>0.054340</td>\n",
       "    </tr>\n",
       "    <tr>\n",
       "      <th>2</th>\n",
       "      <td>1000002</td>\n",
       "      <td>0.180472</td>\n",
       "    </tr>\n",
       "    <tr>\n",
       "      <th>3</th>\n",
       "      <td>1000003</td>\n",
       "      <td>0.170220</td>\n",
       "    </tr>\n",
       "    <tr>\n",
       "      <th>4</th>\n",
       "      <td>1000004</td>\n",
       "      <td>0.054944</td>\n",
       "    </tr>\n",
       "    <tr>\n",
       "      <th>...</th>\n",
       "      <td>...</td>\n",
       "      <td>...</td>\n",
       "    </tr>\n",
       "    <tr>\n",
       "      <th>499995</th>\n",
       "      <td>1499995</td>\n",
       "      <td>0.194160</td>\n",
       "    </tr>\n",
       "    <tr>\n",
       "      <th>499996</th>\n",
       "      <td>1499996</td>\n",
       "      <td>0.165922</td>\n",
       "    </tr>\n",
       "    <tr>\n",
       "      <th>499997</th>\n",
       "      <td>1499997</td>\n",
       "      <td>0.063283</td>\n",
       "    </tr>\n",
       "    <tr>\n",
       "      <th>499998</th>\n",
       "      <td>1499998</td>\n",
       "      <td>0.096364</td>\n",
       "    </tr>\n",
       "    <tr>\n",
       "      <th>499999</th>\n",
       "      <td>1499999</td>\n",
       "      <td>0.079986</td>\n",
       "    </tr>\n",
       "  </tbody>\n",
       "</table>\n",
       "<p>500000 rows × 2 columns</p>\n",
       "</div>"
      ],
      "text/plain": [
       "             id    target\n",
       "0       1000000  0.144920\n",
       "1       1000001  0.054340\n",
       "2       1000002  0.180472\n",
       "3       1000003  0.170220\n",
       "4       1000004  0.054944\n",
       "...         ...       ...\n",
       "499995  1499995  0.194160\n",
       "499996  1499996  0.165922\n",
       "499997  1499997  0.063283\n",
       "499998  1499998  0.096364\n",
       "499999  1499999  0.079986\n",
       "\n",
       "[500000 rows x 2 columns]"
      ]
     },
     "execution_count": 16,
     "metadata": {},
     "output_type": "execute_result"
    }
   ],
   "source": [
    "submission[target] = xgb_pred\n",
    "submission.to_csv(\"submission.csv\", index=False)\n",
    "\n",
    "submission"
   ]
  },
  {
   "cell_type": "markdown",
   "id": "60e994db",
   "metadata": {
    "papermill": {
     "duration": 0.032095,
     "end_time": "2021-10-08T09:46:21.768348",
     "exception": false,
     "start_time": "2021-10-08T09:46:21.736253",
     "status": "completed"
    },
    "tags": []
   },
   "source": [
    "# Log\n",
    "\n",
    "seeds\n",
    "\n",
    "2017 ver4 fold 0-1 ver8 fold 2-3 ver9 fold 4\n",
    "2018 ver6 fold 0-1 ver10 fold 2-3 ver11 fold 4\n",
    "2019 ver12 fold 0-1 ver13 fold 2-3 ver14 fold 4\n",
    "2020 ver15 fold 0-1 ver16 fold 2-3 ver17 fold 4\n",
    "2021 ver18 fold 0-1 ver19 fold 2-3 ver20 fold 4\n"
   ]
  }
 ],
 "metadata": {
  "kernelspec": {
   "display_name": "Python 3",
   "language": "python",
   "name": "python3"
  },
  "language_info": {
   "codemirror_mode": {
    "name": "ipython",
    "version": 3
   },
   "file_extension": ".py",
   "mimetype": "text/x-python",
   "name": "python",
   "nbconvert_exporter": "python",
   "pygments_lexer": "ipython3",
   "version": "3.7.10"
  },
  "papermill": {
   "default_parameters": {},
   "duration": 11992.416643,
   "end_time": "2021-10-08T09:46:23.063203",
   "environment_variables": {},
   "exception": null,
   "input_path": "__notebook__.ipynb",
   "output_path": "__notebook__.ipynb",
   "parameters": {},
   "start_time": "2021-10-08T06:26:30.646560",
   "version": "2.3.3"
  }
 },
 "nbformat": 4,
 "nbformat_minor": 5
}
