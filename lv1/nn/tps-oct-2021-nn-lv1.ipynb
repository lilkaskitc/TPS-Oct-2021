{
 "cells": [
  {
   "cell_type": "code",
   "execution_count": 1,
   "id": "38723403",
   "metadata": {
    "_kg_hide-input": false,
    "execution": {
     "iopub.execute_input": "2021-10-18T00:33:10.497108Z",
     "iopub.status.busy": "2021-10-18T00:33:10.496420Z",
     "iopub.status.idle": "2021-10-18T00:33:15.659184Z",
     "shell.execute_reply": "2021-10-18T00:33:15.658231Z",
     "shell.execute_reply.started": "2021-10-18T00:23:26.938546Z"
    },
    "papermill": {
     "duration": 5.192437,
     "end_time": "2021-10-18T00:33:15.659347",
     "exception": false,
     "start_time": "2021-10-18T00:33:10.466910",
     "status": "completed"
    },
    "tags": []
   },
   "outputs": [],
   "source": [
    "import numpy as np # linear algebra\n",
    "import pandas as pd # data processing, CSV file I/O (e.g. pd.read_csv)\n",
    "import os\n",
    "import random\n",
    "from sklearn.pipeline import Pipeline\n",
    "from pathlib import Path\n",
    "\n",
    "\n",
    "from os.path import join, isfile\n",
    "from os import path, scandir, listdir\n",
    "\n",
    "\n",
    "import tensorflow as tf\n",
    "from tensorflow.keras import layers\n",
    "from tensorflow.keras.layers import Input, Dense, BatchNormalization, Dropout, Embedding,  Flatten\n",
    "from tensorflow.keras.models import Model, Sequential\n",
    "from keras.callbacks import ReduceLROnPlateau\n",
    "from keras.optimizers import RMSprop\n",
    "import keras_tuner as kt\n",
    "\n",
    "from tensorflow.data import Dataset\n",
    "from sklearn.preprocessing import QuantileTransformer,  KBinsDiscretizer\n",
    "from sklearn.model_selection import StratifiedKFold\n",
    "from tensorflow import keras\n",
    "from sklearn import metrics\n",
    "from sklearn.impute import SimpleImputer\n",
    "\n",
    "from sklearn.model_selection import train_test_split\n",
    "\n",
    "from sklearn.metrics import roc_auc_score\n",
    "\n",
    "import gc\n",
    "import warnings\n",
    "warnings.simplefilter('ignore')"
   ]
  },
  {
   "cell_type": "markdown",
   "id": "8965457e",
   "metadata": {
    "papermill": {
     "duration": 0.014701,
     "end_time": "2021-10-18T00:33:15.689058",
     "exception": false,
     "start_time": "2021-10-18T00:33:15.674357",
     "status": "completed"
    },
    "tags": []
   },
   "source": [
    "# Parameters"
   ]
  },
  {
   "cell_type": "code",
   "execution_count": 2,
   "id": "193b72e3",
   "metadata": {
    "execution": {
     "iopub.execute_input": "2021-10-18T00:33:15.723778Z",
     "iopub.status.busy": "2021-10-18T00:33:15.722989Z",
     "iopub.status.idle": "2021-10-18T00:33:15.725630Z",
     "shell.execute_reply": "2021-10-18T00:33:15.725234Z",
     "shell.execute_reply.started": "2021-10-18T00:23:26.952116Z"
    },
    "papermill": {
     "duration": 0.022251,
     "end_time": "2021-10-18T00:33:15.725738",
     "exception": false,
     "start_time": "2021-10-18T00:33:15.703487",
     "status": "completed"
    },
    "tags": []
   },
   "outputs": [],
   "source": [
    "target = 'target'\n",
    "\n",
    "DEBUG = False\n",
    "\n",
    "if DEBUG:\n",
    "    N_ESTIMATORS = 1\n",
    "    N_SPLITS = 2\n",
    "    SEED = 2017\n",
    "    CVSEED = 2017\n",
    "    EARLY_STOPPING_ROUNDS = 1\n",
    "    VERBOSE = 100\n",
    "    BINS = 128\n",
    "    #N_ITERS = 2\n",
    "else:\n",
    "    N_SPLITS = 5\n",
    "    N_ESTIMATORS = 20000\n",
    "    EARLY_STOPPING_ROUNDS = 300\n",
    "    VERBOSE = 1000\n",
    "    SEED = 2017\n",
    "    CVSEED = 2017\n",
    "    BINS = 128\n",
    "    #N_ITERS = 10"
   ]
  },
  {
   "cell_type": "code",
   "execution_count": 3,
   "id": "7464d789",
   "metadata": {
    "execution": {
     "iopub.execute_input": "2021-10-18T00:33:15.758804Z",
     "iopub.status.busy": "2021-10-18T00:33:15.758292Z",
     "iopub.status.idle": "2021-10-18T00:33:15.761775Z",
     "shell.execute_reply": "2021-10-18T00:33:15.762146Z",
     "shell.execute_reply.started": "2021-10-18T00:23:26.965827Z"
    },
    "papermill": {
     "duration": 0.022116,
     "end_time": "2021-10-18T00:33:15.762289",
     "exception": false,
     "start_time": "2021-10-18T00:33:15.740173",
     "status": "completed"
    },
    "tags": []
   },
   "outputs": [],
   "source": [
    "def set_seed(seed=2017):\n",
    "    random.seed(seed)\n",
    "    os.environ['PYTHONHASHSEED'] = str(seed)\n",
    "    np.random.seed(seed)\n",
    "    tf.compat.v1.set_random_seed(seed)\n",
    "    \n",
    "set_seed(SEED)"
   ]
  },
  {
   "cell_type": "markdown",
   "id": "cbefcbac",
   "metadata": {
    "papermill": {
     "duration": 0.014247,
     "end_time": "2021-10-18T00:33:15.790793",
     "exception": false,
     "start_time": "2021-10-18T00:33:15.776546",
     "status": "completed"
    },
    "tags": []
   },
   "source": [
    "# Load Dataset"
   ]
  },
  {
   "cell_type": "code",
   "execution_count": 4,
   "id": "2264a4a8",
   "metadata": {
    "execution": {
     "iopub.execute_input": "2021-10-18T00:33:15.824639Z",
     "iopub.status.busy": "2021-10-18T00:33:15.824016Z",
     "iopub.status.idle": "2021-10-18T00:34:11.742756Z",
     "shell.execute_reply": "2021-10-18T00:34:11.742251Z",
     "shell.execute_reply.started": "2021-10-18T00:23:26.975580Z"
    },
    "papermill": {
     "duration": 55.93742,
     "end_time": "2021-10-18T00:34:11.742901",
     "exception": false,
     "start_time": "2021-10-18T00:33:15.805481",
     "status": "completed"
    },
    "tags": []
   },
   "outputs": [],
   "source": [
    "INPUT = Path(\"../input/tabular-playground-series-oct-2021\")\n",
    "\n",
    "train = pd.DataFrame(pd.read_csv(INPUT / \"train.csv\")[target])\n",
    "#test = pd.read_csv(INPUT / \"test.csv\")\n",
    "test = pd.DataFrame()\n",
    "sub = pd.read_csv(INPUT / \"sample_submission.csv\")"
   ]
  },
  {
   "cell_type": "code",
   "execution_count": 5,
   "id": "9fd72ba9",
   "metadata": {
    "execution": {
     "iopub.execute_input": "2021-10-18T00:34:11.780558Z",
     "iopub.status.busy": "2021-10-18T00:34:11.779264Z",
     "iopub.status.idle": "2021-10-18T00:34:11.781634Z",
     "shell.execute_reply": "2021-10-18T00:34:11.782036Z",
     "shell.execute_reply.started": "2021-10-18T00:24:26.921357Z"
    },
    "papermill": {
     "duration": 0.023544,
     "end_time": "2021-10-18T00:34:11.782179",
     "exception": false,
     "start_time": "2021-10-18T00:34:11.758635",
     "status": "completed"
    },
    "tags": []
   },
   "outputs": [],
   "source": [
    "def list_all_files(location='../input/tps-oct-lv0', pattern=None, recursive=True):\n",
    "    \"\"\"\n",
    "    This function returns a list of files at a given location (including subfolders)\n",
    "    \n",
    "    - location: path to the directory to be searched\n",
    "    - pattern: part of the file name to be searched (ex. pattern='.csv' would return all the csv files)\n",
    "    - recursive: boolean, if True the function calls itself for every subdirectory it finds\n",
    "    \"\"\"\n",
    "    subdirectories= [f.path for f in scandir(location) if f.is_dir()]\n",
    "    files = [join(location, f) for f in listdir(location) if isfile(join(location, f))]\n",
    "    if recursive:\n",
    "        for directory in subdirectories:\n",
    "            files.extend(list_all_files(directory))\n",
    "    if pattern:\n",
    "        files = [f for f in files if pattern in f]\n",
    "    return files"
   ]
  },
  {
   "cell_type": "code",
   "execution_count": 6,
   "id": "35c2a61e",
   "metadata": {
    "execution": {
     "iopub.execute_input": "2021-10-18T00:34:11.815336Z",
     "iopub.status.busy": "2021-10-18T00:34:11.814704Z",
     "iopub.status.idle": "2021-10-18T00:34:11.818454Z",
     "shell.execute_reply": "2021-10-18T00:34:11.817962Z",
     "shell.execute_reply.started": "2021-10-18T00:24:26.929440Z"
    },
    "papermill": {
     "duration": 0.021707,
     "end_time": "2021-10-18T00:34:11.818558",
     "exception": false,
     "start_time": "2021-10-18T00:34:11.796851",
     "status": "completed"
    },
    "tags": []
   },
   "outputs": [],
   "source": [
    "names = ['bizen', 'henke', 'hamza', '28smiles','kashif', 'kosta', 'kaveh', 'dlaststark', 'pca', 'xgb2']"
   ]
  },
  {
   "cell_type": "code",
   "execution_count": 7,
   "id": "a9310c81",
   "metadata": {
    "execution": {
     "iopub.execute_input": "2021-10-18T00:34:11.850968Z",
     "iopub.status.busy": "2021-10-18T00:34:11.850477Z",
     "iopub.status.idle": "2021-10-18T00:34:11.854476Z",
     "shell.execute_reply": "2021-10-18T00:34:11.853898Z",
     "shell.execute_reply.started": "2021-10-18T00:24:26.944336Z"
    },
    "papermill": {
     "duration": 0.021581,
     "end_time": "2021-10-18T00:34:11.854589",
     "exception": false,
     "start_time": "2021-10-18T00:34:11.833008",
     "status": "completed"
    },
    "tags": []
   },
   "outputs": [],
   "source": [
    "namesec = ['lonnie', 'hgb', 'xgb_d2s', 'ctb_d2s']"
   ]
  },
  {
   "cell_type": "code",
   "execution_count": 8,
   "id": "02c90fa4",
   "metadata": {
    "execution": {
     "iopub.execute_input": "2021-10-18T00:34:11.889596Z",
     "iopub.status.busy": "2021-10-18T00:34:11.888996Z",
     "iopub.status.idle": "2021-10-18T00:34:17.181393Z",
     "shell.execute_reply": "2021-10-18T00:34:17.180296Z",
     "shell.execute_reply.started": "2021-10-18T00:24:26.953602Z"
    },
    "papermill": {
     "duration": 5.312395,
     "end_time": "2021-10-18T00:34:17.181518",
     "exception": false,
     "start_time": "2021-10-18T00:34:11.869123",
     "status": "completed"
    },
    "tags": []
   },
   "outputs": [
    {
     "data": {
      "text/plain": [
       "Index(['target', 'bizen', 'henke', 'hamza', '28smiles', 'kashif', 'kosta',\n",
       "       'kaveh', 'dlaststark', 'pca', 'xgb2', 'lonnie', 'hgb', 'xgb_d2s',\n",
       "       'ctb_d2s'],\n",
       "      dtype='object')"
      ]
     },
     "execution_count": 8,
     "metadata": {},
     "output_type": "execute_result"
    }
   ],
   "source": [
    "pred = list_all_files(pattern='oof')\n",
    "\n",
    "\n",
    "for i in range(len(names)):\n",
    "    avv = []\n",
    "    \n",
    "    for file in pred:\n",
    "        if names[i] in file.split('/')[3]:\n",
    "            avv.append(np.load(file))\n",
    "    train[names[i]] = np.mean(avv, axis=0)\n",
    "            \n",
    "pred = list_all_files(location='../input/tps-oct-lv0-sec', pattern='oof')\n",
    "\n",
    "for i in range(len(namesec)):\n",
    "    avv = []\n",
    "    \n",
    "    for file in pred:\n",
    "        if namesec[i] in file.split('/')[3]:\n",
    "            avv.append(np.load(file))\n",
    "    train[namesec[i]] = np.mean(avv, axis=0)\n",
    "            \n",
    "            \n",
    "    \n",
    "train.columns"
   ]
  },
  {
   "cell_type": "code",
   "execution_count": 9,
   "id": "b08271e6",
   "metadata": {
    "execution": {
     "iopub.execute_input": "2021-10-18T00:34:17.220531Z",
     "iopub.status.busy": "2021-10-18T00:34:17.219863Z",
     "iopub.status.idle": "2021-10-18T00:34:19.626932Z",
     "shell.execute_reply": "2021-10-18T00:34:19.627694Z",
     "shell.execute_reply.started": "2021-10-18T00:24:32.787137Z"
    },
    "papermill": {
     "duration": 2.429444,
     "end_time": "2021-10-18T00:34:19.627849",
     "exception": false,
     "start_time": "2021-10-18T00:34:17.198405",
     "status": "completed"
    },
    "tags": []
   },
   "outputs": [
    {
     "data": {
      "text/plain": [
       "Index(['bizen', 'henke', 'hamza', '28smiles', 'kashif', 'kosta', 'kaveh',\n",
       "       'dlaststark', 'pca', 'xgb2', 'lonnie', 'hgb', 'xgb_d2s', 'ctb_d2s'],\n",
       "      dtype='object')"
      ]
     },
     "execution_count": 9,
     "metadata": {},
     "output_type": "execute_result"
    }
   ],
   "source": [
    "pred = list_all_files(pattern='pred')\n",
    "\n",
    "\n",
    "for i in range(len(names)):\n",
    "    avv = []\n",
    "    \n",
    "    for file in pred:\n",
    "        if names[i] in file.split('/')[3]:\n",
    "            avv.append(np.load(file))\n",
    "    test[names[i]] = np.mean(avv, axis=0)\n",
    "            \n",
    "pred = list_all_files(location='../input/tps-oct-lv0-sec', pattern='pred')\n",
    "\n",
    "for i in range(len(namesec)):\n",
    "    avv = []\n",
    "    \n",
    "    for file in pred:\n",
    "        if namesec[i] in file.split('/')[3]:\n",
    "            avv.append(np.load(file))\n",
    "    test[namesec[i]] = np.mean(avv, axis=0)\n",
    "    \n",
    "test.columns"
   ]
  },
  {
   "cell_type": "code",
   "execution_count": 10,
   "id": "f8ff6815",
   "metadata": {
    "execution": {
     "iopub.execute_input": "2021-10-18T00:34:19.700662Z",
     "iopub.status.busy": "2021-10-18T00:34:19.699839Z",
     "iopub.status.idle": "2021-10-18T00:34:20.717090Z",
     "shell.execute_reply": "2021-10-18T00:34:20.716590Z",
     "shell.execute_reply.started": "2021-10-18T00:24:35.176217Z"
    },
    "papermill": {
     "duration": 1.057526,
     "end_time": "2021-10-18T00:34:20.717245",
     "exception": false,
     "start_time": "2021-10-18T00:34:19.659719",
     "status": "completed"
    },
    "tags": []
   },
   "outputs": [],
   "source": [
    "avv = []\n",
    "for i in range(5):\n",
    "    avv.append(np.load(\"../input/tps-oct-lv0/\"+str(i+2017)+\"lgb_oof.npy\"))\n",
    "train['lgb'] = np.mean(avv, axis=0)\n",
    "\n",
    "avv = []\n",
    "for i in range(5):\n",
    "    avv.append(np.load(\"../input/tps-oct-lv0/agg\"+str(i+1)+\"_xgb_oof.npy\"))\n",
    "train['xgb'] = np.mean(avv, axis=0)\n",
    "\n",
    "avv = []\n",
    "for i in range(5):\n",
    "    avv.append(np.load(\"../input/tps-oct-lv0/\"+str(i+2017)+\"lgb_pred.npy\"))\n",
    "test['lgb'] = np.mean(avv, axis=0)\n",
    "\n",
    "avv = []\n",
    "for i in range(5):\n",
    "    avv.append(np.load(\"../input/tps-oct-lv0/agg\"+str(i+1)+\"_xgb_pred.npy\"))\n",
    "test['xgb'] = np.mean(avv, axis=0)"
   ]
  },
  {
   "cell_type": "markdown",
   "id": "8837a7d7",
   "metadata": {
    "papermill": {
     "duration": 0.014945,
     "end_time": "2021-10-18T00:34:20.747891",
     "exception": false,
     "start_time": "2021-10-18T00:34:20.732946",
     "status": "completed"
    },
    "tags": []
   },
   "source": [
    "# Preprocessing"
   ]
  },
  {
   "cell_type": "code",
   "execution_count": 11,
   "id": "7e8a503d",
   "metadata": {
    "execution": {
     "iopub.execute_input": "2021-10-18T00:34:20.783366Z",
     "iopub.status.busy": "2021-10-18T00:34:20.782101Z",
     "iopub.status.idle": "2021-10-18T00:34:20.784454Z",
     "shell.execute_reply": "2021-10-18T00:34:20.784868Z",
     "shell.execute_reply.started": "2021-10-18T00:24:36.204373Z"
    },
    "papermill": {
     "duration": 0.022226,
     "end_time": "2021-10-18T00:34:20.784988",
     "exception": false,
     "start_time": "2021-10-18T00:34:20.762762",
     "status": "completed"
    },
    "tags": []
   },
   "outputs": [],
   "source": [
    "features = train.columns[1:]\n",
    "\n",
    "pipe = Pipeline([\n",
    "       # ('imputer', SimpleImputer(strategy='median',missing_values=np.nan)),\n",
    "        (\"scaler\", QuantileTransformer(n_quantiles=BINS,output_distribution='normal')),\n",
    "        ('bin', KBinsDiscretizer(n_bins=BINS, encode='ordinal',strategy='uniform'))\n",
    "        ])\n",
    "#train[features] = pipe.fit_transform(train[features])\n",
    "#test[features] = pipe.transform(test[features])"
   ]
  },
  {
   "cell_type": "code",
   "execution_count": 12,
   "id": "f53581db",
   "metadata": {
    "execution": {
     "iopub.execute_input": "2021-10-18T00:34:20.821477Z",
     "iopub.status.busy": "2021-10-18T00:34:20.820004Z",
     "iopub.status.idle": "2021-10-18T00:34:20.885805Z",
     "shell.execute_reply": "2021-10-18T00:34:20.886249Z",
     "shell.execute_reply.started": "2021-10-18T00:24:36.209957Z"
    },
    "papermill": {
     "duration": 0.085754,
     "end_time": "2021-10-18T00:34:20.886402",
     "exception": false,
     "start_time": "2021-10-18T00:34:20.800648",
     "status": "completed"
    },
    "tags": []
   },
   "outputs": [
    {
     "data": {
      "text/html": [
       "<div>\n",
       "<style scoped>\n",
       "    .dataframe tbody tr th:only-of-type {\n",
       "        vertical-align: middle;\n",
       "    }\n",
       "\n",
       "    .dataframe tbody tr th {\n",
       "        vertical-align: top;\n",
       "    }\n",
       "\n",
       "    .dataframe thead th {\n",
       "        text-align: right;\n",
       "    }\n",
       "</style>\n",
       "<table border=\"1\" class=\"dataframe\">\n",
       "  <thead>\n",
       "    <tr style=\"text-align: right;\">\n",
       "      <th></th>\n",
       "      <th>bizen</th>\n",
       "      <th>henke</th>\n",
       "      <th>hamza</th>\n",
       "      <th>28smiles</th>\n",
       "      <th>kashif</th>\n",
       "      <th>kosta</th>\n",
       "      <th>kaveh</th>\n",
       "      <th>dlaststark</th>\n",
       "      <th>pca</th>\n",
       "      <th>xgb2</th>\n",
       "      <th>lonnie</th>\n",
       "      <th>hgb</th>\n",
       "      <th>xgb_d2s</th>\n",
       "      <th>ctb_d2s</th>\n",
       "      <th>lgb</th>\n",
       "      <th>xgb</th>\n",
       "    </tr>\n",
       "  </thead>\n",
       "  <tbody>\n",
       "    <tr>\n",
       "      <th>0</th>\n",
       "      <td>0.728526</td>\n",
       "      <td>0.722509</td>\n",
       "      <td>0.752387</td>\n",
       "      <td>0.705870</td>\n",
       "      <td>0.727055</td>\n",
       "      <td>0.735858</td>\n",
       "      <td>0.740599</td>\n",
       "      <td>0.745366</td>\n",
       "      <td>0.736168</td>\n",
       "      <td>0.731839</td>\n",
       "      <td>0.749371</td>\n",
       "      <td>0.752841</td>\n",
       "      <td>0.741152</td>\n",
       "      <td>0.750761</td>\n",
       "      <td>0.737219</td>\n",
       "      <td>0.748278</td>\n",
       "    </tr>\n",
       "    <tr>\n",
       "      <th>1</th>\n",
       "      <td>0.243854</td>\n",
       "      <td>0.245698</td>\n",
       "      <td>0.242451</td>\n",
       "      <td>0.235202</td>\n",
       "      <td>0.233988</td>\n",
       "      <td>0.240009</td>\n",
       "      <td>0.249772</td>\n",
       "      <td>0.248024</td>\n",
       "      <td>0.250602</td>\n",
       "      <td>0.235529</td>\n",
       "      <td>0.249697</td>\n",
       "      <td>0.260499</td>\n",
       "      <td>0.234527</td>\n",
       "      <td>0.231629</td>\n",
       "      <td>0.230626</td>\n",
       "      <td>0.233039</td>\n",
       "    </tr>\n",
       "    <tr>\n",
       "      <th>2</th>\n",
       "      <td>0.913063</td>\n",
       "      <td>0.912550</td>\n",
       "      <td>0.909911</td>\n",
       "      <td>0.919106</td>\n",
       "      <td>0.906819</td>\n",
       "      <td>0.910741</td>\n",
       "      <td>0.907417</td>\n",
       "      <td>0.903758</td>\n",
       "      <td>0.906905</td>\n",
       "      <td>0.906797</td>\n",
       "      <td>0.909948</td>\n",
       "      <td>0.897610</td>\n",
       "      <td>0.912578</td>\n",
       "      <td>0.898247</td>\n",
       "      <td>0.904611</td>\n",
       "      <td>0.901715</td>\n",
       "    </tr>\n",
       "    <tr>\n",
       "      <th>3</th>\n",
       "      <td>0.835983</td>\n",
       "      <td>0.832255</td>\n",
       "      <td>0.853693</td>\n",
       "      <td>0.817317</td>\n",
       "      <td>0.834168</td>\n",
       "      <td>0.835611</td>\n",
       "      <td>0.856448</td>\n",
       "      <td>0.843686</td>\n",
       "      <td>0.855629</td>\n",
       "      <td>0.838438</td>\n",
       "      <td>0.854144</td>\n",
       "      <td>0.850890</td>\n",
       "      <td>0.847592</td>\n",
       "      <td>0.856051</td>\n",
       "      <td>0.848851</td>\n",
       "      <td>0.853474</td>\n",
       "    </tr>\n",
       "    <tr>\n",
       "      <th>4</th>\n",
       "      <td>0.269920</td>\n",
       "      <td>0.276108</td>\n",
       "      <td>0.249503</td>\n",
       "      <td>0.270417</td>\n",
       "      <td>0.256404</td>\n",
       "      <td>0.265450</td>\n",
       "      <td>0.266382</td>\n",
       "      <td>0.268529</td>\n",
       "      <td>0.263090</td>\n",
       "      <td>0.260674</td>\n",
       "      <td>0.283369</td>\n",
       "      <td>0.263720</td>\n",
       "      <td>0.256101</td>\n",
       "      <td>0.277291</td>\n",
       "      <td>0.255942</td>\n",
       "      <td>0.262485</td>\n",
       "    </tr>\n",
       "    <tr>\n",
       "      <th>...</th>\n",
       "      <td>...</td>\n",
       "      <td>...</td>\n",
       "      <td>...</td>\n",
       "      <td>...</td>\n",
       "      <td>...</td>\n",
       "      <td>...</td>\n",
       "      <td>...</td>\n",
       "      <td>...</td>\n",
       "      <td>...</td>\n",
       "      <td>...</td>\n",
       "      <td>...</td>\n",
       "      <td>...</td>\n",
       "      <td>...</td>\n",
       "      <td>...</td>\n",
       "      <td>...</td>\n",
       "      <td>...</td>\n",
       "    </tr>\n",
       "    <tr>\n",
       "      <th>499995</th>\n",
       "      <td>0.975451</td>\n",
       "      <td>0.975318</td>\n",
       "      <td>0.968899</td>\n",
       "      <td>0.976103</td>\n",
       "      <td>0.966070</td>\n",
       "      <td>0.970023</td>\n",
       "      <td>0.970539</td>\n",
       "      <td>0.963713</td>\n",
       "      <td>0.970643</td>\n",
       "      <td>0.968542</td>\n",
       "      <td>0.965328</td>\n",
       "      <td>0.970665</td>\n",
       "      <td>0.969341</td>\n",
       "      <td>0.957678</td>\n",
       "      <td>0.965190</td>\n",
       "      <td>0.966362</td>\n",
       "    </tr>\n",
       "    <tr>\n",
       "      <th>499996</th>\n",
       "      <td>0.839360</td>\n",
       "      <td>0.841742</td>\n",
       "      <td>0.827404</td>\n",
       "      <td>0.850740</td>\n",
       "      <td>0.839601</td>\n",
       "      <td>0.834818</td>\n",
       "      <td>0.830072</td>\n",
       "      <td>0.828243</td>\n",
       "      <td>0.830860</td>\n",
       "      <td>0.830597</td>\n",
       "      <td>0.832374</td>\n",
       "      <td>0.810808</td>\n",
       "      <td>0.841105</td>\n",
       "      <td>0.825190</td>\n",
       "      <td>0.830506</td>\n",
       "      <td>0.830808</td>\n",
       "    </tr>\n",
       "    <tr>\n",
       "      <th>499997</th>\n",
       "      <td>0.293532</td>\n",
       "      <td>0.286726</td>\n",
       "      <td>0.299620</td>\n",
       "      <td>0.300556</td>\n",
       "      <td>0.289637</td>\n",
       "      <td>0.286823</td>\n",
       "      <td>0.284007</td>\n",
       "      <td>0.290569</td>\n",
       "      <td>0.284187</td>\n",
       "      <td>0.299252</td>\n",
       "      <td>0.287720</td>\n",
       "      <td>0.311128</td>\n",
       "      <td>0.280542</td>\n",
       "      <td>0.275137</td>\n",
       "      <td>0.288725</td>\n",
       "      <td>0.289752</td>\n",
       "    </tr>\n",
       "    <tr>\n",
       "      <th>499998</th>\n",
       "      <td>0.513656</td>\n",
       "      <td>0.505806</td>\n",
       "      <td>0.499243</td>\n",
       "      <td>0.526598</td>\n",
       "      <td>0.517690</td>\n",
       "      <td>0.512041</td>\n",
       "      <td>0.488363</td>\n",
       "      <td>0.496002</td>\n",
       "      <td>0.487719</td>\n",
       "      <td>0.531208</td>\n",
       "      <td>0.512495</td>\n",
       "      <td>0.495243</td>\n",
       "      <td>0.490784</td>\n",
       "      <td>0.506517</td>\n",
       "      <td>0.506413</td>\n",
       "      <td>0.505003</td>\n",
       "    </tr>\n",
       "    <tr>\n",
       "      <th>499999</th>\n",
       "      <td>0.428847</td>\n",
       "      <td>0.425370</td>\n",
       "      <td>0.420626</td>\n",
       "      <td>0.430008</td>\n",
       "      <td>0.421967</td>\n",
       "      <td>0.419157</td>\n",
       "      <td>0.423937</td>\n",
       "      <td>0.421809</td>\n",
       "      <td>0.425653</td>\n",
       "      <td>0.426744</td>\n",
       "      <td>0.420245</td>\n",
       "      <td>0.440292</td>\n",
       "      <td>0.413549</td>\n",
       "      <td>0.435088</td>\n",
       "      <td>0.421792</td>\n",
       "      <td>0.420493</td>\n",
       "    </tr>\n",
       "  </tbody>\n",
       "</table>\n",
       "<p>500000 rows × 16 columns</p>\n",
       "</div>"
      ],
      "text/plain": [
       "           bizen     henke     hamza  28smiles    kashif     kosta     kaveh  \\\n",
       "0       0.728526  0.722509  0.752387  0.705870  0.727055  0.735858  0.740599   \n",
       "1       0.243854  0.245698  0.242451  0.235202  0.233988  0.240009  0.249772   \n",
       "2       0.913063  0.912550  0.909911  0.919106  0.906819  0.910741  0.907417   \n",
       "3       0.835983  0.832255  0.853693  0.817317  0.834168  0.835611  0.856448   \n",
       "4       0.269920  0.276108  0.249503  0.270417  0.256404  0.265450  0.266382   \n",
       "...          ...       ...       ...       ...       ...       ...       ...   \n",
       "499995  0.975451  0.975318  0.968899  0.976103  0.966070  0.970023  0.970539   \n",
       "499996  0.839360  0.841742  0.827404  0.850740  0.839601  0.834818  0.830072   \n",
       "499997  0.293532  0.286726  0.299620  0.300556  0.289637  0.286823  0.284007   \n",
       "499998  0.513656  0.505806  0.499243  0.526598  0.517690  0.512041  0.488363   \n",
       "499999  0.428847  0.425370  0.420626  0.430008  0.421967  0.419157  0.423937   \n",
       "\n",
       "        dlaststark       pca      xgb2    lonnie       hgb   xgb_d2s  \\\n",
       "0         0.745366  0.736168  0.731839  0.749371  0.752841  0.741152   \n",
       "1         0.248024  0.250602  0.235529  0.249697  0.260499  0.234527   \n",
       "2         0.903758  0.906905  0.906797  0.909948  0.897610  0.912578   \n",
       "3         0.843686  0.855629  0.838438  0.854144  0.850890  0.847592   \n",
       "4         0.268529  0.263090  0.260674  0.283369  0.263720  0.256101   \n",
       "...            ...       ...       ...       ...       ...       ...   \n",
       "499995    0.963713  0.970643  0.968542  0.965328  0.970665  0.969341   \n",
       "499996    0.828243  0.830860  0.830597  0.832374  0.810808  0.841105   \n",
       "499997    0.290569  0.284187  0.299252  0.287720  0.311128  0.280542   \n",
       "499998    0.496002  0.487719  0.531208  0.512495  0.495243  0.490784   \n",
       "499999    0.421809  0.425653  0.426744  0.420245  0.440292  0.413549   \n",
       "\n",
       "         ctb_d2s       lgb       xgb  \n",
       "0       0.750761  0.737219  0.748278  \n",
       "1       0.231629  0.230626  0.233039  \n",
       "2       0.898247  0.904611  0.901715  \n",
       "3       0.856051  0.848851  0.853474  \n",
       "4       0.277291  0.255942  0.262485  \n",
       "...          ...       ...       ...  \n",
       "499995  0.957678  0.965190  0.966362  \n",
       "499996  0.825190  0.830506  0.830808  \n",
       "499997  0.275137  0.288725  0.289752  \n",
       "499998  0.506517  0.506413  0.505003  \n",
       "499999  0.435088  0.421792  0.420493  \n",
       "\n",
       "[500000 rows x 16 columns]"
      ]
     },
     "execution_count": 12,
     "metadata": {},
     "output_type": "execute_result"
    }
   ],
   "source": [
    "test[features]"
   ]
  },
  {
   "cell_type": "code",
   "execution_count": 13,
   "id": "5ac8ac07",
   "metadata": {
    "execution": {
     "iopub.execute_input": "2021-10-18T00:34:20.924018Z",
     "iopub.status.busy": "2021-10-18T00:34:20.923097Z",
     "iopub.status.idle": "2021-10-18T00:34:20.927002Z",
     "shell.execute_reply": "2021-10-18T00:34:20.927387Z",
     "shell.execute_reply.started": "2021-10-18T00:24:36.290003Z"
    },
    "papermill": {
     "duration": 0.024939,
     "end_time": "2021-10-18T00:34:20.927519",
     "exception": false,
     "start_time": "2021-10-18T00:34:20.902580",
     "status": "completed"
    },
    "tags": []
   },
   "outputs": [
    {
     "data": {
      "text/plain": [
       "0         1\n",
       "1         1\n",
       "2         1\n",
       "3         1\n",
       "4         1\n",
       "         ..\n",
       "999995    1\n",
       "999996    0\n",
       "999997    0\n",
       "999998    1\n",
       "999999    0\n",
       "Name: target, Length: 1000000, dtype: int64"
      ]
     },
     "execution_count": 13,
     "metadata": {},
     "output_type": "execute_result"
    }
   ],
   "source": [
    "train[target]"
   ]
  },
  {
   "cell_type": "markdown",
   "id": "713c6108",
   "metadata": {
    "papermill": {
     "duration": 0.016068,
     "end_time": "2021-10-18T00:34:20.959350",
     "exception": false,
     "start_time": "2021-10-18T00:34:20.943282",
     "status": "completed"
    },
    "tags": []
   },
   "source": [
    "# Model"
   ]
  },
  {
   "cell_type": "code",
   "execution_count": 14,
   "id": "9d7a3fdb",
   "metadata": {
    "execution": {
     "iopub.execute_input": "2021-10-18T00:34:21.000754Z",
     "iopub.status.busy": "2021-10-18T00:34:20.999508Z",
     "iopub.status.idle": "2021-10-18T00:34:21.001754Z",
     "shell.execute_reply": "2021-10-18T00:34:21.002242Z",
     "shell.execute_reply.started": "2021-10-18T00:24:36.299511Z"
    },
    "papermill": {
     "duration": 0.026823,
     "end_time": "2021-10-18T00:34:21.002359",
     "exception": false,
     "start_time": "2021-10-18T00:34:20.975536",
     "status": "completed"
    },
    "tags": []
   },
   "outputs": [],
   "source": [
    "def make_model():\n",
    "    \n",
    "    lr = 0.0157\n",
    "    dropout =0.125\n",
    "    embed_dim =4\n",
    "    hidden_dim = 144\n",
    "    n_layers = 3\n",
    "    act = 'swish'\n",
    "    #dstep = hp.Int('decay_steps', min_value=2000, max_value=4000, step=200)\n",
    "    drate = 0.885\n",
    "    eps =3.6e-08\n",
    "        \n",
    "    \n",
    "    inputs = Input(train[features].shape[1:])\n",
    "    X = Embedding(input_dim=BINS, output_dim=embed_dim, embeddings_initializer = \"glorot_normal\")(inputs)\n",
    "    X = Dropout(dropout)(X)\n",
    "    #X = BatchNormalization()(X)\n",
    "    X = Flatten()(X)\n",
    "    \n",
    "    for i in range(n_layers):\n",
    "        #units = hp.Int('units_{i}'.format(i=i), min_value=8, max_value=256, step=8)\n",
    "        X = layers.Dense(hidden_dim/(2**i), activation=act, kernel_initializer=tf.keras.initializers.GlorotNormal())(X)\n",
    "        X = Dropout(dropout)(X)\n",
    "        #X = BatchNormalization()(X)\n",
    "    outputs = layers.Dense(1, activation='sigmoid', kernel_initializer=tf.keras.initializers.GlorotNormal())(X)\n",
    "    model = keras.Model(inputs, outputs)\n",
    "    \n",
    "    #learning_rate = hp.Float('learning_rate', min_value=3e-4, max_value=3e-3)\n",
    "    lr_schedule = keras.optimizers.schedules.ExponentialDecay(\n",
    "        initial_learning_rate=lr,\n",
    "        decay_steps = 400,\n",
    "        decay_rate= drate)\n",
    "\n",
    "    optimizer = keras.optimizers.Adam(learning_rate=lr_schedule, epsilon=eps)\n",
    "    model.compile(loss=keras.losses.binary_crossentropy,\n",
    "                  optimizer=optimizer,\n",
    "                  metrics=[tf.keras.metrics.AUC(name='aucroc')])\n",
    "    #model.summary()\n",
    "    return model"
   ]
  },
  {
   "cell_type": "markdown",
   "id": "424312d1",
   "metadata": {
    "papermill": {
     "duration": 0.016149,
     "end_time": "2021-10-18T00:34:21.034286",
     "exception": false,
     "start_time": "2021-10-18T00:34:21.018137",
     "status": "completed"
    },
    "tags": []
   },
   "source": [
    "# NN"
   ]
  },
  {
   "cell_type": "code",
   "execution_count": 15,
   "id": "d69783da",
   "metadata": {
    "execution": {
     "iopub.execute_input": "2021-10-18T00:34:21.077914Z",
     "iopub.status.busy": "2021-10-18T00:34:21.076573Z",
     "iopub.status.idle": "2021-10-18T00:34:21.078992Z",
     "shell.execute_reply": "2021-10-18T00:34:21.079461Z",
     "shell.execute_reply.started": "2021-10-18T00:24:36.311755Z"
    },
    "papermill": {
     "duration": 0.029022,
     "end_time": "2021-10-18T00:34:21.079581",
     "exception": false,
     "start_time": "2021-10-18T00:34:21.050559",
     "status": "completed"
    },
    "tags": []
   },
   "outputs": [],
   "source": [
    "def prediction(x, y, batch_size=1024, epochs=100):\n",
    "    cv = StratifiedKFold(n_splits=N_SPLITS, shuffle=True, random_state=CVSEED)\n",
    "    val_losses = np.zeros(x.shape[0])\n",
    "    nn_pred = np.zeros(test.shape[0])\n",
    "    \n",
    "    for fold, (train_indices, val_indices) in enumerate(cv.split(x, y)):\n",
    "      print(f\"===== fold {fold} =====\")\n",
    "      x_train, x_valid = x.iloc[train_indices], x.iloc[val_indices]\n",
    "      y_train, y_valid = y.iloc[train_indices], y.iloc[val_indices]\n",
    "      x_test = test[features]\n",
    "    \n",
    "      gc.collect()\n",
    "        \n",
    "      x_train[features] = pipe.fit_transform(x_train[features])\n",
    "      x_valid[features] = pipe.transform(x_valid[features])\n",
    "      x_test[features] = pipe.transform(x_test[features])\n",
    "        \n",
    "      \n",
    "    \n",
    "      model = make_model()\n",
    "      model.fit( x_train[features], y_train, \n",
    "                validation_data=(x_valid[features] , y_valid),\n",
    "                shuffle=True,\n",
    "                verbose=0,\n",
    "                #callbacks=[model_checkpoint_callback],\n",
    "                callbacks=[\n",
    "                #tf.keras.callbacks.ReduceLROnPlateau(monitor='val_aucroc', mode='max', patience=2),\n",
    "                tf.keras.callbacks.EarlyStopping(monitor='val_aucroc', mode='max', patience=5)  ],\n",
    "                batch_size=batch_size, \n",
    "                epochs=epochs)\n",
    "      val_losses[val_indices] += model.predict(x_valid[features] )[:,-1]\n",
    "      nn_pred += model.predict(x_test[features] )[:,-1]\n",
    "\n",
    "      auc = roc_auc_score(y_valid, val_losses[val_indices])\n",
    "      print(f\"fold {fold} - nn auc: {auc:.6f}\")   \n",
    "    \n",
    "      del model\n",
    "      gc.collect()\n",
    "     \n",
    "    nn_pred /= N_SPLITS\n",
    "    print(f\"oof nn_auc = {roc_auc_score(y, val_losses)}\")\n",
    "    \n",
    "    np.save(\"nn_oof.npy\", val_losses)\n",
    "    np.save(\"nn_pred.npy\", nn_pred)\n",
    "\n",
    "    gc.collect()\n",
    "    return nn_pred"
   ]
  },
  {
   "cell_type": "code",
   "execution_count": 16,
   "id": "a0c97e08",
   "metadata": {
    "execution": {
     "iopub.execute_input": "2021-10-18T00:34:21.118273Z",
     "iopub.status.busy": "2021-10-18T00:34:21.116520Z",
     "iopub.status.idle": "2021-10-18T00:42:29.391840Z",
     "shell.execute_reply": "2021-10-18T00:42:29.391382Z",
     "shell.execute_reply.started": "2021-10-18T00:24:36.325052Z"
    },
    "papermill": {
     "duration": 488.296348,
     "end_time": "2021-10-18T00:42:29.391969",
     "exception": false,
     "start_time": "2021-10-18T00:34:21.095621",
     "status": "completed"
    },
    "tags": []
   },
   "outputs": [
    {
     "name": "stdout",
     "output_type": "stream",
     "text": [
      "===== fold 0 =====\n",
      "fold 0 - nn auc: 0.856657\n",
      "===== fold 1 =====\n",
      "fold 1 - nn auc: 0.857934\n",
      "===== fold 2 =====\n",
      "fold 2 - nn auc: 0.858492\n",
      "===== fold 3 =====\n",
      "fold 3 - nn auc: 0.856943\n",
      "===== fold 4 =====\n",
      "fold 4 - nn auc: 0.856820\n",
      "oof nn_auc = 0.857330068069861\n"
     ]
    }
   ],
   "source": [
    "nn_pred = prediction(x=train[features], y=train[target], \n",
    "             batch_size=1024, \n",
    "             epochs=100,\n",
    "             #validation_data=(x_val, y_val),\n",
    "            )"
   ]
  },
  {
   "cell_type": "code",
   "execution_count": 17,
   "id": "72b8250c",
   "metadata": {
    "execution": {
     "iopub.execute_input": "2021-10-18T00:42:29.432588Z",
     "iopub.status.busy": "2021-10-18T00:42:29.431546Z",
     "iopub.status.idle": "2021-10-18T00:42:30.980517Z",
     "shell.execute_reply": "2021-10-18T00:42:30.980898Z"
    },
    "papermill": {
     "duration": 1.570987,
     "end_time": "2021-10-18T00:42:30.981048",
     "exception": false,
     "start_time": "2021-10-18T00:42:29.410061",
     "status": "completed"
    },
    "tags": []
   },
   "outputs": [
    {
     "data": {
      "text/html": [
       "<div>\n",
       "<style scoped>\n",
       "    .dataframe tbody tr th:only-of-type {\n",
       "        vertical-align: middle;\n",
       "    }\n",
       "\n",
       "    .dataframe tbody tr th {\n",
       "        vertical-align: top;\n",
       "    }\n",
       "\n",
       "    .dataframe thead th {\n",
       "        text-align: right;\n",
       "    }\n",
       "</style>\n",
       "<table border=\"1\" class=\"dataframe\">\n",
       "  <thead>\n",
       "    <tr style=\"text-align: right;\">\n",
       "      <th></th>\n",
       "      <th>id</th>\n",
       "      <th>target</th>\n",
       "    </tr>\n",
       "  </thead>\n",
       "  <tbody>\n",
       "    <tr>\n",
       "      <th>0</th>\n",
       "      <td>1000000</td>\n",
       "      <td>0.687326</td>\n",
       "    </tr>\n",
       "    <tr>\n",
       "      <th>1</th>\n",
       "      <td>1000001</td>\n",
       "      <td>0.271514</td>\n",
       "    </tr>\n",
       "    <tr>\n",
       "      <th>2</th>\n",
       "      <td>1000002</td>\n",
       "      <td>0.931397</td>\n",
       "    </tr>\n",
       "    <tr>\n",
       "      <th>3</th>\n",
       "      <td>1000003</td>\n",
       "      <td>0.816809</td>\n",
       "    </tr>\n",
       "    <tr>\n",
       "      <th>4</th>\n",
       "      <td>1000004</td>\n",
       "      <td>0.295359</td>\n",
       "    </tr>\n",
       "    <tr>\n",
       "      <th>...</th>\n",
       "      <td>...</td>\n",
       "      <td>...</td>\n",
       "    </tr>\n",
       "    <tr>\n",
       "      <th>499995</th>\n",
       "      <td>1499995</td>\n",
       "      <td>0.999999</td>\n",
       "    </tr>\n",
       "    <tr>\n",
       "      <th>499996</th>\n",
       "      <td>1499996</td>\n",
       "      <td>0.808890</td>\n",
       "    </tr>\n",
       "    <tr>\n",
       "      <th>499997</th>\n",
       "      <td>1499997</td>\n",
       "      <td>0.314416</td>\n",
       "    </tr>\n",
       "    <tr>\n",
       "      <th>499998</th>\n",
       "      <td>1499998</td>\n",
       "      <td>0.500142</td>\n",
       "    </tr>\n",
       "    <tr>\n",
       "      <th>499999</th>\n",
       "      <td>1499999</td>\n",
       "      <td>0.427044</td>\n",
       "    </tr>\n",
       "  </tbody>\n",
       "</table>\n",
       "<p>500000 rows × 2 columns</p>\n",
       "</div>"
      ],
      "text/plain": [
       "             id    target\n",
       "0       1000000  0.687326\n",
       "1       1000001  0.271514\n",
       "2       1000002  0.931397\n",
       "3       1000003  0.816809\n",
       "4       1000004  0.295359\n",
       "...         ...       ...\n",
       "499995  1499995  0.999999\n",
       "499996  1499996  0.808890\n",
       "499997  1499997  0.314416\n",
       "499998  1499998  0.500142\n",
       "499999  1499999  0.427044\n",
       "\n",
       "[500000 rows x 2 columns]"
      ]
     },
     "execution_count": 17,
     "metadata": {},
     "output_type": "execute_result"
    }
   ],
   "source": [
    "sub[target]=nn_pred\n",
    "sub.to_csv('submission.csv', index=False)\n",
    "\n",
    "sub"
   ]
  },
  {
   "cell_type": "markdown",
   "id": "67bd9a2b",
   "metadata": {
    "papermill": {
     "duration": 0.018054,
     "end_time": "2021-10-18T00:42:31.017966",
     "exception": false,
     "start_time": "2021-10-18T00:42:30.999912",
     "status": "completed"
    },
    "tags": []
   },
   "source": [
    "# Log\n",
    "\n",
    "/////// all average /////////\n",
    "\n",
    "/// 128 quant normal kbins uniform with dropout, dstep=400, decreasing hidden units ///\n",
    "2017 ver1\n"
   ]
  }
 ],
 "metadata": {
  "kernelspec": {
   "display_name": "Python 3",
   "language": "python",
   "name": "python3"
  },
  "language_info": {
   "codemirror_mode": {
    "name": "ipython",
    "version": 3
   },
   "file_extension": ".py",
   "mimetype": "text/x-python",
   "name": "python",
   "nbconvert_exporter": "python",
   "pygments_lexer": "ipython3",
   "version": "3.7.10"
  },
  "papermill": {
   "default_parameters": {},
   "duration": 569.75958,
   "end_time": "2021-10-18T00:42:33.713901",
   "environment_variables": {},
   "exception": null,
   "input_path": "__notebook__.ipynb",
   "output_path": "__notebook__.ipynb",
   "parameters": {},
   "start_time": "2021-10-18T00:33:03.954321",
   "version": "2.3.3"
  }
 },
 "nbformat": 4,
 "nbformat_minor": 5
}
