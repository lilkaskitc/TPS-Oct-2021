{
 "cells": [
  {
   "cell_type": "code",
   "execution_count": 1,
   "id": "4b70f97a",
   "metadata": {
    "_cell_guid": "b1076dfc-b9ad-4769-8c92-a6c4dae69d19",
    "_uuid": "8f2839f25d086af736a60e9eeb907d3b93b6e0e5",
    "execution": {
     "iopub.execute_input": "2021-10-15T05:11:40.479062Z",
     "iopub.status.busy": "2021-10-15T05:11:40.473414Z",
     "iopub.status.idle": "2021-10-15T05:11:41.658225Z",
     "shell.execute_reply": "2021-10-15T05:11:41.657330Z",
     "shell.execute_reply.started": "2021-10-12T05:52:36.503278Z"
    },
    "papermill": {
     "duration": 1.215725,
     "end_time": "2021-10-15T05:11:41.658404",
     "exception": false,
     "start_time": "2021-10-15T05:11:40.442679",
     "status": "completed"
    },
    "tags": []
   },
   "outputs": [],
   "source": [
    "import numpy as np\n",
    "import pandas as pd\n",
    "import random\n",
    "import os\n",
    "import time\n",
    "import pickle\n",
    "from pathlib import Path\n",
    "\n",
    "from os.path import join, isfile\n",
    "from os import path, scandir, listdir\n",
    "\n",
    "from sklearn.preprocessing import StandardScaler, QuantileTransformer\n",
    "from sklearn.model_selection import StratifiedKFold, train_test_split\n",
    "from sklearn.metrics import roc_auc_score\n",
    "from sklearn.utils.extmath import softmax\n",
    "from sklearn.naive_bayes import GaussianNB\n",
    "\n",
    "#import lightgbm as lgb\n",
    "#import xgboost as xgb\n",
    "#import catboost as ctb\n",
    "\n",
    "import matplotlib.pyplot as plt\n",
    "import seaborn as sns\n",
    "\n",
    "import warnings\n",
    "warnings.simplefilter('ignore')"
   ]
  },
  {
   "cell_type": "markdown",
   "id": "699cd5c2",
   "metadata": {
    "papermill": {
     "duration": 0.019837,
     "end_time": "2021-10-15T05:11:41.699119",
     "exception": false,
     "start_time": "2021-10-15T05:11:41.679282",
     "status": "completed"
    },
    "tags": []
   },
   "source": [
    "# Parameters"
   ]
  },
  {
   "cell_type": "code",
   "execution_count": 2,
   "id": "da5e0043",
   "metadata": {
    "execution": {
     "iopub.execute_input": "2021-10-15T05:11:41.745812Z",
     "iopub.status.busy": "2021-10-15T05:11:41.745103Z",
     "iopub.status.idle": "2021-10-15T05:11:41.748315Z",
     "shell.execute_reply": "2021-10-15T05:11:41.747772Z",
     "shell.execute_reply.started": "2021-10-12T05:52:36.511975Z"
    },
    "papermill": {
     "duration": 0.029108,
     "end_time": "2021-10-15T05:11:41.748454",
     "exception": false,
     "start_time": "2021-10-15T05:11:41.719346",
     "status": "completed"
    },
    "tags": []
   },
   "outputs": [],
   "source": [
    "target = 'target'\n",
    "\n",
    "DEBUG = False\n",
    "\n",
    "if DEBUG:\n",
    "    N_ESTIMATORS = 1\n",
    "    N_SPLITS = 2\n",
    "    SEED = 2017\n",
    "    CVSEED = 2017\n",
    "    EARLY_STOPPING_ROUNDS = 1\n",
    "    VERBOSE = 100\n",
    "    #N_ITERS = 2\n",
    "else:\n",
    "    N_SPLITS = 5\n",
    "    N_ESTIMATORS = 20000\n",
    "    EARLY_STOPPING_ROUNDS = 300\n",
    "    VERBOSE = 1000\n",
    "    SEED = 2017\n",
    "    CVSEED = 2017\n",
    "    #N_ITERS = 10"
   ]
  },
  {
   "cell_type": "code",
   "execution_count": 3,
   "id": "38485c10",
   "metadata": {
    "execution": {
     "iopub.execute_input": "2021-10-15T05:11:41.794916Z",
     "iopub.status.busy": "2021-10-15T05:11:41.794147Z",
     "iopub.status.idle": "2021-10-15T05:11:41.796563Z",
     "shell.execute_reply": "2021-10-15T05:11:41.797131Z",
     "shell.execute_reply.started": "2021-10-12T05:52:36.531572Z"
    },
    "papermill": {
     "duration": 0.028616,
     "end_time": "2021-10-15T05:11:41.797306",
     "exception": false,
     "start_time": "2021-10-15T05:11:41.768690",
     "status": "completed"
    },
    "tags": []
   },
   "outputs": [],
   "source": [
    "def set_seed(seed=2017):\n",
    "    random.seed(seed)\n",
    "    os.environ['PYTHONHASHSEED'] = str(seed)\n",
    "    np.random.seed(seed)\n",
    "    \n",
    "set_seed(SEED)"
   ]
  },
  {
   "cell_type": "markdown",
   "id": "bcb83cf1",
   "metadata": {
    "papermill": {
     "duration": 0.020009,
     "end_time": "2021-10-15T05:11:41.837570",
     "exception": false,
     "start_time": "2021-10-15T05:11:41.817561",
     "status": "completed"
    },
    "tags": []
   },
   "source": [
    "# Datasets"
   ]
  },
  {
   "cell_type": "code",
   "execution_count": 4,
   "id": "ef04b8cd",
   "metadata": {
    "execution": {
     "iopub.execute_input": "2021-10-15T05:11:41.883839Z",
     "iopub.status.busy": "2021-10-15T05:11:41.883142Z",
     "iopub.status.idle": "2021-10-15T05:12:45.594162Z",
     "shell.execute_reply": "2021-10-15T05:12:45.593553Z",
     "shell.execute_reply.started": "2021-10-12T05:52:36.555464Z"
    },
    "papermill": {
     "duration": 63.7365,
     "end_time": "2021-10-15T05:12:45.594335",
     "exception": false,
     "start_time": "2021-10-15T05:11:41.857835",
     "status": "completed"
    },
    "tags": []
   },
   "outputs": [],
   "source": [
    "INPUT = Path(\"../input/tabular-playground-series-oct-2021\")\n",
    "\n",
    "train = pd.DataFrame(pd.read_csv(INPUT / \"train.csv\")[target])\n",
    "#test = pd.read_csv(INPUT / \"test.csv\")\n",
    "test = pd.DataFrame()\n",
    "submission = pd.read_csv(INPUT / \"sample_submission.csv\")"
   ]
  },
  {
   "cell_type": "code",
   "execution_count": 5,
   "id": "400e751a",
   "metadata": {
    "execution": {
     "iopub.execute_input": "2021-10-15T05:12:45.643744Z",
     "iopub.status.busy": "2021-10-15T05:12:45.642678Z",
     "iopub.status.idle": "2021-10-15T05:12:45.645042Z",
     "shell.execute_reply": "2021-10-15T05:12:45.645514Z",
     "shell.execute_reply.started": "2021-10-12T05:53:15.281378Z"
    },
    "papermill": {
     "duration": 0.030595,
     "end_time": "2021-10-15T05:12:45.645702",
     "exception": false,
     "start_time": "2021-10-15T05:12:45.615107",
     "status": "completed"
    },
    "tags": []
   },
   "outputs": [],
   "source": [
    "def list_all_files(location='../input/tps-oct-lv0', pattern=None, recursive=True):\n",
    "    \"\"\"\n",
    "    This function returns a list of files at a given location (including subfolders)\n",
    "    \n",
    "    - location: path to the directory to be searched\n",
    "    - pattern: part of the file name to be searched (ex. pattern='.csv' would return all the csv files)\n",
    "    - recursive: boolean, if True the function calls itself for every subdirectory it finds\n",
    "    \"\"\"\n",
    "    subdirectories= [f.path for f in scandir(location) if f.is_dir()]\n",
    "    files = [join(location, f) for f in listdir(location) if isfile(join(location, f))]\n",
    "    if recursive:\n",
    "        for directory in subdirectories:\n",
    "            files.extend(list_all_files(directory))\n",
    "    if pattern:\n",
    "        files = [f for f in files if pattern in f]\n",
    "    return files"
   ]
  },
  {
   "cell_type": "code",
   "execution_count": 6,
   "id": "edfc66e8",
   "metadata": {
    "execution": {
     "iopub.execute_input": "2021-10-15T05:12:45.689400Z",
     "iopub.status.busy": "2021-10-15T05:12:45.688419Z",
     "iopub.status.idle": "2021-10-15T05:12:45.710072Z",
     "shell.execute_reply": "2021-10-15T05:12:45.710571Z",
     "shell.execute_reply.started": "2021-10-12T05:53:15.290307Z"
    },
    "papermill": {
     "duration": 0.044895,
     "end_time": "2021-10-15T05:12:45.710776",
     "exception": false,
     "start_time": "2021-10-15T05:12:45.665881",
     "status": "completed"
    },
    "tags": []
   },
   "outputs": [
    {
     "data": {
      "text/plain": [
       "['../input/tps-oct-lv0/2019_xgb_kosta_oof.npy',\n",
       " '../input/tps-oct-lv0/2020xgb_kosta_pred.npy',\n",
       " '../input/tps-oct-lv0/2020xgb_kosta_oof.npy',\n",
       " '../input/tps-oct-lv0/2017xgb_kosta_pred.npy',\n",
       " '../input/tps-oct-lv0/2021xgb_kosta_oof.npy']"
      ]
     },
     "execution_count": 6,
     "metadata": {},
     "output_type": "execute_result"
    }
   ],
   "source": [
    "list_all_files(pattern='kosta')[1:6]  # printing only 5 files for simplicity"
   ]
  },
  {
   "cell_type": "code",
   "execution_count": 7,
   "id": "017e2015",
   "metadata": {
    "execution": {
     "iopub.execute_input": "2021-10-15T05:12:45.755523Z",
     "iopub.status.busy": "2021-10-15T05:12:45.754542Z",
     "iopub.status.idle": "2021-10-15T05:12:45.758716Z",
     "shell.execute_reply": "2021-10-15T05:12:45.759251Z",
     "shell.execute_reply.started": "2021-10-12T05:53:15.353469Z"
    },
    "papermill": {
     "duration": 0.027935,
     "end_time": "2021-10-15T05:12:45.759427",
     "exception": false,
     "start_time": "2021-10-15T05:12:45.731492",
     "status": "completed"
    },
    "tags": []
   },
   "outputs": [],
   "source": [
    "names = ['bizen', 'henke', 'hamza', '28smiles','kashif', 'kosta', 'kaveh', 'dlaststark', 'pca', 'xgb2']"
   ]
  },
  {
   "cell_type": "code",
   "execution_count": 8,
   "id": "28347be7",
   "metadata": {
    "execution": {
     "iopub.execute_input": "2021-10-15T05:12:45.804384Z",
     "iopub.status.busy": "2021-10-15T05:12:45.803373Z",
     "iopub.status.idle": "2021-10-15T05:12:51.019430Z",
     "shell.execute_reply": "2021-10-15T05:12:51.018733Z",
     "shell.execute_reply.started": "2021-10-12T05:53:15.36007Z"
    },
    "papermill": {
     "duration": 5.239529,
     "end_time": "2021-10-15T05:12:51.019572",
     "exception": false,
     "start_time": "2021-10-15T05:12:45.780043",
     "status": "completed"
    },
    "tags": []
   },
   "outputs": [
    {
     "data": {
      "text/plain": [
       "Index(['target', 'bizen', 'henke', 'hamza', '28smiles', 'kashif', 'kosta',\n",
       "       'kaveh', 'dlaststark', 'pca', 'xgb2'],\n",
       "      dtype='object')"
      ]
     },
     "execution_count": 8,
     "metadata": {},
     "output_type": "execute_result"
    }
   ],
   "source": [
    "pred = list_all_files(pattern='oof')\n",
    "\n",
    "\n",
    "for i in range(len(names)):\n",
    "    avv = []\n",
    "    \n",
    "    for file in pred:\n",
    "        if names[i] in file.split('/')[3]:\n",
    "            avv.append(np.load(file))\n",
    "    train[names[i]] = np.mean(avv, axis=0)\n",
    "            \n",
    "    \n",
    "train.columns"
   ]
  },
  {
   "cell_type": "code",
   "execution_count": 9,
   "id": "989df770",
   "metadata": {
    "execution": {
     "iopub.execute_input": "2021-10-15T05:12:51.069046Z",
     "iopub.status.busy": "2021-10-15T05:12:51.068211Z",
     "iopub.status.idle": "2021-10-15T05:12:53.522439Z",
     "shell.execute_reply": "2021-10-15T05:12:53.521929Z",
     "shell.execute_reply.started": "2021-10-12T05:53:15.701885Z"
    },
    "papermill": {
     "duration": 2.481231,
     "end_time": "2021-10-15T05:12:53.522585",
     "exception": false,
     "start_time": "2021-10-15T05:12:51.041354",
     "status": "completed"
    },
    "tags": []
   },
   "outputs": [
    {
     "data": {
      "text/plain": [
       "Index(['bizen', 'henke', 'hamza', '28smiles', 'kashif', 'kosta', 'kaveh',\n",
       "       'dlaststark', 'pca', 'xgb2'],\n",
       "      dtype='object')"
      ]
     },
     "execution_count": 9,
     "metadata": {},
     "output_type": "execute_result"
    }
   ],
   "source": [
    "pred = list_all_files(pattern='pred')\n",
    "\n",
    "\n",
    "for i in range(len(names)):\n",
    "    avv = []\n",
    "    \n",
    "    for file in pred:\n",
    "        if names[i] in file.split('/')[3]:\n",
    "            avv.append(np.load(file))\n",
    "    test[names[i]] = np.mean(avv, axis=0)\n",
    "            \n",
    "    \n",
    "test.columns"
   ]
  },
  {
   "cell_type": "code",
   "execution_count": 10,
   "id": "9e782efd",
   "metadata": {
    "execution": {
     "iopub.execute_input": "2021-10-15T05:12:53.573750Z",
     "iopub.status.busy": "2021-10-15T05:12:53.573044Z",
     "iopub.status.idle": "2021-10-15T05:12:54.725276Z",
     "shell.execute_reply": "2021-10-15T05:12:54.724289Z",
     "shell.execute_reply.started": "2021-10-12T05:53:15.961458Z"
    },
    "papermill": {
     "duration": 1.181801,
     "end_time": "2021-10-15T05:12:54.725438",
     "exception": false,
     "start_time": "2021-10-15T05:12:53.543637",
     "status": "completed"
    },
    "tags": []
   },
   "outputs": [],
   "source": [
    "avv = []\n",
    "for i in range(5):\n",
    "    avv.append(np.load(\"../input/tps-oct-lv0/\"+str(i+2017)+\"lgb_oof.npy\"))\n",
    "train['lgb'] = np.mean(avv, axis=0)\n",
    "\n",
    "avv = []\n",
    "for i in range(5):\n",
    "    avv.append(np.load(\"../input/tps-oct-lv0/\"+str(i+2017)+\"lgb_pred.npy\"))\n",
    "test['lgb']  = np.mean(avv, axis=0)\n",
    "\n",
    "avv = []\n",
    "for i in range(5):\n",
    "    avv.append(np.load(\"../input/tps-oct-lv0/agg\"+str(i+1)+\"_xgb_oof.npy\"))\n",
    "train['xgb'] = np.mean(avv, axis=0)\n",
    "\n",
    "avv = []\n",
    "for i in range(5):\n",
    "   avv.append(np.load(\"../input/tps-oct-lv0/agg\"+str(i+1)+\"_xgb_pred.npy\"))\n",
    "test['xgb']  = np.mean(avv, axis=0)\n"
   ]
  },
  {
   "cell_type": "code",
   "execution_count": 11,
   "id": "eada660e",
   "metadata": {
    "execution": {
     "iopub.execute_input": "2021-10-15T05:12:54.775717Z",
     "iopub.status.busy": "2021-10-15T05:12:54.775016Z",
     "iopub.status.idle": "2021-10-15T05:12:54.805360Z",
     "shell.execute_reply": "2021-10-15T05:12:54.805832Z",
     "shell.execute_reply.started": "2021-10-12T05:53:16.097866Z"
    },
    "papermill": {
     "duration": 0.059257,
     "end_time": "2021-10-15T05:12:54.806009",
     "exception": false,
     "start_time": "2021-10-15T05:12:54.746752",
     "status": "completed"
    },
    "tags": []
   },
   "outputs": [
    {
     "data": {
      "text/html": [
       "<div>\n",
       "<style scoped>\n",
       "    .dataframe tbody tr th:only-of-type {\n",
       "        vertical-align: middle;\n",
       "    }\n",
       "\n",
       "    .dataframe tbody tr th {\n",
       "        vertical-align: top;\n",
       "    }\n",
       "\n",
       "    .dataframe thead th {\n",
       "        text-align: right;\n",
       "    }\n",
       "</style>\n",
       "<table border=\"1\" class=\"dataframe\">\n",
       "  <thead>\n",
       "    <tr style=\"text-align: right;\">\n",
       "      <th></th>\n",
       "      <th>target</th>\n",
       "      <th>bizen</th>\n",
       "      <th>henke</th>\n",
       "      <th>hamza</th>\n",
       "      <th>28smiles</th>\n",
       "      <th>kashif</th>\n",
       "      <th>kosta</th>\n",
       "      <th>kaveh</th>\n",
       "      <th>dlaststark</th>\n",
       "      <th>pca</th>\n",
       "      <th>xgb2</th>\n",
       "      <th>lgb</th>\n",
       "      <th>xgb</th>\n",
       "    </tr>\n",
       "  </thead>\n",
       "  <tbody>\n",
       "    <tr>\n",
       "      <th>0</th>\n",
       "      <td>1</td>\n",
       "      <td>0.674985</td>\n",
       "      <td>0.666010</td>\n",
       "      <td>0.678011</td>\n",
       "      <td>0.680104</td>\n",
       "      <td>0.652988</td>\n",
       "      <td>0.675312</td>\n",
       "      <td>0.690708</td>\n",
       "      <td>0.664937</td>\n",
       "      <td>0.682232</td>\n",
       "      <td>0.649308</td>\n",
       "      <td>0.664578</td>\n",
       "      <td>0.678152</td>\n",
       "    </tr>\n",
       "    <tr>\n",
       "      <th>1</th>\n",
       "      <td>1</td>\n",
       "      <td>0.177265</td>\n",
       "      <td>0.181614</td>\n",
       "      <td>0.179693</td>\n",
       "      <td>0.188732</td>\n",
       "      <td>0.186017</td>\n",
       "      <td>0.177870</td>\n",
       "      <td>0.185734</td>\n",
       "      <td>0.182559</td>\n",
       "      <td>0.191858</td>\n",
       "      <td>0.185467</td>\n",
       "      <td>0.182454</td>\n",
       "      <td>0.172633</td>\n",
       "    </tr>\n",
       "    <tr>\n",
       "      <th>2</th>\n",
       "      <td>1</td>\n",
       "      <td>0.851934</td>\n",
       "      <td>0.864432</td>\n",
       "      <td>0.845848</td>\n",
       "      <td>0.867721</td>\n",
       "      <td>0.861763</td>\n",
       "      <td>0.857833</td>\n",
       "      <td>0.864604</td>\n",
       "      <td>0.852598</td>\n",
       "      <td>0.863318</td>\n",
       "      <td>0.848047</td>\n",
       "      <td>0.848057</td>\n",
       "      <td>0.845136</td>\n",
       "    </tr>\n",
       "    <tr>\n",
       "      <th>3</th>\n",
       "      <td>1</td>\n",
       "      <td>0.522808</td>\n",
       "      <td>0.520710</td>\n",
       "      <td>0.510819</td>\n",
       "      <td>0.498515</td>\n",
       "      <td>0.514420</td>\n",
       "      <td>0.515924</td>\n",
       "      <td>0.508564</td>\n",
       "      <td>0.499530</td>\n",
       "      <td>0.508041</td>\n",
       "      <td>0.520932</td>\n",
       "      <td>0.512398</td>\n",
       "      <td>0.510480</td>\n",
       "    </tr>\n",
       "    <tr>\n",
       "      <th>4</th>\n",
       "      <td>1</td>\n",
       "      <td>0.830692</td>\n",
       "      <td>0.824967</td>\n",
       "      <td>0.825318</td>\n",
       "      <td>0.824452</td>\n",
       "      <td>0.829991</td>\n",
       "      <td>0.823126</td>\n",
       "      <td>0.824800</td>\n",
       "      <td>0.829986</td>\n",
       "      <td>0.819209</td>\n",
       "      <td>0.833055</td>\n",
       "      <td>0.836516</td>\n",
       "      <td>0.830660</td>\n",
       "    </tr>\n",
       "    <tr>\n",
       "      <th>...</th>\n",
       "      <td>...</td>\n",
       "      <td>...</td>\n",
       "      <td>...</td>\n",
       "      <td>...</td>\n",
       "      <td>...</td>\n",
       "      <td>...</td>\n",
       "      <td>...</td>\n",
       "      <td>...</td>\n",
       "      <td>...</td>\n",
       "      <td>...</td>\n",
       "      <td>...</td>\n",
       "      <td>...</td>\n",
       "      <td>...</td>\n",
       "    </tr>\n",
       "    <tr>\n",
       "      <th>999995</th>\n",
       "      <td>1</td>\n",
       "      <td>0.743018</td>\n",
       "      <td>0.740781</td>\n",
       "      <td>0.767242</td>\n",
       "      <td>0.761768</td>\n",
       "      <td>0.745886</td>\n",
       "      <td>0.763393</td>\n",
       "      <td>0.775154</td>\n",
       "      <td>0.783477</td>\n",
       "      <td>0.772495</td>\n",
       "      <td>0.738084</td>\n",
       "      <td>0.749850</td>\n",
       "      <td>0.774398</td>\n",
       "    </tr>\n",
       "    <tr>\n",
       "      <th>999996</th>\n",
       "      <td>0</td>\n",
       "      <td>0.111363</td>\n",
       "      <td>0.112878</td>\n",
       "      <td>0.118867</td>\n",
       "      <td>0.103750</td>\n",
       "      <td>0.117746</td>\n",
       "      <td>0.121220</td>\n",
       "      <td>0.119116</td>\n",
       "      <td>0.125934</td>\n",
       "      <td>0.121002</td>\n",
       "      <td>0.125654</td>\n",
       "      <td>0.129909</td>\n",
       "      <td>0.126902</td>\n",
       "    </tr>\n",
       "    <tr>\n",
       "      <th>999997</th>\n",
       "      <td>0</td>\n",
       "      <td>0.179473</td>\n",
       "      <td>0.184739</td>\n",
       "      <td>0.183225</td>\n",
       "      <td>0.180549</td>\n",
       "      <td>0.173543</td>\n",
       "      <td>0.169896</td>\n",
       "      <td>0.164167</td>\n",
       "      <td>0.164623</td>\n",
       "      <td>0.163076</td>\n",
       "      <td>0.182527</td>\n",
       "      <td>0.170076</td>\n",
       "      <td>0.166062</td>\n",
       "    </tr>\n",
       "    <tr>\n",
       "      <th>999998</th>\n",
       "      <td>1</td>\n",
       "      <td>0.927255</td>\n",
       "      <td>0.931066</td>\n",
       "      <td>0.906244</td>\n",
       "      <td>0.931488</td>\n",
       "      <td>0.904055</td>\n",
       "      <td>0.913194</td>\n",
       "      <td>0.910379</td>\n",
       "      <td>0.899676</td>\n",
       "      <td>0.912160</td>\n",
       "      <td>0.911335</td>\n",
       "      <td>0.904151</td>\n",
       "      <td>0.905280</td>\n",
       "    </tr>\n",
       "    <tr>\n",
       "      <th>999999</th>\n",
       "      <td>0</td>\n",
       "      <td>0.590535</td>\n",
       "      <td>0.593578</td>\n",
       "      <td>0.609232</td>\n",
       "      <td>0.567725</td>\n",
       "      <td>0.606579</td>\n",
       "      <td>0.594077</td>\n",
       "      <td>0.592234</td>\n",
       "      <td>0.593365</td>\n",
       "      <td>0.595130</td>\n",
       "      <td>0.585169</td>\n",
       "      <td>0.599055</td>\n",
       "      <td>0.596543</td>\n",
       "    </tr>\n",
       "  </tbody>\n",
       "</table>\n",
       "<p>1000000 rows × 13 columns</p>\n",
       "</div>"
      ],
      "text/plain": [
       "        target     bizen     henke     hamza  28smiles    kashif     kosta  \\\n",
       "0            1  0.674985  0.666010  0.678011  0.680104  0.652988  0.675312   \n",
       "1            1  0.177265  0.181614  0.179693  0.188732  0.186017  0.177870   \n",
       "2            1  0.851934  0.864432  0.845848  0.867721  0.861763  0.857833   \n",
       "3            1  0.522808  0.520710  0.510819  0.498515  0.514420  0.515924   \n",
       "4            1  0.830692  0.824967  0.825318  0.824452  0.829991  0.823126   \n",
       "...        ...       ...       ...       ...       ...       ...       ...   \n",
       "999995       1  0.743018  0.740781  0.767242  0.761768  0.745886  0.763393   \n",
       "999996       0  0.111363  0.112878  0.118867  0.103750  0.117746  0.121220   \n",
       "999997       0  0.179473  0.184739  0.183225  0.180549  0.173543  0.169896   \n",
       "999998       1  0.927255  0.931066  0.906244  0.931488  0.904055  0.913194   \n",
       "999999       0  0.590535  0.593578  0.609232  0.567725  0.606579  0.594077   \n",
       "\n",
       "           kaveh  dlaststark       pca      xgb2       lgb       xgb  \n",
       "0       0.690708    0.664937  0.682232  0.649308  0.664578  0.678152  \n",
       "1       0.185734    0.182559  0.191858  0.185467  0.182454  0.172633  \n",
       "2       0.864604    0.852598  0.863318  0.848047  0.848057  0.845136  \n",
       "3       0.508564    0.499530  0.508041  0.520932  0.512398  0.510480  \n",
       "4       0.824800    0.829986  0.819209  0.833055  0.836516  0.830660  \n",
       "...          ...         ...       ...       ...       ...       ...  \n",
       "999995  0.775154    0.783477  0.772495  0.738084  0.749850  0.774398  \n",
       "999996  0.119116    0.125934  0.121002  0.125654  0.129909  0.126902  \n",
       "999997  0.164167    0.164623  0.163076  0.182527  0.170076  0.166062  \n",
       "999998  0.910379    0.899676  0.912160  0.911335  0.904151  0.905280  \n",
       "999999  0.592234    0.593365  0.595130  0.585169  0.599055  0.596543  \n",
       "\n",
       "[1000000 rows x 13 columns]"
      ]
     },
     "execution_count": 11,
     "metadata": {},
     "output_type": "execute_result"
    }
   ],
   "source": [
    "train"
   ]
  },
  {
   "cell_type": "code",
   "execution_count": 12,
   "id": "ee3cfaaf",
   "metadata": {
    "execution": {
     "iopub.execute_input": "2021-10-15T05:12:54.873887Z",
     "iopub.status.busy": "2021-10-15T05:12:54.873213Z",
     "iopub.status.idle": "2021-10-15T05:12:54.878270Z",
     "shell.execute_reply": "2021-10-15T05:12:54.877789Z",
     "shell.execute_reply.started": "2021-10-12T05:53:16.127029Z"
    },
    "papermill": {
     "duration": 0.050421,
     "end_time": "2021-10-15T05:12:54.878412",
     "exception": false,
     "start_time": "2021-10-15T05:12:54.827991",
     "status": "completed"
    },
    "tags": []
   },
   "outputs": [
    {
     "data": {
      "text/html": [
       "<div>\n",
       "<style scoped>\n",
       "    .dataframe tbody tr th:only-of-type {\n",
       "        vertical-align: middle;\n",
       "    }\n",
       "\n",
       "    .dataframe tbody tr th {\n",
       "        vertical-align: top;\n",
       "    }\n",
       "\n",
       "    .dataframe thead th {\n",
       "        text-align: right;\n",
       "    }\n",
       "</style>\n",
       "<table border=\"1\" class=\"dataframe\">\n",
       "  <thead>\n",
       "    <tr style=\"text-align: right;\">\n",
       "      <th></th>\n",
       "      <th>bizen</th>\n",
       "      <th>henke</th>\n",
       "      <th>hamza</th>\n",
       "      <th>28smiles</th>\n",
       "      <th>kashif</th>\n",
       "      <th>kosta</th>\n",
       "      <th>kaveh</th>\n",
       "      <th>dlaststark</th>\n",
       "      <th>pca</th>\n",
       "      <th>xgb2</th>\n",
       "      <th>lgb</th>\n",
       "      <th>xgb</th>\n",
       "    </tr>\n",
       "  </thead>\n",
       "  <tbody>\n",
       "    <tr>\n",
       "      <th>0</th>\n",
       "      <td>0.728526</td>\n",
       "      <td>0.722509</td>\n",
       "      <td>0.752387</td>\n",
       "      <td>0.705870</td>\n",
       "      <td>0.727055</td>\n",
       "      <td>0.735858</td>\n",
       "      <td>0.740599</td>\n",
       "      <td>0.745366</td>\n",
       "      <td>0.736168</td>\n",
       "      <td>0.731839</td>\n",
       "      <td>0.737219</td>\n",
       "      <td>0.748278</td>\n",
       "    </tr>\n",
       "    <tr>\n",
       "      <th>1</th>\n",
       "      <td>0.243854</td>\n",
       "      <td>0.245698</td>\n",
       "      <td>0.242451</td>\n",
       "      <td>0.235202</td>\n",
       "      <td>0.233988</td>\n",
       "      <td>0.240009</td>\n",
       "      <td>0.249772</td>\n",
       "      <td>0.248024</td>\n",
       "      <td>0.250602</td>\n",
       "      <td>0.235529</td>\n",
       "      <td>0.230626</td>\n",
       "      <td>0.233039</td>\n",
       "    </tr>\n",
       "    <tr>\n",
       "      <th>2</th>\n",
       "      <td>0.913063</td>\n",
       "      <td>0.912550</td>\n",
       "      <td>0.909911</td>\n",
       "      <td>0.919106</td>\n",
       "      <td>0.906819</td>\n",
       "      <td>0.910741</td>\n",
       "      <td>0.907417</td>\n",
       "      <td>0.903758</td>\n",
       "      <td>0.906905</td>\n",
       "      <td>0.906797</td>\n",
       "      <td>0.904611</td>\n",
       "      <td>0.901715</td>\n",
       "    </tr>\n",
       "    <tr>\n",
       "      <th>3</th>\n",
       "      <td>0.835983</td>\n",
       "      <td>0.832255</td>\n",
       "      <td>0.853693</td>\n",
       "      <td>0.817317</td>\n",
       "      <td>0.834168</td>\n",
       "      <td>0.835611</td>\n",
       "      <td>0.856448</td>\n",
       "      <td>0.843686</td>\n",
       "      <td>0.855629</td>\n",
       "      <td>0.838438</td>\n",
       "      <td>0.848851</td>\n",
       "      <td>0.853474</td>\n",
       "    </tr>\n",
       "    <tr>\n",
       "      <th>4</th>\n",
       "      <td>0.269920</td>\n",
       "      <td>0.276108</td>\n",
       "      <td>0.249503</td>\n",
       "      <td>0.270417</td>\n",
       "      <td>0.256404</td>\n",
       "      <td>0.265450</td>\n",
       "      <td>0.266382</td>\n",
       "      <td>0.268529</td>\n",
       "      <td>0.263090</td>\n",
       "      <td>0.260674</td>\n",
       "      <td>0.255942</td>\n",
       "      <td>0.262485</td>\n",
       "    </tr>\n",
       "    <tr>\n",
       "      <th>...</th>\n",
       "      <td>...</td>\n",
       "      <td>...</td>\n",
       "      <td>...</td>\n",
       "      <td>...</td>\n",
       "      <td>...</td>\n",
       "      <td>...</td>\n",
       "      <td>...</td>\n",
       "      <td>...</td>\n",
       "      <td>...</td>\n",
       "      <td>...</td>\n",
       "      <td>...</td>\n",
       "      <td>...</td>\n",
       "    </tr>\n",
       "    <tr>\n",
       "      <th>499995</th>\n",
       "      <td>0.975451</td>\n",
       "      <td>0.975318</td>\n",
       "      <td>0.968899</td>\n",
       "      <td>0.976103</td>\n",
       "      <td>0.966070</td>\n",
       "      <td>0.970023</td>\n",
       "      <td>0.970539</td>\n",
       "      <td>0.963713</td>\n",
       "      <td>0.970643</td>\n",
       "      <td>0.968542</td>\n",
       "      <td>0.965190</td>\n",
       "      <td>0.966362</td>\n",
       "    </tr>\n",
       "    <tr>\n",
       "      <th>499996</th>\n",
       "      <td>0.839360</td>\n",
       "      <td>0.841742</td>\n",
       "      <td>0.827404</td>\n",
       "      <td>0.850740</td>\n",
       "      <td>0.839601</td>\n",
       "      <td>0.834818</td>\n",
       "      <td>0.830072</td>\n",
       "      <td>0.828243</td>\n",
       "      <td>0.830860</td>\n",
       "      <td>0.830597</td>\n",
       "      <td>0.830506</td>\n",
       "      <td>0.830808</td>\n",
       "    </tr>\n",
       "    <tr>\n",
       "      <th>499997</th>\n",
       "      <td>0.293532</td>\n",
       "      <td>0.286726</td>\n",
       "      <td>0.299620</td>\n",
       "      <td>0.300556</td>\n",
       "      <td>0.289637</td>\n",
       "      <td>0.286823</td>\n",
       "      <td>0.284007</td>\n",
       "      <td>0.290569</td>\n",
       "      <td>0.284187</td>\n",
       "      <td>0.299252</td>\n",
       "      <td>0.288725</td>\n",
       "      <td>0.289752</td>\n",
       "    </tr>\n",
       "    <tr>\n",
       "      <th>499998</th>\n",
       "      <td>0.513656</td>\n",
       "      <td>0.505806</td>\n",
       "      <td>0.499243</td>\n",
       "      <td>0.526598</td>\n",
       "      <td>0.517690</td>\n",
       "      <td>0.512041</td>\n",
       "      <td>0.488363</td>\n",
       "      <td>0.496002</td>\n",
       "      <td>0.487719</td>\n",
       "      <td>0.531208</td>\n",
       "      <td>0.506413</td>\n",
       "      <td>0.505003</td>\n",
       "    </tr>\n",
       "    <tr>\n",
       "      <th>499999</th>\n",
       "      <td>0.428847</td>\n",
       "      <td>0.425370</td>\n",
       "      <td>0.420626</td>\n",
       "      <td>0.430008</td>\n",
       "      <td>0.421967</td>\n",
       "      <td>0.419157</td>\n",
       "      <td>0.423937</td>\n",
       "      <td>0.421809</td>\n",
       "      <td>0.425653</td>\n",
       "      <td>0.426744</td>\n",
       "      <td>0.421792</td>\n",
       "      <td>0.420493</td>\n",
       "    </tr>\n",
       "  </tbody>\n",
       "</table>\n",
       "<p>500000 rows × 12 columns</p>\n",
       "</div>"
      ],
      "text/plain": [
       "           bizen     henke     hamza  28smiles    kashif     kosta     kaveh  \\\n",
       "0       0.728526  0.722509  0.752387  0.705870  0.727055  0.735858  0.740599   \n",
       "1       0.243854  0.245698  0.242451  0.235202  0.233988  0.240009  0.249772   \n",
       "2       0.913063  0.912550  0.909911  0.919106  0.906819  0.910741  0.907417   \n",
       "3       0.835983  0.832255  0.853693  0.817317  0.834168  0.835611  0.856448   \n",
       "4       0.269920  0.276108  0.249503  0.270417  0.256404  0.265450  0.266382   \n",
       "...          ...       ...       ...       ...       ...       ...       ...   \n",
       "499995  0.975451  0.975318  0.968899  0.976103  0.966070  0.970023  0.970539   \n",
       "499996  0.839360  0.841742  0.827404  0.850740  0.839601  0.834818  0.830072   \n",
       "499997  0.293532  0.286726  0.299620  0.300556  0.289637  0.286823  0.284007   \n",
       "499998  0.513656  0.505806  0.499243  0.526598  0.517690  0.512041  0.488363   \n",
       "499999  0.428847  0.425370  0.420626  0.430008  0.421967  0.419157  0.423937   \n",
       "\n",
       "        dlaststark       pca      xgb2       lgb       xgb  \n",
       "0         0.745366  0.736168  0.731839  0.737219  0.748278  \n",
       "1         0.248024  0.250602  0.235529  0.230626  0.233039  \n",
       "2         0.903758  0.906905  0.906797  0.904611  0.901715  \n",
       "3         0.843686  0.855629  0.838438  0.848851  0.853474  \n",
       "4         0.268529  0.263090  0.260674  0.255942  0.262485  \n",
       "...            ...       ...       ...       ...       ...  \n",
       "499995    0.963713  0.970643  0.968542  0.965190  0.966362  \n",
       "499996    0.828243  0.830860  0.830597  0.830506  0.830808  \n",
       "499997    0.290569  0.284187  0.299252  0.288725  0.289752  \n",
       "499998    0.496002  0.487719  0.531208  0.506413  0.505003  \n",
       "499999    0.421809  0.425653  0.426744  0.421792  0.420493  \n",
       "\n",
       "[500000 rows x 12 columns]"
      ]
     },
     "execution_count": 12,
     "metadata": {},
     "output_type": "execute_result"
    }
   ],
   "source": [
    "test"
   ]
  },
  {
   "cell_type": "markdown",
   "id": "d406aee8",
   "metadata": {
    "papermill": {
     "duration": 0.022302,
     "end_time": "2021-10-15T05:12:54.923530",
     "exception": false,
     "start_time": "2021-10-15T05:12:54.901228",
     "status": "completed"
    },
    "tags": []
   },
   "source": [
    "# Preprocessing"
   ]
  },
  {
   "cell_type": "code",
   "execution_count": 13,
   "id": "79408ecc",
   "metadata": {
    "execution": {
     "iopub.execute_input": "2021-10-15T05:12:54.974458Z",
     "iopub.status.busy": "2021-10-15T05:12:54.973787Z",
     "iopub.status.idle": "2021-10-15T05:12:54.976661Z",
     "shell.execute_reply": "2021-10-15T05:12:54.976132Z",
     "shell.execute_reply.started": "2021-10-12T05:53:16.155272Z"
    },
    "papermill": {
     "duration": 0.029917,
     "end_time": "2021-10-15T05:12:54.976795",
     "exception": false,
     "start_time": "2021-10-15T05:12:54.946878",
     "status": "completed"
    },
    "tags": []
   },
   "outputs": [],
   "source": [
    "features = test.columns\n",
    "#features = [col for col in train.columns if 'pred' in col]"
   ]
  },
  {
   "cell_type": "code",
   "execution_count": 14,
   "id": "1b2fdd9a",
   "metadata": {
    "execution": {
     "iopub.execute_input": "2021-10-15T05:12:55.028608Z",
     "iopub.status.busy": "2021-10-15T05:12:55.027996Z",
     "iopub.status.idle": "2021-10-15T05:12:55.030878Z",
     "shell.execute_reply": "2021-10-15T05:12:55.031326Z",
     "shell.execute_reply.started": "2021-10-12T05:53:16.16162Z"
    },
    "papermill": {
     "duration": 0.029908,
     "end_time": "2021-10-15T05:12:55.031494",
     "exception": false,
     "start_time": "2021-10-15T05:12:55.001586",
     "status": "completed"
    },
    "tags": []
   },
   "outputs": [],
   "source": [
    "ss = StandardScaler()"
   ]
  },
  {
   "cell_type": "code",
   "execution_count": 15,
   "id": "5e87e225",
   "metadata": {
    "execution": {
     "iopub.execute_input": "2021-10-15T05:12:55.081912Z",
     "iopub.status.busy": "2021-10-15T05:12:55.081254Z",
     "iopub.status.idle": "2021-10-15T05:12:55.132937Z",
     "shell.execute_reply": "2021-10-15T05:12:55.133397Z",
     "shell.execute_reply.started": "2021-10-12T05:53:16.170931Z"
    },
    "papermill": {
     "duration": 0.079479,
     "end_time": "2021-10-15T05:12:55.133578",
     "exception": false,
     "start_time": "2021-10-15T05:12:55.054099",
     "status": "completed"
    },
    "tags": []
   },
   "outputs": [
    {
     "data": {
      "text/html": [
       "<div>\n",
       "<style scoped>\n",
       "    .dataframe tbody tr th:only-of-type {\n",
       "        vertical-align: middle;\n",
       "    }\n",
       "\n",
       "    .dataframe tbody tr th {\n",
       "        vertical-align: top;\n",
       "    }\n",
       "\n",
       "    .dataframe thead th {\n",
       "        text-align: right;\n",
       "    }\n",
       "</style>\n",
       "<table border=\"1\" class=\"dataframe\">\n",
       "  <thead>\n",
       "    <tr style=\"text-align: right;\">\n",
       "      <th></th>\n",
       "      <th>bizen</th>\n",
       "      <th>henke</th>\n",
       "      <th>hamza</th>\n",
       "      <th>28smiles</th>\n",
       "      <th>kashif</th>\n",
       "      <th>kosta</th>\n",
       "      <th>kaveh</th>\n",
       "      <th>dlaststark</th>\n",
       "      <th>pca</th>\n",
       "      <th>xgb2</th>\n",
       "      <th>lgb</th>\n",
       "      <th>xgb</th>\n",
       "    </tr>\n",
       "  </thead>\n",
       "  <tbody>\n",
       "    <tr>\n",
       "      <th>0</th>\n",
       "      <td>0.728526</td>\n",
       "      <td>0.722509</td>\n",
       "      <td>0.752387</td>\n",
       "      <td>0.705870</td>\n",
       "      <td>0.727055</td>\n",
       "      <td>0.735858</td>\n",
       "      <td>0.740599</td>\n",
       "      <td>0.745366</td>\n",
       "      <td>0.736168</td>\n",
       "      <td>0.731839</td>\n",
       "      <td>0.737219</td>\n",
       "      <td>0.748278</td>\n",
       "    </tr>\n",
       "    <tr>\n",
       "      <th>1</th>\n",
       "      <td>0.243854</td>\n",
       "      <td>0.245698</td>\n",
       "      <td>0.242451</td>\n",
       "      <td>0.235202</td>\n",
       "      <td>0.233988</td>\n",
       "      <td>0.240009</td>\n",
       "      <td>0.249772</td>\n",
       "      <td>0.248024</td>\n",
       "      <td>0.250602</td>\n",
       "      <td>0.235529</td>\n",
       "      <td>0.230626</td>\n",
       "      <td>0.233039</td>\n",
       "    </tr>\n",
       "    <tr>\n",
       "      <th>2</th>\n",
       "      <td>0.913063</td>\n",
       "      <td>0.912550</td>\n",
       "      <td>0.909911</td>\n",
       "      <td>0.919106</td>\n",
       "      <td>0.906819</td>\n",
       "      <td>0.910741</td>\n",
       "      <td>0.907417</td>\n",
       "      <td>0.903758</td>\n",
       "      <td>0.906905</td>\n",
       "      <td>0.906797</td>\n",
       "      <td>0.904611</td>\n",
       "      <td>0.901715</td>\n",
       "    </tr>\n",
       "    <tr>\n",
       "      <th>3</th>\n",
       "      <td>0.835983</td>\n",
       "      <td>0.832255</td>\n",
       "      <td>0.853693</td>\n",
       "      <td>0.817317</td>\n",
       "      <td>0.834168</td>\n",
       "      <td>0.835611</td>\n",
       "      <td>0.856448</td>\n",
       "      <td>0.843686</td>\n",
       "      <td>0.855629</td>\n",
       "      <td>0.838438</td>\n",
       "      <td>0.848851</td>\n",
       "      <td>0.853474</td>\n",
       "    </tr>\n",
       "    <tr>\n",
       "      <th>4</th>\n",
       "      <td>0.269920</td>\n",
       "      <td>0.276108</td>\n",
       "      <td>0.249503</td>\n",
       "      <td>0.270417</td>\n",
       "      <td>0.256404</td>\n",
       "      <td>0.265450</td>\n",
       "      <td>0.266382</td>\n",
       "      <td>0.268529</td>\n",
       "      <td>0.263090</td>\n",
       "      <td>0.260674</td>\n",
       "      <td>0.255942</td>\n",
       "      <td>0.262485</td>\n",
       "    </tr>\n",
       "    <tr>\n",
       "      <th>...</th>\n",
       "      <td>...</td>\n",
       "      <td>...</td>\n",
       "      <td>...</td>\n",
       "      <td>...</td>\n",
       "      <td>...</td>\n",
       "      <td>...</td>\n",
       "      <td>...</td>\n",
       "      <td>...</td>\n",
       "      <td>...</td>\n",
       "      <td>...</td>\n",
       "      <td>...</td>\n",
       "      <td>...</td>\n",
       "    </tr>\n",
       "    <tr>\n",
       "      <th>499995</th>\n",
       "      <td>0.975451</td>\n",
       "      <td>0.975318</td>\n",
       "      <td>0.968899</td>\n",
       "      <td>0.976103</td>\n",
       "      <td>0.966070</td>\n",
       "      <td>0.970023</td>\n",
       "      <td>0.970539</td>\n",
       "      <td>0.963713</td>\n",
       "      <td>0.970643</td>\n",
       "      <td>0.968542</td>\n",
       "      <td>0.965190</td>\n",
       "      <td>0.966362</td>\n",
       "    </tr>\n",
       "    <tr>\n",
       "      <th>499996</th>\n",
       "      <td>0.839360</td>\n",
       "      <td>0.841742</td>\n",
       "      <td>0.827404</td>\n",
       "      <td>0.850740</td>\n",
       "      <td>0.839601</td>\n",
       "      <td>0.834818</td>\n",
       "      <td>0.830072</td>\n",
       "      <td>0.828243</td>\n",
       "      <td>0.830860</td>\n",
       "      <td>0.830597</td>\n",
       "      <td>0.830506</td>\n",
       "      <td>0.830808</td>\n",
       "    </tr>\n",
       "    <tr>\n",
       "      <th>499997</th>\n",
       "      <td>0.293532</td>\n",
       "      <td>0.286726</td>\n",
       "      <td>0.299620</td>\n",
       "      <td>0.300556</td>\n",
       "      <td>0.289637</td>\n",
       "      <td>0.286823</td>\n",
       "      <td>0.284007</td>\n",
       "      <td>0.290569</td>\n",
       "      <td>0.284187</td>\n",
       "      <td>0.299252</td>\n",
       "      <td>0.288725</td>\n",
       "      <td>0.289752</td>\n",
       "    </tr>\n",
       "    <tr>\n",
       "      <th>499998</th>\n",
       "      <td>0.513656</td>\n",
       "      <td>0.505806</td>\n",
       "      <td>0.499243</td>\n",
       "      <td>0.526598</td>\n",
       "      <td>0.517690</td>\n",
       "      <td>0.512041</td>\n",
       "      <td>0.488363</td>\n",
       "      <td>0.496002</td>\n",
       "      <td>0.487719</td>\n",
       "      <td>0.531208</td>\n",
       "      <td>0.506413</td>\n",
       "      <td>0.505003</td>\n",
       "    </tr>\n",
       "    <tr>\n",
       "      <th>499999</th>\n",
       "      <td>0.428847</td>\n",
       "      <td>0.425370</td>\n",
       "      <td>0.420626</td>\n",
       "      <td>0.430008</td>\n",
       "      <td>0.421967</td>\n",
       "      <td>0.419157</td>\n",
       "      <td>0.423937</td>\n",
       "      <td>0.421809</td>\n",
       "      <td>0.425653</td>\n",
       "      <td>0.426744</td>\n",
       "      <td>0.421792</td>\n",
       "      <td>0.420493</td>\n",
       "    </tr>\n",
       "  </tbody>\n",
       "</table>\n",
       "<p>500000 rows × 12 columns</p>\n",
       "</div>"
      ],
      "text/plain": [
       "           bizen     henke     hamza  28smiles    kashif     kosta     kaveh  \\\n",
       "0       0.728526  0.722509  0.752387  0.705870  0.727055  0.735858  0.740599   \n",
       "1       0.243854  0.245698  0.242451  0.235202  0.233988  0.240009  0.249772   \n",
       "2       0.913063  0.912550  0.909911  0.919106  0.906819  0.910741  0.907417   \n",
       "3       0.835983  0.832255  0.853693  0.817317  0.834168  0.835611  0.856448   \n",
       "4       0.269920  0.276108  0.249503  0.270417  0.256404  0.265450  0.266382   \n",
       "...          ...       ...       ...       ...       ...       ...       ...   \n",
       "499995  0.975451  0.975318  0.968899  0.976103  0.966070  0.970023  0.970539   \n",
       "499996  0.839360  0.841742  0.827404  0.850740  0.839601  0.834818  0.830072   \n",
       "499997  0.293532  0.286726  0.299620  0.300556  0.289637  0.286823  0.284007   \n",
       "499998  0.513656  0.505806  0.499243  0.526598  0.517690  0.512041  0.488363   \n",
       "499999  0.428847  0.425370  0.420626  0.430008  0.421967  0.419157  0.423937   \n",
       "\n",
       "        dlaststark       pca      xgb2       lgb       xgb  \n",
       "0         0.745366  0.736168  0.731839  0.737219  0.748278  \n",
       "1         0.248024  0.250602  0.235529  0.230626  0.233039  \n",
       "2         0.903758  0.906905  0.906797  0.904611  0.901715  \n",
       "3         0.843686  0.855629  0.838438  0.848851  0.853474  \n",
       "4         0.268529  0.263090  0.260674  0.255942  0.262485  \n",
       "...            ...       ...       ...       ...       ...  \n",
       "499995    0.963713  0.970643  0.968542  0.965190  0.966362  \n",
       "499996    0.828243  0.830860  0.830597  0.830506  0.830808  \n",
       "499997    0.290569  0.284187  0.299252  0.288725  0.289752  \n",
       "499998    0.496002  0.487719  0.531208  0.506413  0.505003  \n",
       "499999    0.421809  0.425653  0.426744  0.421792  0.420493  \n",
       "\n",
       "[500000 rows x 12 columns]"
      ]
     },
     "execution_count": 15,
     "metadata": {},
     "output_type": "execute_result"
    }
   ],
   "source": [
    "test[features]"
   ]
  },
  {
   "cell_type": "code",
   "execution_count": 16,
   "id": "efd14df0",
   "metadata": {
    "execution": {
     "iopub.execute_input": "2021-10-15T05:12:55.188996Z",
     "iopub.status.busy": "2021-10-15T05:12:55.188294Z",
     "iopub.status.idle": "2021-10-15T05:12:55.192841Z",
     "shell.execute_reply": "2021-10-15T05:12:55.192226Z",
     "shell.execute_reply.started": "2021-10-12T05:53:16.228561Z"
    },
    "papermill": {
     "duration": 0.035987,
     "end_time": "2021-10-15T05:12:55.192979",
     "exception": false,
     "start_time": "2021-10-15T05:12:55.156992",
     "status": "completed"
    },
    "tags": []
   },
   "outputs": [
    {
     "data": {
      "text/plain": [
       "0         1\n",
       "1         1\n",
       "2         1\n",
       "3         1\n",
       "4         1\n",
       "         ..\n",
       "999995    1\n",
       "999996    0\n",
       "999997    0\n",
       "999998    1\n",
       "999999    0\n",
       "Name: target, Length: 1000000, dtype: int64"
      ]
     },
     "execution_count": 16,
     "metadata": {},
     "output_type": "execute_result"
    }
   ],
   "source": [
    "train[target]"
   ]
  },
  {
   "cell_type": "markdown",
   "id": "8f9c9358",
   "metadata": {
    "papermill": {
     "duration": 0.023351,
     "end_time": "2021-10-15T05:12:55.240445",
     "exception": false,
     "start_time": "2021-10-15T05:12:55.217094",
     "status": "completed"
    },
    "tags": []
   },
   "source": [
    "# GNB"
   ]
  },
  {
   "cell_type": "code",
   "execution_count": 17,
   "id": "bd7c4976",
   "metadata": {
    "execution": {
     "iopub.execute_input": "2021-10-15T05:12:55.292786Z",
     "iopub.status.busy": "2021-10-15T05:12:55.292097Z",
     "iopub.status.idle": "2021-10-15T05:12:55.295191Z",
     "shell.execute_reply": "2021-10-15T05:12:55.294627Z",
     "shell.execute_reply.started": "2021-10-12T05:53:16.238688Z"
    },
    "papermill": {
     "duration": 0.030844,
     "end_time": "2021-10-15T05:12:55.295342",
     "exception": false,
     "start_time": "2021-10-15T05:12:55.264498",
     "status": "completed"
    },
    "tags": []
   },
   "outputs": [],
   "source": [
    "gnb_params = {\n",
    "                'var_smoothing': 0.10739307163234939\n",
    "}"
   ]
  },
  {
   "cell_type": "code",
   "execution_count": 18,
   "id": "a298eb41",
   "metadata": {
    "execution": {
     "iopub.execute_input": "2021-10-15T05:12:55.356509Z",
     "iopub.status.busy": "2021-10-15T05:12:55.355801Z",
     "iopub.status.idle": "2021-10-15T05:13:38.321429Z",
     "shell.execute_reply": "2021-10-15T05:13:38.321935Z",
     "shell.execute_reply.started": "2021-10-12T05:53:16.247056Z"
    },
    "papermill": {
     "duration": 43.002871,
     "end_time": "2021-10-15T05:13:38.322127",
     "exception": false,
     "start_time": "2021-10-15T05:12:55.319256",
     "status": "completed"
    },
    "tags": []
   },
   "outputs": [
    {
     "name": "stdout",
     "output_type": "stream",
     "text": [
      "===== fold 0 =====\n",
      "fold 0 - gnb auc: 0.856615, elapsed time: 7.92sec\n",
      "\n",
      "===== fold 1 =====\n",
      "fold 1 - gnb auc: 0.857907, elapsed time: 7.94sec\n",
      "\n",
      "===== fold 2 =====\n",
      "fold 2 - gnb auc: 0.858440, elapsed time: 7.93sec\n",
      "\n",
      "===== fold 3 =====\n",
      "fold 3 - gnb auc: 0.856892, elapsed time: 7.98sec\n",
      "\n",
      "===== fold 4 =====\n",
      "fold 4 - gnb auc: 0.856808, elapsed time: 7.99sec\n",
      "\n",
      "oof gnb_auc = 0.8573308141165631\n"
     ]
    }
   ],
   "source": [
    "gnb_oof = np.zeros(train.shape[0])\n",
    "gnb_pred = np.zeros(test.shape[0])\n",
    "gnb_importances = pd.DataFrame()\n",
    "\n",
    "\n",
    "kf = StratifiedKFold(n_splits=N_SPLITS, shuffle=True, random_state=CVSEED)\n",
    "seed_list=range(SEED, SEED+20)\n",
    "\n",
    "for fold, (trn_idx, val_idx) in enumerate(kf.split(X=train[features], y=train[target])):\n",
    "    print(f\"===== fold {fold} =====\")\n",
    "\n",
    "\n",
    "    X_train = train[features].iloc[trn_idx]\n",
    "    y_train = train[target].iloc[trn_idx]\n",
    "    X_valid = train[features].iloc[val_idx]\n",
    "    y_valid = train[target].iloc[val_idx]\n",
    "    X_test = test[features]\n",
    "\n",
    "        \n",
    "    X_train[features] = ss.fit_transform(X_train[features])\n",
    "    X_valid[features] = ss.transform(X_valid[features])\n",
    "    X_test[features] = ss.transform(X_test[features])\n",
    "\n",
    "    start = time.time()\n",
    "    for inseed in seed_list:\n",
    "        #gnb_params['random_state'] = inseed\n",
    "\n",
    "        model = GaussianNB(**gnb_params)\n",
    "        model.fit(\n",
    "            X_train, \n",
    "            y_train,\n",
    "            \n",
    "        )\n",
    "\n",
    "        with open(f\"gnb_model{fold}_seed{inseed}.pkl\", 'wb') as f:\n",
    "            pickle.dump(model, f)\n",
    "\n",
    "\n",
    "        gnb_oof[val_idx] += model.predict_proba(X_valid)[:,-1] / len(seed_list)\n",
    "        gnb_pred += model.predict_proba(X_test)[:,-1] / len(seed_list)\n",
    "\n",
    "\n",
    "    elapsed = time.time() - start\n",
    "    auc = roc_auc_score(y_valid, gnb_oof[val_idx])\n",
    "    print(f\"fold {fold} - gnb auc: {auc:.6f}, elapsed time: {elapsed:.2f}sec\\n\")            \n",
    "\n",
    "gnb_pred /= N_SPLITS\n",
    "print(f\"oof gnb_auc = {roc_auc_score(train[target], gnb_oof)}\")\n",
    "\n",
    "np.save(\"gnb_oof.npy\", gnb_oof)\n",
    "np.save(\"gnb_pred.npy\", gnb_pred)"
   ]
  },
  {
   "cell_type": "markdown",
   "id": "11abcd89",
   "metadata": {
    "papermill": {
     "duration": 0.025363,
     "end_time": "2021-10-15T05:13:38.373440",
     "exception": false,
     "start_time": "2021-10-15T05:13:38.348077",
     "status": "completed"
    },
    "tags": []
   },
   "source": [
    "# OOF predictions"
   ]
  },
  {
   "cell_type": "code",
   "execution_count": 19,
   "id": "5c691f7e",
   "metadata": {
    "execution": {
     "iopub.execute_input": "2021-10-15T05:13:38.429280Z",
     "iopub.status.busy": "2021-10-15T05:13:38.428235Z",
     "iopub.status.idle": "2021-10-15T05:13:42.205469Z",
     "shell.execute_reply": "2021-10-15T05:13:42.204831Z",
     "shell.execute_reply.started": "2021-10-12T05:54:05.823593Z"
    },
    "papermill": {
     "duration": 3.806483,
     "end_time": "2021-10-15T05:13:42.205633",
     "exception": false,
     "start_time": "2021-10-15T05:13:38.399150",
     "status": "completed"
    },
    "tags": []
   },
   "outputs": [
    {
     "data": {
      "text/plain": [
       "<matplotlib.collections.PathCollection at 0x7f1ea5f2d610>"
      ]
     },
     "execution_count": 19,
     "metadata": {},
     "output_type": "execute_result"
    },
    {
     "data": {
      "image/png": "[encoded data removed]",
      "text/plain": [
       "<Figure size 432x288 with 1 Axes>"
      ]
     },
     "metadata": {
      "needs_background": "light"
     },
     "output_type": "display_data"
    }
   ],
   "source": [
    "plt.plot(train[target], train[target])\n",
    "plt.scatter(train[target], gnb_oof)"
   ]
  },
  {
   "cell_type": "markdown",
   "id": "971c975a",
   "metadata": {
    "papermill": {
     "duration": 0.027346,
     "end_time": "2021-10-15T05:13:42.261967",
     "exception": false,
     "start_time": "2021-10-15T05:13:42.234621",
     "status": "completed"
    },
    "tags": []
   },
   "source": [
    "# Submission"
   ]
  },
  {
   "cell_type": "code",
   "execution_count": 20,
   "id": "20add60b",
   "metadata": {
    "execution": {
     "iopub.execute_input": "2021-10-15T05:13:42.324178Z",
     "iopub.status.busy": "2021-10-15T05:13:42.323221Z",
     "iopub.status.idle": "2021-10-15T05:13:44.258360Z",
     "shell.execute_reply": "2021-10-15T05:13:44.258887Z",
     "shell.execute_reply.started": "2021-10-12T05:54:09.682185Z"
    },
    "papermill": {
     "duration": 1.969061,
     "end_time": "2021-10-15T05:13:44.259079",
     "exception": false,
     "start_time": "2021-10-15T05:13:42.290018",
     "status": "completed"
    },
    "tags": []
   },
   "outputs": [
    {
     "data": {
      "text/html": [
       "<div>\n",
       "<style scoped>\n",
       "    .dataframe tbody tr th:only-of-type {\n",
       "        vertical-align: middle;\n",
       "    }\n",
       "\n",
       "    .dataframe tbody tr th {\n",
       "        vertical-align: top;\n",
       "    }\n",
       "\n",
       "    .dataframe thead th {\n",
       "        text-align: right;\n",
       "    }\n",
       "</style>\n",
       "<table border=\"1\" class=\"dataframe\">\n",
       "  <thead>\n",
       "    <tr style=\"text-align: right;\">\n",
       "      <th></th>\n",
       "      <th>id</th>\n",
       "      <th>target</th>\n",
       "    </tr>\n",
       "  </thead>\n",
       "  <tbody>\n",
       "    <tr>\n",
       "      <th>0</th>\n",
       "      <td>1000000</td>\n",
       "      <td>9.999999e-01</td>\n",
       "    </tr>\n",
       "    <tr>\n",
       "      <th>1</th>\n",
       "      <td>1000001</td>\n",
       "      <td>5.476935e-08</td>\n",
       "    </tr>\n",
       "    <tr>\n",
       "      <th>2</th>\n",
       "      <td>1000002</td>\n",
       "      <td>1.000000e+00</td>\n",
       "    </tr>\n",
       "    <tr>\n",
       "      <th>3</th>\n",
       "      <td>1000003</td>\n",
       "      <td>1.000000e+00</td>\n",
       "    </tr>\n",
       "    <tr>\n",
       "      <th>4</th>\n",
       "      <td>1000004</td>\n",
       "      <td>2.060277e-07</td>\n",
       "    </tr>\n",
       "    <tr>\n",
       "      <th>...</th>\n",
       "      <td>...</td>\n",
       "      <td>...</td>\n",
       "    </tr>\n",
       "    <tr>\n",
       "      <th>499995</th>\n",
       "      <td>1499995</td>\n",
       "      <td>1.000000e+00</td>\n",
       "    </tr>\n",
       "    <tr>\n",
       "      <th>499996</th>\n",
       "      <td>1499996</td>\n",
       "      <td>1.000000e+00</td>\n",
       "    </tr>\n",
       "    <tr>\n",
       "      <th>499997</th>\n",
       "      <td>1499997</td>\n",
       "      <td>1.024979e-06</td>\n",
       "    </tr>\n",
       "    <tr>\n",
       "      <th>499998</th>\n",
       "      <td>1499998</td>\n",
       "      <td>4.700489e-01</td>\n",
       "    </tr>\n",
       "    <tr>\n",
       "      <th>499999</th>\n",
       "      <td>1499999</td>\n",
       "      <td>3.622919e-03</td>\n",
       "    </tr>\n",
       "  </tbody>\n",
       "</table>\n",
       "<p>500000 rows × 2 columns</p>\n",
       "</div>"
      ],
      "text/plain": [
       "             id        target\n",
       "0       1000000  9.999999e-01\n",
       "1       1000001  5.476935e-08\n",
       "2       1000002  1.000000e+00\n",
       "3       1000003  1.000000e+00\n",
       "4       1000004  2.060277e-07\n",
       "...         ...           ...\n",
       "499995  1499995  1.000000e+00\n",
       "499996  1499996  1.000000e+00\n",
       "499997  1499997  1.024979e-06\n",
       "499998  1499998  4.700489e-01\n",
       "499999  1499999  3.622919e-03\n",
       "\n",
       "[500000 rows x 2 columns]"
      ]
     },
     "execution_count": 20,
     "metadata": {},
     "output_type": "execute_result"
    }
   ],
   "source": [
    "submission[target] = gnb_pred\n",
    "submission.to_csv(\"submission.csv\", index=False)\n",
    "\n",
    "submission"
   ]
  },
  {
   "cell_type": "markdown",
   "id": "8efa62f8",
   "metadata": {
    "papermill": {
     "duration": 0.027048,
     "end_time": "2021-10-15T05:13:44.314181",
     "exception": false,
     "start_time": "2021-10-15T05:13:44.287133",
     "status": "completed"
    },
    "tags": []
   },
   "source": [
    "# Log\n",
    "\n",
    "/////// best /////////\n",
    "\n",
    "ver1 average\n"
   ]
  }
 ],
 "metadata": {
  "kernelspec": {
   "display_name": "Python 3",
   "language": "python",
   "name": "python3"
  },
  "language_info": {
   "codemirror_mode": {
    "name": "ipython",
    "version": 3
   },
   "file_extension": ".py",
   "mimetype": "text/x-python",
   "name": "python",
   "nbconvert_exporter": "python",
   "pygments_lexer": "ipython3",
   "version": "3.7.10"
  },
  "papermill": {
   "default_parameters": {},
   "duration": 133.855563,
   "end_time": "2021-10-15T05:13:46.103095",
   "environment_variables": {},
   "exception": null,
   "input_path": "__notebook__.ipynb",
   "output_path": "__notebook__.ipynb",
   "parameters": {},
   "start_time": "2021-10-15T05:11:32.247532",
   "version": "2.3.3"
  }
 },
 "nbformat": 4,
 "nbformat_minor": 5
}
